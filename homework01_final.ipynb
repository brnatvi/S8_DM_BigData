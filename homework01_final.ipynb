{
 "cells": [
  {
   "cell_type": "raw",
   "metadata": {},
   "source": [
    "---\n",
    "title: \"Homework 1 (2023): Data Wrangling and Visualization\"\n",
    "subtitle: \"Due date : 2023-02-24 23:55 (this is a hard deadline)\"\n",
    "author: \"Lagarde et Michard\"\n",
    "date: \"2023-02-24\"\n",
    "format:\n",
    "    html:\n",
    "        code-fold: true\n",
    "---"
   ]
  },
  {
   "cell_type": "markdown",
   "metadata": {
    "nteract": {
     "transient": {
      "deleting": false
     }
    },
    "tags": []
   },
   "source": [
    "# Homework 1 \n",
    "\n",
    "Due date : **2023-02-24 @23h55** (this is a **hard deadline**)"
   ]
  },
  {
   "cell_type": "markdown",
   "metadata": {
    "nteract": {
     "transient": {
      "deleting": false
     }
    }
   },
   "source": [
    "## Fill this cell with your names\n",
    "\n",
    "- Name, First Name, Informatique/Mathématique-Informatique\n",
    "- Name, First Name, Informatique/Mathématique-Informatique"
   ]
  },
  {
   "cell_type": "markdown",
   "metadata": {
    "nteract": {
     "transient": {
      "deleting": false
     }
    }
   },
   "source": [
    "## Carefully follow instructions\n",
    "\n",
    "**If you don't: no evaluation!**\n",
    "\n",
    "Write in English or French\n",
    "\n",
    "The deliverable is a file\n",
    "\n",
    "- `xxx_yyy.ipynb` file (jupyter notebook) or \n",
    "- `xxx_yyy.py` file (if you are using `jupytext`) or\n",
    "- `xxx_yyy.qmd` file (if you are using `quarto`)\n",
    "\n",
    "where `xxx` and `yyy` are your names, for example `lagarde_michard.ipynb`. \n",
    "\n",
    "The deliverable is not meant to contain cell outputs.  \n",
    "\n",
    "The data files used to execute cells are meant to sit in the same directory as the deliverable. Use relative filepaths or urls to denote the data files.   \n",
    "\n",
    "We **will** execute the code in your notebook: make sure that running all the cells works well. \n",
    "\n"
   ]
  },
  {
   "cell_type": "markdown",
   "metadata": {
    "nteract": {
     "transient": {
      "deleting": false
     }
    }
   },
   "source": [
    "## Grading <i class=\"fa graduation-cap\"></i>\n",
    "\n",
    "Here is the way we'll assess your work\n",
    "\n",
    "| Criterion | Points | Details |\n",
    "|:----------|:-------:|:----|\n",
    "|Spelling and syntax | 3 | English/French  |\n",
    "|Plots correction | 3 |  Clarity / answers the question  |\n",
    "|Plot style and cleanliness | 3 | Titles, legends, labels, breaks ... |\n",
    "|Table wrangling | 4 | ETL, SQL like manipulations |\n",
    "|Computing Statistics | 5 | SQL `goup by`  and aggregation  |\n",
    "|DRY compliance | 2 | DRY principle at [Wikipedia](https://en.wikipedia.org/wiki/Don%27t_repeat_yourself)|\n",
    "\n",
    "If we see a single (or more) `for` loop in your code: **-5 points**.  Everything can be done using high-level `pandas` methods"
   ]
  },
  {
   "cell_type": "markdown",
   "metadata": {
    "nteract": {
     "transient": {
      "deleting": false
     }
    }
   },
   "source": [
    "# Preliminaries\n",
    "\n",
    "## Notebooks: Modus operandi\n",
    "\n",
    "- This is a [Jupyter Notebook](https://jupyter.org).\n",
    "- When you execute code within the notebook, the results appear beneath the code.\n",
    "- [Jupytext](https://github.com/mwouts/jupytext)\n",
    "- [Quarto](https://quarto.org) \n",
    "\n",
    "## Packages\n",
    "\n",
    "- Base `Python` can do a lot. But the full power of `Python` comes from a fast growing collection of `packages`/`modules`.\n",
    "\n",
    "- Packages are first installed (that is using `pip install` or `conda install`), and if\n",
    "needed, imported during a session.\n",
    "\n",
    "- The `docker` image you are supposed to use already offers a lot of packages. You should not need to install new packages.\n",
    "\n",
    "- Once a package has been installed on your drive, if you want all objects exported by the package to be available in your session, you should import the package, using `from pkg import *`.\n",
    "\n",
    "- If you just want to pick some subjects from the package,\n",
    "you can use qualified names like `pkg.object_name` to access the object (function, dataset, class...)\n"
   ]
  },
  {
   "cell_type": "code",
   "execution_count": 1,
   "metadata": {
    "ExecuteTime": {
     "end_time": "2021-02-03T09:49:19.662376Z",
     "start_time": "2021-02-03T09:49:19.659057Z"
    },
    "jupyter": {
     "outputs_hidden": false,
     "source_hidden": false
    },
    "nteract": {
     "transient": {
      "deleting": false
     }
    }
   },
   "outputs": [],
   "source": [
    "# importing basic tools\n",
    "import numpy as np\n",
    "import pandas as pd\n",
    "\n",
    "from pandas.api.types import CategoricalDtype\n",
    "\n",
    "import os            # file operations\n",
    "import requests      # networking\n",
    "import zipfile\n",
    "import io\n",
    "from pathlib import Path\n",
    "\n",
    "from datetime import date  # if needed\n",
    "\n",
    "\n"
   ]
  },
  {
   "cell_type": "code",
   "execution_count": 2,
   "metadata": {
    "ExecuteTime": {
     "end_time": "2021-02-03T09:49:21.139505Z",
     "start_time": "2021-02-03T09:49:21.136745Z"
    },
    "jupyter": {
     "outputs_hidden": false,
     "source_hidden": false
    },
    "nteract": {
     "transient": {
      "deleting": false
     }
    }
   },
   "outputs": [],
   "source": [
    "# importing plotting packages\n",
    "import plotly.graph_objects as go\n",
    "import plotly.express as px\n",
    "import plotly.io as pio"
   ]
  },
  {
   "cell_type": "code",
   "execution_count": 3,
   "metadata": {
    "ExecuteTime": {
     "end_time": "2021-02-03T09:56:45.103619Z",
     "start_time": "2021-02-03T09:56:45.099259Z"
    },
    "jupyter": {
     "outputs_hidden": false,
     "source_hidden": false
    },
    "nteract": {
     "transient": {
      "deleting": false
     }
    }
   },
   "outputs": [],
   "source": [
    "# make pandas plotly-friendly\n",
    "np.set_printoptions(precision=2, suppress=True)\n",
    "%matplotlib inline\n",
    "pd.options.plotting.backend = \"plotly\""
   ]
  },
  {
   "cell_type": "markdown",
   "metadata": {
    "nteract": {
     "transient": {
      "deleting": false
     }
    }
   },
   "source": [
    "# Getting the data\n",
    "\n",
    "## French data\n",
    "\n",
    "The French data are built and made available by [INSEE](https://www.insee.fr/fr/accueil)  (French Governement Statistics Institute)\n",
    "\n",
    "Prénoms:\n",
    "- [https://www.insee.fr/fr/statistiques/fichier/2540004/nat2021_csv.zip](https://www.insee.fr/fr/statistiques/fichier/2540004/nat2021_csv.zip)\n",
    "\n",
    "This dataset has been growing for a while. It has been considered by\n",
    "social scientists for decades.  Given names are meant to give insights into a variety\n",
    "of phenomena, including religious observance.\n",
    "\n",
    "- A glimpse at the body of work can be found in [_L'archipel français_ by Jérome Fourquet, Le Seuil, 2019 ](https://www.seuil.com/ouvrage/l-archipel-francais-jerome-fourquet/9782021406023)\n",
    "\n",
    "- Read the [File documentation](https://www.insee.fr/fr/statistiques/2540004?sommaire=4767262#documentation)\n",
    "\n",
    "## US data \n",
    "\n",
    "US data may be gathered from \n",
    "\n",
    "[Baby Names USA from 1910 to 2021 (SSA)](https://www.kaggle.com/datasets/donkea/ssa-names-1910-2021?resource=download)\n",
    "\n",
    "See [https://www.ssa.gov/oact/babynames/background.html](https://www.ssa.gov/oact/babynames/background.html)\n",
    "\n",
    "\n",
    "## British data \n",
    "\n",
    "English and Welsh data can be gathered from \n",
    "\n",
    "[https://www.ons.gov.uk/](https://www.ons.gov.uk/peoplepopulationandcommunity/birthsdeathsandmarriages/livebirths/datasets/babynamesinenglandandwalesfrom1996?utm_source=pocket_saves)\n",
    "\n",
    "\n",
    "\n",
    "\n",
    "## Download the French data\n",
    "\n",
    "**QUESTION:** Download the data into a file which relative path is `'./nat2021_csv.zip'`\n",
    "\n",
    "__Hints:__\n",
    "\n",
    "- Have a look at  package [`requests`](https://requests.readthedocs.io/en/master/).\n",
    "- Use magic commands to navigate across the file hierarchy and create subdirectories when needed"
   ]
  },
  {
   "cell_type": "code",
   "execution_count": 4,
   "metadata": {
    "ExecuteTime": {
     "end_time": "2021-02-03T09:56:54.136172Z",
     "start_time": "2021-02-03T09:56:54.132800Z"
    },
    "jupyter": {
     "outputs_hidden": false,
     "source_hidden": false
    },
    "nteract": {
     "transient": {
      "deleting": false
     }
    }
   },
   "outputs": [],
   "source": [
    "# For all countries\n",
    "# Uploaded data files will be stocked in current working directory of a process + 'data'\n",
    "dirpath = os.path.join(\".\", 'data') + os.sep\n",
    "params = dict(\n",
    "    furl = 'https://www.insee.fr/fr/statistiques/fichier/2540004/nat2021_csv.zip',\n",
    "    burl = 'https://www.ons.gov.uk/file?uri=/peoplepopulationandcommunity/birthsdeathsandmarriages/livebirths/datasets/babynamesinenglandandwalesfrom1996/1996tocurrent/babynames1996to2021.xlsx',\n",
    "    usaurl = 'https://www.ssa.gov/oact/babynames/names.zip',\n",
    "    dirpath = dirpath,\n",
    "    timecourse = '',    \n",
    "    fpath = os.path.join(dirpath, 'nat2021.csv'),                   # csv  file in 'data' folder\n",
    "    bpath = os.path.join(dirpath, 'babynames1996to2021.xlsx'),      # xlsx file in 'data' folder\n",
    "    upath = os.path.join(dirpath, 'usa_names') + os.sep             # a list of txt files in 'data/usa_names' folder\n",
    ")\n",
    "\n",
    "# That dict will be used later for calculate NaN's count\n",
    "statistics = dict(\n",
    "    countNullFr = 0,\n",
    "    linesNullFr = 0,\n",
    "    countNullBr = 0,\n",
    "    linesNullBr = 0,\n",
    "    countNullUSA = 0,\n",
    "    linesNullUSA = 0\n",
    ")"
   ]
  },
  {
   "cell_type": "code",
   "execution_count": 75,
   "metadata": {
    "ExecuteTime": {
     "end_time": "2021-02-03T09:56:54.282784Z",
     "start_time": "2021-02-03T09:56:54.280062Z"
    },
    "jupyter": {
     "outputs_hidden": false,
     "source_hidden": false
    },
    "nteract": {
     "transient": {
      "deleting": false
     }
    }
   },
   "outputs": [],
   "source": [
    "## Modify location  (this code works only in Linux, not in Windows)\n",
    "#%cd {params['dirpath']}\n",
    "#\n",
    "## Check current directory\n",
    "#%pwd\n",
    "#\n",
    "## Create a directory if it does not exist\n",
    "#if not Path(params['dirpath']).exists():\n",
    "#    %mkdir {params['dirpath']}"
   ]
  },
  {
   "cell_type": "code",
   "execution_count": 5,
   "metadata": {},
   "outputs": [
    {
     "name": "stdout",
     "output_type": "stream",
     "text": [
      "Response type: <class 'requests.models.Response'>\n",
      "Zipfile type: <class 'zipfile.ZipFile'>\n",
      "File .\\data\\nat2021.csv has been successfully downloaded and extracted.\n"
     ]
    }
   ],
   "source": [
    "# Download and extract the zip file\n",
    "# French data\n",
    "if not Path(params['fpath']).exists():\n",
    "    r = requests.get(params['furl'])  # Send an HTTP GET request to the URL\n",
    "    print(f\"Response type: {type(r)}\")\n",
    "    if (r.status_code == 200):\n",
    "        z = zipfile.ZipFile(io.BytesIO(r.content))  # Create a zipfile object from the response content\n",
    "        print(f\"Zipfile type: {type(z)}\")\n",
    "        z.extractall(path=params['dirpath'])  # Extract the contents of the zipfile to the specified path\n",
    "        print(f\"File {params['fpath']} has been successfully downloaded and extracted.\")\n",
    "else:\n",
    "    print(f\"File {params['fpath']} already exists.\")"
   ]
  },
  {
   "cell_type": "markdown",
   "metadata": {},
   "source": [
    "## Download US and British data \n",
    "\n"
   ]
  },
  {
   "cell_type": "code",
   "execution_count": 6,
   "metadata": {},
   "outputs": [
    {
     "name": "stdout",
     "output_type": "stream",
     "text": [
      "UK data file .\\data\\babynames1996to2021.xlsx has been successfully downloaded.\n",
      "USA data files has been successfully downloaded to .\\data\\usa_names\\.\n"
     ]
    }
   ],
   "source": [
    "# British data \n",
    "\n",
    "if not Path(params['bpath']).exists():\n",
    "    r = requests.get(params['burl'])\n",
    "    if (r.status_code == 200):\n",
    "        f = open(params['bpath'],'wb')\n",
    "        f.write(r.content)\n",
    "        f.close()\n",
    "        print(f\"UK data file {params['bpath']} has been successfully downloaded.\")\n",
    "else:\n",
    "    print(f\"File {params['bpath']} already exists.\")\n",
    "\n",
    "# US data \n",
    "\n",
    "if not Path(params['upath']).exists():\n",
    "    r = requests.get(params['usaurl'])    \n",
    "    if (r.status_code == 200):        \n",
    "        z = zipfile.ZipFile(io.BytesIO(r.content))       \n",
    "        z.extractall(path=params['upath'])\n",
    "        z.close()\n",
    "        print(f\"USA data files has been successfully downloaded to {params['upath']}.\")\n",
    "else:\n",
    "    print(f\"USA data files already exist in {params['upath']}.\")"
   ]
  },
  {
   "cell_type": "markdown",
   "metadata": {
    "nteract": {
     "transient": {
      "deleting": false
     }
    }
   },
   "source": [
    "## Load the French data in memory\n",
    "\n",
    "**QUESTION:** Load the data in a `pandas` `DataFrame` called `data`\n",
    "\n",
    "__Hints:__\n",
    "\n",
    "- You should obtain a `Pandas dataframe` with 4 columns.\n",
    "- Mind the conventions used to build the `csv` file.\n",
    "- Package `pandas` provides the convenient tools.\n",
    "- The dataset, though not too large, is already demanding.\n",
    "- Don't hesitate to test your methods on a sample of rows method `sample()` from class `DataFrame` can be helpful."
   ]
  },
  {
   "cell_type": "code",
   "execution_count": 7,
   "metadata": {
    "ExecuteTime": {
     "end_time": "2021-02-03T09:57:18.980873Z",
     "start_time": "2021-02-03T09:57:18.978008Z"
    },
    "jupyter": {
     "outputs_hidden": false,
     "source_hidden": false
    },
    "nteract": {
     "transient": {
      "deleting": false
     }
    }
   },
   "outputs": [
    {
     "data": {
      "text/html": [
       "<div>\n",
       "<style scoped>\n",
       "    .dataframe tbody tr th:only-of-type {\n",
       "        vertical-align: middle;\n",
       "    }\n",
       "\n",
       "    .dataframe tbody tr th {\n",
       "        vertical-align: top;\n",
       "    }\n",
       "\n",
       "    .dataframe thead th {\n",
       "        text-align: right;\n",
       "    }\n",
       "</style>\n",
       "<table border=\"1\" class=\"dataframe\">\n",
       "  <thead>\n",
       "    <tr style=\"text-align: right;\">\n",
       "      <th></th>\n",
       "      <th>sexe</th>\n",
       "      <th>preusuel</th>\n",
       "      <th>annais</th>\n",
       "      <th>nombre</th>\n",
       "    </tr>\n",
       "  </thead>\n",
       "  <tbody>\n",
       "    <tr>\n",
       "      <th>0</th>\n",
       "      <td>1</td>\n",
       "      <td>_PRENOMS_RARES</td>\n",
       "      <td>1900</td>\n",
       "      <td>1249</td>\n",
       "    </tr>\n",
       "    <tr>\n",
       "      <th>1</th>\n",
       "      <td>1</td>\n",
       "      <td>_PRENOMS_RARES</td>\n",
       "      <td>1901</td>\n",
       "      <td>1342</td>\n",
       "    </tr>\n",
       "    <tr>\n",
       "      <th>2</th>\n",
       "      <td>1</td>\n",
       "      <td>_PRENOMS_RARES</td>\n",
       "      <td>1902</td>\n",
       "      <td>1330</td>\n",
       "    </tr>\n",
       "    <tr>\n",
       "      <th>3</th>\n",
       "      <td>1</td>\n",
       "      <td>_PRENOMS_RARES</td>\n",
       "      <td>1903</td>\n",
       "      <td>1286</td>\n",
       "    </tr>\n",
       "    <tr>\n",
       "      <th>4</th>\n",
       "      <td>1</td>\n",
       "      <td>_PRENOMS_RARES</td>\n",
       "      <td>1904</td>\n",
       "      <td>1430</td>\n",
       "    </tr>\n",
       "  </tbody>\n",
       "</table>\n",
       "</div>"
      ],
      "text/plain": [
       "   sexe        preusuel annais  nombre\n",
       "0     1  _PRENOMS_RARES   1900    1249\n",
       "1     1  _PRENOMS_RARES   1901    1342\n",
       "2     1  _PRENOMS_RARES   1902    1330\n",
       "3     1  _PRENOMS_RARES   1903    1286\n",
       "4     1  _PRENOMS_RARES   1904    1430"
      ]
     },
     "execution_count": 7,
     "metadata": {},
     "output_type": "execute_result"
    }
   ],
   "source": [
    "# load French data in memory (1900 - 2021)\n",
    "df_fr = pd.read_csv(params['fpath'], sep=';')\n",
    "\n",
    "# Print the first few rows of the DataFrame\n",
    "df_fr.head()"
   ]
  },
  {
   "cell_type": "markdown",
   "metadata": {},
   "source": [
    "## Load US and British data in memory"
   ]
  },
  {
   "cell_type": "code",
   "execution_count": 8,
   "metadata": {},
   "outputs": [
    {
     "name": "stdout",
     "output_type": "stream",
     "text": [
      "1\n",
      "2\n",
      "1\n",
      "2\n"
     ]
    },
    {
     "data": {
      "text/html": [
       "<div>\n",
       "<style scoped>\n",
       "    .dataframe tbody tr th:only-of-type {\n",
       "        vertical-align: middle;\n",
       "    }\n",
       "\n",
       "    .dataframe tbody tr th {\n",
       "        vertical-align: top;\n",
       "    }\n",
       "\n",
       "    .dataframe thead th {\n",
       "        text-align: right;\n",
       "    }\n",
       "</style>\n",
       "<table border=\"1\" class=\"dataframe\">\n",
       "  <thead>\n",
       "    <tr style=\"text-align: right;\">\n",
       "      <th></th>\n",
       "      <th>Gender</th>\n",
       "      <th>Name</th>\n",
       "      <th>Year</th>\n",
       "      <th>Nb</th>\n",
       "    </tr>\n",
       "  </thead>\n",
       "  <tbody>\n",
       "    <tr>\n",
       "      <th>0</th>\n",
       "      <td>1</td>\n",
       "      <td>A</td>\n",
       "      <td>2021</td>\n",
       "      <td>5</td>\n",
       "    </tr>\n",
       "    <tr>\n",
       "      <th>16777</th>\n",
       "      <td>1</td>\n",
       "      <td>A</td>\n",
       "      <td>2020</td>\n",
       "      <td>4</td>\n",
       "    </tr>\n",
       "    <tr>\n",
       "      <th>33554</th>\n",
       "      <td>1</td>\n",
       "      <td>A</td>\n",
       "      <td>2019</td>\n",
       "      <td>10</td>\n",
       "    </tr>\n",
       "    <tr>\n",
       "      <th>50331</th>\n",
       "      <td>1</td>\n",
       "      <td>A</td>\n",
       "      <td>2018</td>\n",
       "      <td>4</td>\n",
       "    </tr>\n",
       "    <tr>\n",
       "      <th>67108</th>\n",
       "      <td>1</td>\n",
       "      <td>A</td>\n",
       "      <td>2017</td>\n",
       "      <td>4</td>\n",
       "    </tr>\n",
       "    <tr>\n",
       "      <th>...</th>\n",
       "      <td>...</td>\n",
       "      <td>...</td>\n",
       "      <td>...</td>\n",
       "      <td>...</td>\n",
       "    </tr>\n",
       "    <tr>\n",
       "      <th>87831</th>\n",
       "      <td>2</td>\n",
       "      <td>Zyva</td>\n",
       "      <td>2018</td>\n",
       "      <td>5</td>\n",
       "    </tr>\n",
       "    <tr>\n",
       "      <th>109789</th>\n",
       "      <td>2</td>\n",
       "      <td>Zyva</td>\n",
       "      <td>2017</td>\n",
       "      <td>5</td>\n",
       "    </tr>\n",
       "    <tr>\n",
       "      <th>153705</th>\n",
       "      <td>2</td>\n",
       "      <td>Zyva</td>\n",
       "      <td>2015</td>\n",
       "      <td>3</td>\n",
       "    </tr>\n",
       "    <tr>\n",
       "      <th>285453</th>\n",
       "      <td>2</td>\n",
       "      <td>Zyva</td>\n",
       "      <td>2009</td>\n",
       "      <td>5</td>\n",
       "    </tr>\n",
       "    <tr>\n",
       "      <th>307411</th>\n",
       "      <td>2</td>\n",
       "      <td>Zyva</td>\n",
       "      <td>2008</td>\n",
       "      <td>3</td>\n",
       "    </tr>\n",
       "  </tbody>\n",
       "</table>\n",
       "<p>308330 rows × 4 columns</p>\n",
       "</div>"
      ],
      "text/plain": [
       "        Gender  Name  Year  Nb\n",
       "0            1     A  2021   5\n",
       "16777        1     A  2020   4\n",
       "33554        1     A  2019  10\n",
       "50331        1     A  2018   4\n",
       "67108        1     A  2017   4\n",
       "...        ...   ...   ...  ..\n",
       "87831        2  Zyva  2018   5\n",
       "109789       2  Zyva  2017   5\n",
       "153705       2  Zyva  2015   3\n",
       "285453       2  Zyva  2009   5\n",
       "307411       2  Zyva  2008   3\n",
       "\n",
       "[308330 rows x 4 columns]"
      ]
     },
     "execution_count": 8,
     "metadata": {},
     "output_type": "execute_result"
    }
   ],
   "source": [
    "# load British data in memory (1996 - 2021)\n",
    "\n",
    "# create dataframe for boys\n",
    "df_boys = pd.read_excel(io = params['bpath'], engine='openpyxl', sheet_name='1', header = 7)\n",
    "\n",
    "# take only \"Name\" and \"Count <year>\" columns and cut the word \"Count\"\n",
    "df_boys = df_boys.iloc[:, lambda df_boys: df_boys.columns.str.contains('Count|Name', case=False)]\n",
    "df_boys.columns = map(lambda x: x.replace(' Count', ''), df_boys.columns)\n",
    "\n",
    "# collect all years in one column \"Year\"\n",
    "df_boys = df_boys.melt(id_vars='Name', var_name='Year', value_name='Nb')\n",
    "\n",
    "statistics['countNullBr'] += df_boys['Nb'].value_counts()['[x]']          #For Q:How many missing values (NA) have been introduced?   \n",
    "\n",
    "# Replace Nb [x] -> NaN, drop lines with NaN and define type\n",
    "df_boys = (df_boys.replace('[x]', np.nan)\n",
    "                .dropna()\n",
    "                .sort_values(['Name','Year'], ascending=[True,False])\n",
    "                .astype({'Nb': np.int64})\n",
    "                  # .sort_values(by=['Year', 'Name'])\n",
    "          )\n",
    "\n",
    "# add \"Gender\" column with value = 1 for all rows\n",
    "df_boys.insert(0, 'Gender', 1)\n",
    "\n",
    "\n",
    "# create dataframe for girls\n",
    "df_girls = pd.read_excel(io = params['bpath'], engine='openpyxl', sheet_name='2', header = 7)\n",
    "\n",
    "# take only \"Name\" and \"Count <year>\" columns and cut the word \"Count\"\n",
    "df_girls = df_girls.iloc[:, lambda df_girls: df_girls.columns.str.contains('Count|Name', case=False)]\n",
    "df_girls.columns = map(lambda x: x.replace(' Count', ''), df_girls.columns)\n",
    "\n",
    "# collect all years in one column \"Year\"\n",
    "df_girls = df_girls.melt(id_vars='Name', var_name='Year', value_name='Nb')\n",
    "\n",
    "statistics['countNullBr'] += df_girls['Nb'].value_counts()['[x]']          #For Q:How many missing values (NA) have been introduced?                                                                          \n",
    "\n",
    "# Replace Nb [x] -> NaN, drop lines with NaN and define type\n",
    "df_girls = (df_girls.replace('[x]', np.nan)\n",
    "                .dropna()\n",
    "                .sort_values(['Name','Year'], ascending=[True,False])\n",
    "                .astype({'Nb': np.int64})\n",
    "                  # .sort_values(by=['Year', 'Name'])\n",
    "           )\n",
    "# add \"Gender\" column with value = 2 for all rows\n",
    "df_girls.insert(0, 'Gender', 2)\n",
    "\n",
    "\n",
    "# concatenate them to one DataFrame\n",
    "df_br = pd.concat([df_boys, df_girls])\n",
    "\n",
    "df_br"
   ]
  },
  {
   "cell_type": "code",
   "execution_count": 9,
   "metadata": {},
   "outputs": [
    {
     "data": {
      "text/html": [
       "<div>\n",
       "<style scoped>\n",
       "    .dataframe tbody tr th:only-of-type {\n",
       "        vertical-align: middle;\n",
       "    }\n",
       "\n",
       "    .dataframe tbody tr th {\n",
       "        vertical-align: top;\n",
       "    }\n",
       "\n",
       "    .dataframe thead th {\n",
       "        text-align: right;\n",
       "    }\n",
       "</style>\n",
       "<table border=\"1\" class=\"dataframe\">\n",
       "  <thead>\n",
       "    <tr style=\"text-align: right;\">\n",
       "      <th></th>\n",
       "      <th>Name</th>\n",
       "      <th>Gender</th>\n",
       "      <th>Year</th>\n",
       "      <th>Nb</th>\n",
       "    </tr>\n",
       "  </thead>\n",
       "  <tbody>\n",
       "    <tr>\n",
       "      <th>0</th>\n",
       "      <td>Mary</td>\n",
       "      <td>2</td>\n",
       "      <td>1880</td>\n",
       "      <td>7065</td>\n",
       "    </tr>\n",
       "    <tr>\n",
       "      <th>1</th>\n",
       "      <td>Anna</td>\n",
       "      <td>2</td>\n",
       "      <td>1880</td>\n",
       "      <td>2604</td>\n",
       "    </tr>\n",
       "    <tr>\n",
       "      <th>2</th>\n",
       "      <td>Emma</td>\n",
       "      <td>2</td>\n",
       "      <td>1880</td>\n",
       "      <td>2003</td>\n",
       "    </tr>\n",
       "    <tr>\n",
       "      <th>3</th>\n",
       "      <td>Elizabeth</td>\n",
       "      <td>2</td>\n",
       "      <td>1880</td>\n",
       "      <td>1939</td>\n",
       "    </tr>\n",
       "    <tr>\n",
       "      <th>4</th>\n",
       "      <td>Minnie</td>\n",
       "      <td>2</td>\n",
       "      <td>1880</td>\n",
       "      <td>1746</td>\n",
       "    </tr>\n",
       "    <tr>\n",
       "      <th>...</th>\n",
       "      <td>...</td>\n",
       "      <td>...</td>\n",
       "      <td>...</td>\n",
       "      <td>...</td>\n",
       "    </tr>\n",
       "    <tr>\n",
       "      <th>2052776</th>\n",
       "      <td>Zyeire</td>\n",
       "      <td>1</td>\n",
       "      <td>2021</td>\n",
       "      <td>5</td>\n",
       "    </tr>\n",
       "    <tr>\n",
       "      <th>2052777</th>\n",
       "      <td>Zyel</td>\n",
       "      <td>1</td>\n",
       "      <td>2021</td>\n",
       "      <td>5</td>\n",
       "    </tr>\n",
       "    <tr>\n",
       "      <th>2052778</th>\n",
       "      <td>Zyian</td>\n",
       "      <td>1</td>\n",
       "      <td>2021</td>\n",
       "      <td>5</td>\n",
       "    </tr>\n",
       "    <tr>\n",
       "      <th>2052779</th>\n",
       "      <td>Zylar</td>\n",
       "      <td>1</td>\n",
       "      <td>2021</td>\n",
       "      <td>5</td>\n",
       "    </tr>\n",
       "    <tr>\n",
       "      <th>2052780</th>\n",
       "      <td>Zyn</td>\n",
       "      <td>1</td>\n",
       "      <td>2021</td>\n",
       "      <td>5</td>\n",
       "    </tr>\n",
       "  </tbody>\n",
       "</table>\n",
       "<p>2052781 rows × 4 columns</p>\n",
       "</div>"
      ],
      "text/plain": [
       "              Name  Gender  Year    Nb\n",
       "0             Mary       2  1880  7065\n",
       "1             Anna       2  1880  2604\n",
       "2             Emma       2  1880  2003\n",
       "3        Elizabeth       2  1880  1939\n",
       "4           Minnie       2  1880  1746\n",
       "...            ...     ...   ...   ...\n",
       "2052776     Zyeire       1  2021     5\n",
       "2052777       Zyel       1  2021     5\n",
       "2052778      Zyian       1  2021     5\n",
       "2052779      Zylar       1  2021     5\n",
       "2052780        Zyn       1  2021     5\n",
       "\n",
       "[2052781 rows x 4 columns]"
      ]
     },
     "execution_count": 9,
     "metadata": {},
     "output_type": "execute_result"
    }
   ],
   "source": [
    "# Load USA data in memory  (1880 - 2021)\n",
    "\n",
    "# path for directory & list of years took from filenames\n",
    "pathGenerator = Path(params['upath']).rglob('*.txt')\n",
    "pathsList = list(map(lambda x: x, pathGenerator))\n",
    "\n",
    "# create DataFrame from .txt file\n",
    "def fromTxtToDataFrame(filename, year):\n",
    "    df = pd.read_csv(filename, sep=',', names = [ 'Name', 'Gender', 'Nb'])\n",
    "    df.insert(2, 'Year', year)\n",
    "    return df\n",
    "\n",
    "# compose list of DataFrames\n",
    "def doForAll():\n",
    "    yearsList = list(map(lambda x: int( (str(x))[-8:-4] ), pathsList))   \n",
    "    aux = list(range(len(yearsList)))\n",
    "    return list(map(lambda i: fromTxtToDataFrame(pathsList[i], yearsList[i]), aux))\n",
    "\n",
    "# concatenate all DataFrames in one\n",
    "df_usa = pd.concat(doForAll(), ignore_index=True)#\n",
    "df_usa = (df_usa.replace({'Gender': {'F': 2, 'M': 1}})\n",
    "                 # .sort_values(by=['Gender', 'Year', 'Name'])\n",
    "         )      \n",
    "df_usa"
   ]
  },
  {
   "cell_type": "markdown",
   "metadata": {
    "nteract": {
     "transient": {
      "deleting": false
     }
    }
   },
   "source": [
    "## Explore the data"
   ]
  },
  {
   "cell_type": "markdown",
   "metadata": {
    "nteract": {
     "transient": {
      "deleting": false
     }
    }
   },
   "source": [
    "**QUESTION:** Look at the data, Use the attributes `columns`, `dtypes` and the methods `head`, `describe`, to get a feeling of the data.\n",
    "\n",
    "- This dataset is supposed to report all given names used\n",
    "for either sex during a year in France since 1900\n",
    "\n",
    "- The file is made of `652 056` lines and  4 columns.\n",
    "\n",
    "```\n",
    "|-- preusuel : object\n",
    "|-- nombre: int64\n",
    "|-- sexe: int64\n",
    "|-- annais: object\n",
    "```\n",
    "\n",
    "Each row indicates for a given `preusuel` (prénom usuel, given name), `sexe` (sex), and `annais` (année naissance, birthyear) the `nombre` (number) of babies of the given sex who were given that name during the given year.\n",
    "\n",
    "|sexe    |preusuel     | annais|   nombre|\n",
    "|:------|:--------|----:|---:|\n",
    "|2     |SYLVETTE | 1953| 577|\n",
    "|1   |BOUBOU   | 1979|   4|\n",
    "|1   |NILS     | 1959|   3|\n",
    "|2   |NICOLE   | 2003|  36|\n",
    "|1   |JOSÉLITO | 2013|   4|\n",
    "\n",
    "\n",
    "**QUESTION:** Compare memory usage and disk space used by data\n",
    "\n",
    "**Hints:**\n",
    "\n",
    "- The method `info`  prints a concise summary of a `DataFrame`.\n",
    "- With optional parameter `memory_usage`, you can get an estimate\n",
    "of the amount of memory used by the `DataFrame`.\n",
    "- Beware that the resulting estimate depends on the argument fed."
   ]
  },
  {
   "cell_type": "code",
   "execution_count": 10,
   "metadata": {
    "ExecuteTime": {
     "end_time": "2021-02-03T09:42:59.360455Z",
     "start_time": "2021-02-03T09:42:59.357825Z"
    },
    "jupyter": {
     "outputs_hidden": false
    },
    "nteract": {
     "transient": {
      "deleting": false
     }
    }
   },
   "outputs": [
    {
     "name": "stdout",
     "output_type": "stream",
     "text": [
      "French data\n",
      "<class 'pandas.core.frame.DataFrame'>\n",
      "RangeIndex: 686538 entries, 0 to 686537\n",
      "Data columns (total 4 columns):\n",
      " #   Column    Non-Null Count   Dtype \n",
      "---  ------    --------------   ----- \n",
      " 0   sexe      686538 non-null  int64 \n",
      " 1   preusuel  686536 non-null  object\n",
      " 2   annais    686538 non-null  object\n",
      " 3   nombre    686538 non-null  int64 \n",
      "dtypes: int64(2), object(2)\n",
      "memory usage: 21.0+ MB\n",
      "None\n",
      "\n",
      "Memory usage of the DataFrame:\n",
      " Index            128\n",
      "sexe         5492304\n",
      "preusuel    44960397\n",
      "annais      41878818\n",
      "nombre       5492304\n",
      "dtype: int64\n",
      "\n",
      "Disk space used by the data files =  12.486 MB\n"
     ]
    }
   ],
   "source": [
    "print(\"French data\")\n",
    "# Display information about the DataFrame\n",
    "print(df_fr.info())\n",
    "\n",
    "# Get an estimate of the memory usage of the DataFrame\n",
    "print(\"\\nMemory usage of the DataFrame:\\n\", df_fr.memory_usage(deep=True))\n",
    "\n",
    "# Get the disk space used by the data file\n",
    "print(\"\\nDisk space used by the data files = \", \"%.3f\" %(os.path.getsize(params['fpath'])/1000000), \"MB\")"
   ]
  },
  {
   "cell_type": "code",
   "execution_count": 11,
   "metadata": {},
   "outputs": [
    {
     "name": "stdout",
     "output_type": "stream",
     "text": [
      "British data\n",
      "<class 'pandas.core.frame.DataFrame'>\n",
      "Int64Index: 308330 entries, 0 to 307411\n",
      "Data columns (total 4 columns):\n",
      " #   Column  Non-Null Count   Dtype \n",
      "---  ------  --------------   ----- \n",
      " 0   Gender  308330 non-null  int64 \n",
      " 1   Name    308330 non-null  object\n",
      " 2   Year    308330 non-null  object\n",
      " 3   Nb      308330 non-null  int64 \n",
      "dtypes: int64(2), object(2)\n",
      "memory usage: 11.8+ MB\n",
      "None\n",
      "\n",
      "Memory usage of the DataFrame:\n",
      " Index      2466640\n",
      "Gender     2466640\n",
      "Name      19485339\n",
      "Year      18808130\n",
      "Nb         2466640\n",
      "dtype: int64\n",
      "\n",
      "Disk space used by the data files =  12.486 MB\n"
     ]
    }
   ],
   "source": [
    "print(\"British data\")\n",
    "\n",
    "# Display information about the DataFrame\n",
    "print(df_br.info())\n",
    "\n",
    "# Get an estimate of the memory usage of the DataFrame\n",
    "print(\"\\nMemory usage of the DataFrame:\\n\", df_br.memory_usage(deep=True))\n",
    "\n",
    "# Get the disk space used by the data file\n",
    "print(\"\\nDisk space used by the data files = \", \"%.3f\" %(os.path.getsize(params['fpath'])/1000000), \"MB\")"
   ]
  },
  {
   "cell_type": "code",
   "execution_count": 12,
   "metadata": {},
   "outputs": [
    {
     "name": "stdout",
     "output_type": "stream",
     "text": [
      "USA data\n",
      "<class 'pandas.core.frame.DataFrame'>\n",
      "RangeIndex: 2052781 entries, 0 to 2052780\n",
      "Data columns (total 4 columns):\n",
      " #   Column  Dtype \n",
      "---  ------  ----- \n",
      " 0   Name    object\n",
      " 1   Gender  int64 \n",
      " 2   Year    int64 \n",
      " 3   Nb      int64 \n",
      "dtypes: int64(3), object(1)\n",
      "memory usage: 62.6+ MB\n",
      "None\n",
      "\n",
      "Memory usage of the DataFrame:\n",
      " Index           128\n",
      "Name      129669945\n",
      "Gender     16422248\n",
      "Year       16422248\n",
      "Nb         16422248\n",
      "dtype: int64\n",
      "\n",
      "Disk space used by the data files =  26.598 MB\n"
     ]
    }
   ],
   "source": [
    "from functools import reduce\n",
    "\n",
    "print(\"USA data\")\n",
    "\n",
    "# Display information about the DataFrame\n",
    "print(df_usa.info())\n",
    "\n",
    "# Get an estimate of the memory usage of the DataFrame\n",
    "print(\"\\nMemory usage of the DataFrame:\\n\", df_usa.memory_usage(deep=True))\n",
    "\n",
    "# Get the disk space used by USA data files\n",
    "files = list(filter(lambda f: os.path.isfile(f) , Path(params['upath']).rglob('*')))\n",
    "listSizes = list(map(lambda file: os.path.getsize(file), files))\n",
    "size = reduce(lambda pr, ne: pr + ne, listSizes)\n",
    "\n",
    "print(\"\\nDisk space used by the data files = \", \"%.3f\" %(size/1000000), \"MB\")\n"
   ]
  },
  {
   "cell_type": "markdown",
   "metadata": {
    "nteract": {
     "transient": {
      "deleting": false
     }
    }
   },
   "source": [
    "**QUESTION:** Display the output of `.describe()` with style."
   ]
  },
  {
   "cell_type": "code",
   "execution_count": 13,
   "metadata": {
    "ExecuteTime": {
     "end_time": "2021-02-03T09:43:01.043175Z",
     "start_time": "2021-02-03T09:43:01.040595Z"
    },
    "jupyter": {
     "outputs_hidden": false
    },
    "nteract": {
     "transient": {
      "deleting": false
     }
    }
   },
   "outputs": [
    {
     "data": {
      "text/html": [
       "<style type=\"text/css\">\n",
       "#T_22ba7 th {\n",
       "  background: #7ca6db;\n",
       "  color: white;\n",
       "}\n",
       "</style>\n",
       "<table id=\"T_22ba7\">\n",
       "  <caption>Summary Statistics</caption>\n",
       "  <thead>\n",
       "    <tr>\n",
       "      <th class=\"blank level0\" >&nbsp;</th>\n",
       "      <th id=\"T_22ba7_level0_col0\" class=\"col_heading level0 col0\" >sexe</th>\n",
       "      <th id=\"T_22ba7_level0_col1\" class=\"col_heading level0 col1\" >nombre</th>\n",
       "    </tr>\n",
       "  </thead>\n",
       "  <tbody>\n",
       "    <tr>\n",
       "      <th id=\"T_22ba7_level0_row0\" class=\"row_heading level0 row0\" >count</th>\n",
       "      <td id=\"T_22ba7_row0_col0\" class=\"data row0 col0\" >686538</td>\n",
       "      <td id=\"T_22ba7_row0_col1\" class=\"data row0 col1\" >686538</td>\n",
       "    </tr>\n",
       "    <tr>\n",
       "      <th id=\"T_22ba7_level0_row1\" class=\"row_heading level0 row1\" >mean</th>\n",
       "      <td id=\"T_22ba7_row1_col0\" class=\"data row1 col0\" >2</td>\n",
       "      <td id=\"T_22ba7_row1_col1\" class=\"data row1 col1\" >127</td>\n",
       "    </tr>\n",
       "    <tr>\n",
       "      <th id=\"T_22ba7_level0_row2\" class=\"row_heading level0 row2\" >std</th>\n",
       "      <td id=\"T_22ba7_row2_col0\" class=\"data row2 col0\" >0</td>\n",
       "      <td id=\"T_22ba7_row2_col1\" class=\"data row2 col1\" >875</td>\n",
       "    </tr>\n",
       "    <tr>\n",
       "      <th id=\"T_22ba7_level0_row3\" class=\"row_heading level0 row3\" >min</th>\n",
       "      <td id=\"T_22ba7_row3_col0\" class=\"data row3 col0\" >1</td>\n",
       "      <td id=\"T_22ba7_row3_col1\" class=\"data row3 col1\" >1</td>\n",
       "    </tr>\n",
       "    <tr>\n",
       "      <th id=\"T_22ba7_level0_row4\" class=\"row_heading level0 row4\" >25%</th>\n",
       "      <td id=\"T_22ba7_row4_col0\" class=\"data row4 col0\" >1</td>\n",
       "      <td id=\"T_22ba7_row4_col1\" class=\"data row4 col1\" >4</td>\n",
       "    </tr>\n",
       "    <tr>\n",
       "      <th id=\"T_22ba7_level0_row5\" class=\"row_heading level0 row5\" >50%</th>\n",
       "      <td id=\"T_22ba7_row5_col0\" class=\"data row5 col0\" >2</td>\n",
       "      <td id=\"T_22ba7_row5_col1\" class=\"data row5 col1\" >8</td>\n",
       "    </tr>\n",
       "    <tr>\n",
       "      <th id=\"T_22ba7_level0_row6\" class=\"row_heading level0 row6\" >75%</th>\n",
       "      <td id=\"T_22ba7_row6_col0\" class=\"data row6 col0\" >2</td>\n",
       "      <td id=\"T_22ba7_row6_col1\" class=\"data row6 col1\" >25</td>\n",
       "    </tr>\n",
       "    <tr>\n",
       "      <th id=\"T_22ba7_level0_row7\" class=\"row_heading level0 row7\" >max</th>\n",
       "      <td id=\"T_22ba7_row7_col0\" class=\"data row7 col0\" >2</td>\n",
       "      <td id=\"T_22ba7_row7_col1\" class=\"data row7 col1\" >53547</td>\n",
       "    </tr>\n",
       "  </tbody>\n",
       "</table>\n"
      ],
      "text/plain": [
       "<pandas.io.formats.style.Styler at 0x24aac588d30>"
      ]
     },
     "metadata": {},
     "output_type": "display_data"
    }
   ],
   "source": [
    "# French data\n",
    "# Compute some summary statistics about the DataFrame\n",
    "summary_stats = df_fr.describe()\n",
    "\n",
    "# Apply some styling to the summary statistics\n",
    "styled_summary_stats = summary_stats.style.set_table_styles(\n",
    "    [{'selector': 'th', 'props': [('background', '#7ca6db'), ('color', 'white')]}]\n",
    ").format(\"{:.0f}\").set_caption(\"Summary Statistics\")\n",
    "\n",
    "# Display the styled summary statistics\n",
    "display(styled_summary_stats)\n",
    "\n"
   ]
  },
  {
   "cell_type": "code",
   "execution_count": 14,
   "metadata": {},
   "outputs": [
    {
     "data": {
      "text/html": [
       "<style type=\"text/css\">\n",
       "#T_716ea th {\n",
       "  background: #7ca6db;\n",
       "  color: white;\n",
       "}\n",
       "</style>\n",
       "<table id=\"T_716ea\">\n",
       "  <caption>Summary Statistics</caption>\n",
       "  <thead>\n",
       "    <tr>\n",
       "      <th class=\"blank level0\" >&nbsp;</th>\n",
       "      <th id=\"T_716ea_level0_col0\" class=\"col_heading level0 col0\" >Gender</th>\n",
       "      <th id=\"T_716ea_level0_col1\" class=\"col_heading level0 col1\" >Nb</th>\n",
       "    </tr>\n",
       "  </thead>\n",
       "  <tbody>\n",
       "    <tr>\n",
       "      <th id=\"T_716ea_level0_row0\" class=\"row_heading level0 row0\" >count</th>\n",
       "      <td id=\"T_716ea_row0_col0\" class=\"data row0 col0\" >308330</td>\n",
       "      <td id=\"T_716ea_row0_col1\" class=\"data row0 col1\" >308330</td>\n",
       "    </tr>\n",
       "    <tr>\n",
       "      <th id=\"T_716ea_level0_row1\" class=\"row_heading level0 row1\" >mean</th>\n",
       "      <td id=\"T_716ea_row1_col0\" class=\"data row1 col0\" >2</td>\n",
       "      <td id=\"T_716ea_row1_col1\" class=\"data row1 col1\" >52</td>\n",
       "    </tr>\n",
       "    <tr>\n",
       "      <th id=\"T_716ea_level0_row2\" class=\"row_heading level0 row2\" >std</th>\n",
       "      <td id=\"T_716ea_row2_col0\" class=\"data row2 col0\" >0</td>\n",
       "      <td id=\"T_716ea_row2_col1\" class=\"data row2 col1\" >297</td>\n",
       "    </tr>\n",
       "    <tr>\n",
       "      <th id=\"T_716ea_level0_row3\" class=\"row_heading level0 row3\" >min</th>\n",
       "      <td id=\"T_716ea_row3_col0\" class=\"data row3 col0\" >1</td>\n",
       "      <td id=\"T_716ea_row3_col1\" class=\"data row3 col1\" >3</td>\n",
       "    </tr>\n",
       "    <tr>\n",
       "      <th id=\"T_716ea_level0_row4\" class=\"row_heading level0 row4\" >25%</th>\n",
       "      <td id=\"T_716ea_row4_col0\" class=\"data row4 col0\" >1</td>\n",
       "      <td id=\"T_716ea_row4_col1\" class=\"data row4 col1\" >4</td>\n",
       "    </tr>\n",
       "    <tr>\n",
       "      <th id=\"T_716ea_level0_row5\" class=\"row_heading level0 row5\" >50%</th>\n",
       "      <td id=\"T_716ea_row5_col0\" class=\"data row5 col0\" >2</td>\n",
       "      <td id=\"T_716ea_row5_col1\" class=\"data row5 col1\" >6</td>\n",
       "    </tr>\n",
       "    <tr>\n",
       "      <th id=\"T_716ea_level0_row6\" class=\"row_heading level0 row6\" >75%</th>\n",
       "      <td id=\"T_716ea_row6_col0\" class=\"data row6 col0\" >2</td>\n",
       "      <td id=\"T_716ea_row6_col1\" class=\"data row6 col1\" >16</td>\n",
       "    </tr>\n",
       "    <tr>\n",
       "      <th id=\"T_716ea_level0_row7\" class=\"row_heading level0 row7\" >max</th>\n",
       "      <td id=\"T_716ea_row7_col0\" class=\"data row7 col0\" >2</td>\n",
       "      <td id=\"T_716ea_row7_col1\" class=\"data row7 col1\" >10779</td>\n",
       "    </tr>\n",
       "  </tbody>\n",
       "</table>\n"
      ],
      "text/plain": [
       "<pandas.io.formats.style.Styler at 0x24ab7f91c40>"
      ]
     },
     "metadata": {},
     "output_type": "display_data"
    }
   ],
   "source": [
    "# British data\n",
    "# Compute some summary statistics about the DataFrame\n",
    "summary_stats = df_br.describe()\n",
    "\n",
    "# Apply some styling to the summary statistics\n",
    "styled_summary_stats = summary_stats.style.set_table_styles(\n",
    "    [{'selector': 'th', 'props': [('background', '#7ca6db'), ('color', 'white')]}]\n",
    ").format(\"{:.0f}\").set_caption(\"Summary Statistics\")\n",
    "\n",
    "# Display the styled summary statistics\n",
    "display(styled_summary_stats)\n"
   ]
  },
  {
   "cell_type": "code",
   "execution_count": 15,
   "metadata": {},
   "outputs": [
    {
     "data": {
      "text/html": [
       "<style type=\"text/css\">\n",
       "#T_375d0 th {\n",
       "  background: #7ca6db;\n",
       "  color: white;\n",
       "}\n",
       "</style>\n",
       "<table id=\"T_375d0\">\n",
       "  <caption>Summary Statistics</caption>\n",
       "  <thead>\n",
       "    <tr>\n",
       "      <th class=\"blank level0\" >&nbsp;</th>\n",
       "      <th id=\"T_375d0_level0_col0\" class=\"col_heading level0 col0\" >Gender</th>\n",
       "      <th id=\"T_375d0_level0_col1\" class=\"col_heading level0 col1\" >Year</th>\n",
       "      <th id=\"T_375d0_level0_col2\" class=\"col_heading level0 col2\" >Nb</th>\n",
       "    </tr>\n",
       "  </thead>\n",
       "  <tbody>\n",
       "    <tr>\n",
       "      <th id=\"T_375d0_level0_row0\" class=\"row_heading level0 row0\" >count</th>\n",
       "      <td id=\"T_375d0_row0_col0\" class=\"data row0 col0\" >2052781</td>\n",
       "      <td id=\"T_375d0_row0_col1\" class=\"data row0 col1\" >2052781</td>\n",
       "      <td id=\"T_375d0_row0_col2\" class=\"data row0 col2\" >2052781</td>\n",
       "    </tr>\n",
       "    <tr>\n",
       "      <th id=\"T_375d0_level0_row1\" class=\"row_heading level0 row1\" >mean</th>\n",
       "      <td id=\"T_375d0_row1_col0\" class=\"data row1 col0\" >2</td>\n",
       "      <td id=\"T_375d0_row1_col1\" class=\"data row1 col1\" >1978</td>\n",
       "      <td id=\"T_375d0_row1_col2\" class=\"data row1 col2\" >176</td>\n",
       "    </tr>\n",
       "    <tr>\n",
       "      <th id=\"T_375d0_level0_row2\" class=\"row_heading level0 row2\" >std</th>\n",
       "      <td id=\"T_375d0_row2_col0\" class=\"data row2 col0\" >0</td>\n",
       "      <td id=\"T_375d0_row2_col1\" class=\"data row2 col1\" >35</td>\n",
       "      <td id=\"T_375d0_row2_col2\" class=\"data row2 col2\" >1493</td>\n",
       "    </tr>\n",
       "    <tr>\n",
       "      <th id=\"T_375d0_level0_row3\" class=\"row_heading level0 row3\" >min</th>\n",
       "      <td id=\"T_375d0_row3_col0\" class=\"data row3 col0\" >1</td>\n",
       "      <td id=\"T_375d0_row3_col1\" class=\"data row3 col1\" >1880</td>\n",
       "      <td id=\"T_375d0_row3_col2\" class=\"data row3 col2\" >5</td>\n",
       "    </tr>\n",
       "    <tr>\n",
       "      <th id=\"T_375d0_level0_row4\" class=\"row_heading level0 row4\" >25%</th>\n",
       "      <td id=\"T_375d0_row4_col0\" class=\"data row4 col0\" >1</td>\n",
       "      <td id=\"T_375d0_row4_col1\" class=\"data row4 col1\" >1954</td>\n",
       "      <td id=\"T_375d0_row4_col2\" class=\"data row4 col2\" >7</td>\n",
       "    </tr>\n",
       "    <tr>\n",
       "      <th id=\"T_375d0_level0_row5\" class=\"row_heading level0 row5\" >50%</th>\n",
       "      <td id=\"T_375d0_row5_col0\" class=\"data row5 col0\" >2</td>\n",
       "      <td id=\"T_375d0_row5_col1\" class=\"data row5 col1\" >1988</td>\n",
       "      <td id=\"T_375d0_row5_col2\" class=\"data row5 col2\" >12</td>\n",
       "    </tr>\n",
       "    <tr>\n",
       "      <th id=\"T_375d0_level0_row6\" class=\"row_heading level0 row6\" >75%</th>\n",
       "      <td id=\"T_375d0_row6_col0\" class=\"data row6 col0\" >2</td>\n",
       "      <td id=\"T_375d0_row6_col1\" class=\"data row6 col1\" >2006</td>\n",
       "      <td id=\"T_375d0_row6_col2\" class=\"data row6 col2\" >32</td>\n",
       "    </tr>\n",
       "    <tr>\n",
       "      <th id=\"T_375d0_level0_row7\" class=\"row_heading level0 row7\" >max</th>\n",
       "      <td id=\"T_375d0_row7_col0\" class=\"data row7 col0\" >2</td>\n",
       "      <td id=\"T_375d0_row7_col1\" class=\"data row7 col1\" >2021</td>\n",
       "      <td id=\"T_375d0_row7_col2\" class=\"data row7 col2\" >99693</td>\n",
       "    </tr>\n",
       "  </tbody>\n",
       "</table>\n"
      ],
      "text/plain": [
       "<pandas.io.formats.style.Styler at 0x24aaa21f640>"
      ]
     },
     "metadata": {},
     "output_type": "display_data"
    }
   ],
   "source": [
    "# USA data\n",
    "# Compute some summary statistics about the DataFrame\n",
    "summary_stats = df_usa.describe()\n",
    "\n",
    "# Apply some styling to the summary statistics\n",
    "styled_summary_stats = summary_stats.style.set_table_styles(\n",
    "    [{'selector': 'th', 'props': [('background', '#7ca6db'), ('color', 'white')]}]\n",
    ").format(\"{:.0f}\").set_caption(\"Summary Statistics\")\n",
    "\n",
    "# Display the styled summary statistics\n",
    "display(styled_summary_stats)\n"
   ]
  },
  {
   "cell_type": "markdown",
   "metadata": {
    "nteract": {
     "transient": {
      "deleting": false
     }
    }
   },
   "source": [
    "**QUESTION:** For each column compute the number of distinct values"
   ]
  },
  {
   "cell_type": "code",
   "execution_count": 17,
   "metadata": {
    "ExecuteTime": {
     "end_time": "2021-02-03T09:43:01.392240Z",
     "start_time": "2021-02-03T09:43:01.389193Z"
    },
    "jupyter": {
     "outputs_hidden": false
    },
    "nteract": {
     "transient": {
      "deleting": false
     }
    }
   },
   "outputs": [
    {
     "name": "stdout",
     "output_type": "stream",
     "text": [
      "distinct values for French data:\n",
      " sexe            2\n",
      "preusuel    36170\n",
      "annais        123\n",
      "nombre       7281\n",
      "dtype: int64\n"
     ]
    }
   ],
   "source": [
    "# French data \n",
    "print ( 'distinct values for French data:\\n', df_fr.nunique())"
   ]
  },
  {
   "cell_type": "code",
   "execution_count": 18,
   "metadata": {},
   "outputs": [
    {
     "name": "stdout",
     "output_type": "stream",
     "text": [
      "distinct values for British:\n",
      " Gender        2\n",
      "Name      36411\n",
      "Year         26\n",
      "Nb         2943\n",
      "dtype: int64\n"
     ]
    }
   ],
   "source": [
    "# British data \n",
    "print ( 'distinct values for British:\\n', df_br.nunique())"
   ]
  },
  {
   "cell_type": "code",
   "execution_count": 19,
   "metadata": {},
   "outputs": [
    {
     "name": "stdout",
     "output_type": "stream",
     "text": [
      "distinct values for USA:\n",
      " Name      101338\n",
      "Gender         2\n",
      "Year         142\n",
      "Nb         13854\n",
      "dtype: int64\n"
     ]
    }
   ],
   "source": [
    "# USA data \n",
    "print ( 'distinct values for USA:\\n', df_usa.nunique())"
   ]
  },
  {
   "cell_type": "markdown",
   "metadata": {
    "nteract": {
     "transient": {
      "deleting": false
     }
    }
   },
   "source": [
    "# Transformations\n",
    "\n",
    "## Improving the data types\n",
    "\n",
    "**QUESTION:** Make `sexe` a category with two levels `Female` and `Male`. Call the new column `gender`. Do you see any reason why this factor should be ordered?\n",
    "\n",
    "__Hint:__ Read [Pandas and categorical variables](https://pandas.pydata.org/pandas-docs/stable/user_guide/categorical.html?highlight=category)"
   ]
  },
  {
   "cell_type": "code",
   "execution_count": 20,
   "metadata": {
    "ExecuteTime": {
     "end_time": "2021-02-03T09:43:02.947929Z",
     "start_time": "2021-02-03T09:43:02.945259Z"
    },
    "jupyter": {
     "outputs_hidden": false
    },
    "nteract": {
     "transient": {
      "deleting": false
     }
    }
   },
   "outputs": [],
   "source": [
    "# French data\n",
    "df_fr['gender'] = df_fr['sexe'].map({1: 'Male', 2: 'Female'}).astype('category')"
   ]
  },
  {
   "cell_type": "code",
   "execution_count": 21,
   "metadata": {
    "jupyter": {
     "outputs_hidden": false
    },
    "nteract": {
     "transient": {
      "deleting": false
     }
    }
   },
   "outputs": [
    {
     "name": "stdout",
     "output_type": "stream",
     "text": [
      "Data types for French data:\n",
      " sexe           int64\n",
      "preusuel      object\n",
      "annais        object\n",
      "nombre         int64\n",
      "gender      category\n",
      "dtype: object\n"
     ]
    }
   ],
   "source": [
    "print('Data types for French data:\\n' , df_fr.dtypes)\n"
   ]
  },
  {
   "cell_type": "code",
   "execution_count": 22,
   "metadata": {},
   "outputs": [
    {
     "name": "stdout",
     "output_type": "stream",
     "text": [
      "Q: Do you see any reason why this factor should be ordered?\n",
      "A: It might be interesting to see the names given to both girls and boys \n"
     ]
    },
    {
     "data": {
      "text/html": [
       "<div>\n",
       "<style scoped>\n",
       "    .dataframe tbody tr th:only-of-type {\n",
       "        vertical-align: middle;\n",
       "    }\n",
       "\n",
       "    .dataframe tbody tr th {\n",
       "        vertical-align: top;\n",
       "    }\n",
       "\n",
       "    .dataframe thead th {\n",
       "        text-align: right;\n",
       "    }\n",
       "</style>\n",
       "<table border=\"1\" class=\"dataframe\">\n",
       "  <thead>\n",
       "    <tr style=\"text-align: right;\">\n",
       "      <th></th>\n",
       "      <th></th>\n",
       "      <th>nombre</th>\n",
       "    </tr>\n",
       "    <tr>\n",
       "      <th>preusuel</th>\n",
       "      <th>gender</th>\n",
       "      <th></th>\n",
       "    </tr>\n",
       "  </thead>\n",
       "  <tbody>\n",
       "    <tr>\n",
       "      <th rowspan=\"2\" valign=\"top\">A</th>\n",
       "      <th>Female</th>\n",
       "      <td>NaN</td>\n",
       "    </tr>\n",
       "    <tr>\n",
       "      <th>Male</th>\n",
       "      <td>9.0</td>\n",
       "    </tr>\n",
       "    <tr>\n",
       "      <th rowspan=\"2\" valign=\"top\">AADAM</th>\n",
       "      <th>Female</th>\n",
       "      <td>NaN</td>\n",
       "    </tr>\n",
       "    <tr>\n",
       "      <th>Male</th>\n",
       "      <td>4.0</td>\n",
       "    </tr>\n",
       "    <tr>\n",
       "      <th>AADEL</th>\n",
       "      <th>Female</th>\n",
       "      <td>NaN</td>\n",
       "    </tr>\n",
       "    <tr>\n",
       "      <th>...</th>\n",
       "      <th>...</th>\n",
       "      <td>...</td>\n",
       "    </tr>\n",
       "    <tr>\n",
       "      <th>ÖZKAN</th>\n",
       "      <th>Male</th>\n",
       "      <td>7.0</td>\n",
       "    </tr>\n",
       "    <tr>\n",
       "      <th rowspan=\"2\" valign=\"top\">ÖZLEM</th>\n",
       "      <th>Female</th>\n",
       "      <td>6.0</td>\n",
       "    </tr>\n",
       "    <tr>\n",
       "      <th>Male</th>\n",
       "      <td>NaN</td>\n",
       "    </tr>\n",
       "    <tr>\n",
       "      <th rowspan=\"2\" valign=\"top\">ÜMMÜ</th>\n",
       "      <th>Female</th>\n",
       "      <td>5.0</td>\n",
       "    </tr>\n",
       "    <tr>\n",
       "      <th>Male</th>\n",
       "      <td>NaN</td>\n",
       "    </tr>\n",
       "  </tbody>\n",
       "</table>\n",
       "<p>72340 rows × 1 columns</p>\n",
       "</div>"
      ],
      "text/plain": [
       "                 nombre\n",
       "preusuel gender        \n",
       "A        Female     NaN\n",
       "         Male       9.0\n",
       "AADAM    Female     NaN\n",
       "         Male       4.0\n",
       "AADEL    Female     NaN\n",
       "...                 ...\n",
       "ÖZKAN    Male       7.0\n",
       "ÖZLEM    Female     6.0\n",
       "         Male       NaN\n",
       "ÜMMÜ     Female     5.0\n",
       "         Male       NaN\n",
       "\n",
       "[72340 rows x 1 columns]"
      ]
     },
     "execution_count": 22,
     "metadata": {},
     "output_type": "execute_result"
    }
   ],
   "source": [
    "print(\"Q: Do you see any reason why this factor should be ordered?\")\n",
    "print(\"A: It might be interesting to see the names given to both girls and boys \")\n",
    "\n",
    "df_fr[['gender', 'preusuel','nombre']].groupby(['preusuel', 'gender']).mean(numeric_only = True).round(0)\n"
   ]
  },
  {
   "cell_type": "markdown",
   "metadata": {
    "nteract": {
     "transient": {
      "deleting": false
     }
    }
   },
   "source": [
    "**QUESTION:** Compare memory usage of columns `sexe` and `gender`"
   ]
  },
  {
   "cell_type": "code",
   "execution_count": 23,
   "metadata": {
    "jupyter": {
     "outputs_hidden": false
    },
    "nteract": {
     "transient": {
      "deleting": false
     }
    }
   },
   "outputs": [
    {
     "name": "stdout",
     "output_type": "stream",
     "text": [
      "Memory usage of column 'gender' =  686.898 kB\n",
      "Memory usage of column 'sexe'   = 5492.432 kB\n"
     ]
    }
   ],
   "source": [
    "print(\"Memory usage of column 'gender' = \", df_fr['gender'].memory_usage(deep=True)/1000, \"kB\")\n",
    "print(\"Memory usage of column 'sexe'   =\", df_fr['sexe'].memory_usage(deep=True)/1000, \"kB\")"
   ]
  },
  {
   "cell_type": "markdown",
   "metadata": {
    "nteract": {
     "transient": {
      "deleting": false
     }
    }
   },
   "source": [
    "**QUESTION:** Would it be more memory-efficient to recode `sexe` using modalities `F` and `M` instead of `Male` and `Female` ?"
   ]
  },
  {
   "cell_type": "markdown",
   "metadata": {
    "nteract": {
     "transient": {
      "deleting": false
     }
    }
   },
   "source": [
    "_Insert your answer here_\n",
    "\n",
    "> No, it wouldn't make any impact since the size is determined by the type (\"category\" in our case)"
   ]
  },
  {
   "cell_type": "markdown",
   "metadata": {
    "nteract": {
     "transient": {
      "deleting": false
     }
    }
   },
   "source": [
    "## Dealing with missing values\n",
    "\n",
    "**QUESTION:** Variable `annais` class is `object`. Make `annais` of type `float`. Note that missing years are encoded as \"XXXX\", find a way to deal with that.\n",
    "\n",
    "__Hint:__  As of releasing this Homework (2023-01-18), `Pandas` is not very good at managing missing values,\n",
    "see [roadmap](https://pandas.pydata.org/docs/development/roadmap.html). Don't try to convert `annais` into an integer column."
   ]
  },
  {
   "cell_type": "code",
   "execution_count": 24,
   "metadata": {
    "jupyter": {
     "outputs_hidden": false
    },
    "nteract": {
     "transient": {
      "deleting": false
     }
    }
   },
   "outputs": [
    {
     "data": {
      "text/plain": [
       "sexe           int64\n",
       "preusuel      object\n",
       "annais       float64\n",
       "nombre         int64\n",
       "gender      category\n",
       "dtype: object"
      ]
     },
     "execution_count": 24,
     "metadata": {},
     "output_type": "execute_result"
    }
   ],
   "source": [
    "# replace \"XXXX\" with NaN\n",
    "df_fr['annais'] = df_fr['annais'].replace(\"XXXX\", np.nan)\n",
    "\n",
    "# convert annais to float\n",
    "df_fr['annais'] = df_fr['annais'].astype(float)\n",
    "\n",
    "df_fr.dtypes"
   ]
  },
  {
   "cell_type": "markdown",
   "metadata": {
    "nteract": {
     "transient": {
      "deleting": false
     }
    }
   },
   "source": [
    "## Rename and remove columns"
   ]
  },
  {
   "cell_type": "markdown",
   "metadata": {
    "nteract": {
     "transient": {
      "deleting": false
     }
    }
   },
   "source": [
    "**QUESTION:** Remove useless columns (now that you've created new ones, and rename them). You should end up with a dataframe with columns called `\"gender\"`, `\"year\"`, `\"count\"`, `\"firstname`\" with the following dtypes:\n",
    "\n",
    "```python\n",
    "gender        category\n",
    "firstname     object\n",
    "count         int64\n",
    "year          float64\n",
    "```"
   ]
  },
  {
   "cell_type": "code",
   "execution_count": 25,
   "metadata": {
    "jupyter": {
     "outputs_hidden": false
    },
    "nteract": {
     "transient": {
      "deleting": false
     }
    }
   },
   "outputs": [
    {
     "name": "stdout",
     "output_type": "stream",
     "text": [
      "gender       category\n",
      "firstname      object\n",
      "year          float64\n",
      "count           int64\n",
      "dtype: object\n"
     ]
    }
   ],
   "source": [
    "df_fr = (df_fr.drop(columns = 'sexe', errors = 'ignore')\n",
    "                .rename(columns = {'preusuel': 'firstname', 'annais': 'year', 'nombre': 'count'})\n",
    "        )\n",
    "df_fr = df_fr[['gender', 'firstname', 'year', 'count']]\n",
    "# Display the dtypes of the resulting dataframe\n",
    "print(df_fr.dtypes)"
   ]
  },
  {
   "cell_type": "markdown",
   "metadata": {},
   "source": [
    "**Question:** Do the same thing for British and US data. You should eventually obtain dataframes with the same schema.  "
   ]
  },
  {
   "cell_type": "markdown",
   "metadata": {
    "nteract": {
     "transient": {
      "deleting": false
     }
    }
   },
   "source": [
    "**QUESTION:** How many missing values (NA) have been introduced? How many births are concerned?"
   ]
  },
  {
   "cell_type": "code",
   "execution_count": 26,
   "metadata": {
    "ExecuteTime": {
     "end_time": "2021-02-03T09:58:42.294646Z",
     "start_time": "2021-02-03T09:58:42.289319Z"
    },
    "jupyter": {
     "outputs_hidden": false
    },
    "nteract": {
     "transient": {
      "deleting": false
     }
    }
   },
   "outputs": [
    {
     "name": "stdout",
     "output_type": "stream",
     "text": [
      "Missing values from french data:\n",
      " gender           0\n",
      "firstname        2\n",
      "year         37924\n",
      "count            0\n",
      "dtype: int64\n"
     ]
    }
   ],
   "source": [
    "# Check for missing values\n",
    "print('Missing values from french data:\\n', df_fr.isna().sum())"
   ]
  },
  {
   "cell_type": "code",
   "execution_count": 27,
   "metadata": {},
   "outputs": [
    {
     "data": {
      "text/html": [
       "<div>\n",
       "<style scoped>\n",
       "    .dataframe tbody tr th:only-of-type {\n",
       "        vertical-align: middle;\n",
       "    }\n",
       "\n",
       "    .dataframe tbody tr th {\n",
       "        vertical-align: top;\n",
       "    }\n",
       "\n",
       "    .dataframe thead th {\n",
       "        text-align: right;\n",
       "    }\n",
       "</style>\n",
       "<table border=\"1\" class=\"dataframe\">\n",
       "  <thead>\n",
       "    <tr style=\"text-align: right;\">\n",
       "      <th></th>\n",
       "      <th>gender</th>\n",
       "      <th>firstname</th>\n",
       "      <th>year</th>\n",
       "      <th>count</th>\n",
       "    </tr>\n",
       "  </thead>\n",
       "  <tbody>\n",
       "    <tr>\n",
       "      <th>0</th>\n",
       "      <td>Male</td>\n",
       "      <td>A</td>\n",
       "      <td>2021.0</td>\n",
       "      <td>5</td>\n",
       "    </tr>\n",
       "    <tr>\n",
       "      <th>16777</th>\n",
       "      <td>Male</td>\n",
       "      <td>A</td>\n",
       "      <td>2020.0</td>\n",
       "      <td>4</td>\n",
       "    </tr>\n",
       "    <tr>\n",
       "      <th>33554</th>\n",
       "      <td>Male</td>\n",
       "      <td>A</td>\n",
       "      <td>2019.0</td>\n",
       "      <td>10</td>\n",
       "    </tr>\n",
       "    <tr>\n",
       "      <th>50331</th>\n",
       "      <td>Male</td>\n",
       "      <td>A</td>\n",
       "      <td>2018.0</td>\n",
       "      <td>4</td>\n",
       "    </tr>\n",
       "    <tr>\n",
       "      <th>67108</th>\n",
       "      <td>Male</td>\n",
       "      <td>A</td>\n",
       "      <td>2017.0</td>\n",
       "      <td>4</td>\n",
       "    </tr>\n",
       "    <tr>\n",
       "      <th>...</th>\n",
       "      <td>...</td>\n",
       "      <td>...</td>\n",
       "      <td>...</td>\n",
       "      <td>...</td>\n",
       "    </tr>\n",
       "    <tr>\n",
       "      <th>87831</th>\n",
       "      <td>Female</td>\n",
       "      <td>Zyva</td>\n",
       "      <td>2018.0</td>\n",
       "      <td>5</td>\n",
       "    </tr>\n",
       "    <tr>\n",
       "      <th>109789</th>\n",
       "      <td>Female</td>\n",
       "      <td>Zyva</td>\n",
       "      <td>2017.0</td>\n",
       "      <td>5</td>\n",
       "    </tr>\n",
       "    <tr>\n",
       "      <th>153705</th>\n",
       "      <td>Female</td>\n",
       "      <td>Zyva</td>\n",
       "      <td>2015.0</td>\n",
       "      <td>3</td>\n",
       "    </tr>\n",
       "    <tr>\n",
       "      <th>285453</th>\n",
       "      <td>Female</td>\n",
       "      <td>Zyva</td>\n",
       "      <td>2009.0</td>\n",
       "      <td>5</td>\n",
       "    </tr>\n",
       "    <tr>\n",
       "      <th>307411</th>\n",
       "      <td>Female</td>\n",
       "      <td>Zyva</td>\n",
       "      <td>2008.0</td>\n",
       "      <td>3</td>\n",
       "    </tr>\n",
       "  </tbody>\n",
       "</table>\n",
       "<p>308330 rows × 4 columns</p>\n",
       "</div>"
      ],
      "text/plain": [
       "        gender firstname    year  count\n",
       "0         Male         A  2021.0      5\n",
       "16777     Male         A  2020.0      4\n",
       "33554     Male         A  2019.0     10\n",
       "50331     Male         A  2018.0      4\n",
       "67108     Male         A  2017.0      4\n",
       "...        ...       ...     ...    ...\n",
       "87831   Female      Zyva  2018.0      5\n",
       "109789  Female      Zyva  2017.0      5\n",
       "153705  Female      Zyva  2015.0      3\n",
       "285453  Female      Zyva  2009.0      5\n",
       "307411  Female      Zyva  2008.0      3\n",
       "\n",
       "[308330 rows x 4 columns]"
      ]
     },
     "execution_count": 27,
     "metadata": {},
     "output_type": "execute_result"
    }
   ],
   "source": [
    "# British data\n",
    "def insertFemaleMale(sexe):\n",
    "    if sexe == 2:\n",
    "        return \"Female\"\n",
    "    return \"Male\"\n",
    "        \n",
    "df_br['gender'] = df_br.apply(lambda x: insertFemaleMale(x.Gender), axis=1)\n",
    "\n",
    "df_br['gender'] = df_br['gender'].astype('category')\n",
    "df_br = (df_br.drop(columns = 'Gender', errors = 'ignore')\n",
    "                .rename(columns = {'Name': 'firstname', 'Year': 'year', 'Nb': 'count'})\n",
    "        )\n",
    "df_br['year'] = df_br['year'].astype(float)\n",
    "df_br = df_br[['gender', 'firstname', 'year', 'count']]\n",
    "df_br"
   ]
  },
  {
   "cell_type": "code",
   "execution_count": 28,
   "metadata": {},
   "outputs": [
    {
     "data": {
      "text/html": [
       "<div>\n",
       "<style scoped>\n",
       "    .dataframe tbody tr th:only-of-type {\n",
       "        vertical-align: middle;\n",
       "    }\n",
       "\n",
       "    .dataframe tbody tr th {\n",
       "        vertical-align: top;\n",
       "    }\n",
       "\n",
       "    .dataframe thead th {\n",
       "        text-align: right;\n",
       "    }\n",
       "</style>\n",
       "<table border=\"1\" class=\"dataframe\">\n",
       "  <thead>\n",
       "    <tr style=\"text-align: right;\">\n",
       "      <th></th>\n",
       "      <th>gender</th>\n",
       "      <th>firstname</th>\n",
       "      <th>year</th>\n",
       "      <th>count</th>\n",
       "    </tr>\n",
       "  </thead>\n",
       "  <tbody>\n",
       "    <tr>\n",
       "      <th>0</th>\n",
       "      <td>Female</td>\n",
       "      <td>Mary</td>\n",
       "      <td>1880.0</td>\n",
       "      <td>7065</td>\n",
       "    </tr>\n",
       "    <tr>\n",
       "      <th>1</th>\n",
       "      <td>Female</td>\n",
       "      <td>Anna</td>\n",
       "      <td>1880.0</td>\n",
       "      <td>2604</td>\n",
       "    </tr>\n",
       "    <tr>\n",
       "      <th>2</th>\n",
       "      <td>Female</td>\n",
       "      <td>Emma</td>\n",
       "      <td>1880.0</td>\n",
       "      <td>2003</td>\n",
       "    </tr>\n",
       "    <tr>\n",
       "      <th>3</th>\n",
       "      <td>Female</td>\n",
       "      <td>Elizabeth</td>\n",
       "      <td>1880.0</td>\n",
       "      <td>1939</td>\n",
       "    </tr>\n",
       "    <tr>\n",
       "      <th>4</th>\n",
       "      <td>Female</td>\n",
       "      <td>Minnie</td>\n",
       "      <td>1880.0</td>\n",
       "      <td>1746</td>\n",
       "    </tr>\n",
       "    <tr>\n",
       "      <th>...</th>\n",
       "      <td>...</td>\n",
       "      <td>...</td>\n",
       "      <td>...</td>\n",
       "      <td>...</td>\n",
       "    </tr>\n",
       "    <tr>\n",
       "      <th>2052776</th>\n",
       "      <td>Male</td>\n",
       "      <td>Zyeire</td>\n",
       "      <td>2021.0</td>\n",
       "      <td>5</td>\n",
       "    </tr>\n",
       "    <tr>\n",
       "      <th>2052777</th>\n",
       "      <td>Male</td>\n",
       "      <td>Zyel</td>\n",
       "      <td>2021.0</td>\n",
       "      <td>5</td>\n",
       "    </tr>\n",
       "    <tr>\n",
       "      <th>2052778</th>\n",
       "      <td>Male</td>\n",
       "      <td>Zyian</td>\n",
       "      <td>2021.0</td>\n",
       "      <td>5</td>\n",
       "    </tr>\n",
       "    <tr>\n",
       "      <th>2052779</th>\n",
       "      <td>Male</td>\n",
       "      <td>Zylar</td>\n",
       "      <td>2021.0</td>\n",
       "      <td>5</td>\n",
       "    </tr>\n",
       "    <tr>\n",
       "      <th>2052780</th>\n",
       "      <td>Male</td>\n",
       "      <td>Zyn</td>\n",
       "      <td>2021.0</td>\n",
       "      <td>5</td>\n",
       "    </tr>\n",
       "  </tbody>\n",
       "</table>\n",
       "<p>2052781 rows × 4 columns</p>\n",
       "</div>"
      ],
      "text/plain": [
       "         gender  firstname    year  count\n",
       "0        Female       Mary  1880.0   7065\n",
       "1        Female       Anna  1880.0   2604\n",
       "2        Female       Emma  1880.0   2003\n",
       "3        Female  Elizabeth  1880.0   1939\n",
       "4        Female     Minnie  1880.0   1746\n",
       "...         ...        ...     ...    ...\n",
       "2052776    Male     Zyeire  2021.0      5\n",
       "2052777    Male       Zyel  2021.0      5\n",
       "2052778    Male      Zyian  2021.0      5\n",
       "2052779    Male      Zylar  2021.0      5\n",
       "2052780    Male        Zyn  2021.0      5\n",
       "\n",
       "[2052781 rows x 4 columns]"
      ]
     },
     "execution_count": 28,
     "metadata": {},
     "output_type": "execute_result"
    }
   ],
   "source": [
    "# USA data\n",
    "df_usa['gender'] = df_usa.apply(lambda x: insertFemaleMale(x.Gender), axis=1)\n",
    "df_usa['gender'] = df_usa['gender'].astype('category')\n",
    "df_usa = (df_usa.drop(columns = 'Gender', errors = 'ignore')\n",
    "                .rename(columns = {'Name': 'firstname', 'Year': 'year', 'Nb': 'count'})\n",
    "        )\n",
    "df_usa['year'] = df_usa['year'].astype(float)\n",
    "df_usa = df_usa[['gender', 'firstname', 'year', 'count']]\n",
    "df_usa"
   ]
  },
  {
   "cell_type": "code",
   "execution_count": 29,
   "metadata": {},
   "outputs": [
    {
     "name": "stdout",
     "output_type": "stream",
     "text": [
      "It was inserted:\n",
      "    37924 NaN's for French data \n",
      "    698780 NaN's for UK data\n",
      "    0 NaN's for USA data\n"
     ]
    }
   ],
   "source": [
    "statistics['countNullFr']=df_fr.isna().sum()['year']\n",
    "print(f\"It was inserted:\\n    {statistics['countNullFr']} NaN's for French data \\n    {statistics['countNullBr']} NaN's for UK data\\n    {statistics['countNullUSA']} NaN's for USA data\" )\n"
   ]
  },
  {
   "cell_type": "markdown",
   "metadata": {
    "nteract": {
     "transient": {
      "deleting": false
     }
    }
   },
   "source": [
    "**QUESTION:** Read the documentation and describe the origin of rows containing the missing values."
   ]
  },
  {
   "cell_type": "code",
   "execution_count": 30,
   "metadata": {
    "ExecuteTime": {
     "end_time": "2021-02-03T09:58:42.780105Z",
     "start_time": "2021-02-03T09:58:42.777162Z"
    },
    "jupyter": {
     "outputs_hidden": false
    },
    "nteract": {
     "transient": {
      "deleting": false
     }
    }
   },
   "outputs": [
    {
     "name": "stdout",
     "output_type": "stream",
     "text": [
      "In USA data there is no need to insert NaN because their files only contain records for a particular year.\n",
      "It means that the starting point is the year. And name is written only if someone was given this name in that year.\n",
      "\n",
      "In the UK data, it’s the names who are the starting point: all the names of children ever given from 1996 to 2021 are listed. \n",
      "If in any year this name was not given to anyone, NaN (labeled '[x]') is indicated. \n",
      "\n",
      "The French data contains NaN on format 'XXXX' for privacy reasons: if some name is given less than 3 times a year, it is not published in that year, because this will make it easier to reveal the identity of the people. The number of such events for a given name is summarized and published in a column 'Year' with label 'XXXX'.\n"
     ]
    }
   ],
   "source": [
    "print(\"In USA data there is no need to insert NaN because their files only contain records for a particular year.\\nIt means that the starting point is the year. And name is written only if someone was given this name in that year.\\n\\nIn the UK data, it’s the names who are the starting point: all the names of children ever given from 1996 to 2021 are listed. \\nIf in any year this name was not given to anyone, NaN (labeled '[x]') is indicated. \\n\\nThe French data contains NaN on format 'XXXX' for privacy reasons: if some name is given less than 3 times a year, it is not published in that year, because this will make it easier to reveal the identity of the people. The number of such events for a given name is summarized and published in a column 'Year' with label 'XXXX'.\")"
   ]
  },
  {
   "cell_type": "code",
   "execution_count": 31,
   "metadata": {},
   "outputs": [
    {
     "name": "stdout",
     "output_type": "stream",
     "text": [
      "Three DataFrames aggregation into one\n"
     ]
    },
    {
     "data": {
      "text/html": [
       "<div>\n",
       "<style scoped>\n",
       "    .dataframe tbody tr th:only-of-type {\n",
       "        vertical-align: middle;\n",
       "    }\n",
       "\n",
       "    .dataframe tbody tr th {\n",
       "        vertical-align: top;\n",
       "    }\n",
       "\n",
       "    .dataframe thead th {\n",
       "        text-align: right;\n",
       "    }\n",
       "</style>\n",
       "<table border=\"1\" class=\"dataframe\">\n",
       "  <thead>\n",
       "    <tr style=\"text-align: right;\">\n",
       "      <th></th>\n",
       "      <th>gender</th>\n",
       "      <th>firstname</th>\n",
       "      <th>year</th>\n",
       "      <th>count</th>\n",
       "      <th>country</th>\n",
       "    </tr>\n",
       "  </thead>\n",
       "  <tbody>\n",
       "    <tr>\n",
       "      <th>0</th>\n",
       "      <td>Male</td>\n",
       "      <td>_PRENOMS_RARES</td>\n",
       "      <td>1900.0</td>\n",
       "      <td>1249</td>\n",
       "      <td>France</td>\n",
       "    </tr>\n",
       "    <tr>\n",
       "      <th>1</th>\n",
       "      <td>Male</td>\n",
       "      <td>_PRENOMS_RARES</td>\n",
       "      <td>1901.0</td>\n",
       "      <td>1342</td>\n",
       "      <td>France</td>\n",
       "    </tr>\n",
       "    <tr>\n",
       "      <th>2</th>\n",
       "      <td>Male</td>\n",
       "      <td>_PRENOMS_RARES</td>\n",
       "      <td>1902.0</td>\n",
       "      <td>1330</td>\n",
       "      <td>France</td>\n",
       "    </tr>\n",
       "    <tr>\n",
       "      <th>3</th>\n",
       "      <td>Male</td>\n",
       "      <td>_PRENOMS_RARES</td>\n",
       "      <td>1903.0</td>\n",
       "      <td>1286</td>\n",
       "      <td>France</td>\n",
       "    </tr>\n",
       "    <tr>\n",
       "      <th>4</th>\n",
       "      <td>Male</td>\n",
       "      <td>_PRENOMS_RARES</td>\n",
       "      <td>1904.0</td>\n",
       "      <td>1430</td>\n",
       "      <td>France</td>\n",
       "    </tr>\n",
       "    <tr>\n",
       "      <th>...</th>\n",
       "      <td>...</td>\n",
       "      <td>...</td>\n",
       "      <td>...</td>\n",
       "      <td>...</td>\n",
       "      <td>...</td>\n",
       "    </tr>\n",
       "    <tr>\n",
       "      <th>3047644</th>\n",
       "      <td>Male</td>\n",
       "      <td>Zyeire</td>\n",
       "      <td>2021.0</td>\n",
       "      <td>5</td>\n",
       "      <td>USA</td>\n",
       "    </tr>\n",
       "    <tr>\n",
       "      <th>3047645</th>\n",
       "      <td>Male</td>\n",
       "      <td>Zyel</td>\n",
       "      <td>2021.0</td>\n",
       "      <td>5</td>\n",
       "      <td>USA</td>\n",
       "    </tr>\n",
       "    <tr>\n",
       "      <th>3047646</th>\n",
       "      <td>Male</td>\n",
       "      <td>Zyian</td>\n",
       "      <td>2021.0</td>\n",
       "      <td>5</td>\n",
       "      <td>USA</td>\n",
       "    </tr>\n",
       "    <tr>\n",
       "      <th>3047647</th>\n",
       "      <td>Male</td>\n",
       "      <td>Zylar</td>\n",
       "      <td>2021.0</td>\n",
       "      <td>5</td>\n",
       "      <td>USA</td>\n",
       "    </tr>\n",
       "    <tr>\n",
       "      <th>3047648</th>\n",
       "      <td>Male</td>\n",
       "      <td>Zyn</td>\n",
       "      <td>2021.0</td>\n",
       "      <td>5</td>\n",
       "      <td>USA</td>\n",
       "    </tr>\n",
       "  </tbody>\n",
       "</table>\n",
       "<p>3047649 rows × 5 columns</p>\n",
       "</div>"
      ],
      "text/plain": [
       "        gender       firstname    year  count country\n",
       "0         Male  _PRENOMS_RARES  1900.0   1249  France\n",
       "1         Male  _PRENOMS_RARES  1901.0   1342  France\n",
       "2         Male  _PRENOMS_RARES  1902.0   1330  France\n",
       "3         Male  _PRENOMS_RARES  1903.0   1286  France\n",
       "4         Male  _PRENOMS_RARES  1904.0   1430  France\n",
       "...        ...             ...     ...    ...     ...\n",
       "3047644   Male          Zyeire  2021.0      5     USA\n",
       "3047645   Male            Zyel  2021.0      5     USA\n",
       "3047646   Male           Zyian  2021.0      5     USA\n",
       "3047647   Male           Zylar  2021.0      5     USA\n",
       "3047648   Male             Zyn  2021.0      5     USA\n",
       "\n",
       "[3047649 rows x 5 columns]"
      ]
     },
     "execution_count": 31,
     "metadata": {},
     "output_type": "execute_result"
    }
   ],
   "source": [
    "# IMPORTANT: concatenation of 3 dataFrames\n",
    "\n",
    "print(\"Three DataFrames aggregation into one\")\n",
    "\n",
    "col = 'country'\n",
    "df_fr[col] = \"France\"\n",
    "df_br[col] = \"UK\"\n",
    "df_usa[col] = \"USA\"\n",
    "\n",
    "df_total = pd.concat([df_fr, df_br, df_usa], ignore_index=True)\n",
    "\n",
    "df_total"
   ]
  },
  {
   "cell_type": "markdown",
   "metadata": {
    "nteract": {
     "transient": {
      "deleting": false
     }
    }
   },
   "source": [
    "## Checkpointing: save your transformed dataframes"
   ]
  },
  {
   "cell_type": "markdown",
   "metadata": {
    "nteract": {
     "transient": {
      "deleting": false
     }
    }
   },
   "source": [
    "**QUESTION:** Save the transformed dataframe (retyped and renamed) to `./nat2021_csv.zip`. Try several compression methods."
   ]
  },
  {
   "cell_type": "code",
   "execution_count": 32,
   "metadata": {
    "ExecuteTime": {
     "end_time": "2021-02-03T09:58:44.434007Z",
     "start_time": "2021-02-03T09:58:44.431292Z"
    },
    "jupyter": {
     "outputs_hidden": false
    },
    "nteract": {
     "transient": {
      "deleting": false
     }
    }
   },
   "outputs": [],
   "source": [
    "# using zip compression\n",
    "df_fr.to_csv('./babies-fr.zip', index=False, compression='zip')\n",
    "df_br.to_csv('./babies-dr.zip', index=False, compression='zip')\n",
    "df_usa.to_csv('./babies-us.zip', index=False, compression='zip')\n",
    "df_total.to_csv('./babies-ew.zip', index=False, compression='zip')\n",
    "\n",
    "# using gzip compression\n",
    "#df_fr.to_csv('./nat2021_csv.gzip', index=False, compression='gzip')\n",
    "\n",
    "# using bz2 compression\n",
    "#df_fr.to_csv('./nat2021_csv.bz2', index=False, compression='bz2')\n",
    "\n",
    "# using xz compression\n",
    "#df_fr.to_csv('./nat2021_csv.xz', index=False, compression='xz')\n"
   ]
  },
  {
   "cell_type": "markdown",
   "metadata": {
    "nteract": {
     "transient": {
      "deleting": false
     }
    }
   },
   "source": [
    "**QUESTION:** Save the transformed dataframes (retyped and renamed) to `./nat2021.hdf` using `.hdf` format"
   ]
  },
  {
   "cell_type": "code",
   "execution_count": 33,
   "metadata": {
    "ExecuteTime": {
     "end_time": "2021-02-03T09:58:45.572214Z",
     "start_time": "2021-02-03T09:58:45.569040Z"
    },
    "jupyter": {
     "outputs_hidden": false
    },
    "nteract": {
     "transient": {
      "deleting": false
     }
    }
   },
   "outputs": [],
   "source": [
    "# Save the transformed dataframe to an HDF file\n",
    "df_fr.to_hdf('babies-fr.hdf', key='nat', mode='w', format=\"table\")\n",
    "df_br.to_hdf('babies-br.hdf', key='nat', mode='w', format=\"table\")\n",
    "df_usa.to_hdf( 'babies-us.hdf', key='nat', mode='w', format=\"table\")\n",
    "df_total.to_hdf( 'babies-ew.hdf', key='nat', mode='w', format=\"table\")"
   ]
  },
  {
   "cell_type": "markdown",
   "metadata": {
    "nteract": {
     "transient": {
      "deleting": false
     }
    }
   },
   "source": [
    "At that point your working directory should look like:\n",
    "\n",
    "```\n",
    "├── homework01.py      # if you use `jupytext`\n",
    "|── homework01.qmd     # if you use `quarto`\n",
    "├── homework01.ipynb   # if you use `jupyter` `notebook`\n",
    "├── babies-fr.hdf\n",
    "├── babies-fr.zip\n",
    "├── babies-us.hdf\n",
    "├── babies-us.zip\n",
    "├── babies-ew.hdf\n",
    "├── babies-ew.zip\n",
    "├── births-fr.csv\n",
    "├── births-fr.hdf\n",
    "```\n",
    "\n",
    "**QUESTION:** Reload the data using `read_hdf(...)` so that the resulting dataframes  are properly typed with meaningful and homogeneous column names.\n",
    "\n",
    "__Hint:__ use `try: ... except` to handle exceptions such as `FileNotFoundError`"
   ]
  },
  {
   "cell_type": "code",
   "execution_count": 57,
   "metadata": {
    "ExecuteTime": {
     "end_time": "2021-02-03T09:58:49.413972Z",
     "start_time": "2021-02-03T09:58:49.410965Z"
    },
    "jupyter": {
     "outputs_hidden": false
    },
    "nteract": {
     "transient": {
      "deleting": false
     }
    }
   },
   "outputs": [
    {
     "name": "stdout",
     "output_type": "stream",
     "text": [
      "babies-fr.hdf was loaded successfully\n",
      "babies-us.hdf was loaded successfully\n",
      "babies-ew.hdf was loaded successfully\n",
      "babies-br.hdf was loaded successfully\n",
      "\n",
      "Data types for babies-fr.hdf:\n",
      "gender       category\n",
      "firstname      object\n",
      "year          float64\n",
      "count           int64\n",
      "country        object\n",
      "dtype: object\n",
      "\n",
      "Column names for babies-fr.hdf:\n",
      "Index(['gender', 'firstname', 'year', 'count', 'country'], dtype='object')\n",
      "\n",
      "Data types for babies-br.hdf:\n",
      "gender       category\n",
      "firstname      object\n",
      "year          float64\n",
      "count           int64\n",
      "country        object\n",
      "dtype: object\n",
      "\n",
      "Column names for babies-br.hdf:\n",
      "Index(['gender', 'firstname', 'year', 'count', 'country'], dtype='object')\n",
      "\n",
      "Data types for babies-us.hdf:\n",
      "gender       category\n",
      "firstname      object\n",
      "year          float64\n",
      "count           int64\n",
      "country        object\n",
      "dtype: object\n",
      "\n",
      "Column names for babies-us.hdf:\n",
      "Index(['gender', 'firstname', 'year', 'count', 'country'], dtype='object')\n",
      "\n",
      "Data types for babies-ew.hdf:\n",
      "gender       category\n",
      "firstname      object\n",
      "year          float64\n",
      "count           int64\n",
      "country        object\n",
      "dtype: object\n",
      "\n",
      "Column names for babies-ew.hdf:\n",
      "Index(['gender', 'firstname', 'year', 'count', 'country'], dtype='object')\n"
     ]
    }
   ],
   "source": [
    "# Reload the dataframes\n",
    "try:\n",
    "    df_fr = pd.read_hdf('babies-fr.hdf')\n",
    "    print('babies-fr.hdf was loaded successfully')\n",
    "except FileNotFoundError:\n",
    "    print('babies-fr.hdf was not found')\n",
    "\n",
    "try:\n",
    "    df_us = pd.read_hdf('babies-us.hdf')\n",
    "    print('babies-us.hdf was loaded successfully')\n",
    "except FileNotFoundError:\n",
    "    print('babies-us.hdf was not found')\n",
    "\n",
    "try:\n",
    "    df_total = pd.read_hdf('babies-ew.hdf')\n",
    "    print('babies-ew.hdf was loaded successfully')\n",
    "except FileNotFoundError:\n",
    "    print('babies-ew.hdf was not found')\n",
    "    \n",
    "try:\n",
    "    df_br = pd.read_hdf('babies-br.hdf')\n",
    "    print('babies-br.hdf was loaded successfully')\n",
    "except FileNotFoundError:\n",
    "    print('babies-br.hdf was not found')\n",
    "\n",
    "# Check the types and column names\n",
    "print('\\nData types for babies-fr.hdf:')\n",
    "print(df_fr.dtypes)\n",
    "print('\\nColumn names for babies-fr.hdf:')\n",
    "print(df_fr.columns)\n",
    "\n",
    "print('\\nData types for babies-br.hdf:')\n",
    "print(df_br.dtypes)\n",
    "print('\\nColumn names for babies-br.hdf:')\n",
    "print(df_br.columns)\n",
    "\n",
    "print('\\nData types for babies-us.hdf:')\n",
    "print(df_us.dtypes)\n",
    "print('\\nColumn names for babies-us.hdf:')\n",
    "print(df_us.columns)\n",
    "\n",
    "print('\\nData types for babies-ew.hdf:')\n",
    "print(df_total.dtypes)\n",
    "print('\\nColumn names for babies-ew.hdf:')\n",
    "print(df_total.columns)"
   ]
  },
  {
   "cell_type": "markdown",
   "metadata": {
    "nteract": {
     "transient": {
      "deleting": false
     }
    }
   },
   "source": [
    "## Some data \"analytics\" and visualization\n",
    "\n",
    "**QUESTION**: For each year, compute the total number of Female and Male births and the proportion of Female  births among total births\n",
    "\n",
    "__Hints:__\n",
    "\n",
    "- Groupby operations using several columns for the groups return a dataframe with a `MultiIndex` index see [Pandas advanced](https://pandas.pydata.org/pandas-docs/stable/user_guide/advanced.html)\n",
    "\n",
    "- Have a look at `MultiIndex`, `reset_index`, `pivot`, `columns.droplevel`"
   ]
  },
  {
   "cell_type": "code",
   "execution_count": 58,
   "metadata": {
    "ExecuteTime": {
     "end_time": "2021-02-03T09:58:52.268127Z",
     "start_time": "2021-02-03T09:58:52.265556Z"
    },
    "jupyter": {
     "outputs_hidden": false
    },
    "nteract": {
     "transient": {
      "deleting": false
     }
    }
   },
   "outputs": [
    {
     "name": "stdout",
     "output_type": "stream",
     "text": [
      "gender\n",
      "Female                 int64\n",
      "Male                   int64\n",
      "total                  int64\n",
      "proportion_female    float64\n",
      "dtype: object\n"
     ]
    },
    {
     "data": {
      "text/html": [
       "<style type=\"text/css\">\n",
       "</style>\n",
       "<table id=\"T_55e03\">\n",
       "  <thead>\n",
       "    <tr>\n",
       "      <th class=\"index_name level0\" >gender</th>\n",
       "      <th id=\"T_55e03_level0_col0\" class=\"col_heading level0 col0\" >Female</th>\n",
       "      <th id=\"T_55e03_level0_col1\" class=\"col_heading level0 col1\" >Male</th>\n",
       "      <th id=\"T_55e03_level0_col2\" class=\"col_heading level0 col2\" >total</th>\n",
       "      <th id=\"T_55e03_level0_col3\" class=\"col_heading level0 col3\" >proportion_female</th>\n",
       "    </tr>\n",
       "  </thead>\n",
       "  <tbody>\n",
       "    <tr>\n",
       "      <th id=\"T_55e03_level0_row0\" class=\"row_heading level0 row0\" >0</th>\n",
       "      <td id=\"T_55e03_row0_col0\" class=\"data row0 col0\" >90994</td>\n",
       "      <td id=\"T_55e03_row0_col1\" class=\"data row0 col1\" >110490</td>\n",
       "      <td id=\"T_55e03_row0_col2\" class=\"data row0 col2\" >201484</td>\n",
       "      <td id=\"T_55e03_row0_col3\" class=\"data row0 col3\" >45.16 %</td>\n",
       "    </tr>\n",
       "    <tr>\n",
       "      <th id=\"T_55e03_level0_row1\" class=\"row_heading level0 row1\" >1</th>\n",
       "      <td id=\"T_55e03_row1_col0\" class=\"data row1 col0\" >91953</td>\n",
       "      <td id=\"T_55e03_row1_col1\" class=\"data row1 col1\" >100737</td>\n",
       "      <td id=\"T_55e03_row1_col2\" class=\"data row1 col2\" >192690</td>\n",
       "      <td id=\"T_55e03_row1_col3\" class=\"data row1 col3\" >47.72 %</td>\n",
       "    </tr>\n",
       "    <tr>\n",
       "      <th id=\"T_55e03_level0_row2\" class=\"row_heading level0 row2\" >2</th>\n",
       "      <td id=\"T_55e03_row2_col0\" class=\"data row2 col0\" >107847</td>\n",
       "      <td id=\"T_55e03_row2_col1\" class=\"data row2 col1\" >113686</td>\n",
       "      <td id=\"T_55e03_row2_col2\" class=\"data row2 col2\" >221533</td>\n",
       "      <td id=\"T_55e03_row2_col3\" class=\"data row2 col3\" >48.68 %</td>\n",
       "    </tr>\n",
       "    <tr>\n",
       "      <th id=\"T_55e03_level0_row3\" class=\"row_heading level0 row3\" >3</th>\n",
       "      <td id=\"T_55e03_row3_col0\" class=\"data row3 col0\" >112319</td>\n",
       "      <td id=\"T_55e03_row3_col1\" class=\"data row3 col1\" >104625</td>\n",
       "      <td id=\"T_55e03_row3_col2\" class=\"data row3 col2\" >216944</td>\n",
       "      <td id=\"T_55e03_row3_col3\" class=\"data row3 col3\" >51.77 %</td>\n",
       "    </tr>\n",
       "    <tr>\n",
       "      <th id=\"T_55e03_level0_row4\" class=\"row_heading level0 row4\" >4</th>\n",
       "      <td id=\"T_55e03_row4_col0\" class=\"data row4 col0\" >129019</td>\n",
       "      <td id=\"T_55e03_row4_col1\" class=\"data row4 col1\" >114442</td>\n",
       "      <td id=\"T_55e03_row4_col2\" class=\"data row4 col2\" >243461</td>\n",
       "      <td id=\"T_55e03_row4_col3\" class=\"data row4 col3\" >52.99 %</td>\n",
       "    </tr>\n",
       "    <tr>\n",
       "      <th id=\"T_55e03_level0_row5\" class=\"row_heading level0 row5\" >5</th>\n",
       "      <td id=\"T_55e03_row5_col0\" class=\"data row5 col0\" >133055</td>\n",
       "      <td id=\"T_55e03_row5_col1\" class=\"data row5 col1\" >107799</td>\n",
       "      <td id=\"T_55e03_row5_col2\" class=\"data row5 col2\" >240854</td>\n",
       "      <td id=\"T_55e03_row5_col3\" class=\"data row5 col3\" >55.24 %</td>\n",
       "    </tr>\n",
       "    <tr>\n",
       "      <th id=\"T_55e03_level0_row6\" class=\"row_heading level0 row6\" >6</th>\n",
       "      <td id=\"T_55e03_row6_col0\" class=\"data row6 col0\" >144533</td>\n",
       "      <td id=\"T_55e03_row6_col1\" class=\"data row6 col1\" >110784</td>\n",
       "      <td id=\"T_55e03_row6_col2\" class=\"data row6 col2\" >255317</td>\n",
       "      <td id=\"T_55e03_row6_col3\" class=\"data row6 col3\" >56.61 %</td>\n",
       "    </tr>\n",
       "    <tr>\n",
       "      <th id=\"T_55e03_level0_row7\" class=\"row_heading level0 row7\" >7</th>\n",
       "      <td id=\"T_55e03_row7_col0\" class=\"data row7 col0\" >145982</td>\n",
       "      <td id=\"T_55e03_row7_col1\" class=\"data row7 col1\" >101411</td>\n",
       "      <td id=\"T_55e03_row7_col2\" class=\"data row7 col2\" >247393</td>\n",
       "      <td id=\"T_55e03_row7_col3\" class=\"data row7 col3\" >59.01 %</td>\n",
       "    </tr>\n",
       "    <tr>\n",
       "      <th id=\"T_55e03_level0_row8\" class=\"row_heading level0 row8\" >8</th>\n",
       "      <td id=\"T_55e03_row8_col0\" class=\"data row8 col0\" >178622</td>\n",
       "      <td id=\"T_55e03_row8_col1\" class=\"data row8 col1\" >120851</td>\n",
       "      <td id=\"T_55e03_row8_col2\" class=\"data row8 col2\" >299473</td>\n",
       "      <td id=\"T_55e03_row8_col3\" class=\"data row8 col3\" >59.65 %</td>\n",
       "    </tr>\n",
       "    <tr>\n",
       "      <th id=\"T_55e03_level0_row9\" class=\"row_heading level0 row9\" >9</th>\n",
       "      <td id=\"T_55e03_row9_col0\" class=\"data row9 col0\" >178366</td>\n",
       "      <td id=\"T_55e03_row9_col1\" class=\"data row9 col1\" >110580</td>\n",
       "      <td id=\"T_55e03_row9_col2\" class=\"data row9 col2\" >288946</td>\n",
       "      <td id=\"T_55e03_row9_col3\" class=\"data row9 col3\" >61.73 %</td>\n",
       "    </tr>\n",
       "    <tr>\n",
       "      <th id=\"T_55e03_level0_row10\" class=\"row_heading level0 row10\" >10</th>\n",
       "      <td id=\"T_55e03_row10_col0\" class=\"data row10 col0\" >190377</td>\n",
       "      <td id=\"T_55e03_row10_col1\" class=\"data row10 col1\" >111024</td>\n",
       "      <td id=\"T_55e03_row10_col2\" class=\"data row10 col2\" >301401</td>\n",
       "      <td id=\"T_55e03_row10_col3\" class=\"data row10 col3\" >63.16 %</td>\n",
       "    </tr>\n",
       "    <tr>\n",
       "      <th id=\"T_55e03_level0_row11\" class=\"row_heading level0 row11\" >11</th>\n",
       "      <td id=\"T_55e03_row11_col0\" class=\"data row11 col0\" >185480</td>\n",
       "      <td id=\"T_55e03_row11_col1\" class=\"data row11 col1\" >101191</td>\n",
       "      <td id=\"T_55e03_row11_col2\" class=\"data row11 col2\" >286671</td>\n",
       "      <td id=\"T_55e03_row11_col3\" class=\"data row11 col3\" >64.70 %</td>\n",
       "    </tr>\n",
       "    <tr>\n",
       "      <th id=\"T_55e03_level0_row12\" class=\"row_heading level0 row12\" >12</th>\n",
       "      <td id=\"T_55e03_row12_col0\" class=\"data row12 col0\" >212339</td>\n",
       "      <td id=\"T_55e03_row12_col1\" class=\"data row12 col1\" >122035</td>\n",
       "      <td id=\"T_55e03_row12_col2\" class=\"data row12 col2\" >334374</td>\n",
       "      <td id=\"T_55e03_row12_col3\" class=\"data row12 col3\" >63.50 %</td>\n",
       "    </tr>\n",
       "    <tr>\n",
       "      <th id=\"T_55e03_level0_row13\" class=\"row_heading level0 row13\" >13</th>\n",
       "      <td id=\"T_55e03_row13_col0\" class=\"data row13 col0\" >212905</td>\n",
       "      <td id=\"T_55e03_row13_col1\" class=\"data row13 col1\" >112319</td>\n",
       "      <td id=\"T_55e03_row13_col2\" class=\"data row13 col2\" >325224</td>\n",
       "      <td id=\"T_55e03_row13_col3\" class=\"data row13 col3\" >65.46 %</td>\n",
       "    </tr>\n",
       "    <tr>\n",
       "      <th id=\"T_55e03_level0_row14\" class=\"row_heading level0 row14\" >14</th>\n",
       "      <td id=\"T_55e03_row14_col0\" class=\"data row14 col0\" >222922</td>\n",
       "      <td id=\"T_55e03_row14_col1\" class=\"data row14 col1\" >115769</td>\n",
       "      <td id=\"T_55e03_row14_col2\" class=\"data row14 col2\" >338691</td>\n",
       "      <td id=\"T_55e03_row14_col3\" class=\"data row14 col3\" >65.82 %</td>\n",
       "    </tr>\n",
       "    <tr>\n",
       "      <th id=\"T_55e03_level0_row15\" class=\"row_heading level0 row15\" >15</th>\n",
       "      <td id=\"T_55e03_row15_col0\" class=\"data row15 col0\" >233627</td>\n",
       "      <td id=\"T_55e03_row15_col1\" class=\"data row15 col1\" >117394</td>\n",
       "      <td id=\"T_55e03_row15_col2\" class=\"data row15 col2\" >351021</td>\n",
       "      <td id=\"T_55e03_row15_col3\" class=\"data row15 col3\" >66.56 %</td>\n",
       "    </tr>\n",
       "    <tr>\n",
       "      <th id=\"T_55e03_level0_row16\" class=\"row_heading level0 row16\" >16</th>\n",
       "      <td id=\"T_55e03_row16_col0\" class=\"data row16 col0\" >237918</td>\n",
       "      <td id=\"T_55e03_row16_col1\" class=\"data row16 col1\" >119566</td>\n",
       "      <td id=\"T_55e03_row16_col2\" class=\"data row16 col2\" >357484</td>\n",
       "      <td id=\"T_55e03_row16_col3\" class=\"data row16 col3\" >66.55 %</td>\n",
       "    </tr>\n",
       "    <tr>\n",
       "      <th id=\"T_55e03_level0_row17\" class=\"row_heading level0 row17\" >17</th>\n",
       "      <td id=\"T_55e03_row17_col0\" class=\"data row17 col0\" >234200</td>\n",
       "      <td id=\"T_55e03_row17_col1\" class=\"data row17 col1\" >112757</td>\n",
       "      <td id=\"T_55e03_row17_col2\" class=\"data row17 col2\" >346957</td>\n",
       "      <td id=\"T_55e03_row17_col3\" class=\"data row17 col3\" >67.50 %</td>\n",
       "    </tr>\n",
       "    <tr>\n",
       "      <th id=\"T_55e03_level0_row18\" class=\"row_heading level0 row18\" >18</th>\n",
       "      <td id=\"T_55e03_row18_col0\" class=\"data row18 col0\" >258770</td>\n",
       "      <td id=\"T_55e03_row18_col1\" class=\"data row18 col1\" >122686</td>\n",
       "      <td id=\"T_55e03_row18_col2\" class=\"data row18 col2\" >381456</td>\n",
       "      <td id=\"T_55e03_row18_col3\" class=\"data row18 col3\" >67.84 %</td>\n",
       "    </tr>\n",
       "    <tr>\n",
       "      <th id=\"T_55e03_level0_row19\" class=\"row_heading level0 row19\" >19</th>\n",
       "      <td id=\"T_55e03_row19_col0\" class=\"data row19 col0\" >233022</td>\n",
       "      <td id=\"T_55e03_row19_col1\" class=\"data row19 col1\" >106210</td>\n",
       "      <td id=\"T_55e03_row19_col2\" class=\"data row19 col2\" >339232</td>\n",
       "      <td id=\"T_55e03_row19_col3\" class=\"data row19 col3\" >68.69 %</td>\n",
       "    </tr>\n",
       "    <tr>\n",
       "      <th id=\"T_55e03_level0_row20\" class=\"row_heading level0 row20\" >20</th>\n",
       "      <td id=\"T_55e03_row20_col0\" class=\"data row20 col0\" >537446</td>\n",
       "      <td id=\"T_55e03_row20_col1\" class=\"data row20 col1\" >327864</td>\n",
       "      <td id=\"T_55e03_row20_col2\" class=\"data row20 col2\" >865310</td>\n",
       "      <td id=\"T_55e03_row20_col3\" class=\"data row20 col3\" >62.11 %</td>\n",
       "    </tr>\n",
       "    <tr>\n",
       "      <th id=\"T_55e03_level0_row21\" class=\"row_heading level0 row21\" >21</th>\n",
       "      <td id=\"T_55e03_row21_col0\" class=\"data row21 col0\" >496837</td>\n",
       "      <td id=\"T_55e03_row21_col1\" class=\"data row21 col1\" >302431</td>\n",
       "      <td id=\"T_55e03_row21_col2\" class=\"data row21 col2\" >799268</td>\n",
       "      <td id=\"T_55e03_row21_col3\" class=\"data row21 col3\" >62.16 %</td>\n",
       "    </tr>\n",
       "    <tr>\n",
       "      <th id=\"T_55e03_level0_row22\" class=\"row_heading level0 row22\" >22</th>\n",
       "      <td id=\"T_55e03_row22_col0\" class=\"data row22 col0\" >525512</td>\n",
       "      <td id=\"T_55e03_row22_col1\" class=\"data row22 col1\" >327012</td>\n",
       "      <td id=\"T_55e03_row22_col2\" class=\"data row22 col2\" >852524</td>\n",
       "      <td id=\"T_55e03_row22_col3\" class=\"data row22 col3\" >61.64 %</td>\n",
       "    </tr>\n",
       "    <tr>\n",
       "      <th id=\"T_55e03_level0_row23\" class=\"row_heading level0 row23\" >23</th>\n",
       "      <td id=\"T_55e03_row23_col0\" class=\"data row23 col0\" >523420</td>\n",
       "      <td id=\"T_55e03_row23_col1\" class=\"data row23 col1\" >326591</td>\n",
       "      <td id=\"T_55e03_row23_col2\" class=\"data row23 col2\" >850011</td>\n",
       "      <td id=\"T_55e03_row23_col3\" class=\"data row23 col3\" >61.58 %</td>\n",
       "    </tr>\n",
       "    <tr>\n",
       "      <th id=\"T_55e03_level0_row24\" class=\"row_heading level0 row24\" >24</th>\n",
       "      <td id=\"T_55e03_row24_col0\" class=\"data row24 col0\" >540184</td>\n",
       "      <td id=\"T_55e03_row24_col1\" class=\"data row24 col1\" >342264</td>\n",
       "      <td id=\"T_55e03_row24_col2\" class=\"data row24 col2\" >882448</td>\n",
       "      <td id=\"T_55e03_row24_col3\" class=\"data row24 col3\" >61.21 %</td>\n",
       "    </tr>\n",
       "    <tr>\n",
       "      <th id=\"T_55e03_level0_row25\" class=\"row_heading level0 row25\" >25</th>\n",
       "      <td id=\"T_55e03_row25_col0\" class=\"data row25 col0\" >559255</td>\n",
       "      <td id=\"T_55e03_row25_col1\" class=\"data row25 col1\" >354368</td>\n",
       "      <td id=\"T_55e03_row25_col2\" class=\"data row25 col2\" >913623</td>\n",
       "      <td id=\"T_55e03_row25_col3\" class=\"data row25 col3\" >61.21 %</td>\n",
       "    </tr>\n",
       "    <tr>\n",
       "      <th id=\"T_55e03_level0_row26\" class=\"row_heading level0 row26\" >26</th>\n",
       "      <td id=\"T_55e03_row26_col0\" class=\"data row26 col0\" >568340</td>\n",
       "      <td id=\"T_55e03_row26_col1\" class=\"data row26 col1\" >361859</td>\n",
       "      <td id=\"T_55e03_row26_col2\" class=\"data row26 col2\" >930199</td>\n",
       "      <td id=\"T_55e03_row26_col3\" class=\"data row26 col3\" >61.10 %</td>\n",
       "    </tr>\n",
       "    <tr>\n",
       "      <th id=\"T_55e03_level0_row27\" class=\"row_heading level0 row27\" >27</th>\n",
       "      <td id=\"T_55e03_row27_col0\" class=\"data row27 col0\" >589063</td>\n",
       "      <td id=\"T_55e03_row27_col1\" class=\"data row27 col1\" >377354</td>\n",
       "      <td id=\"T_55e03_row27_col2\" class=\"data row27 col2\" >966417</td>\n",
       "      <td id=\"T_55e03_row27_col3\" class=\"data row27 col3\" >60.95 %</td>\n",
       "    </tr>\n",
       "    <tr>\n",
       "      <th id=\"T_55e03_level0_row28\" class=\"row_heading level0 row28\" >28</th>\n",
       "      <td id=\"T_55e03_row28_col0\" class=\"data row28 col0\" >616113</td>\n",
       "      <td id=\"T_55e03_row28_col1\" class=\"data row28 col1\" >398028</td>\n",
       "      <td id=\"T_55e03_row28_col2\" class=\"data row28 col2\" >1014141</td>\n",
       "      <td id=\"T_55e03_row28_col3\" class=\"data row28 col3\" >60.75 %</td>\n",
       "    </tr>\n",
       "    <tr>\n",
       "      <th id=\"T_55e03_level0_row29\" class=\"row_heading level0 row29\" >29</th>\n",
       "      <td id=\"T_55e03_row29_col0\" class=\"data row29 col0\" >627469</td>\n",
       "      <td id=\"T_55e03_row29_col1\" class=\"data row29 col1\" >409988</td>\n",
       "      <td id=\"T_55e03_row29_col2\" class=\"data row29 col2\" >1037457</td>\n",
       "      <td id=\"T_55e03_row29_col3\" class=\"data row29 col3\" >60.48 %</td>\n",
       "    </tr>\n",
       "    <tr>\n",
       "      <th id=\"T_55e03_level0_row30\" class=\"row_heading level0 row30\" >30</th>\n",
       "      <td id=\"T_55e03_row30_col0\" class=\"data row30 col0\" >679832</td>\n",
       "      <td id=\"T_55e03_row30_col1\" class=\"data row30 col1\" >446277</td>\n",
       "      <td id=\"T_55e03_row30_col2\" class=\"data row30 col2\" >1126109</td>\n",
       "      <td id=\"T_55e03_row30_col3\" class=\"data row30 col3\" >60.37 %</td>\n",
       "    </tr>\n",
       "    <tr>\n",
       "      <th id=\"T_55e03_level0_row31\" class=\"row_heading level0 row31\" >31</th>\n",
       "      <td id=\"T_55e03_row31_col0\" class=\"data row31 col0\" >689887</td>\n",
       "      <td id=\"T_55e03_row31_col1\" class=\"data row31 col1\" >469009</td>\n",
       "      <td id=\"T_55e03_row31_col2\" class=\"data row31 col2\" >1158896</td>\n",
       "      <td id=\"T_55e03_row31_col3\" class=\"data row31 col3\" >59.53 %</td>\n",
       "    </tr>\n",
       "    <tr>\n",
       "      <th id=\"T_55e03_level0_row32\" class=\"row_heading level0 row32\" >32</th>\n",
       "      <td id=\"T_55e03_row32_col0\" class=\"data row32 col0\" >844069</td>\n",
       "      <td id=\"T_55e03_row32_col1\" class=\"data row32 col1\" >689885</td>\n",
       "      <td id=\"T_55e03_row32_col2\" class=\"data row32 col2\" >1533954</td>\n",
       "      <td id=\"T_55e03_row32_col3\" class=\"data row32 col3\" >55.03 %</td>\n",
       "    </tr>\n",
       "    <tr>\n",
       "      <th id=\"T_55e03_level0_row33\" class=\"row_heading level0 row33\" >33</th>\n",
       "      <td id=\"T_55e03_row33_col0\" class=\"data row33 col0\" >911004</td>\n",
       "      <td id=\"T_55e03_row33_col1\" class=\"data row33 col1\" >773879</td>\n",
       "      <td id=\"T_55e03_row33_col2\" class=\"data row33 col2\" >1684883</td>\n",
       "      <td id=\"T_55e03_row33_col3\" class=\"data row33 col3\" >54.07 %</td>\n",
       "    </tr>\n",
       "    <tr>\n",
       "      <th id=\"T_55e03_level0_row34\" class=\"row_heading level0 row34\" >34</th>\n",
       "      <td id=\"T_55e03_row34_col0\" class=\"data row34 col0\" >1043931</td>\n",
       "      <td id=\"T_55e03_row34_col1\" class=\"data row34 col1\" >911326</td>\n",
       "      <td id=\"T_55e03_row34_col2\" class=\"data row34 col2\" >1955257</td>\n",
       "      <td id=\"T_55e03_row34_col3\" class=\"data row34 col3\" >53.39 %</td>\n",
       "    </tr>\n",
       "    <tr>\n",
       "      <th id=\"T_55e03_level0_row35\" class=\"row_heading level0 row35\" >35</th>\n",
       "      <td id=\"T_55e03_row35_col0\" class=\"data row35 col0\" >1166176</td>\n",
       "      <td id=\"T_55e03_row35_col1\" class=\"data row35 col1\" >1017655</td>\n",
       "      <td id=\"T_55e03_row35_col2\" class=\"data row35 col2\" >2183831</td>\n",
       "      <td id=\"T_55e03_row35_col3\" class=\"data row35 col3\" >53.40 %</td>\n",
       "    </tr>\n",
       "    <tr>\n",
       "      <th id=\"T_55e03_level0_row36\" class=\"row_heading level0 row36\" >36</th>\n",
       "      <td id=\"T_55e03_row36_col0\" class=\"data row36 col0\" >1190470</td>\n",
       "      <td id=\"T_55e03_row36_col1\" class=\"data row36 col1\" >1026455</td>\n",
       "      <td id=\"T_55e03_row36_col2\" class=\"data row36 col2\" >2216925</td>\n",
       "      <td id=\"T_55e03_row36_col3\" class=\"data row36 col3\" >53.70 %</td>\n",
       "    </tr>\n",
       "    <tr>\n",
       "      <th id=\"T_55e03_level0_row37\" class=\"row_heading level0 row37\" >37</th>\n",
       "      <td id=\"T_55e03_row37_col0\" class=\"data row37 col0\" >1239305</td>\n",
       "      <td id=\"T_55e03_row37_col1\" class=\"data row37 col1\" >1073811</td>\n",
       "      <td id=\"T_55e03_row37_col2\" class=\"data row37 col2\" >2313116</td>\n",
       "      <td id=\"T_55e03_row37_col3\" class=\"data row37 col3\" >53.58 %</td>\n",
       "    </tr>\n",
       "    <tr>\n",
       "      <th id=\"T_55e03_level0_row38\" class=\"row_heading level0 row38\" >38</th>\n",
       "      <td id=\"T_55e03_row38_col0\" class=\"data row38 col0\" >1336177</td>\n",
       "      <td id=\"T_55e03_row38_col1\" class=\"data row38 col1\" >1183461</td>\n",
       "      <td id=\"T_55e03_row38_col2\" class=\"data row38 col2\" >2519638</td>\n",
       "      <td id=\"T_55e03_row38_col3\" class=\"data row38 col3\" >53.03 %</td>\n",
       "    </tr>\n",
       "    <tr>\n",
       "      <th id=\"T_55e03_level0_row39\" class=\"row_heading level0 row39\" >39</th>\n",
       "      <td id=\"T_55e03_row39_col0\" class=\"data row39 col0\" >1327050</td>\n",
       "      <td id=\"T_55e03_row39_col1\" class=\"data row39 col1\" >1168730</td>\n",
       "      <td id=\"T_55e03_row39_col2\" class=\"data row39 col2\" >2495780</td>\n",
       "      <td id=\"T_55e03_row39_col3\" class=\"data row39 col3\" >53.17 %</td>\n",
       "    </tr>\n",
       "    <tr>\n",
       "      <th id=\"T_55e03_level0_row40\" class=\"row_heading level0 row40\" >40</th>\n",
       "      <td id=\"T_55e03_row40_col0\" class=\"data row40 col0\" >1528583</td>\n",
       "      <td id=\"T_55e03_row40_col1\" class=\"data row40 col1\" >1382396</td>\n",
       "      <td id=\"T_55e03_row40_col2\" class=\"data row40 col2\" >2910979</td>\n",
       "      <td id=\"T_55e03_row40_col3\" class=\"data row40 col3\" >52.51 %</td>\n",
       "    </tr>\n",
       "    <tr>\n",
       "      <th id=\"T_55e03_level0_row41\" class=\"row_heading level0 row41\" >41</th>\n",
       "      <td id=\"T_55e03_row41_col0\" class=\"data row41 col0\" >1559108</td>\n",
       "      <td id=\"T_55e03_row41_col1\" class=\"data row41 col1\" >1411934</td>\n",
       "      <td id=\"T_55e03_row41_col2\" class=\"data row41 col2\" >2971042</td>\n",
       "      <td id=\"T_55e03_row41_col3\" class=\"data row41 col3\" >52.48 %</td>\n",
       "    </tr>\n",
       "    <tr>\n",
       "      <th id=\"T_55e03_level0_row42\" class=\"row_heading level0 row42\" >42</th>\n",
       "      <td id=\"T_55e03_row42_col0\" class=\"data row42 col0\" >1513052</td>\n",
       "      <td id=\"T_55e03_row42_col1\" class=\"data row42 col1\" >1386296</td>\n",
       "      <td id=\"T_55e03_row42_col2\" class=\"data row42 col2\" >2899348</td>\n",
       "      <td id=\"T_55e03_row42_col3\" class=\"data row42 col3\" >52.19 %</td>\n",
       "    </tr>\n",
       "    <tr>\n",
       "      <th id=\"T_55e03_level0_row43\" class=\"row_heading level0 row43\" >43</th>\n",
       "      <td id=\"T_55e03_row43_col0\" class=\"data row43 col0\" >1520633</td>\n",
       "      <td id=\"T_55e03_row43_col1\" class=\"data row43 col1\" >1398204</td>\n",
       "      <td id=\"T_55e03_row43_col2\" class=\"data row43 col2\" >2918837</td>\n",
       "      <td id=\"T_55e03_row43_col3\" class=\"data row43 col3\" >52.10 %</td>\n",
       "    </tr>\n",
       "    <tr>\n",
       "      <th id=\"T_55e03_level0_row44\" class=\"row_heading level0 row44\" >44</th>\n",
       "      <td id=\"T_55e03_row44_col0\" class=\"data row44 col0\" >1565040</td>\n",
       "      <td id=\"T_55e03_row44_col1\" class=\"data row44 col1\" >1436390</td>\n",
       "      <td id=\"T_55e03_row44_col2\" class=\"data row44 col2\" >3001430</td>\n",
       "      <td id=\"T_55e03_row44_col3\" class=\"data row44 col3\" >52.14 %</td>\n",
       "    </tr>\n",
       "    <tr>\n",
       "      <th id=\"T_55e03_level0_row45\" class=\"row_heading level0 row45\" >45</th>\n",
       "      <td id=\"T_55e03_row45_col0\" class=\"data row45 col0\" >1541581</td>\n",
       "      <td id=\"T_55e03_row45_col1\" class=\"data row45 col1\" >1429672</td>\n",
       "      <td id=\"T_55e03_row45_col2\" class=\"data row45 col2\" >2971253</td>\n",
       "      <td id=\"T_55e03_row45_col3\" class=\"data row45 col3\" >51.88 %</td>\n",
       "    </tr>\n",
       "    <tr>\n",
       "      <th id=\"T_55e03_level0_row46\" class=\"row_heading level0 row46\" >46</th>\n",
       "      <td id=\"T_55e03_row46_col0\" class=\"data row46 col0\" >1510132</td>\n",
       "      <td id=\"T_55e03_row46_col1\" class=\"data row46 col1\" >1425590</td>\n",
       "      <td id=\"T_55e03_row46_col2\" class=\"data row46 col2\" >2935722</td>\n",
       "      <td id=\"T_55e03_row46_col3\" class=\"data row46 col3\" >51.44 %</td>\n",
       "    </tr>\n",
       "    <tr>\n",
       "      <th id=\"T_55e03_level0_row47\" class=\"row_heading level0 row47\" >47</th>\n",
       "      <td id=\"T_55e03_row47_col0\" class=\"data row47 col0\" >1512104</td>\n",
       "      <td id=\"T_55e03_row47_col1\" class=\"data row47 col1\" >1440441</td>\n",
       "      <td id=\"T_55e03_row47_col2\" class=\"data row47 col2\" >2952545</td>\n",
       "      <td id=\"T_55e03_row47_col3\" class=\"data row47 col3\" >51.21 %</td>\n",
       "    </tr>\n",
       "    <tr>\n",
       "      <th id=\"T_55e03_level0_row48\" class=\"row_heading level0 row48\" >48</th>\n",
       "      <td id=\"T_55e03_row48_col0\" class=\"data row48 col0\" >1474360</td>\n",
       "      <td id=\"T_55e03_row48_col1\" class=\"data row48 col1\" >1424919</td>\n",
       "      <td id=\"T_55e03_row48_col2\" class=\"data row48 col2\" >2899279</td>\n",
       "      <td id=\"T_55e03_row48_col3\" class=\"data row48 col3\" >50.85 %</td>\n",
       "    </tr>\n",
       "    <tr>\n",
       "      <th id=\"T_55e03_level0_row49\" class=\"row_heading level0 row49\" >49</th>\n",
       "      <td id=\"T_55e03_row49_col0\" class=\"data row49 col0\" >1432409</td>\n",
       "      <td id=\"T_55e03_row49_col1\" class=\"data row49 col1\" >1389056</td>\n",
       "      <td id=\"T_55e03_row49_col2\" class=\"data row49 col2\" >2821465</td>\n",
       "      <td id=\"T_55e03_row49_col3\" class=\"data row49 col3\" >50.77 %</td>\n",
       "    </tr>\n",
       "    <tr>\n",
       "      <th id=\"T_55e03_level0_row50\" class=\"row_heading level0 row50\" >50</th>\n",
       "      <td id=\"T_55e03_row50_col0\" class=\"data row50 col0\" >1456236</td>\n",
       "      <td id=\"T_55e03_row50_col1\" class=\"data row50 col1\" >1424235</td>\n",
       "      <td id=\"T_55e03_row50_col2\" class=\"data row50 col2\" >2880471</td>\n",
       "      <td id=\"T_55e03_row50_col3\" class=\"data row50 col3\" >50.56 %</td>\n",
       "    </tr>\n",
       "    <tr>\n",
       "      <th id=\"T_55e03_level0_row51\" class=\"row_heading level0 row51\" >51</th>\n",
       "      <td id=\"T_55e03_row51_col0\" class=\"data row51 col0\" >1391175</td>\n",
       "      <td id=\"T_55e03_row51_col1\" class=\"data row51 col1\" >1363167</td>\n",
       "      <td id=\"T_55e03_row51_col2\" class=\"data row51 col2\" >2754342</td>\n",
       "      <td id=\"T_55e03_row51_col3\" class=\"data row51 col3\" >50.51 %</td>\n",
       "    </tr>\n",
       "    <tr>\n",
       "      <th id=\"T_55e03_level0_row52\" class=\"row_heading level0 row52\" >52</th>\n",
       "      <td id=\"T_55e03_row52_col0\" class=\"data row52 col0\" >1389863</td>\n",
       "      <td id=\"T_55e03_row52_col1\" class=\"data row52 col1\" >1364209</td>\n",
       "      <td id=\"T_55e03_row52_col2\" class=\"data row52 col2\" >2754072</td>\n",
       "      <td id=\"T_55e03_row52_col3\" class=\"data row52 col3\" >50.47 %</td>\n",
       "    </tr>\n",
       "    <tr>\n",
       "      <th id=\"T_55e03_level0_row53\" class=\"row_heading level0 row53\" >53</th>\n",
       "      <td id=\"T_55e03_row53_col0\" class=\"data row53 col0\" >1313767</td>\n",
       "      <td id=\"T_55e03_row53_col1\" class=\"data row53 col1\" >1295111</td>\n",
       "      <td id=\"T_55e03_row53_col2\" class=\"data row53 col2\" >2608878</td>\n",
       "      <td id=\"T_55e03_row53_col3\" class=\"data row53 col3\" >50.36 %</td>\n",
       "    </tr>\n",
       "    <tr>\n",
       "      <th id=\"T_55e03_level0_row54\" class=\"row_heading level0 row54\" >54</th>\n",
       "      <td id=\"T_55e03_row54_col0\" class=\"data row54 col0\" >1351708</td>\n",
       "      <td id=\"T_55e03_row54_col1\" class=\"data row54 col1\" >1338039</td>\n",
       "      <td id=\"T_55e03_row54_col2\" class=\"data row54 col2\" >2689747</td>\n",
       "      <td id=\"T_55e03_row54_col3\" class=\"data row54 col3\" >50.25 %</td>\n",
       "    </tr>\n",
       "    <tr>\n",
       "      <th id=\"T_55e03_level0_row55\" class=\"row_heading level0 row55\" >55</th>\n",
       "      <td id=\"T_55e03_row55_col0\" class=\"data row55 col0\" >1342075</td>\n",
       "      <td id=\"T_55e03_row55_col1\" class=\"data row55 col1\" >1332121</td>\n",
       "      <td id=\"T_55e03_row55_col2\" class=\"data row55 col2\" >2674196</td>\n",
       "      <td id=\"T_55e03_row55_col3\" class=\"data row55 col3\" >50.19 %</td>\n",
       "    </tr>\n",
       "    <tr>\n",
       "      <th id=\"T_55e03_level0_row56\" class=\"row_heading level0 row56\" >56</th>\n",
       "      <td id=\"T_55e03_row56_col0\" class=\"data row56 col0\" >1330692</td>\n",
       "      <td id=\"T_55e03_row56_col1\" class=\"data row56 col1\" >1325532</td>\n",
       "      <td id=\"T_55e03_row56_col2\" class=\"data row56 col2\" >2656224</td>\n",
       "      <td id=\"T_55e03_row56_col3\" class=\"data row56 col3\" >50.10 %</td>\n",
       "    </tr>\n",
       "    <tr>\n",
       "      <th id=\"T_55e03_level0_row57\" class=\"row_heading level0 row57\" >57</th>\n",
       "      <td id=\"T_55e03_row57_col0\" class=\"data row57 col0\" >1349475</td>\n",
       "      <td id=\"T_55e03_row57_col1\" class=\"data row57 col1\" >1351672</td>\n",
       "      <td id=\"T_55e03_row57_col2\" class=\"data row57 col2\" >2701147</td>\n",
       "      <td id=\"T_55e03_row57_col3\" class=\"data row57 col3\" >49.96 %</td>\n",
       "    </tr>\n",
       "    <tr>\n",
       "      <th id=\"T_55e03_level0_row58\" class=\"row_heading level0 row58\" >58</th>\n",
       "      <td id=\"T_55e03_row58_col0\" class=\"data row58 col0\" >1386058</td>\n",
       "      <td id=\"T_55e03_row58_col1\" class=\"data row58 col1\" >1392015</td>\n",
       "      <td id=\"T_55e03_row58_col2\" class=\"data row58 col2\" >2778073</td>\n",
       "      <td id=\"T_55e03_row58_col3\" class=\"data row58 col3\" >49.89 %</td>\n",
       "    </tr>\n",
       "    <tr>\n",
       "      <th id=\"T_55e03_level0_row59\" class=\"row_heading level0 row59\" >59</th>\n",
       "      <td id=\"T_55e03_row59_col0\" class=\"data row59 col0\" >1380298</td>\n",
       "      <td id=\"T_55e03_row59_col1\" class=\"data row59 col1\" >1389478</td>\n",
       "      <td id=\"T_55e03_row59_col2\" class=\"data row59 col2\" >2769776</td>\n",
       "      <td id=\"T_55e03_row59_col3\" class=\"data row59 col3\" >49.83 %</td>\n",
       "    </tr>\n",
       "    <tr>\n",
       "      <th id=\"T_55e03_level0_row60\" class=\"row_heading level0 row60\" >60</th>\n",
       "      <td id=\"T_55e03_row60_col0\" class=\"data row60 col0\" >1400175</td>\n",
       "      <td id=\"T_55e03_row60_col1\" class=\"data row60 col1\" >1416655</td>\n",
       "      <td id=\"T_55e03_row60_col2\" class=\"data row60 col2\" >2816830</td>\n",
       "      <td id=\"T_55e03_row60_col3\" class=\"data row60 col3\" >49.71 %</td>\n",
       "    </tr>\n",
       "    <tr>\n",
       "      <th id=\"T_55e03_level0_row61\" class=\"row_heading level0 row61\" >61</th>\n",
       "      <td id=\"T_55e03_row61_col0\" class=\"data row61 col0\" >1449888</td>\n",
       "      <td id=\"T_55e03_row61_col1\" class=\"data row61 col1\" >1472570</td>\n",
       "      <td id=\"T_55e03_row61_col2\" class=\"data row61 col2\" >2922458</td>\n",
       "      <td id=\"T_55e03_row61_col3\" class=\"data row61 col3\" >49.61 %</td>\n",
       "    </tr>\n",
       "    <tr>\n",
       "      <th id=\"T_55e03_level0_row62\" class=\"row_heading level0 row62\" >62</th>\n",
       "      <td id=\"T_55e03_row62_col0\" class=\"data row62 col0\" >1615445</td>\n",
       "      <td id=\"T_55e03_row62_col1\" class=\"data row62 col1\" >1651668</td>\n",
       "      <td id=\"T_55e03_row62_col2\" class=\"data row62 col2\" >3267113</td>\n",
       "      <td id=\"T_55e03_row62_col3\" class=\"data row62 col3\" >49.45 %</td>\n",
       "    </tr>\n",
       "    <tr>\n",
       "      <th id=\"T_55e03_level0_row63\" class=\"row_heading level0 row63\" >63</th>\n",
       "      <td id=\"T_55e03_row63_col0\" class=\"data row63 col0\" >1680671</td>\n",
       "      <td id=\"T_55e03_row63_col1\" class=\"data row63 col1\" >1719326</td>\n",
       "      <td id=\"T_55e03_row63_col2\" class=\"data row63 col2\" >3399997</td>\n",
       "      <td id=\"T_55e03_row63_col3\" class=\"data row63 col3\" >49.43 %</td>\n",
       "    </tr>\n",
       "    <tr>\n",
       "      <th id=\"T_55e03_level0_row64\" class=\"row_heading level0 row64\" >64</th>\n",
       "      <td id=\"T_55e03_row64_col0\" class=\"data row64 col0\" >1616839</td>\n",
       "      <td id=\"T_55e03_row64_col1\" class=\"data row64 col1\" >1657156</td>\n",
       "      <td id=\"T_55e03_row64_col2\" class=\"data row64 col2\" >3273995</td>\n",
       "      <td id=\"T_55e03_row64_col3\" class=\"data row64 col3\" >49.38 %</td>\n",
       "    </tr>\n",
       "    <tr>\n",
       "      <th id=\"T_55e03_level0_row65\" class=\"row_heading level0 row65\" >65</th>\n",
       "      <td id=\"T_55e03_row65_col0\" class=\"data row65 col0\" >1600339</td>\n",
       "      <td id=\"T_55e03_row65_col1\" class=\"data row65 col1\" >1644229</td>\n",
       "      <td id=\"T_55e03_row65_col2\" class=\"data row65 col2\" >3244568</td>\n",
       "      <td id=\"T_55e03_row65_col3\" class=\"data row65 col3\" >49.32 %</td>\n",
       "    </tr>\n",
       "    <tr>\n",
       "      <th id=\"T_55e03_level0_row66\" class=\"row_heading level0 row66\" >66</th>\n",
       "      <td id=\"T_55e03_row66_col0\" class=\"data row66 col0\" >1992919</td>\n",
       "      <td id=\"T_55e03_row66_col1\" class=\"data row66 col1\" >2068480</td>\n",
       "      <td id=\"T_55e03_row66_col2\" class=\"data row66 col2\" >4061399</td>\n",
       "      <td id=\"T_55e03_row66_col3\" class=\"data row66 col3\" >49.07 %</td>\n",
       "    </tr>\n",
       "    <tr>\n",
       "      <th id=\"T_55e03_level0_row67\" class=\"row_heading level0 row67\" >67</th>\n",
       "      <td id=\"T_55e03_row67_col0\" class=\"data row67 col0\" >2207220</td>\n",
       "      <td id=\"T_55e03_row67_col1\" class=\"data row67 col1\" >2287843</td>\n",
       "      <td id=\"T_55e03_row67_col2\" class=\"data row67 col2\" >4495063</td>\n",
       "      <td id=\"T_55e03_row67_col3\" class=\"data row67 col3\" >49.10 %</td>\n",
       "    </tr>\n",
       "    <tr>\n",
       "      <th id=\"T_55e03_level0_row68\" class=\"row_heading level0 row68\" >68</th>\n",
       "      <td id=\"T_55e03_row68_col0\" class=\"data row68 col0\" >2131861</td>\n",
       "      <td id=\"T_55e03_row68_col1\" class=\"data row68 col1\" >2212762</td>\n",
       "      <td id=\"T_55e03_row68_col2\" class=\"data row68 col2\" >4344623</td>\n",
       "      <td id=\"T_55e03_row68_col3\" class=\"data row68 col3\" >49.07 %</td>\n",
       "    </tr>\n",
       "    <tr>\n",
       "      <th id=\"T_55e03_level0_row69\" class=\"row_heading level0 row69\" >69</th>\n",
       "      <td id=\"T_55e03_row69_col0\" class=\"data row69 col0\" >2147338</td>\n",
       "      <td id=\"T_55e03_row69_col1\" class=\"data row69 col1\" >2232110</td>\n",
       "      <td id=\"T_55e03_row69_col2\" class=\"data row69 col2\" >4379448</td>\n",
       "      <td id=\"T_55e03_row69_col3\" class=\"data row69 col3\" >49.03 %</td>\n",
       "    </tr>\n",
       "    <tr>\n",
       "      <th id=\"T_55e03_level0_row70\" class=\"row_heading level0 row70\" >70</th>\n",
       "      <td id=\"T_55e03_row70_col0\" class=\"data row70 col0\" >2145079</td>\n",
       "      <td id=\"T_55e03_row70_col1\" class=\"data row70 col1\" >2243216</td>\n",
       "      <td id=\"T_55e03_row70_col2\" class=\"data row70 col2\" >4388295</td>\n",
       "      <td id=\"T_55e03_row70_col3\" class=\"data row70 col3\" >48.88 %</td>\n",
       "    </tr>\n",
       "    <tr>\n",
       "      <th id=\"T_55e03_level0_row71\" class=\"row_heading level0 row71\" >71</th>\n",
       "      <td id=\"T_55e03_row71_col0\" class=\"data row71 col0\" >2215603</td>\n",
       "      <td id=\"T_55e03_row71_col1\" class=\"data row71 col1\" >2317851</td>\n",
       "      <td id=\"T_55e03_row71_col2\" class=\"data row71 col2\" >4533454</td>\n",
       "      <td id=\"T_55e03_row71_col3\" class=\"data row71 col3\" >48.87 %</td>\n",
       "    </tr>\n",
       "    <tr>\n",
       "      <th id=\"T_55e03_level0_row72\" class=\"row_heading level0 row72\" >72</th>\n",
       "      <td id=\"T_55e03_row72_col0\" class=\"data row72 col0\" >2267972</td>\n",
       "      <td id=\"T_55e03_row72_col1\" class=\"data row72 col1\" >2377352</td>\n",
       "      <td id=\"T_55e03_row72_col2\" class=\"data row72 col2\" >4645324</td>\n",
       "      <td id=\"T_55e03_row72_col3\" class=\"data row72 col3\" >48.82 %</td>\n",
       "    </tr>\n",
       "    <tr>\n",
       "      <th id=\"T_55e03_level0_row73\" class=\"row_heading level0 row73\" >73</th>\n",
       "      <td id=\"T_55e03_row73_col0\" class=\"data row73 col0\" >2286867</td>\n",
       "      <td id=\"T_55e03_row73_col1\" class=\"data row73 col1\" >2397249</td>\n",
       "      <td id=\"T_55e03_row73_col2\" class=\"data row73 col2\" >4684116</td>\n",
       "      <td id=\"T_55e03_row73_col3\" class=\"data row73 col3\" >48.82 %</td>\n",
       "    </tr>\n",
       "    <tr>\n",
       "      <th id=\"T_55e03_level0_row74\" class=\"row_heading level0 row74\" >74</th>\n",
       "      <td id=\"T_55e03_row74_col0\" class=\"data row74 col0\" >2350177</td>\n",
       "      <td id=\"T_55e03_row74_col1\" class=\"data row74 col1\" >2467657</td>\n",
       "      <td id=\"T_55e03_row74_col2\" class=\"data row74 col2\" >4817834</td>\n",
       "      <td id=\"T_55e03_row74_col3\" class=\"data row74 col3\" >48.78 %</td>\n",
       "    </tr>\n",
       "    <tr>\n",
       "      <th id=\"T_55e03_level0_row75\" class=\"row_heading level0 row75\" >75</th>\n",
       "      <td id=\"T_55e03_row75_col0\" class=\"data row75 col0\" >2363315</td>\n",
       "      <td id=\"T_55e03_row75_col1\" class=\"data row75 col1\" >2485004</td>\n",
       "      <td id=\"T_55e03_row75_col2\" class=\"data row75 col2\" >4848319</td>\n",
       "      <td id=\"T_55e03_row75_col3\" class=\"data row75 col3\" >48.75 %</td>\n",
       "    </tr>\n",
       "    <tr>\n",
       "      <th id=\"T_55e03_level0_row76\" class=\"row_heading level0 row76\" >76</th>\n",
       "      <td id=\"T_55e03_row76_col0\" class=\"data row76 col0\" >2415415</td>\n",
       "      <td id=\"T_55e03_row76_col1\" class=\"data row76 col1\" >2542640</td>\n",
       "      <td id=\"T_55e03_row76_col2\" class=\"data row76 col2\" >4958055</td>\n",
       "      <td id=\"T_55e03_row76_col3\" class=\"data row76 col3\" >48.72 %</td>\n",
       "    </tr>\n",
       "    <tr>\n",
       "      <th id=\"T_55e03_level0_row77\" class=\"row_heading level0 row77\" >77</th>\n",
       "      <td id=\"T_55e03_row77_col0\" class=\"data row77 col0\" >2457218</td>\n",
       "      <td id=\"T_55e03_row77_col1\" class=\"data row77 col1\" >2587711</td>\n",
       "      <td id=\"T_55e03_row77_col2\" class=\"data row77 col2\" >5044929</td>\n",
       "      <td id=\"T_55e03_row77_col3\" class=\"data row77 col3\" >48.71 %</td>\n",
       "    </tr>\n",
       "    <tr>\n",
       "      <th id=\"T_55e03_level0_row78\" class=\"row_heading level0 row78\" >78</th>\n",
       "      <td id=\"T_55e03_row78_col0\" class=\"data row78 col0\" >2422402</td>\n",
       "      <td id=\"T_55e03_row78_col1\" class=\"data row78 col1\" >2550377</td>\n",
       "      <td id=\"T_55e03_row78_col2\" class=\"data row78 col2\" >4972779</td>\n",
       "      <td id=\"T_55e03_row78_col3\" class=\"data row78 col3\" >48.71 %</td>\n",
       "    </tr>\n",
       "    <tr>\n",
       "      <th id=\"T_55e03_level0_row79\" class=\"row_heading level0 row79\" >79</th>\n",
       "      <td id=\"T_55e03_row79_col0\" class=\"data row79 col0\" >2441913</td>\n",
       "      <td id=\"T_55e03_row79_col1\" class=\"data row79 col1\" >2572150</td>\n",
       "      <td id=\"T_55e03_row79_col2\" class=\"data row79 col2\" >5014063</td>\n",
       "      <td id=\"T_55e03_row79_col3\" class=\"data row79 col3\" >48.70 %</td>\n",
       "    </tr>\n",
       "    <tr>\n",
       "      <th id=\"T_55e03_level0_row80\" class=\"row_heading level0 row80\" >80</th>\n",
       "      <td id=\"T_55e03_row80_col0\" class=\"data row80 col0\" >2436701</td>\n",
       "      <td id=\"T_55e03_row80_col1\" class=\"data row80 col1\" >2566530</td>\n",
       "      <td id=\"T_55e03_row80_col2\" class=\"data row80 col2\" >5003231</td>\n",
       "      <td id=\"T_55e03_row80_col3\" class=\"data row80 col3\" >48.70 %</td>\n",
       "    </tr>\n",
       "    <tr>\n",
       "      <th id=\"T_55e03_level0_row81\" class=\"row_heading level0 row81\" >81</th>\n",
       "      <td id=\"T_55e03_row81_col0\" class=\"data row81 col0\" >2442304</td>\n",
       "      <td id=\"T_55e03_row81_col1\" class=\"data row81 col1\" >2566328</td>\n",
       "      <td id=\"T_55e03_row81_col2\" class=\"data row81 col2\" >5008632</td>\n",
       "      <td id=\"T_55e03_row81_col3\" class=\"data row81 col3\" >48.76 %</td>\n",
       "    </tr>\n",
       "    <tr>\n",
       "      <th id=\"T_55e03_level0_row82\" class=\"row_heading level0 row82\" >82</th>\n",
       "      <td id=\"T_55e03_row82_col0\" class=\"data row82 col0\" >2388656</td>\n",
       "      <td id=\"T_55e03_row82_col1\" class=\"data row82 col1\" >2509757</td>\n",
       "      <td id=\"T_55e03_row82_col2\" class=\"data row82 col2\" >4898413</td>\n",
       "      <td id=\"T_55e03_row82_col3\" class=\"data row82 col3\" >48.76 %</td>\n",
       "    </tr>\n",
       "    <tr>\n",
       "      <th id=\"T_55e03_level0_row83\" class=\"row_heading level0 row83\" >83</th>\n",
       "      <td id=\"T_55e03_row83_col0\" class=\"data row83 col0\" >2367753</td>\n",
       "      <td id=\"T_55e03_row83_col1\" class=\"data row83 col1\" >2490629</td>\n",
       "      <td id=\"T_55e03_row83_col2\" class=\"data row83 col2\" >4858382</td>\n",
       "      <td id=\"T_55e03_row83_col3\" class=\"data row83 col3\" >48.74 %</td>\n",
       "    </tr>\n",
       "    <tr>\n",
       "      <th id=\"T_55e03_level0_row84\" class=\"row_heading level0 row84\" >84</th>\n",
       "      <td id=\"T_55e03_row84_col0\" class=\"data row84 col0\" >2338823</td>\n",
       "      <td id=\"T_55e03_row84_col1\" class=\"data row84 col1\" >2457730</td>\n",
       "      <td id=\"T_55e03_row84_col2\" class=\"data row84 col2\" >4796553</td>\n",
       "      <td id=\"T_55e03_row84_col3\" class=\"data row84 col3\" >48.76 %</td>\n",
       "    </tr>\n",
       "    <tr>\n",
       "      <th id=\"T_55e03_level0_row85\" class=\"row_heading level0 row85\" >85</th>\n",
       "      <td id=\"T_55e03_row85_col0\" class=\"data row85 col0\" >2203393</td>\n",
       "      <td id=\"T_55e03_row85_col1\" class=\"data row85 col1\" >2319467</td>\n",
       "      <td id=\"T_55e03_row85_col2\" class=\"data row85 col2\" >4522860</td>\n",
       "      <td id=\"T_55e03_row85_col3\" class=\"data row85 col3\" >48.72 %</td>\n",
       "    </tr>\n",
       "    <tr>\n",
       "      <th id=\"T_55e03_level0_row86\" class=\"row_heading level0 row86\" >86</th>\n",
       "      <td id=\"T_55e03_row86_col0\" class=\"data row86 col0\" >2129207</td>\n",
       "      <td id=\"T_55e03_row86_col1\" class=\"data row86 col1\" >2241234</td>\n",
       "      <td id=\"T_55e03_row86_col2\" class=\"data row86 col2\" >4370441</td>\n",
       "      <td id=\"T_55e03_row86_col3\" class=\"data row86 col3\" >48.72 %</td>\n",
       "    </tr>\n",
       "    <tr>\n",
       "      <th id=\"T_55e03_level0_row87\" class=\"row_heading level0 row87\" >87</th>\n",
       "      <td id=\"T_55e03_row87_col0\" class=\"data row87 col0\" >2075994</td>\n",
       "      <td id=\"T_55e03_row87_col1\" class=\"data row87 col1\" >2189438</td>\n",
       "      <td id=\"T_55e03_row87_col2\" class=\"data row87 col2\" >4265432</td>\n",
       "      <td id=\"T_55e03_row87_col3\" class=\"data row87 col3\" >48.67 %</td>\n",
       "    </tr>\n",
       "    <tr>\n",
       "      <th id=\"T_55e03_level0_row88\" class=\"row_heading level0 row88\" >88</th>\n",
       "      <td id=\"T_55e03_row88_col0\" class=\"data row88 col0\" >2063358</td>\n",
       "      <td id=\"T_55e03_row88_col1\" class=\"data row88 col1\" >2180990</td>\n",
       "      <td id=\"T_55e03_row88_col2\" class=\"data row88 col2\" >4244348</td>\n",
       "      <td id=\"T_55e03_row88_col3\" class=\"data row88 col3\" >48.61 %</td>\n",
       "    </tr>\n",
       "    <tr>\n",
       "      <th id=\"T_55e03_level0_row89\" class=\"row_heading level0 row89\" >89</th>\n",
       "      <td id=\"T_55e03_row89_col0\" class=\"data row89 col0\" >2111558</td>\n",
       "      <td id=\"T_55e03_row89_col1\" class=\"data row89 col1\" >2234043</td>\n",
       "      <td id=\"T_55e03_row89_col2\" class=\"data row89 col2\" >4345601</td>\n",
       "      <td id=\"T_55e03_row89_col3\" class=\"data row89 col3\" >48.59 %</td>\n",
       "    </tr>\n",
       "    <tr>\n",
       "      <th id=\"T_55e03_level0_row90\" class=\"row_heading level0 row90\" >90</th>\n",
       "      <td id=\"T_55e03_row90_col0\" class=\"data row90 col0\" >2174762</td>\n",
       "      <td id=\"T_55e03_row90_col1\" class=\"data row90 col1\" >2308597</td>\n",
       "      <td id=\"T_55e03_row90_col2\" class=\"data row90 col2\" >4483359</td>\n",
       "      <td id=\"T_55e03_row90_col3\" class=\"data row90 col3\" >48.51 %</td>\n",
       "    </tr>\n",
       "    <tr>\n",
       "      <th id=\"T_55e03_level0_row91\" class=\"row_heading level0 row91\" >91</th>\n",
       "      <td id=\"T_55e03_row91_col0\" class=\"data row91 col0\" >2106460</td>\n",
       "      <td id=\"T_55e03_row91_col1\" class=\"data row91 col1\" >2234507</td>\n",
       "      <td id=\"T_55e03_row91_col2\" class=\"data row91 col2\" >4340967</td>\n",
       "      <td id=\"T_55e03_row91_col3\" class=\"data row91 col3\" >48.53 %</td>\n",
       "    </tr>\n",
       "    <tr>\n",
       "      <th id=\"T_55e03_level0_row92\" class=\"row_heading level0 row92\" >92</th>\n",
       "      <td id=\"T_55e03_row92_col0\" class=\"data row92 col0\" >1960774</td>\n",
       "      <td id=\"T_55e03_row92_col1\" class=\"data row92 col1\" >2085996</td>\n",
       "      <td id=\"T_55e03_row92_col2\" class=\"data row92 col2\" >4046770</td>\n",
       "      <td id=\"T_55e03_row92_col3\" class=\"data row92 col3\" >48.45 %</td>\n",
       "    </tr>\n",
       "    <tr>\n",
       "      <th id=\"T_55e03_level0_row93\" class=\"row_heading level0 row93\" >93</th>\n",
       "      <td id=\"T_55e03_row93_col0\" class=\"data row93 col0\" >1887376</td>\n",
       "      <td id=\"T_55e03_row93_col1\" class=\"data row93 col1\" >2011140</td>\n",
       "      <td id=\"T_55e03_row93_col2\" class=\"data row93 col2\" >3898516</td>\n",
       "      <td id=\"T_55e03_row93_col3\" class=\"data row93 col3\" >48.41 %</td>\n",
       "    </tr>\n",
       "    <tr>\n",
       "      <th id=\"T_55e03_level0_row94\" class=\"row_heading level0 row94\" >94</th>\n",
       "      <td id=\"T_55e03_row94_col0\" class=\"data row94 col0\" >1868603</td>\n",
       "      <td id=\"T_55e03_row94_col1\" class=\"data row94 col1\" >1995885</td>\n",
       "      <td id=\"T_55e03_row94_col2\" class=\"data row94 col2\" >3864488</td>\n",
       "      <td id=\"T_55e03_row94_col3\" class=\"data row94 col3\" >48.35 %</td>\n",
       "    </tr>\n",
       "    <tr>\n",
       "      <th id=\"T_55e03_level0_row95\" class=\"row_heading level0 row95\" >95</th>\n",
       "      <td id=\"T_55e03_row95_col0\" class=\"data row95 col0\" >1831596</td>\n",
       "      <td id=\"T_55e03_row95_col1\" class=\"data row95 col1\" >1954526</td>\n",
       "      <td id=\"T_55e03_row95_col2\" class=\"data row95 col2\" >3786122</td>\n",
       "      <td id=\"T_55e03_row95_col3\" class=\"data row95 col3\" >48.38 %</td>\n",
       "    </tr>\n",
       "    <tr>\n",
       "      <th id=\"T_55e03_level0_row96\" class=\"row_heading level0 row96\" >96</th>\n",
       "      <td id=\"T_55e03_row96_col0\" class=\"data row96 col0\" >1825317</td>\n",
       "      <td id=\"T_55e03_row96_col1\" class=\"data row96 col1\" >1948195</td>\n",
       "      <td id=\"T_55e03_row96_col2\" class=\"data row96 col2\" >3773512</td>\n",
       "      <td id=\"T_55e03_row96_col3\" class=\"data row96 col3\" >48.37 %</td>\n",
       "    </tr>\n",
       "    <tr>\n",
       "      <th id=\"T_55e03_level0_row97\" class=\"row_heading level0 row97\" >97</th>\n",
       "      <td id=\"T_55e03_row97_col0\" class=\"data row97 col0\" >1903605</td>\n",
       "      <td id=\"T_55e03_row97_col1\" class=\"data row97 col1\" >2034465</td>\n",
       "      <td id=\"T_55e03_row97_col2\" class=\"data row97 col2\" >3938070</td>\n",
       "      <td id=\"T_55e03_row97_col3\" class=\"data row97 col3\" >48.34 %</td>\n",
       "    </tr>\n",
       "    <tr>\n",
       "      <th id=\"T_55e03_level0_row98\" class=\"row_heading level0 row98\" >98</th>\n",
       "      <td id=\"T_55e03_row98_col0\" class=\"data row98 col0\" >1897990</td>\n",
       "      <td id=\"T_55e03_row98_col1\" class=\"data row98 col1\" >2028146</td>\n",
       "      <td id=\"T_55e03_row98_col2\" class=\"data row98 col2\" >3926136</td>\n",
       "      <td id=\"T_55e03_row98_col3\" class=\"data row98 col3\" >48.34 %</td>\n",
       "    </tr>\n",
       "    <tr>\n",
       "      <th id=\"T_55e03_level0_row99\" class=\"row_heading level0 row99\" >99</th>\n",
       "      <td id=\"T_55e03_row99_col0\" class=\"data row99 col0\" >1982030</td>\n",
       "      <td id=\"T_55e03_row99_col1\" class=\"data row99 col1\" >2118659</td>\n",
       "      <td id=\"T_55e03_row99_col2\" class=\"data row99 col2\" >4100689</td>\n",
       "      <td id=\"T_55e03_row99_col3\" class=\"data row99 col3\" >48.33 %</td>\n",
       "    </tr>\n",
       "    <tr>\n",
       "      <th id=\"T_55e03_level0_row100\" class=\"row_heading level0 row100\" >100</th>\n",
       "      <td id=\"T_55e03_row100_col0\" class=\"data row100 col0\" >2058207</td>\n",
       "      <td id=\"T_55e03_row100_col1\" class=\"data row100 col1\" >2203024</td>\n",
       "      <td id=\"T_55e03_row100_col2\" class=\"data row100 col2\" >4261231</td>\n",
       "      <td id=\"T_55e03_row100_col3\" class=\"data row100 col3\" >48.30 %</td>\n",
       "    </tr>\n",
       "    <tr>\n",
       "      <th id=\"T_55e03_level0_row101\" class=\"row_heading level0 row101\" >101</th>\n",
       "      <td id=\"T_55e03_row101_col0\" class=\"data row101 col0\" >2067713</td>\n",
       "      <td id=\"T_55e03_row101_col1\" class=\"data row101 col1\" >2212750</td>\n",
       "      <td id=\"T_55e03_row101_col2\" class=\"data row101 col2\" >4280463</td>\n",
       "      <td id=\"T_55e03_row101_col3\" class=\"data row101 col3\" >48.31 %</td>\n",
       "    </tr>\n",
       "    <tr>\n",
       "      <th id=\"T_55e03_level0_row102\" class=\"row_heading level0 row102\" >102</th>\n",
       "      <td id=\"T_55e03_row102_col0\" class=\"data row102 col0\" >2089281</td>\n",
       "      <td id=\"T_55e03_row102_col1\" class=\"data row102 col1\" >2231950</td>\n",
       "      <td id=\"T_55e03_row102_col2\" class=\"data row102 col2\" >4321231</td>\n",
       "      <td id=\"T_55e03_row102_col3\" class=\"data row102 col3\" >48.35 %</td>\n",
       "    </tr>\n",
       "    <tr>\n",
       "      <th id=\"T_55e03_level0_row103\" class=\"row_heading level0 row103\" >103</th>\n",
       "      <td id=\"T_55e03_row103_col0\" class=\"data row103 col0\" >2043703</td>\n",
       "      <td id=\"T_55e03_row103_col1\" class=\"data row103 col1\" >2185009</td>\n",
       "      <td id=\"T_55e03_row103_col2\" class=\"data row103 col2\" >4228712</td>\n",
       "      <td id=\"T_55e03_row103_col3\" class=\"data row103 col3\" >48.33 %</td>\n",
       "    </tr>\n",
       "    <tr>\n",
       "      <th id=\"T_55e03_level0_row104\" class=\"row_heading level0 row104\" >104</th>\n",
       "      <td id=\"T_55e03_row104_col0\" class=\"data row104 col0\" >2063099</td>\n",
       "      <td id=\"T_55e03_row104_col1\" class=\"data row104 col1\" >2202699</td>\n",
       "      <td id=\"T_55e03_row104_col2\" class=\"data row104 col2\" >4265798</td>\n",
       "      <td id=\"T_55e03_row104_col3\" class=\"data row104 col3\" >48.36 %</td>\n",
       "    </tr>\n",
       "    <tr>\n",
       "      <th id=\"T_55e03_level0_row105\" class=\"row_heading level0 row105\" >105</th>\n",
       "      <td id=\"T_55e03_row105_col0\" class=\"data row105 col0\" >2104094</td>\n",
       "      <td id=\"T_55e03_row105_col1\" class=\"data row105 col1\" >2250917</td>\n",
       "      <td id=\"T_55e03_row105_col2\" class=\"data row105 col2\" >4355011</td>\n",
       "      <td id=\"T_55e03_row105_col3\" class=\"data row105 col3\" >48.31 %</td>\n",
       "    </tr>\n",
       "    <tr>\n",
       "      <th id=\"T_55e03_level0_row106\" class=\"row_heading level0 row106\" >106</th>\n",
       "      <td id=\"T_55e03_row106_col0\" class=\"data row106 col0\" >2103022</td>\n",
       "      <td id=\"T_55e03_row106_col1\" class=\"data row106 col1\" >2248629</td>\n",
       "      <td id=\"T_55e03_row106_col2\" class=\"data row106 col2\" >4351651</td>\n",
       "      <td id=\"T_55e03_row106_col3\" class=\"data row106 col3\" >48.33 %</td>\n",
       "    </tr>\n",
       "    <tr>\n",
       "      <th id=\"T_55e03_level0_row107\" class=\"row_heading level0 row107\" >107</th>\n",
       "      <td id=\"T_55e03_row107_col0\" class=\"data row107 col0\" >2121698</td>\n",
       "      <td id=\"T_55e03_row107_col1\" class=\"data row107 col1\" >2268849</td>\n",
       "      <td id=\"T_55e03_row107_col2\" class=\"data row107 col2\" >4390547</td>\n",
       "      <td id=\"T_55e03_row107_col3\" class=\"data row107 col3\" >48.32 %</td>\n",
       "    </tr>\n",
       "    <tr>\n",
       "      <th id=\"T_55e03_level0_row108\" class=\"row_heading level0 row108\" >108</th>\n",
       "      <td id=\"T_55e03_row108_col0\" class=\"data row108 col0\" >2165741</td>\n",
       "      <td id=\"T_55e03_row108_col1\" class=\"data row108 col1\" >2318711</td>\n",
       "      <td id=\"T_55e03_row108_col2\" class=\"data row108 col2\" >4484452</td>\n",
       "      <td id=\"T_55e03_row108_col3\" class=\"data row108 col3\" >48.29 %</td>\n",
       "    </tr>\n",
       "    <tr>\n",
       "      <th id=\"T_55e03_level0_row109\" class=\"row_heading level0 row109\" >109</th>\n",
       "      <td id=\"T_55e03_row109_col0\" class=\"data row109 col0\" >2227140</td>\n",
       "      <td id=\"T_55e03_row109_col1\" class=\"data row109 col1\" >2402549</td>\n",
       "      <td id=\"T_55e03_row109_col2\" class=\"data row109 col2\" >4629689</td>\n",
       "      <td id=\"T_55e03_row109_col3\" class=\"data row109 col3\" >48.11 %</td>\n",
       "    </tr>\n",
       "    <tr>\n",
       "      <th id=\"T_55e03_level0_row110\" class=\"row_heading level0 row110\" >110</th>\n",
       "      <td id=\"T_55e03_row110_col0\" class=\"data row110 col0\" >2279322</td>\n",
       "      <td id=\"T_55e03_row110_col1\" class=\"data row110 col1\" >2455340</td>\n",
       "      <td id=\"T_55e03_row110_col2\" class=\"data row110 col2\" >4734662</td>\n",
       "      <td id=\"T_55e03_row110_col3\" class=\"data row110 col3\" >48.14 %</td>\n",
       "    </tr>\n",
       "    <tr>\n",
       "      <th id=\"T_55e03_level0_row111\" class=\"row_heading level0 row111\" >111</th>\n",
       "      <td id=\"T_55e03_row111_col0\" class=\"data row111 col0\" >2254699</td>\n",
       "      <td id=\"T_55e03_row111_col1\" class=\"data row111 col1\" >2419692</td>\n",
       "      <td id=\"T_55e03_row111_col2\" class=\"data row111 col2\" >4674391</td>\n",
       "      <td id=\"T_55e03_row111_col3\" class=\"data row111 col3\" >48.24 %</td>\n",
       "    </tr>\n",
       "    <tr>\n",
       "      <th id=\"T_55e03_level0_row112\" class=\"row_heading level0 row112\" >112</th>\n",
       "      <td id=\"T_55e03_row112_col0\" class=\"data row112 col0\" >2215113</td>\n",
       "      <td id=\"T_55e03_row112_col1\" class=\"data row112 col1\" >2389049</td>\n",
       "      <td id=\"T_55e03_row112_col2\" class=\"data row112 col2\" >4604162</td>\n",
       "      <td id=\"T_55e03_row112_col3\" class=\"data row112 col3\" >48.11 %</td>\n",
       "    </tr>\n",
       "    <tr>\n",
       "      <th id=\"T_55e03_level0_row113\" class=\"row_heading level0 row113\" >113</th>\n",
       "      <td id=\"T_55e03_row113_col0\" class=\"data row113 col0\" >2164638</td>\n",
       "      <td id=\"T_55e03_row113_col1\" class=\"data row113 col1\" >2335157</td>\n",
       "      <td id=\"T_55e03_row113_col2\" class=\"data row113 col2\" >4499795</td>\n",
       "      <td id=\"T_55e03_row113_col3\" class=\"data row113 col3\" >48.11 %</td>\n",
       "    </tr>\n",
       "    <tr>\n",
       "      <th id=\"T_55e03_level0_row114\" class=\"row_heading level0 row114\" >114</th>\n",
       "      <td id=\"T_55e03_row114_col0\" class=\"data row114 col0\" >2140730</td>\n",
       "      <td id=\"T_55e03_row114_col1\" class=\"data row114 col1\" >2305553</td>\n",
       "      <td id=\"T_55e03_row114_col2\" class=\"data row114 col2\" >4446283</td>\n",
       "      <td id=\"T_55e03_row114_col3\" class=\"data row114 col3\" >48.15 %</td>\n",
       "    </tr>\n",
       "    <tr>\n",
       "      <th id=\"T_55e03_level0_row115\" class=\"row_heading level0 row115\" >115</th>\n",
       "      <td id=\"T_55e03_row115_col0\" class=\"data row115 col0\" >2122678</td>\n",
       "      <td id=\"T_55e03_row115_col1\" class=\"data row115 col1\" >2285862</td>\n",
       "      <td id=\"T_55e03_row115_col2\" class=\"data row115 col2\" >4408540</td>\n",
       "      <td id=\"T_55e03_row115_col3\" class=\"data row115 col3\" >48.15 %</td>\n",
       "    </tr>\n",
       "    <tr>\n",
       "      <th id=\"T_55e03_level0_row116\" class=\"row_heading level0 row116\" >116</th>\n",
       "      <td id=\"T_55e03_row116_col0\" class=\"data row116 col0\" >2413926</td>\n",
       "      <td id=\"T_55e03_row116_col1\" class=\"data row116 col1\" >2598941</td>\n",
       "      <td id=\"T_55e03_row116_col2\" class=\"data row116 col2\" >5012867</td>\n",
       "      <td id=\"T_55e03_row116_col3\" class=\"data row116 col3\" >48.15 %</td>\n",
       "    </tr>\n",
       "    <tr>\n",
       "      <th id=\"T_55e03_level0_row117\" class=\"row_heading level0 row117\" >117</th>\n",
       "      <td id=\"T_55e03_row117_col0\" class=\"data row117 col0\" >2395738</td>\n",
       "      <td id=\"T_55e03_row117_col1\" class=\"data row117 col1\" >2582482</td>\n",
       "      <td id=\"T_55e03_row117_col2\" class=\"data row117 col2\" >4978220</td>\n",
       "      <td id=\"T_55e03_row117_col3\" class=\"data row117 col3\" >48.12 %</td>\n",
       "    </tr>\n",
       "    <tr>\n",
       "      <th id=\"T_55e03_level0_row118\" class=\"row_heading level0 row118\" >118</th>\n",
       "      <td id=\"T_55e03_row118_col0\" class=\"data row118 col0\" >2424481</td>\n",
       "      <td id=\"T_55e03_row118_col1\" class=\"data row118 col1\" >2609444</td>\n",
       "      <td id=\"T_55e03_row118_col2\" class=\"data row118 col2\" >5033925</td>\n",
       "      <td id=\"T_55e03_row118_col3\" class=\"data row118 col3\" >48.16 %</td>\n",
       "    </tr>\n",
       "    <tr>\n",
       "      <th id=\"T_55e03_level0_row119\" class=\"row_heading level0 row119\" >119</th>\n",
       "      <td id=\"T_55e03_row119_col0\" class=\"data row119 col0\" >2427029</td>\n",
       "      <td id=\"T_55e03_row119_col1\" class=\"data row119 col1\" >2615970</td>\n",
       "      <td id=\"T_55e03_row119_col2\" class=\"data row119 col2\" >5042999</td>\n",
       "      <td id=\"T_55e03_row119_col3\" class=\"data row119 col3\" >48.13 %</td>\n",
       "    </tr>\n",
       "    <tr>\n",
       "      <th id=\"T_55e03_level0_row120\" class=\"row_heading level0 row120\" >120</th>\n",
       "      <td id=\"T_55e03_row120_col0\" class=\"data row120 col0\" >2477719</td>\n",
       "      <td id=\"T_55e03_row120_col1\" class=\"data row120 col1\" >2667263</td>\n",
       "      <td id=\"T_55e03_row120_col2\" class=\"data row120 col2\" >5144982</td>\n",
       "      <td id=\"T_55e03_row120_col3\" class=\"data row120 col3\" >48.16 %</td>\n",
       "    </tr>\n",
       "    <tr>\n",
       "      <th id=\"T_55e03_level0_row121\" class=\"row_heading level0 row121\" >121</th>\n",
       "      <td id=\"T_55e03_row121_col0\" class=\"data row121 col0\" >2454914</td>\n",
       "      <td id=\"T_55e03_row121_col1\" class=\"data row121 col1\" >2635979</td>\n",
       "      <td id=\"T_55e03_row121_col2\" class=\"data row121 col2\" >5090893</td>\n",
       "      <td id=\"T_55e03_row121_col3\" class=\"data row121 col3\" >48.22 %</td>\n",
       "    </tr>\n",
       "    <tr>\n",
       "      <th id=\"T_55e03_level0_row122\" class=\"row_heading level0 row122\" >122</th>\n",
       "      <td id=\"T_55e03_row122_col0\" class=\"data row122 col0\" >2445201</td>\n",
       "      <td id=\"T_55e03_row122_col1\" class=\"data row122 col1\" >2631045</td>\n",
       "      <td id=\"T_55e03_row122_col2\" class=\"data row122 col2\" >5076246</td>\n",
       "      <td id=\"T_55e03_row122_col3\" class=\"data row122 col3\" >48.17 %</td>\n",
       "    </tr>\n",
       "    <tr>\n",
       "      <th id=\"T_55e03_level0_row123\" class=\"row_heading level0 row123\" >123</th>\n",
       "      <td id=\"T_55e03_row123_col0\" class=\"data row123 col0\" >2486387</td>\n",
       "      <td id=\"T_55e03_row123_col1\" class=\"data row123 col1\" >2674113</td>\n",
       "      <td id=\"T_55e03_row123_col2\" class=\"data row123 col2\" >5160500</td>\n",
       "      <td id=\"T_55e03_row123_col3\" class=\"data row123 col3\" >48.18 %</td>\n",
       "    </tr>\n",
       "    <tr>\n",
       "      <th id=\"T_55e03_level0_row124\" class=\"row_heading level0 row124\" >124</th>\n",
       "      <td id=\"T_55e03_row124_col0\" class=\"data row124 col0\" >2504695</td>\n",
       "      <td id=\"T_55e03_row124_col1\" class=\"data row124 col1\" >2696629</td>\n",
       "      <td id=\"T_55e03_row124_col2\" class=\"data row124 col2\" >5201324</td>\n",
       "      <td id=\"T_55e03_row124_col3\" class=\"data row124 col3\" >48.15 %</td>\n",
       "    </tr>\n",
       "    <tr>\n",
       "      <th id=\"T_55e03_level0_row125\" class=\"row_heading level0 row125\" >125</th>\n",
       "      <td id=\"T_55e03_row125_col0\" class=\"data row125 col0\" >2522479</td>\n",
       "      <td id=\"T_55e03_row125_col1\" class=\"data row125 col1\" >2712849</td>\n",
       "      <td id=\"T_55e03_row125_col2\" class=\"data row125 col2\" >5235328</td>\n",
       "      <td id=\"T_55e03_row125_col3\" class=\"data row125 col3\" >48.18 %</td>\n",
       "    </tr>\n",
       "    <tr>\n",
       "      <th id=\"T_55e03_level0_row126\" class=\"row_heading level0 row126\" >126</th>\n",
       "      <td id=\"T_55e03_row126_col0\" class=\"data row126 col0\" >2597662</td>\n",
       "      <td id=\"T_55e03_row126_col1\" class=\"data row126 col1\" >2792680</td>\n",
       "      <td id=\"T_55e03_row126_col2\" class=\"data row126 col2\" >5390342</td>\n",
       "      <td id=\"T_55e03_row126_col3\" class=\"data row126 col3\" >48.19 %</td>\n",
       "    </tr>\n",
       "    <tr>\n",
       "      <th id=\"T_55e03_level0_row127\" class=\"row_heading level0 row127\" >127</th>\n",
       "      <td id=\"T_55e03_row127_col0\" class=\"data row127 col0\" >2620342</td>\n",
       "      <td id=\"T_55e03_row127_col1\" class=\"data row127 col1\" >2818426</td>\n",
       "      <td id=\"T_55e03_row127_col2\" class=\"data row127 col2\" >5438768</td>\n",
       "      <td id=\"T_55e03_row127_col3\" class=\"data row127 col3\" >48.18 %</td>\n",
       "    </tr>\n",
       "    <tr>\n",
       "      <th id=\"T_55e03_level0_row128\" class=\"row_heading level0 row128\" >128</th>\n",
       "      <td id=\"T_55e03_row128_col0\" class=\"data row128 col0\" >2602204</td>\n",
       "      <td id=\"T_55e03_row128_col1\" class=\"data row128 col1\" >2795786</td>\n",
       "      <td id=\"T_55e03_row128_col2\" class=\"data row128 col2\" >5397990</td>\n",
       "      <td id=\"T_55e03_row128_col3\" class=\"data row128 col3\" >48.21 %</td>\n",
       "    </tr>\n",
       "    <tr>\n",
       "      <th id=\"T_55e03_level0_row129\" class=\"row_heading level0 row129\" >129</th>\n",
       "      <td id=\"T_55e03_row129_col0\" class=\"data row129 col0\" >2544556</td>\n",
       "      <td id=\"T_55e03_row129_col1\" class=\"data row129 col1\" >2735578</td>\n",
       "      <td id=\"T_55e03_row129_col2\" class=\"data row129 col2\" >5280134</td>\n",
       "      <td id=\"T_55e03_row129_col3\" class=\"data row129 col3\" >48.19 %</td>\n",
       "    </tr>\n",
       "    <tr>\n",
       "      <th id=\"T_55e03_level0_row130\" class=\"row_heading level0 row130\" >130</th>\n",
       "      <td id=\"T_55e03_row130_col0\" class=\"data row130 col0\" >2497493</td>\n",
       "      <td id=\"T_55e03_row130_col1\" class=\"data row130 col1\" >2683903</td>\n",
       "      <td id=\"T_55e03_row130_col2\" class=\"data row130 col2\" >5181396</td>\n",
       "      <td id=\"T_55e03_row130_col3\" class=\"data row130 col3\" >48.20 %</td>\n",
       "    </tr>\n",
       "    <tr>\n",
       "      <th id=\"T_55e03_level0_row131\" class=\"row_heading level0 row131\" >131</th>\n",
       "      <td id=\"T_55e03_row131_col0\" class=\"data row131 col0\" >2473866</td>\n",
       "      <td id=\"T_55e03_row131_col1\" class=\"data row131 col1\" >2657259</td>\n",
       "      <td id=\"T_55e03_row131_col2\" class=\"data row131 col2\" >5131125</td>\n",
       "      <td id=\"T_55e03_row131_col3\" class=\"data row131 col3\" >48.21 %</td>\n",
       "    </tr>\n",
       "    <tr>\n",
       "      <th id=\"T_55e03_level0_row132\" class=\"row_heading level0 row132\" >132</th>\n",
       "      <td id=\"T_55e03_row132_col0\" class=\"data row132 col0\" >2477451</td>\n",
       "      <td id=\"T_55e03_row132_col1\" class=\"data row132 col1\" >2660401</td>\n",
       "      <td id=\"T_55e03_row132_col2\" class=\"data row132 col2\" >5137852</td>\n",
       "      <td id=\"T_55e03_row132_col3\" class=\"data row132 col3\" >48.22 %</td>\n",
       "    </tr>\n",
       "    <tr>\n",
       "      <th id=\"T_55e03_level0_row133\" class=\"row_heading level0 row133\" >133</th>\n",
       "      <td id=\"T_55e03_row133_col0\" class=\"data row133 col0\" >2452825</td>\n",
       "      <td id=\"T_55e03_row133_col1\" class=\"data row133 col1\" >2635026</td>\n",
       "      <td id=\"T_55e03_row133_col2\" class=\"data row133 col2\" >5087851</td>\n",
       "      <td id=\"T_55e03_row133_col3\" class=\"data row133 col3\" >48.21 %</td>\n",
       "    </tr>\n",
       "    <tr>\n",
       "      <th id=\"T_55e03_level0_row134\" class=\"row_heading level0 row134\" >134</th>\n",
       "      <td id=\"T_55e03_row134_col0\" class=\"data row134 col0\" >2483366</td>\n",
       "      <td id=\"T_55e03_row134_col1\" class=\"data row134 col1\" >2662021</td>\n",
       "      <td id=\"T_55e03_row134_col2\" class=\"data row134 col2\" >5145387</td>\n",
       "      <td id=\"T_55e03_row134_col3\" class=\"data row134 col3\" >48.26 %</td>\n",
       "    </tr>\n",
       "    <tr>\n",
       "      <th id=\"T_55e03_level0_row135\" class=\"row_heading level0 row135\" >135</th>\n",
       "      <td id=\"T_55e03_row135_col0\" class=\"data row135 col0\" >2472890</td>\n",
       "      <td id=\"T_55e03_row135_col1\" class=\"data row135 col1\" >2649160</td>\n",
       "      <td id=\"T_55e03_row135_col2\" class=\"data row135 col2\" >5122050</td>\n",
       "      <td id=\"T_55e03_row135_col3\" class=\"data row135 col3\" >48.28 %</td>\n",
       "    </tr>\n",
       "    <tr>\n",
       "      <th id=\"T_55e03_level0_row136\" class=\"row_heading level0 row136\" >136</th>\n",
       "      <td id=\"T_55e03_row136_col0\" class=\"data row136 col0\" >2451147</td>\n",
       "      <td id=\"T_55e03_row136_col1\" class=\"data row136 col1\" >2620842</td>\n",
       "      <td id=\"T_55e03_row136_col2\" class=\"data row136 col2\" >5071989</td>\n",
       "      <td id=\"T_55e03_row136_col3\" class=\"data row136 col3\" >48.33 %</td>\n",
       "    </tr>\n",
       "    <tr>\n",
       "      <th id=\"T_55e03_level0_row137\" class=\"row_heading level0 row137\" >137</th>\n",
       "      <td id=\"T_55e03_row137_col0\" class=\"data row137 col0\" >2390265</td>\n",
       "      <td id=\"T_55e03_row137_col1\" class=\"data row137 col1\" >2557215</td>\n",
       "      <td id=\"T_55e03_row137_col2\" class=\"data row137 col2\" >4947480</td>\n",
       "      <td id=\"T_55e03_row137_col3\" class=\"data row137 col3\" >48.31 %</td>\n",
       "    </tr>\n",
       "    <tr>\n",
       "      <th id=\"T_55e03_level0_row138\" class=\"row_heading level0 row138\" >138</th>\n",
       "      <td id=\"T_55e03_row138_col0\" class=\"data row138 col0\" >2347903</td>\n",
       "      <td id=\"T_55e03_row138_col1\" class=\"data row138 col1\" >2506472</td>\n",
       "      <td id=\"T_55e03_row138_col2\" class=\"data row138 col2\" >4854375</td>\n",
       "      <td id=\"T_55e03_row138_col3\" class=\"data row138 col3\" >48.37 %</td>\n",
       "    </tr>\n",
       "    <tr>\n",
       "      <th id=\"T_55e03_level0_row139\" class=\"row_heading level0 row139\" >139</th>\n",
       "      <td id=\"T_55e03_row139_col0\" class=\"data row139 col0\" >2314215</td>\n",
       "      <td id=\"T_55e03_row139_col1\" class=\"data row139 col1\" >2470978</td>\n",
       "      <td id=\"T_55e03_row139_col2\" class=\"data row139 col2\" >4785193</td>\n",
       "      <td id=\"T_55e03_row139_col3\" class=\"data row139 col3\" >48.36 %</td>\n",
       "    </tr>\n",
       "    <tr>\n",
       "      <th id=\"T_55e03_level0_row140\" class=\"row_heading level0 row140\" >140</th>\n",
       "      <td id=\"T_55e03_row140_col0\" class=\"data row140 col0\" >2229732</td>\n",
       "      <td id=\"T_55e03_row140_col1\" class=\"data row140 col1\" >2376752</td>\n",
       "      <td id=\"T_55e03_row140_col2\" class=\"data row140 col2\" >4606484</td>\n",
       "      <td id=\"T_55e03_row140_col3\" class=\"data row140 col3\" >48.40 %</td>\n",
       "    </tr>\n",
       "    <tr>\n",
       "      <th id=\"T_55e03_level0_row141\" class=\"row_heading level0 row141\" >141</th>\n",
       "      <td id=\"T_55e03_row141_col0\" class=\"data row141 col0\" >2256849</td>\n",
       "      <td id=\"T_55e03_row141_col1\" class=\"data row141 col1\" >2402217</td>\n",
       "      <td id=\"T_55e03_row141_col2\" class=\"data row141 col2\" >4659066</td>\n",
       "      <td id=\"T_55e03_row141_col3\" class=\"data row141 col3\" >48.44 %</td>\n",
       "    </tr>\n",
       "  </tbody>\n",
       "</table>\n"
      ],
      "text/plain": [
       "<pandas.io.formats.style.Styler at 0x1e6ddb9b4c0>"
      ]
     },
     "execution_count": 58,
     "metadata": {},
     "output_type": "execute_result"
    }
   ],
   "source": [
    "# 1) group the data by year and gender, and sum the counts\n",
    "# 2) unstack the gender level of the index to get separate columns for male and female counts\n",
    "year_counts = (df_total[['year', 'gender', 'count']]\n",
    "                        .groupby(['year', 'gender'])['count'].sum()\n",
    "                        .unstack('gender')    \n",
    "                     )\n",
    "\n",
    "# 3) compute the total number of births for each year by adding up the male and female counts\n",
    "year_counts = year_counts.reset_index(drop=True)\n",
    "\n",
    "year_counts['total'] = year_counts['Female'] + year_counts['Male']\n",
    "\n",
    "# 4) compute the proportion of female births among total births for each year\n",
    "year_counts['proportion_female'] = year_counts['Female'] / year_counts['total'] * 100\n",
    "print(year_counts.dtypes)\n",
    "year_counts = year_counts.style.format({'proportion_female': '{:.2f} %'}, na_rep='proportion_female', precision=2)\n",
    "\n",
    "# 5) print the resulting dataframe\n",
    "year_counts\n"
   ]
  },
  {
   "cell_type": "markdown",
   "metadata": {
    "nteract": {
     "transient": {
      "deleting": false
     }
    }
   },
   "source": [
    "**QUESTION:** Plot the proportion of female births as a function of year and French, US, en British babynames data. Compare with what you get from `births-fr.hdf`.\n",
    "\n",
    "Don't forget: title, axes labels, ticks, scales, etc.\n",
    "\n",
    "Because of what we did before, the `plot` method of a `DataFrame` with be rendered using `plotly`, so you can use this. But you can use also `seaborn` or any other available plotting library that you want.\n",
    "\n",
    "__Hint:__ Mind the missing values in the `year` column"
   ]
  },
  {
   "cell_type": "code",
   "execution_count": 59,
   "metadata": {
    "jupyter": {
     "outputs_hidden": false
    },
    "nteract": {
     "transient": {
      "deleting": false
     }
    }
   },
   "outputs": [
    {
     "data": {
      "application/vnd.plotly.v1+json": {
       "config": {
        "plotlyServerURL": "https://plot.ly"
       },
       "data": [
        {
         "hovertemplate": "year=%{x}<br>y=%{y}<extra></extra>",
         "legendgroup": "",
         "line": {
          "color": "#636efa",
          "dash": "solid"
         },
         "marker": {
          "symbol": "circle"
         },
         "mode": "lines",
         "name": "",
         "orientation": "v",
         "showlegend": false,
         "type": "scatter",
         "x": [
          1880,
          1881,
          1882,
          1883,
          1884,
          1885,
          1886,
          1887,
          1888,
          1889,
          1890,
          1891,
          1892,
          1893,
          1894,
          1895,
          1896,
          1897,
          1898,
          1899,
          1900,
          1901,
          1902,
          1903,
          1904,
          1905,
          1906,
          1907,
          1908,
          1909,
          1910,
          1911,
          1912,
          1913,
          1914,
          1915,
          1916,
          1917,
          1918,
          1919,
          1920,
          1921,
          1922,
          1923,
          1924,
          1925,
          1926,
          1927,
          1928,
          1929,
          1930,
          1931,
          1932,
          1933,
          1934,
          1935,
          1936,
          1937,
          1938,
          1939,
          1940,
          1941,
          1942,
          1943,
          1944,
          1945,
          1946,
          1947,
          1948,
          1949,
          1950,
          1951,
          1952,
          1953,
          1954,
          1955,
          1956,
          1957,
          1958,
          1959,
          1960,
          1961,
          1962,
          1963,
          1964,
          1965,
          1966,
          1967,
          1968,
          1969,
          1970,
          1971,
          1972,
          1973,
          1974,
          1975,
          1976,
          1977,
          1978,
          1979,
          1980,
          1981,
          1982,
          1983,
          1984,
          1985,
          1986,
          1987,
          1988,
          1989,
          1990,
          1991,
          1992,
          1993,
          1994,
          1995,
          1996,
          1997,
          1998,
          1999,
          2000,
          2001,
          2002,
          2003,
          2004,
          2005,
          2006,
          2007,
          2008,
          2009,
          2010,
          2011,
          2012,
          2013,
          2014,
          2015,
          2016,
          2017,
          2018,
          2019,
          2020,
          2021
         ],
         "xaxis": "x",
         "y": [
          45.16189871156023,
          47.72069126576366,
          48.68213764992123,
          51.773268677631094,
          52.9937033036092,
          55.24301028839048,
          56.609234794392854,
          59.008136851083094,
          59.64544382966077,
          61.729873401950535,
          63.164024007883185,
          64.70134753776978,
          63.50344225328524,
          65.46411088972523,
          65.8186960976229,
          66.55641685255299,
          66.55346812724486,
          67.50116008612018,
          67.83744389916531,
          68.6910432978021,
          62.11022639285343,
          62.16150277503916,
          61.64190099047065,
          61.578026637302344,
          61.21425851721575,
          61.2128854024034,
          61.09875413755551,
          60.953294488817974,
          60.752203096019194,
          60.481446459949666,
          60.36999970695555,
          59.52967306816142,
          55.02570481253023,
          54.06927365282931,
          53.390986453443205,
          53.40046917549939,
          53.6991553615932,
          53.57729573441193,
          53.03051470092132,
          53.171753920618,
          52.51095937140048,
          52.476807800091684,
          52.185939735416376,
          52.09722228408096,
          52.14314510083527,
          51.88319540611318,
          51.43988429422132,
          51.21358014865142,
          50.85264301917822,
          50.76827109320867,
          50.55548207220278,
          50.508433593213915,
          50.46574671976622,
          50.35754834070432,
          50.25409453008034,
          50.18611201273205,
          50.09713036249955,
          49.95933209114499,
          49.89278539476825,
          49.83428262790926,
          49.707472584430015,
          49.611936253660446,
          49.44564206992534,
          49.4315436160679,
          49.38428433763644,
          49.32363877101667,
          49.06976635390908,
          49.103205005135635,
          49.06895258806115,
          49.03216113080918,
          48.88183223780534,
          48.87229472274341,
          48.82268707198895,
          48.82174139154539,
          48.78077991064034,
          48.74503925999919,
          48.71698680228436,
          48.706691412307286,
          48.7132446465045,
          48.70128277207526,
          48.70254841321538,
          48.76189746022467,
          48.76387515711721,
          48.73542261600673,
          48.76049529735208,
          48.71680750675458,
          48.718355882163834,
          48.67019331218972,
          48.61425123481863,
          48.59070126318546,
          48.50742490173105,
          48.52513276419747,
          48.452815455289034,
          48.412678054931675,
          48.35318417342737,
          48.37657106664814,
          48.371835043853046,
          48.33852623239302,
          48.34244152520443,
          48.33407263998806,
          48.30076097728567,
          48.3058257950133,
          48.34920882498529,
          48.3292075695862,
          48.363729365525515,
          48.31432113489495,
          48.32699129594722,
          48.324229304457965,
          48.29444043553148,
          48.10560709369463,
          48.1411767091294,
          48.23513908014969,
          48.111100347902614,
          48.10525812842585,
          48.14650799330587,
          48.14922854278287,
          48.154598955049075,
          48.12438984215242,
          48.16283516341622,
          48.12670000529447,
          48.15797217560722,
          48.221677414944686,
          48.16947405622186,
          48.1811258598973,
          48.15495054720682,
          48.18187131732721,
          48.191042423653265,
          48.17896258858624,
          48.20690664488078,
          48.191125452497985,
          48.20116045945919,
          48.21293575970182,
          48.21958670666263,
          48.20945031605682,
          48.26393039046431,
          48.27930223250456,
          48.32713556752588,
          48.3127774139562,
          48.366741341573324,
          48.361999192091105,
          48.404205897599994,
          48.439944830144064
         ],
         "yaxis": "y"
        }
       ],
       "layout": {
        "legend": {
         "tracegroupgap": 0
        },
        "template": {
         "data": {
          "bar": [
           {
            "error_x": {
             "color": "#2a3f5f"
            },
            "error_y": {
             "color": "#2a3f5f"
            },
            "marker": {
             "line": {
              "color": "#E5ECF6",
              "width": 0.5
             },
             "pattern": {
              "fillmode": "overlay",
              "size": 10,
              "solidity": 0.2
             }
            },
            "type": "bar"
           }
          ],
          "barpolar": [
           {
            "marker": {
             "line": {
              "color": "#E5ECF6",
              "width": 0.5
             },
             "pattern": {
              "fillmode": "overlay",
              "size": 10,
              "solidity": 0.2
             }
            },
            "type": "barpolar"
           }
          ],
          "carpet": [
           {
            "aaxis": {
             "endlinecolor": "#2a3f5f",
             "gridcolor": "white",
             "linecolor": "white",
             "minorgridcolor": "white",
             "startlinecolor": "#2a3f5f"
            },
            "baxis": {
             "endlinecolor": "#2a3f5f",
             "gridcolor": "white",
             "linecolor": "white",
             "minorgridcolor": "white",
             "startlinecolor": "#2a3f5f"
            },
            "type": "carpet"
           }
          ],
          "choropleth": [
           {
            "colorbar": {
             "outlinewidth": 0,
             "ticks": ""
            },
            "type": "choropleth"
           }
          ],
          "contour": [
           {
            "colorbar": {
             "outlinewidth": 0,
             "ticks": ""
            },
            "colorscale": [
             [
              0,
              "#0d0887"
             ],
             [
              0.1111111111111111,
              "#46039f"
             ],
             [
              0.2222222222222222,
              "#7201a8"
             ],
             [
              0.3333333333333333,
              "#9c179e"
             ],
             [
              0.4444444444444444,
              "#bd3786"
             ],
             [
              0.5555555555555556,
              "#d8576b"
             ],
             [
              0.6666666666666666,
              "#ed7953"
             ],
             [
              0.7777777777777778,
              "#fb9f3a"
             ],
             [
              0.8888888888888888,
              "#fdca26"
             ],
             [
              1,
              "#f0f921"
             ]
            ],
            "type": "contour"
           }
          ],
          "contourcarpet": [
           {
            "colorbar": {
             "outlinewidth": 0,
             "ticks": ""
            },
            "type": "contourcarpet"
           }
          ],
          "heatmap": [
           {
            "colorbar": {
             "outlinewidth": 0,
             "ticks": ""
            },
            "colorscale": [
             [
              0,
              "#0d0887"
             ],
             [
              0.1111111111111111,
              "#46039f"
             ],
             [
              0.2222222222222222,
              "#7201a8"
             ],
             [
              0.3333333333333333,
              "#9c179e"
             ],
             [
              0.4444444444444444,
              "#bd3786"
             ],
             [
              0.5555555555555556,
              "#d8576b"
             ],
             [
              0.6666666666666666,
              "#ed7953"
             ],
             [
              0.7777777777777778,
              "#fb9f3a"
             ],
             [
              0.8888888888888888,
              "#fdca26"
             ],
             [
              1,
              "#f0f921"
             ]
            ],
            "type": "heatmap"
           }
          ],
          "heatmapgl": [
           {
            "colorbar": {
             "outlinewidth": 0,
             "ticks": ""
            },
            "colorscale": [
             [
              0,
              "#0d0887"
             ],
             [
              0.1111111111111111,
              "#46039f"
             ],
             [
              0.2222222222222222,
              "#7201a8"
             ],
             [
              0.3333333333333333,
              "#9c179e"
             ],
             [
              0.4444444444444444,
              "#bd3786"
             ],
             [
              0.5555555555555556,
              "#d8576b"
             ],
             [
              0.6666666666666666,
              "#ed7953"
             ],
             [
              0.7777777777777778,
              "#fb9f3a"
             ],
             [
              0.8888888888888888,
              "#fdca26"
             ],
             [
              1,
              "#f0f921"
             ]
            ],
            "type": "heatmapgl"
           }
          ],
          "histogram": [
           {
            "marker": {
             "pattern": {
              "fillmode": "overlay",
              "size": 10,
              "solidity": 0.2
             }
            },
            "type": "histogram"
           }
          ],
          "histogram2d": [
           {
            "colorbar": {
             "outlinewidth": 0,
             "ticks": ""
            },
            "colorscale": [
             [
              0,
              "#0d0887"
             ],
             [
              0.1111111111111111,
              "#46039f"
             ],
             [
              0.2222222222222222,
              "#7201a8"
             ],
             [
              0.3333333333333333,
              "#9c179e"
             ],
             [
              0.4444444444444444,
              "#bd3786"
             ],
             [
              0.5555555555555556,
              "#d8576b"
             ],
             [
              0.6666666666666666,
              "#ed7953"
             ],
             [
              0.7777777777777778,
              "#fb9f3a"
             ],
             [
              0.8888888888888888,
              "#fdca26"
             ],
             [
              1,
              "#f0f921"
             ]
            ],
            "type": "histogram2d"
           }
          ],
          "histogram2dcontour": [
           {
            "colorbar": {
             "outlinewidth": 0,
             "ticks": ""
            },
            "colorscale": [
             [
              0,
              "#0d0887"
             ],
             [
              0.1111111111111111,
              "#46039f"
             ],
             [
              0.2222222222222222,
              "#7201a8"
             ],
             [
              0.3333333333333333,
              "#9c179e"
             ],
             [
              0.4444444444444444,
              "#bd3786"
             ],
             [
              0.5555555555555556,
              "#d8576b"
             ],
             [
              0.6666666666666666,
              "#ed7953"
             ],
             [
              0.7777777777777778,
              "#fb9f3a"
             ],
             [
              0.8888888888888888,
              "#fdca26"
             ],
             [
              1,
              "#f0f921"
             ]
            ],
            "type": "histogram2dcontour"
           }
          ],
          "mesh3d": [
           {
            "colorbar": {
             "outlinewidth": 0,
             "ticks": ""
            },
            "type": "mesh3d"
           }
          ],
          "parcoords": [
           {
            "line": {
             "colorbar": {
              "outlinewidth": 0,
              "ticks": ""
             }
            },
            "type": "parcoords"
           }
          ],
          "pie": [
           {
            "automargin": true,
            "type": "pie"
           }
          ],
          "scatter": [
           {
            "fillpattern": {
             "fillmode": "overlay",
             "size": 10,
             "solidity": 0.2
            },
            "type": "scatter"
           }
          ],
          "scatter3d": [
           {
            "line": {
             "colorbar": {
              "outlinewidth": 0,
              "ticks": ""
             }
            },
            "marker": {
             "colorbar": {
              "outlinewidth": 0,
              "ticks": ""
             }
            },
            "type": "scatter3d"
           }
          ],
          "scattercarpet": [
           {
            "marker": {
             "colorbar": {
              "outlinewidth": 0,
              "ticks": ""
             }
            },
            "type": "scattercarpet"
           }
          ],
          "scattergeo": [
           {
            "marker": {
             "colorbar": {
              "outlinewidth": 0,
              "ticks": ""
             }
            },
            "type": "scattergeo"
           }
          ],
          "scattergl": [
           {
            "marker": {
             "colorbar": {
              "outlinewidth": 0,
              "ticks": ""
             }
            },
            "type": "scattergl"
           }
          ],
          "scattermapbox": [
           {
            "marker": {
             "colorbar": {
              "outlinewidth": 0,
              "ticks": ""
             }
            },
            "type": "scattermapbox"
           }
          ],
          "scatterpolar": [
           {
            "marker": {
             "colorbar": {
              "outlinewidth": 0,
              "ticks": ""
             }
            },
            "type": "scatterpolar"
           }
          ],
          "scatterpolargl": [
           {
            "marker": {
             "colorbar": {
              "outlinewidth": 0,
              "ticks": ""
             }
            },
            "type": "scatterpolargl"
           }
          ],
          "scatterternary": [
           {
            "marker": {
             "colorbar": {
              "outlinewidth": 0,
              "ticks": ""
             }
            },
            "type": "scatterternary"
           }
          ],
          "surface": [
           {
            "colorbar": {
             "outlinewidth": 0,
             "ticks": ""
            },
            "colorscale": [
             [
              0,
              "#0d0887"
             ],
             [
              0.1111111111111111,
              "#46039f"
             ],
             [
              0.2222222222222222,
              "#7201a8"
             ],
             [
              0.3333333333333333,
              "#9c179e"
             ],
             [
              0.4444444444444444,
              "#bd3786"
             ],
             [
              0.5555555555555556,
              "#d8576b"
             ],
             [
              0.6666666666666666,
              "#ed7953"
             ],
             [
              0.7777777777777778,
              "#fb9f3a"
             ],
             [
              0.8888888888888888,
              "#fdca26"
             ],
             [
              1,
              "#f0f921"
             ]
            ],
            "type": "surface"
           }
          ],
          "table": [
           {
            "cells": {
             "fill": {
              "color": "#EBF0F8"
             },
             "line": {
              "color": "white"
             }
            },
            "header": {
             "fill": {
              "color": "#C8D4E3"
             },
             "line": {
              "color": "white"
             }
            },
            "type": "table"
           }
          ]
         },
         "layout": {
          "annotationdefaults": {
           "arrowcolor": "#2a3f5f",
           "arrowhead": 0,
           "arrowwidth": 1
          },
          "autotypenumbers": "strict",
          "coloraxis": {
           "colorbar": {
            "outlinewidth": 0,
            "ticks": ""
           }
          },
          "colorscale": {
           "diverging": [
            [
             0,
             "#8e0152"
            ],
            [
             0.1,
             "#c51b7d"
            ],
            [
             0.2,
             "#de77ae"
            ],
            [
             0.3,
             "#f1b6da"
            ],
            [
             0.4,
             "#fde0ef"
            ],
            [
             0.5,
             "#f7f7f7"
            ],
            [
             0.6,
             "#e6f5d0"
            ],
            [
             0.7,
             "#b8e186"
            ],
            [
             0.8,
             "#7fbc41"
            ],
            [
             0.9,
             "#4d9221"
            ],
            [
             1,
             "#276419"
            ]
           ],
           "sequential": [
            [
             0,
             "#0d0887"
            ],
            [
             0.1111111111111111,
             "#46039f"
            ],
            [
             0.2222222222222222,
             "#7201a8"
            ],
            [
             0.3333333333333333,
             "#9c179e"
            ],
            [
             0.4444444444444444,
             "#bd3786"
            ],
            [
             0.5555555555555556,
             "#d8576b"
            ],
            [
             0.6666666666666666,
             "#ed7953"
            ],
            [
             0.7777777777777778,
             "#fb9f3a"
            ],
            [
             0.8888888888888888,
             "#fdca26"
            ],
            [
             1,
             "#f0f921"
            ]
           ],
           "sequentialminus": [
            [
             0,
             "#0d0887"
            ],
            [
             0.1111111111111111,
             "#46039f"
            ],
            [
             0.2222222222222222,
             "#7201a8"
            ],
            [
             0.3333333333333333,
             "#9c179e"
            ],
            [
             0.4444444444444444,
             "#bd3786"
            ],
            [
             0.5555555555555556,
             "#d8576b"
            ],
            [
             0.6666666666666666,
             "#ed7953"
            ],
            [
             0.7777777777777778,
             "#fb9f3a"
            ],
            [
             0.8888888888888888,
             "#fdca26"
            ],
            [
             1,
             "#f0f921"
            ]
           ]
          },
          "colorway": [
           "#636efa",
           "#EF553B",
           "#00cc96",
           "#ab63fa",
           "#FFA15A",
           "#19d3f3",
           "#FF6692",
           "#B6E880",
           "#FF97FF",
           "#FECB52"
          ],
          "font": {
           "color": "#2a3f5f"
          },
          "geo": {
           "bgcolor": "white",
           "lakecolor": "white",
           "landcolor": "#E5ECF6",
           "showlakes": true,
           "showland": true,
           "subunitcolor": "white"
          },
          "hoverlabel": {
           "align": "left"
          },
          "hovermode": "closest",
          "mapbox": {
           "style": "light"
          },
          "paper_bgcolor": "white",
          "plot_bgcolor": "#E5ECF6",
          "polar": {
           "angularaxis": {
            "gridcolor": "white",
            "linecolor": "white",
            "ticks": ""
           },
           "bgcolor": "#E5ECF6",
           "radialaxis": {
            "gridcolor": "white",
            "linecolor": "white",
            "ticks": ""
           }
          },
          "scene": {
           "xaxis": {
            "backgroundcolor": "#E5ECF6",
            "gridcolor": "white",
            "gridwidth": 2,
            "linecolor": "white",
            "showbackground": true,
            "ticks": "",
            "zerolinecolor": "white"
           },
           "yaxis": {
            "backgroundcolor": "#E5ECF6",
            "gridcolor": "white",
            "gridwidth": 2,
            "linecolor": "white",
            "showbackground": true,
            "ticks": "",
            "zerolinecolor": "white"
           },
           "zaxis": {
            "backgroundcolor": "#E5ECF6",
            "gridcolor": "white",
            "gridwidth": 2,
            "linecolor": "white",
            "showbackground": true,
            "ticks": "",
            "zerolinecolor": "white"
           }
          },
          "shapedefaults": {
           "line": {
            "color": "#2a3f5f"
           }
          },
          "ternary": {
           "aaxis": {
            "gridcolor": "white",
            "linecolor": "white",
            "ticks": ""
           },
           "baxis": {
            "gridcolor": "white",
            "linecolor": "white",
            "ticks": ""
           },
           "bgcolor": "#E5ECF6",
           "caxis": {
            "gridcolor": "white",
            "linecolor": "white",
            "ticks": ""
           }
          },
          "title": {
           "x": 0.05
          },
          "xaxis": {
           "automargin": true,
           "gridcolor": "white",
           "linecolor": "white",
           "ticks": "",
           "title": {
            "standoff": 15
           },
           "zerolinecolor": "white",
           "zerolinewidth": 2
          },
          "yaxis": {
           "automargin": true,
           "gridcolor": "white",
           "linecolor": "white",
           "ticks": "",
           "title": {
            "standoff": 15
           },
           "zerolinecolor": "white",
           "zerolinewidth": 2
          }
         }
        },
        "title": {
         "text": "Proportion (in %) of female births by year for tree countries"
        },
        "xaxis": {
         "anchor": "y",
         "domain": [
          0,
          1
         ],
         "tickmode": "linear",
         "title": {
          "text": "Year"
         }
        },
        "yaxis": {
         "anchor": "x",
         "domain": [
          0,
          1
         ],
         "title": {
          "text": "Proportion female births"
         }
        }
       }
      },
      "text/html": [
       "<div>                            <div id=\"2ca9d0b4-36b4-496f-94d3-33656bf6e7ac\" class=\"plotly-graph-div\" style=\"height:525px; width:100%;\"></div>            <script type=\"text/javascript\">                require([\"plotly\"], function(Plotly) {                    window.PLOTLYENV=window.PLOTLYENV || {};                                    if (document.getElementById(\"2ca9d0b4-36b4-496f-94d3-33656bf6e7ac\")) {                    Plotly.newPlot(                        \"2ca9d0b4-36b4-496f-94d3-33656bf6e7ac\",                        [{\"hovertemplate\":\"year=%{x}<br>y=%{y}<extra></extra>\",\"legendgroup\":\"\",\"line\":{\"color\":\"#636efa\",\"dash\":\"solid\"},\"marker\":{\"symbol\":\"circle\"},\"mode\":\"lines\",\"name\":\"\",\"orientation\":\"v\",\"showlegend\":false,\"x\":[1880.0,1881.0,1882.0,1883.0,1884.0,1885.0,1886.0,1887.0,1888.0,1889.0,1890.0,1891.0,1892.0,1893.0,1894.0,1895.0,1896.0,1897.0,1898.0,1899.0,1900.0,1901.0,1902.0,1903.0,1904.0,1905.0,1906.0,1907.0,1908.0,1909.0,1910.0,1911.0,1912.0,1913.0,1914.0,1915.0,1916.0,1917.0,1918.0,1919.0,1920.0,1921.0,1922.0,1923.0,1924.0,1925.0,1926.0,1927.0,1928.0,1929.0,1930.0,1931.0,1932.0,1933.0,1934.0,1935.0,1936.0,1937.0,1938.0,1939.0,1940.0,1941.0,1942.0,1943.0,1944.0,1945.0,1946.0,1947.0,1948.0,1949.0,1950.0,1951.0,1952.0,1953.0,1954.0,1955.0,1956.0,1957.0,1958.0,1959.0,1960.0,1961.0,1962.0,1963.0,1964.0,1965.0,1966.0,1967.0,1968.0,1969.0,1970.0,1971.0,1972.0,1973.0,1974.0,1975.0,1976.0,1977.0,1978.0,1979.0,1980.0,1981.0,1982.0,1983.0,1984.0,1985.0,1986.0,1987.0,1988.0,1989.0,1990.0,1991.0,1992.0,1993.0,1994.0,1995.0,1996.0,1997.0,1998.0,1999.0,2000.0,2001.0,2002.0,2003.0,2004.0,2005.0,2006.0,2007.0,2008.0,2009.0,2010.0,2011.0,2012.0,2013.0,2014.0,2015.0,2016.0,2017.0,2018.0,2019.0,2020.0,2021.0],\"xaxis\":\"x\",\"y\":[45.16189871156023,47.72069126576366,48.68213764992123,51.773268677631094,52.9937033036092,55.24301028839048,56.609234794392854,59.008136851083094,59.64544382966077,61.729873401950535,63.164024007883185,64.70134753776978,63.50344225328524,65.46411088972523,65.8186960976229,66.55641685255299,66.55346812724486,67.50116008612018,67.83744389916531,68.6910432978021,62.11022639285343,62.16150277503916,61.64190099047065,61.578026637302344,61.21425851721575,61.2128854024034,61.09875413755551,60.953294488817974,60.752203096019194,60.481446459949666,60.36999970695555,59.52967306816142,55.02570481253023,54.06927365282931,53.390986453443205,53.40046917549939,53.6991553615932,53.57729573441193,53.03051470092132,53.171753920618,52.51095937140048,52.476807800091684,52.185939735416376,52.09722228408096,52.14314510083527,51.88319540611318,51.43988429422132,51.21358014865142,50.85264301917822,50.76827109320867,50.55548207220278,50.508433593213915,50.46574671976622,50.35754834070432,50.25409453008034,50.18611201273205,50.09713036249955,49.95933209114499,49.89278539476825,49.83428262790926,49.707472584430015,49.611936253660446,49.44564206992534,49.4315436160679,49.38428433763644,49.32363877101667,49.06976635390908,49.103205005135635,49.06895258806115,49.03216113080918,48.88183223780534,48.87229472274341,48.82268707198895,48.82174139154539,48.78077991064034,48.74503925999919,48.71698680228436,48.706691412307286,48.7132446465045,48.70128277207526,48.70254841321538,48.76189746022467,48.76387515711721,48.73542261600673,48.76049529735208,48.71680750675458,48.718355882163834,48.67019331218972,48.61425123481863,48.59070126318546,48.50742490173105,48.52513276419747,48.452815455289034,48.412678054931675,48.35318417342737,48.37657106664814,48.371835043853046,48.33852623239302,48.34244152520443,48.33407263998806,48.30076097728567,48.3058257950133,48.34920882498529,48.3292075695862,48.363729365525515,48.31432113489495,48.32699129594722,48.324229304457965,48.29444043553148,48.10560709369463,48.1411767091294,48.23513908014969,48.111100347902614,48.10525812842585,48.14650799330587,48.14922854278287,48.154598955049075,48.12438984215242,48.16283516341622,48.12670000529447,48.15797217560722,48.221677414944686,48.16947405622186,48.1811258598973,48.15495054720682,48.18187131732721,48.191042423653265,48.17896258858624,48.20690664488078,48.191125452497985,48.20116045945919,48.21293575970182,48.21958670666263,48.20945031605682,48.26393039046431,48.27930223250456,48.32713556752588,48.3127774139562,48.366741341573324,48.361999192091105,48.404205897599994,48.439944830144064],\"yaxis\":\"y\",\"type\":\"scatter\"}],                        {\"template\":{\"data\":{\"histogram2dcontour\":[{\"type\":\"histogram2dcontour\",\"colorbar\":{\"outlinewidth\":0,\"ticks\":\"\"},\"colorscale\":[[0.0,\"#0d0887\"],[0.1111111111111111,\"#46039f\"],[0.2222222222222222,\"#7201a8\"],[0.3333333333333333,\"#9c179e\"],[0.4444444444444444,\"#bd3786\"],[0.5555555555555556,\"#d8576b\"],[0.6666666666666666,\"#ed7953\"],[0.7777777777777778,\"#fb9f3a\"],[0.8888888888888888,\"#fdca26\"],[1.0,\"#f0f921\"]]}],\"choropleth\":[{\"type\":\"choropleth\",\"colorbar\":{\"outlinewidth\":0,\"ticks\":\"\"}}],\"histogram2d\":[{\"type\":\"histogram2d\",\"colorbar\":{\"outlinewidth\":0,\"ticks\":\"\"},\"colorscale\":[[0.0,\"#0d0887\"],[0.1111111111111111,\"#46039f\"],[0.2222222222222222,\"#7201a8\"],[0.3333333333333333,\"#9c179e\"],[0.4444444444444444,\"#bd3786\"],[0.5555555555555556,\"#d8576b\"],[0.6666666666666666,\"#ed7953\"],[0.7777777777777778,\"#fb9f3a\"],[0.8888888888888888,\"#fdca26\"],[1.0,\"#f0f921\"]]}],\"heatmap\":[{\"type\":\"heatmap\",\"colorbar\":{\"outlinewidth\":0,\"ticks\":\"\"},\"colorscale\":[[0.0,\"#0d0887\"],[0.1111111111111111,\"#46039f\"],[0.2222222222222222,\"#7201a8\"],[0.3333333333333333,\"#9c179e\"],[0.4444444444444444,\"#bd3786\"],[0.5555555555555556,\"#d8576b\"],[0.6666666666666666,\"#ed7953\"],[0.7777777777777778,\"#fb9f3a\"],[0.8888888888888888,\"#fdca26\"],[1.0,\"#f0f921\"]]}],\"heatmapgl\":[{\"type\":\"heatmapgl\",\"colorbar\":{\"outlinewidth\":0,\"ticks\":\"\"},\"colorscale\":[[0.0,\"#0d0887\"],[0.1111111111111111,\"#46039f\"],[0.2222222222222222,\"#7201a8\"],[0.3333333333333333,\"#9c179e\"],[0.4444444444444444,\"#bd3786\"],[0.5555555555555556,\"#d8576b\"],[0.6666666666666666,\"#ed7953\"],[0.7777777777777778,\"#fb9f3a\"],[0.8888888888888888,\"#fdca26\"],[1.0,\"#f0f921\"]]}],\"contourcarpet\":[{\"type\":\"contourcarpet\",\"colorbar\":{\"outlinewidth\":0,\"ticks\":\"\"}}],\"contour\":[{\"type\":\"contour\",\"colorbar\":{\"outlinewidth\":0,\"ticks\":\"\"},\"colorscale\":[[0.0,\"#0d0887\"],[0.1111111111111111,\"#46039f\"],[0.2222222222222222,\"#7201a8\"],[0.3333333333333333,\"#9c179e\"],[0.4444444444444444,\"#bd3786\"],[0.5555555555555556,\"#d8576b\"],[0.6666666666666666,\"#ed7953\"],[0.7777777777777778,\"#fb9f3a\"],[0.8888888888888888,\"#fdca26\"],[1.0,\"#f0f921\"]]}],\"surface\":[{\"type\":\"surface\",\"colorbar\":{\"outlinewidth\":0,\"ticks\":\"\"},\"colorscale\":[[0.0,\"#0d0887\"],[0.1111111111111111,\"#46039f\"],[0.2222222222222222,\"#7201a8\"],[0.3333333333333333,\"#9c179e\"],[0.4444444444444444,\"#bd3786\"],[0.5555555555555556,\"#d8576b\"],[0.6666666666666666,\"#ed7953\"],[0.7777777777777778,\"#fb9f3a\"],[0.8888888888888888,\"#fdca26\"],[1.0,\"#f0f921\"]]}],\"mesh3d\":[{\"type\":\"mesh3d\",\"colorbar\":{\"outlinewidth\":0,\"ticks\":\"\"}}],\"scatter\":[{\"fillpattern\":{\"fillmode\":\"overlay\",\"size\":10,\"solidity\":0.2},\"type\":\"scatter\"}],\"parcoords\":[{\"type\":\"parcoords\",\"line\":{\"colorbar\":{\"outlinewidth\":0,\"ticks\":\"\"}}}],\"scatterpolargl\":[{\"type\":\"scatterpolargl\",\"marker\":{\"colorbar\":{\"outlinewidth\":0,\"ticks\":\"\"}}}],\"bar\":[{\"error_x\":{\"color\":\"#2a3f5f\"},\"error_y\":{\"color\":\"#2a3f5f\"},\"marker\":{\"line\":{\"color\":\"#E5ECF6\",\"width\":0.5},\"pattern\":{\"fillmode\":\"overlay\",\"size\":10,\"solidity\":0.2}},\"type\":\"bar\"}],\"scattergeo\":[{\"type\":\"scattergeo\",\"marker\":{\"colorbar\":{\"outlinewidth\":0,\"ticks\":\"\"}}}],\"scatterpolar\":[{\"type\":\"scatterpolar\",\"marker\":{\"colorbar\":{\"outlinewidth\":0,\"ticks\":\"\"}}}],\"histogram\":[{\"marker\":{\"pattern\":{\"fillmode\":\"overlay\",\"size\":10,\"solidity\":0.2}},\"type\":\"histogram\"}],\"scattergl\":[{\"type\":\"scattergl\",\"marker\":{\"colorbar\":{\"outlinewidth\":0,\"ticks\":\"\"}}}],\"scatter3d\":[{\"type\":\"scatter3d\",\"line\":{\"colorbar\":{\"outlinewidth\":0,\"ticks\":\"\"}},\"marker\":{\"colorbar\":{\"outlinewidth\":0,\"ticks\":\"\"}}}],\"scattermapbox\":[{\"type\":\"scattermapbox\",\"marker\":{\"colorbar\":{\"outlinewidth\":0,\"ticks\":\"\"}}}],\"scatterternary\":[{\"type\":\"scatterternary\",\"marker\":{\"colorbar\":{\"outlinewidth\":0,\"ticks\":\"\"}}}],\"scattercarpet\":[{\"type\":\"scattercarpet\",\"marker\":{\"colorbar\":{\"outlinewidth\":0,\"ticks\":\"\"}}}],\"carpet\":[{\"aaxis\":{\"endlinecolor\":\"#2a3f5f\",\"gridcolor\":\"white\",\"linecolor\":\"white\",\"minorgridcolor\":\"white\",\"startlinecolor\":\"#2a3f5f\"},\"baxis\":{\"endlinecolor\":\"#2a3f5f\",\"gridcolor\":\"white\",\"linecolor\":\"white\",\"minorgridcolor\":\"white\",\"startlinecolor\":\"#2a3f5f\"},\"type\":\"carpet\"}],\"table\":[{\"cells\":{\"fill\":{\"color\":\"#EBF0F8\"},\"line\":{\"color\":\"white\"}},\"header\":{\"fill\":{\"color\":\"#C8D4E3\"},\"line\":{\"color\":\"white\"}},\"type\":\"table\"}],\"barpolar\":[{\"marker\":{\"line\":{\"color\":\"#E5ECF6\",\"width\":0.5},\"pattern\":{\"fillmode\":\"overlay\",\"size\":10,\"solidity\":0.2}},\"type\":\"barpolar\"}],\"pie\":[{\"automargin\":true,\"type\":\"pie\"}]},\"layout\":{\"autotypenumbers\":\"strict\",\"colorway\":[\"#636efa\",\"#EF553B\",\"#00cc96\",\"#ab63fa\",\"#FFA15A\",\"#19d3f3\",\"#FF6692\",\"#B6E880\",\"#FF97FF\",\"#FECB52\"],\"font\":{\"color\":\"#2a3f5f\"},\"hovermode\":\"closest\",\"hoverlabel\":{\"align\":\"left\"},\"paper_bgcolor\":\"white\",\"plot_bgcolor\":\"#E5ECF6\",\"polar\":{\"bgcolor\":\"#E5ECF6\",\"angularaxis\":{\"gridcolor\":\"white\",\"linecolor\":\"white\",\"ticks\":\"\"},\"radialaxis\":{\"gridcolor\":\"white\",\"linecolor\":\"white\",\"ticks\":\"\"}},\"ternary\":{\"bgcolor\":\"#E5ECF6\",\"aaxis\":{\"gridcolor\":\"white\",\"linecolor\":\"white\",\"ticks\":\"\"},\"baxis\":{\"gridcolor\":\"white\",\"linecolor\":\"white\",\"ticks\":\"\"},\"caxis\":{\"gridcolor\":\"white\",\"linecolor\":\"white\",\"ticks\":\"\"}},\"coloraxis\":{\"colorbar\":{\"outlinewidth\":0,\"ticks\":\"\"}},\"colorscale\":{\"sequential\":[[0.0,\"#0d0887\"],[0.1111111111111111,\"#46039f\"],[0.2222222222222222,\"#7201a8\"],[0.3333333333333333,\"#9c179e\"],[0.4444444444444444,\"#bd3786\"],[0.5555555555555556,\"#d8576b\"],[0.6666666666666666,\"#ed7953\"],[0.7777777777777778,\"#fb9f3a\"],[0.8888888888888888,\"#fdca26\"],[1.0,\"#f0f921\"]],\"sequentialminus\":[[0.0,\"#0d0887\"],[0.1111111111111111,\"#46039f\"],[0.2222222222222222,\"#7201a8\"],[0.3333333333333333,\"#9c179e\"],[0.4444444444444444,\"#bd3786\"],[0.5555555555555556,\"#d8576b\"],[0.6666666666666666,\"#ed7953\"],[0.7777777777777778,\"#fb9f3a\"],[0.8888888888888888,\"#fdca26\"],[1.0,\"#f0f921\"]],\"diverging\":[[0,\"#8e0152\"],[0.1,\"#c51b7d\"],[0.2,\"#de77ae\"],[0.3,\"#f1b6da\"],[0.4,\"#fde0ef\"],[0.5,\"#f7f7f7\"],[0.6,\"#e6f5d0\"],[0.7,\"#b8e186\"],[0.8,\"#7fbc41\"],[0.9,\"#4d9221\"],[1,\"#276419\"]]},\"xaxis\":{\"gridcolor\":\"white\",\"linecolor\":\"white\",\"ticks\":\"\",\"title\":{\"standoff\":15},\"zerolinecolor\":\"white\",\"automargin\":true,\"zerolinewidth\":2},\"yaxis\":{\"gridcolor\":\"white\",\"linecolor\":\"white\",\"ticks\":\"\",\"title\":{\"standoff\":15},\"zerolinecolor\":\"white\",\"automargin\":true,\"zerolinewidth\":2},\"scene\":{\"xaxis\":{\"backgroundcolor\":\"#E5ECF6\",\"gridcolor\":\"white\",\"linecolor\":\"white\",\"showbackground\":true,\"ticks\":\"\",\"zerolinecolor\":\"white\",\"gridwidth\":2},\"yaxis\":{\"backgroundcolor\":\"#E5ECF6\",\"gridcolor\":\"white\",\"linecolor\":\"white\",\"showbackground\":true,\"ticks\":\"\",\"zerolinecolor\":\"white\",\"gridwidth\":2},\"zaxis\":{\"backgroundcolor\":\"#E5ECF6\",\"gridcolor\":\"white\",\"linecolor\":\"white\",\"showbackground\":true,\"ticks\":\"\",\"zerolinecolor\":\"white\",\"gridwidth\":2}},\"shapedefaults\":{\"line\":{\"color\":\"#2a3f5f\"}},\"annotationdefaults\":{\"arrowcolor\":\"#2a3f5f\",\"arrowhead\":0,\"arrowwidth\":1},\"geo\":{\"bgcolor\":\"white\",\"landcolor\":\"#E5ECF6\",\"subunitcolor\":\"white\",\"showland\":true,\"showlakes\":true,\"lakecolor\":\"white\"},\"title\":{\"x\":0.05},\"mapbox\":{\"style\":\"light\"}}},\"xaxis\":{\"anchor\":\"y\",\"domain\":[0.0,1.0],\"title\":{\"text\":\"Year\"},\"tickmode\":\"linear\"},\"yaxis\":{\"anchor\":\"x\",\"domain\":[0.0,1.0],\"title\":{\"text\":\"Proportion female births\"}},\"legend\":{\"tracegroupgap\":0},\"title\":{\"text\":\"Proportion (in %) of female births by year for tree countries\"}},                        {\"responsive\": true}                    ).then(function(){\n",
       "                            \n",
       "var gd = document.getElementById('2ca9d0b4-36b4-496f-94d3-33656bf6e7ac');\n",
       "var x = new MutationObserver(function (mutations, observer) {{\n",
       "        var display = window.getComputedStyle(gd).display;\n",
       "        if (!display || display === 'none') {{\n",
       "            console.log([gd, 'removed!']);\n",
       "            Plotly.purge(gd);\n",
       "            observer.disconnect();\n",
       "        }}\n",
       "}});\n",
       "\n",
       "// Listen for the removal of the full notebook cells\n",
       "var notebookContainer = gd.closest('#notebook-container');\n",
       "if (notebookContainer) {{\n",
       "    x.observe(notebookContainer, {childList: true});\n",
       "}}\n",
       "\n",
       "// Listen for the clearing of the current output cell\n",
       "var outputEl = gd.closest('.output');\n",
       "if (outputEl) {{\n",
       "    x.observe(outputEl, {childList: true});\n",
       "}}\n",
       "\n",
       "                        })                };                });            </script>        </div>"
      ]
     },
     "metadata": {},
     "output_type": "display_data"
    }
   ],
   "source": [
    "# For the aggregated data \n",
    "\n",
    "# Group the data by year and compute the proportion of female births\n",
    "def transformData(df):\n",
    "    rez = (df.groupby(['year', 'gender']).sum(numeric_only = True)\n",
    "                                                 .unstack('gender')\n",
    "                  )\n",
    "    return (100 * rez['count']['Female'] / (rez['count']['Female'] + rez['count']['Male']))\n",
    "\n",
    "prop_female = transformData(df_total)\n",
    "\n",
    "# Plot the data\n",
    "fig = px.line(prop_female, x=prop_female.index, y=prop_female.values, title='Proportion (in %) of female births by year for tree countries')\n",
    "fig.update_layout(xaxis_title='Year', yaxis_title='Proportion female births', xaxis_tickmode='linear')\n",
    "fig.show()\n"
   ]
  },
  {
   "cell_type": "code",
   "execution_count": 60,
   "metadata": {},
   "outputs": [
    {
     "data": {
      "image/png": "[encoded data removed]",
      "text/plain": [
       "<Figure size 640x480 with 1 Axes>"
      ]
     },
     "metadata": {},
     "output_type": "display_data"
    }
   ],
   "source": [
    "# For French, USA and British data\n",
    "\n",
    "import matplotlib.pyplot as plt\n",
    "\n",
    "prop_fr = transformData(df_fr)\n",
    "prop_br = transformData(df_br)\n",
    "prop_us = transformData(df_us)\n",
    "\n",
    "fig, ax = plt.subplots()   \n",
    "ax.plot(prop_fr, label='France', color='red')\n",
    "ax.plot(prop_us, label='USA', color='green')\n",
    "ax.plot(prop_br, label='UK', color='blue')    \n",
    "ax.legend()\n",
    "ax.set_xlabel('Year')\n",
    "ax.set_ylabel('Proportion, %')\n",
    "fig.suptitle('Proportion of female births by year')\n",
    "plt.show()"
   ]
  },
  {
   "cell_type": "markdown",
   "metadata": {
    "nteract": {
     "transient": {
      "deleting": false
     }
    }
   },
   "source": [
    "**QUESTION:** Make any sensible comment about these plots.\n",
    "\n",
    "> ##### Basing on this charts we can constate that \n",
    "> - In ***France***, the ratio of female births was systematically came to an equilibration from 1900 till the end of the World War II. After World War II, slightly more boys was born in France than girls.\n",
    "> - In the ***UK**, on 1995-2021 the situation is similar to french one - a little bit more males was born than females.\n",
    "> - In the ***United States***, the birth rate for girls far exceeded that for boys between 1884 and 1905 (up to a ratio of 3 boys to 7 girls). Since 1920 we can state the equilibration of the birth rate between boys and girls. Since '60 the tendencies are the same as in France and UK.\n",
    "> It's interesting that the disproportion in the US disappears sharply in 1910-1914.\n",
    "> We looked for other birth statistics researches and found no such anomalies.\n",
    "> For exemple\n",
    "> https://jscholarship.library.jhu.edu/bitstream/handle/1774.2/934/WP90-01_Sex_Ratio.pdf"
   ]
  },
  {
   "cell_type": "markdown",
   "metadata": {},
   "source": []
  },
  {
   "cell_type": "markdown",
   "metadata": {
    "nteract": {
     "transient": {
      "deleting": false
     }
    }
   },
   "source": [
    "**QUESTION:** Explore the fluctuations of sex ratio around its mean value since 1945  in the US, in France and in the Great Britain.\n",
    "\n",
    "Plot deviations of sex ratio around its mean since 1945 as a function of time."
   ]
  },
  {
   "cell_type": "code",
   "execution_count": 61,
   "metadata": {
    "ExecuteTime": {
     "end_time": "2021-02-03T09:59:30.923060Z",
     "start_time": "2021-02-03T09:59:30.920458Z"
    },
    "jupyter": {
     "outputs_hidden": false
    },
    "nteract": {
     "transient": {
      "deleting": false
     }
    }
   },
   "outputs": [
    {
     "data": {
      "image/png": "[encoded data removed]",
      "text/plain": [
       "<Figure size 1000x1200 with 3 Axes>"
      ]
     },
     "metadata": {},
     "output_type": "display_data"
    },
    {
     "data": {
      "image/png": "[encoded data removed]",
      "text/plain": [
       "<Figure size 1000x700 with 1 Axes>"
      ]
     },
     "metadata": {},
     "output_type": "display_data"
    }
   ],
   "source": [
    "df_fr_1945 = df_fr[(df_fr[\"year\"] >= 1945)]\n",
    "df_br_1945 = df_br[(df_br[\"year\"] >= 1945)]\n",
    "df_us_1945 = df_us[(df_us[\"year\"] >= 1945)]\n",
    "\n",
    "# Group the data by year and gender, and calculate the total number of births for each group\n",
    "def makeGroupBy(df):\n",
    "    df = df.groupby(['year', 'gender'])['count'].sum().unstack('gender')\n",
    "    df['sex_ratio'] = df['Female'] / df['Male']\n",
    "    df['sex_ratio_mean'] = df['sex_ratio'].mean()\n",
    "    return df\n",
    "\n",
    "df_fr_1945 = makeGroupBy(df_fr_1945)\n",
    "df_br_1945 = makeGroupBy(df_br_1945)\n",
    "df_us_1945 = makeGroupBy(df_us_1945)\n",
    "\n",
    "# ploat\n",
    "fig, axs = plt.subplots(nrows= 3 , ncols= 1 )\n",
    "fig.suptitle('Deviation of sex ratio (f/m) around mean value\\nin France, UK and USA')\n",
    "fig.set_size_inches(10, 12)\n",
    "\n",
    "axs[0].plot(df_fr_1945.index, df_fr_1945[['sex_ratio', 'sex_ratio_mean']].values)\n",
    "axs[0].set_title('France')\n",
    "\n",
    "axs[1].plot(df_br_1945.index, df_br_1945[['sex_ratio', 'sex_ratio_mean']].values)\n",
    "axs[1].set_title('UK')\n",
    "\n",
    "axs[2].plot(df_us_1945.index, df_us_1945[['sex_ratio', 'sex_ratio_mean']].values)\n",
    "axs[2].set_title('USA')\n",
    "\n",
    "\n",
    "#TODO remove for\n",
    "for ax in axs.flat:\n",
    "    ax.set(ylabel='Ratio and mean ratio')\n",
    "\n",
    "plt.show()\n",
    "\n",
    "# Calculate the deviations from the mean\n",
    "dev_fr = df_fr_1945['sex_ratio'] - df_fr_1945['sex_ratio_mean']\n",
    "dev_br = df_br_1945['sex_ratio'] - df_br_1945['sex_ratio_mean']\n",
    "dev_us = df_us_1945['sex_ratio'] - df_us_1945['sex_ratio_mean']\n",
    "\n",
    "fig1, axs1 = plt.subplots()\n",
    "fig1.set_size_inches(10, 7)\n",
    "\n",
    "axs1.plot(dev_fr, label='France', color='red')\n",
    "axs1.plot(dev_br, label='USA', color='green')\n",
    "axs1.plot(dev_us, label='UK', color='blue')    \n",
    "axs1.set_title('Fluctuations of sex ratio around mean value  for France, UK and US')\n",
    "\n",
    "plt.show()"
   ]
  },
  {
   "cell_type": "markdown",
   "metadata": {},
   "source": [
    "**QUESTION:**  Assume that baby gender is chosen at random according to a Bernoulli distribution with success probability $.48$, that baby genders are i.i.d. Perform simulations for sex ratios for French and US data since 1945. \n",
    "\n",
    "Plot the results, compare with your plots above.  "
   ]
  },
  {
   "cell_type": "code",
   "execution_count": 73,
   "metadata": {},
   "outputs": [
    {
     "data": {
      "text/plain": [
       "year    gender\n",
       "1945.0  Female    293281\n",
       "        Male      298485\n",
       "1946.0  Female    421644\n",
       "        Male      444552\n",
       "1947.0  Female    434496\n",
       "                   ...  \n",
       "2019.0  Male      378649\n",
       "2020.0  Female    352148\n",
       "        Male      369459\n",
       "2021.0  Female    355705\n",
       "        Male      372883\n",
       "Name: count, Length: 154, dtype: int64"
      ]
     },
     "execution_count": 73,
     "metadata": {},
     "output_type": "execute_result"
    }
   ],
   "source": [
    "#p = 0.48 \n",
    "#k = df_total['Female']\n",
    "#n = df_total['Female'] + df_total['Male']\n",
    "#bernoulli = np.random.binomial(k, p, n)\n",
    "\n",
    "bern_fr_sep = (df_fr[(df_fr[\"year\"] >= 1945)]).groupby(['year', 'gender'])['count'].sum()\n",
    "bern_fr_all = (df_fr[(df_fr[\"year\"] >= 1945)]).groupby(['year'])['count'].sum()\n",
    "\n",
    "bern_fr_sep"
   ]
  },
  {
   "cell_type": "markdown",
   "metadata": {
    "nteract": {
     "transient": {
      "deleting": false
     }
    }
   },
   "source": [
    "# The rise, decline and fall of firstnames"
   ]
  },
  {
   "cell_type": "markdown",
   "metadata": {},
   "source": [
    "**Question:** For each year, country, gender and firstname, compute the popularity rank of the firstname among the names given to babies with that gender, in that country, in that year. The most popular name should be given rank $1$.  "
   ]
  },
  {
   "cell_type": "code",
   "execution_count": 64,
   "metadata": {},
   "outputs": [
    {
     "name": "stdout",
     "output_type": "stream",
     "text": [
      "Popularity rank for French data:\n",
      "            year  gender   firstname  count  popularity_rank\n",
      "21431    1900.0  Female       MARIE  48713                1\n",
      "15000    1900.0  Female      JEANNE  13981                2\n",
      "21311    1900.0  Female  MARGUERITE   8058                3\n",
      "11289    1900.0  Female    GERMAINE   6981                4\n",
      "19475    1900.0  Female      LOUISE   6696                5\n",
      "...         ...     ...         ...    ...              ...\n",
      "8825475  2021.0    Male        ÖZGE      0            21280\n",
      "8825476  2021.0    Male       ÖZGÜR      0            21280\n",
      "8825477  2021.0    Male       ÖZKAN      0            21280\n",
      "8825478  2021.0    Male       ÖZLEM      0            21280\n",
      "8825479  2021.0    Male        ÜMMÜ      0            21280\n",
      "\n",
      "[8825480 rows x 5 columns]\n",
      "Popularity rank for British data:\n",
      "            year  gender firstname  count  popularity_rank\n",
      "31834    1996.0  Female    Sophie   7087                1\n",
      "7103     1996.0  Female     Chloe   6824                2\n",
      "15978    1996.0  Female   Jessica   6711                3\n",
      "10338    1996.0  Female     Emily   6415                4\n",
      "19448    1996.0  Female    Lauren   6299                5\n",
      "...         ...     ...       ...    ...              ...\n",
      "1893367  2021.0    Male     Zyrah      0            21307\n",
      "1893368  2021.0    Male     Zyren      0            21307\n",
      "1893369  2021.0    Male     Zyron      0            21307\n",
      "1893370  2021.0    Male     Zysha      0            21307\n",
      "1893371  2021.0    Male      Zyva      0            21307\n",
      "\n",
      "[1893372 rows x 5 columns]\n",
      "Popularity rank for USA data:\n",
      "             year  gender  firstname  count  popularity_rank\n",
      "63516     1880.0  Female       Mary   7065                1\n",
      "6526      1880.0  Female       Anna   2604                2\n",
      "29174     1880.0  Female       Emma   2003                3\n",
      "28332     1880.0  Female  Elizabeth   1939                4\n",
      "66405     1880.0  Female     Minnie   1746                5\n",
      "...          ...     ...        ...    ...              ...\n",
      "28779987  2021.0    Male     Zyvion      0            57666\n",
      "28779988  2021.0    Male      Zyvon      0            57666\n",
      "28779989  2021.0    Male    Zyyanna      0            57666\n",
      "28779990  2021.0    Male      Zyyon      0            57666\n",
      "28779991  2021.0    Male      Zzyzx      0            57666\n",
      "\n",
      "[28779992 rows x 5 columns]\n"
     ]
    }
   ],
   "source": [
    "# Group data by year, country, gender, and firstname, and sum the counts\n",
    "df_fr_popularity_rank = df_fr.groupby(['year', 'gender', 'firstname'])['count'].sum().reset_index()\n",
    "df_usa_popularity_rank = df_us.groupby(['year', 'gender', 'firstname'])['count'].sum().reset_index()\n",
    "df_br_popularity_rank = df_br.groupby(['year', 'gender', 'firstname'])['count'].sum().reset_index()\n",
    "\n",
    "def transformPopRank(df):\n",
    "    df['popularity_rank'] = (df.groupby(['year', 'gender'])['count']\n",
    "                               .rank(ascending=False)\n",
    "                               .astype(int)\n",
    "                            )\n",
    "# Sort data by year, country, gender, firstname, and count, and then assign a rank to each firstname\n",
    "transformPopRank(df_fr_popularity_rank)\n",
    "transformPopRank(df_br_popularity_rank)\n",
    "transformPopRank(df_usa_popularity_rank)\n",
    "\n",
    "# Sort the data from most popular to least each year \n",
    "df_fr_popularity_rank = df_fr_popularity_rank.sort_values(['year', 'gender','popularity_rank'])\n",
    "df_br_popularity_rank = df_br_popularity_rank.sort_values(['year', 'gender','popularity_rank'])\n",
    "df_usa_popularity_rank = df_usa_popularity_rank.sort_values(['year', 'gender','popularity_rank'])\n",
    "\n",
    "print('Popularity rank for French data:\\n' , df_fr_popularity_rank)\n",
    "print('Popularity rank for British data:\\n' , df_br_popularity_rank)\n",
    "print('Popularity rank for USA data:\\n' , df_usa_popularity_rank)"
   ]
  },
  {
   "cell_type": "markdown",
   "metadata": {},
   "source": [
    "\n",
    "**QUESTION:** For each firstname and sex (some names may be given to girls and boys), compute the total number of times this firstname has been given during `1900-2019`. Print the top 20 firstnames given and style your result dataframe using `background_gradient` for instance."
   ]
  },
  {
   "cell_type": "code",
   "execution_count": 65,
   "metadata": {
    "jupyter": {
     "outputs_hidden": false
    },
    "nteract": {
     "transient": {
      "deleting": false
     }
    }
   },
   "outputs": [
    {
     "data": {
      "text/html": [
       "<style type=\"text/css\">\n",
       "#T_d2635_row0_col0 {\n",
       "  background-color: #023858;\n",
       "  color: #f1f1f1;\n",
       "}\n",
       "#T_d2635_row1_col0 {\n",
       "  background-color: #034871;\n",
       "  color: #f1f1f1;\n",
       "}\n",
       "#T_d2635_row2_col0 {\n",
       "  background-color: #045585;\n",
       "  color: #f1f1f1;\n",
       "}\n",
       "#T_d2635_row3_col0 {\n",
       "  background-color: #0569a5;\n",
       "  color: #f1f1f1;\n",
       "}\n",
       "#T_d2635_row4_col0 {\n",
       "  background-color: #197db7;\n",
       "  color: #f1f1f1;\n",
       "}\n",
       "#T_d2635_row5_col0 {\n",
       "  background-color: #2a88bc;\n",
       "  color: #f1f1f1;\n",
       "}\n",
       "#T_d2635_row6_col0 {\n",
       "  background-color: #4a98c5;\n",
       "  color: #f1f1f1;\n",
       "}\n",
       "#T_d2635_row7_col0 {\n",
       "  background-color: #b9c6e0;\n",
       "  color: #000000;\n",
       "}\n",
       "#T_d2635_row8_col0 {\n",
       "  background-color: #c2cbe2;\n",
       "  color: #000000;\n",
       "}\n",
       "#T_d2635_row9_col0 {\n",
       "  background-color: #d0d1e6;\n",
       "  color: #000000;\n",
       "}\n",
       "#T_d2635_row10_col0 {\n",
       "  background-color: #d4d4e8;\n",
       "  color: #000000;\n",
       "}\n",
       "#T_d2635_row11_col0 {\n",
       "  background-color: #dbdaeb;\n",
       "  color: #000000;\n",
       "}\n",
       "#T_d2635_row12_col0 {\n",
       "  background-color: #e6e2ef;\n",
       "  color: #000000;\n",
       "}\n",
       "#T_d2635_row13_col0 {\n",
       "  background-color: #e7e3f0;\n",
       "  color: #000000;\n",
       "}\n",
       "#T_d2635_row14_col0 {\n",
       "  background-color: #eee8f3;\n",
       "  color: #000000;\n",
       "}\n",
       "#T_d2635_row15_col0 {\n",
       "  background-color: #f7f0f7;\n",
       "  color: #000000;\n",
       "}\n",
       "#T_d2635_row16_col0 {\n",
       "  background-color: #faf2f8;\n",
       "  color: #000000;\n",
       "}\n",
       "#T_d2635_row17_col0 {\n",
       "  background-color: #fbf4f9;\n",
       "  color: #000000;\n",
       "}\n",
       "#T_d2635_row18_col0, #T_d2635_row19_col0 {\n",
       "  background-color: #fff7fb;\n",
       "  color: #000000;\n",
       "}\n",
       "</style>\n",
       "<table id=\"T_d2635\">\n",
       "  <thead>\n",
       "    <tr>\n",
       "      <th class=\"blank\" >&nbsp;</th>\n",
       "      <th class=\"blank level0\" >&nbsp;</th>\n",
       "      <th id=\"T_d2635_level0_col0\" class=\"col_heading level0 col0\" >count</th>\n",
       "    </tr>\n",
       "    <tr>\n",
       "      <th class=\"index_name level0\" >firstname</th>\n",
       "      <th class=\"index_name level1\" >gender</th>\n",
       "      <th class=\"blank col0\" >&nbsp;</th>\n",
       "    </tr>\n",
       "  </thead>\n",
       "  <tbody>\n",
       "    <tr>\n",
       "      <th id=\"T_d2635_level0_row0\" class=\"row_heading level0 row0\" >James</th>\n",
       "      <th id=\"T_d2635_level1_row0\" class=\"row_heading level1 row0\" >Male</th>\n",
       "      <td id=\"T_d2635_row0_col0\" class=\"data row0 col0\" >5207138</td>\n",
       "    </tr>\n",
       "    <tr>\n",
       "      <th id=\"T_d2635_level0_row1\" class=\"row_heading level0 row1\" >John</th>\n",
       "      <th id=\"T_d2635_level1_row1\" class=\"row_heading level1 row1\" >Male</th>\n",
       "      <td id=\"T_d2635_row1_col0\" class=\"data row1 col0\" >4984048</td>\n",
       "    </tr>\n",
       "    <tr>\n",
       "      <th id=\"T_d2635_level0_row2\" class=\"row_heading level0 row2\" >Robert</th>\n",
       "      <th id=\"T_d2635_level1_row2\" class=\"row_heading level1 row2\" >Male</th>\n",
       "      <td id=\"T_d2635_row2_col0\" class=\"data row2 col0\" >4800663</td>\n",
       "    </tr>\n",
       "    <tr>\n",
       "      <th id=\"T_d2635_level0_row3\" class=\"row_heading level0 row3\" >Michael</th>\n",
       "      <th id=\"T_d2635_level1_row3\" class=\"row_heading level1 row3\" >Male</th>\n",
       "      <td id=\"T_d2635_row3_col0\" class=\"data row3 col0\" >4410102</td>\n",
       "    </tr>\n",
       "    <tr>\n",
       "      <th id=\"T_d2635_level0_row4\" class=\"row_heading level0 row4\" >William</th>\n",
       "      <th id=\"T_d2635_level1_row4\" class=\"row_heading level1 row4\" >Male</th>\n",
       "      <td id=\"T_d2635_row4_col0\" class=\"data row4 col0\" >4083123</td>\n",
       "    </tr>\n",
       "    <tr>\n",
       "      <th id=\"T_d2635_level0_row5\" class=\"row_heading level0 row5\" >Mary</th>\n",
       "      <th id=\"T_d2635_level1_row5\" class=\"row_heading level1 row5\" >Female</th>\n",
       "      <td id=\"T_d2635_row5_col0\" class=\"data row5 col0\" >3911894</td>\n",
       "    </tr>\n",
       "    <tr>\n",
       "      <th id=\"T_d2635_level0_row6\" class=\"row_heading level0 row6\" >David</th>\n",
       "      <th id=\"T_d2635_level1_row6\" class=\"row_heading level1 row6\" >Male</th>\n",
       "      <td id=\"T_d2635_row6_col0\" class=\"data row6 col0\" >3649212</td>\n",
       "    </tr>\n",
       "    <tr>\n",
       "      <th id=\"T_d2635_level0_row7\" class=\"row_heading level0 row7\" >Joseph</th>\n",
       "      <th id=\"T_d2635_level1_row7\" class=\"row_heading level1 row7\" >Male</th>\n",
       "      <td id=\"T_d2635_row7_col0\" class=\"data row7 col0\" >2664024</td>\n",
       "    </tr>\n",
       "    <tr>\n",
       "      <th id=\"T_d2635_level0_row8\" class=\"row_heading level0 row8\" >Richard</th>\n",
       "      <th id=\"T_d2635_level1_row8\" class=\"row_heading level1 row8\" >Male</th>\n",
       "      <td id=\"T_d2635_row8_col0\" class=\"data row8 col0\" >2560904</td>\n",
       "    </tr>\n",
       "    <tr>\n",
       "      <th id=\"T_d2635_level0_row9\" class=\"row_heading level0 row9\" >Thomas</th>\n",
       "      <th id=\"T_d2635_level1_row9\" class=\"row_heading level1 row9\" >Male</th>\n",
       "      <td id=\"T_d2635_row9_col0\" class=\"data row9 col0\" >2424307</td>\n",
       "    </tr>\n",
       "    <tr>\n",
       "      <th id=\"T_d2635_level0_row10\" class=\"row_heading level0 row10\" >Charles</th>\n",
       "      <th id=\"T_d2635_level1_row10\" class=\"row_heading level1 row10\" >Male</th>\n",
       "      <td id=\"T_d2635_row10_col0\" class=\"data row10 col0\" >2346308</td>\n",
       "    </tr>\n",
       "    <tr>\n",
       "      <th id=\"T_d2635_level0_row11\" class=\"row_heading level0 row11\" >MARIE</th>\n",
       "      <th id=\"T_d2635_level1_row11\" class=\"row_heading level1 row11\" >Female</th>\n",
       "      <td id=\"T_d2635_row11_col0\" class=\"data row11 col0\" >2230937</td>\n",
       "    </tr>\n",
       "    <tr>\n",
       "      <th id=\"T_d2635_level0_row12\" class=\"row_heading level0 row12\" >Christopher</th>\n",
       "      <th id=\"T_d2635_level1_row12\" class=\"row_heading level1 row12\" >Male</th>\n",
       "      <td id=\"T_d2635_row12_col0\" class=\"data row12 col0\" >2060960</td>\n",
       "    </tr>\n",
       "    <tr>\n",
       "      <th id=\"T_d2635_level0_row13\" class=\"row_heading level0 row13\" >Daniel</th>\n",
       "      <th id=\"T_d2635_level1_row13\" class=\"row_heading level1 row13\" >Male</th>\n",
       "      <td id=\"T_d2635_row13_col0\" class=\"data row13 col0\" >2034633</td>\n",
       "    </tr>\n",
       "    <tr>\n",
       "      <th id=\"T_d2635_level0_row14\" class=\"row_heading level0 row14\" >JEAN</th>\n",
       "      <th id=\"T_d2635_level1_row14\" class=\"row_heading level1 row14\" >Male</th>\n",
       "      <td id=\"T_d2635_row14_col0\" class=\"data row14 col0\" >1912155</td>\n",
       "    </tr>\n",
       "    <tr>\n",
       "      <th id=\"T_d2635_level0_row15\" class=\"row_heading level0 row15\" >Matthew</th>\n",
       "      <th id=\"T_d2635_level1_row15\" class=\"row_heading level1 row15\" >Male</th>\n",
       "      <td id=\"T_d2635_row15_col0\" class=\"data row15 col0\" >1686630</td>\n",
       "    </tr>\n",
       "    <tr>\n",
       "      <th id=\"T_d2635_level0_row16\" class=\"row_heading level0 row16\" >Elizabeth</th>\n",
       "      <th id=\"T_d2635_level1_row16\" class=\"row_heading level1 row16\" >Female</th>\n",
       "      <td id=\"T_d2635_row16_col0\" class=\"data row16 col0\" >1623018</td>\n",
       "    </tr>\n",
       "    <tr>\n",
       "      <th id=\"T_d2635_level0_row17\" class=\"row_heading level0 row17\" >Patricia</th>\n",
       "      <th id=\"T_d2635_level1_row17\" class=\"row_heading level1 row17\" >Female</th>\n",
       "      <td id=\"T_d2635_row17_col0\" class=\"data row17 col0\" >1573090</td>\n",
       "    </tr>\n",
       "    <tr>\n",
       "      <th id=\"T_d2635_level0_row18\" class=\"row_heading level0 row18\" >George</th>\n",
       "      <th id=\"T_d2635_level1_row18\" class=\"row_heading level1 row18\" >Male</th>\n",
       "      <td id=\"T_d2635_row18_col0\" class=\"data row18 col0\" >1482158</td>\n",
       "    </tr>\n",
       "    <tr>\n",
       "      <th id=\"T_d2635_level0_row19\" class=\"row_heading level0 row19\" >Jennifer</th>\n",
       "      <th id=\"T_d2635_level1_row19\" class=\"row_heading level1 row19\" >Female</th>\n",
       "      <td id=\"T_d2635_row19_col0\" class=\"data row19 col0\" >1479134</td>\n",
       "    </tr>\n",
       "  </tbody>\n",
       "</table>\n"
      ],
      "text/plain": [
       "<pandas.io.formats.style.Styler at 0x1e6cf7b8040>"
      ]
     },
     "execution_count": 65,
     "metadata": {},
     "output_type": "execute_result"
    }
   ],
   "source": [
    "# Filter data for 1900-2019\n",
    "df_filtered = df_total[(df_total['year'] >= 1900) & (df_total['year'] <= 2019)]\n",
    "\n",
    "# Group the data by firstname and sex, and sum the counts\n",
    "name_counts = df_filtered.groupby(['firstname', 'gender'])['count'].sum()\n",
    "\n",
    "# Sort the names by count, and select the top 20\n",
    "top_names = name_counts.sort_values(ascending=False).head(20)\n",
    "\n",
    "# Style the result dataframe using background_gradient\n",
    "styled_top_names = top_names.to_frame().style.background_gradient()\n",
    "\n",
    "# Display the styled dataframe\n",
    "styled_top_names\n"
   ]
  },
  {
   "cell_type": "markdown",
   "metadata": {
    "nteract": {
     "transient": {
      "deleting": false
     }
    }
   },
   "source": [
    "## Rare firstnames\n",
    "\n",
    "**QUESTION:** In the French data, for each sex, plot the proportion of births given `_PRENOMS_RARES` as a function of the year."
   ]
  },
  {
   "cell_type": "code",
   "execution_count": 66,
   "metadata": {
    "jupyter": {
     "outputs_hidden": false
    },
    "nteract": {
     "transient": {
      "deleting": false
     }
    }
   },
   "outputs": [
    {
     "data": {
      "image/png": "[encoded data removed]",
      "text/plain": [
       "<Figure size 640x480 with 1 Axes>"
      ]
     },
     "metadata": {},
     "output_type": "display_data"
    }
   ],
   "source": [
    "import matplotlib.pyplot as plt\n",
    "\n",
    "# Filter the dataframe to only include rows where the name is rare\n",
    "df_rare_names = df_fr[df_fr['firstname'] == '_PRENOMS_RARES']\n",
    "\n",
    "# Group the rare names dataframe by year and gender and sum the counts\n",
    "df_rare_names_by_year_sex = df_rare_names.groupby(['year', 'gender']).sum(numeric_only = True)\n",
    "\n",
    "# Group the original dataframe by year and gender and sum the counts\n",
    "df_total_births = df_fr.groupby(['year', 'gender']).sum(numeric_only = True)\n",
    "\n",
    "# Calculate the proportion of births given to rare names for each year and gender\n",
    "proportions = df_rare_names_by_year_sex['count'] / df_total_births['count']\n",
    "\n",
    "# Plot the proportions as a function of year for each gender\n",
    "fig, ax = plt.subplots()\n",
    "   \n",
    "ax.plot(proportions[:, 'Female'], label='Female')\n",
    "ax.plot(proportions[:, 'Male'], label='Male')\n",
    "    \n",
    "ax.legend()\n",
    "ax.set_xlabel('Year')\n",
    "ax.set_ylabel('Proportion of births given to rare names')\n",
    "plt.show()\n"
   ]
  },
  {
   "cell_type": "markdown",
   "metadata": {
    "nteract": {
     "transient": {
      "deleting": false
     }
    }
   },
   "source": [
    "# A study of the \"Marie\" firstname\n",
    "\n",
    "**QUESTION:** Plot the proportion of female births given name `'MARIE'` or `'MARIE-...'` (compounded names) as a function of the year.\n",
    "Proceed in such a way that the reader can see the share of compounded names. We are expecting an _area plot_.\n",
    "\n",
    "__Hints:__\n",
    "\n",
    "- Have a look at the `.str` accessor (to apply a string method over a whole column containing string)\n",
    "- Have a look at [r-graph-gallery: stacked area](https://www.r-graph-gallery.com/stacked-area-graph.html)  and\n",
    "at [ggplot documentation](https://ggplot2.tidyverse.org/reference/geom_ribbon.html). Pay attention on the way you stack the area corresponding to names matching pattern 'MARIE-.*' over or under the are corresponding to babies named 'MARIE'\n",
    "- See Graphique 3, page 48, de _L'archipel français_  de J. Fourquet. Le Seuil. Essais. Vol. 898.\n",
    "\n",
    "- Add annotation, 1st World War, Front Populaire, 2nd World War, 1968"
   ]
  },
  {
   "cell_type": "code",
   "execution_count": 72,
   "metadata": {
    "ExecuteTime": {
     "end_time": "2021-02-03T10:00:15.046715Z",
     "start_time": "2021-02-03T10:00:15.043807Z"
    },
    "jupyter": {
     "outputs_hidden": false
    },
    "nteract": {
     "transient": {
      "deleting": false
     }
    }
   },
   "outputs": [
    {
     "data": {
      "text/plain": [
       "year\n",
       "1880.0      90994\n",
       "1881.0      91953\n",
       "1882.0     107847\n",
       "1883.0     112319\n",
       "1884.0     129019\n",
       "           ...   \n",
       "2017.0    2390265\n",
       "2018.0    2347903\n",
       "2019.0    2314215\n",
       "2020.0    2229732\n",
       "2021.0    2256849\n",
       "Name: count, Length: 142, dtype: int64"
      ]
     },
     "execution_count": 72,
     "metadata": {},
     "output_type": "execute_result"
    }
   ],
   "source": [
    "# Filter the dataframe to only include female names\n",
    "df_femme = df_total[df_total['gender'] == 'Female']\n",
    "\n",
    "# Create boolean masks for 'MARIE' and 'MARIE-' names\n",
    "df_marie_st = df_femme[df_femme['firstname'].str.contains('MARIE-', case=False, na=False, regex=False)]\n",
    "df_marie_mid = df_femme[df_femme['firstname'].str.contains('-MARIE-', case=False, na=False, regex=False)]\n",
    "df_marie_end = df_femme[df_femme['firstname'].str.contains('-MARIE', case=False, na=False, regex=False)]\n",
    "\n",
    "df_marie_only = df_femme[df_femme['firstname'].str.contains(r'^MARIE$', case=False, na=False, regex=True)]\n",
    "\n",
    "df_marie_compounded = pd.concat([df_marie_st, df_marie_mid, df_marie_end])\n",
    "df_marie_all = pd.concat([df_marie_compounded, df_marie_only])\n",
    "\n",
    "\n",
    "# Compute the total number of female births for each year\n",
    "total_female_births = df_femme.groupby('year')['count'].sum()\n",
    "\n",
    "## Compute the number of female births given the name 'MARIE' for each year\n",
    "marie_only = df_marie_only.groupby('year')['count'].sum()\n",
    "\n",
    "# Compute the number of female births given a compounded name starting with 'MARIE-' for each year\n",
    "marie_compounded_births = df_marie_compounded.groupby('year')['count'].sum()\n",
    "\n",
    "\n",
    "# Compute the proportion of female births given 'MARIE' or 'MARIE-' for each year\n",
    "marie_proportion = (marie_only + marie_compounded_births) / total_female_births\n",
    "total_female_births\n",
    "\n",
    "## Plot the data as a stacked area plot\n",
    "#plt.stackplot(df_female['year'].unique(),\n",
    "#              marie_compounded_births, \n",
    "#              marie_births,\n",
    "#              labels=['Marie-', 'Marie'],\n",
    "#              alpha=0.7)\n",
    "#\n",
    "## Add a legend\n",
    "#plt.legend(loc='upper left')\n",
    "#\n",
    "## Add x-axis labels and title\n",
    "#plt.xlabel('Year')\n",
    "#plt.title('Proportion of Female Births Given Name Marie or Marie-...')\n",
    "#\n",
    "## Add annotations for major historical events\n",
    "#plt.axvline(x=1914, color='black', linestyle='--', alpha=0.5)\n",
    "#plt.annotate('1st World War', xy=(1914, 0.08), xytext=(1915, 0.15),\n",
    "#             arrowprops=dict(facecolor='black', arrowstyle='->'))\n",
    "#plt.axvline(x=1936, color='black', linestyle='--', alpha=0.5)\n",
    "#plt.annotate('Front Populaire', xy=(1936, 0.07), xytext=(1930, 0.13),\n",
    "#             arrowprops=dict(facecolor='black', arrowstyle='->'))\n",
    "#plt.axvline(x=1939, color='black', linestyle='--', alpha=0.5)\n",
    "#plt.annotate('2nd World War', xy=(1939, 0.1), xytext=(1935, 0.17),\n",
    "#             arrowprops=dict(facecolor='black', arrowstyle='->'))\n",
    "#plt.axvline(x=1968, color='black', linestyle='--', alpha=0.5)\n",
    "#plt.annotate('1968', xy=(1968, 0.13), xytext=(1970, 0.2),\n",
    "#             arrowprops=dict(facecolor='black', arrowstyle='->'))\n",
    "#\n",
    "## Show the plot\n",
    "#plt.show()\n",
    "#\n",
    "#\n",
    "#"
   ]
  },
  {
   "cell_type": "markdown",
   "metadata": {
    "nteract": {
     "transient": {
      "deleting": false
     }
    }
   },
   "source": [
    "# Top 10 firstnames of year 2000\n",
    "\n",
    "**QUESTION:** For each sex, select the ten most popular names in year 2000, and plot the proportion\n",
    "of newborns given that name over time. Take into account that some names might have\n",
    "zero occurrence during certain years.\n",
    "\n",
    "__Hint:__ Leave aside the rows with '_PRENOMS_RARES'."
   ]
  },
  {
   "cell_type": "code",
   "execution_count": 56,
   "metadata": {
    "ExecuteTime": {
     "end_time": "2021-02-03T10:00:21.360489Z",
     "start_time": "2021-02-03T10:00:21.357427Z"
    },
    "jupyter": {
     "outputs_hidden": false
    },
    "nteract": {
     "transient": {
      "deleting": false
     }
    }
   },
   "outputs": [
    {
     "ename": "NameError",
     "evalue": "name 'df_rare_names' is not defined",
     "output_type": "error",
     "traceback": [
      "\u001b[1;31m---------------------------------------------------------------------------\u001b[0m",
      "\u001b[1;31mNameError\u001b[0m                                 Traceback (most recent call last)",
      "Cell \u001b[1;32mIn[56], line 17\u001b[0m\n\u001b[0;32m     10\u001b[0m mal_pop_2000 \u001b[38;5;241m=\u001b[39m df_total[(df_total[\u001b[38;5;124m'\u001b[39m\u001b[38;5;124mfirstname\u001b[39m\u001b[38;5;124m'\u001b[39m] \u001b[38;5;241m!=\u001b[39m \u001b[38;5;124m'\u001b[39m\u001b[38;5;124m_PRENOMS_RARES\u001b[39m\u001b[38;5;124m'\u001b[39m) \u001b[38;5;241m&\u001b[39m (df_total[\u001b[38;5;124m'\u001b[39m\u001b[38;5;124mgender\u001b[39m\u001b[38;5;124m'\u001b[39m] \u001b[38;5;241m==\u001b[39m \u001b[38;5;124m'\u001b[39m\u001b[38;5;124mMale\u001b[39m\u001b[38;5;124m'\u001b[39m) \u001b[38;5;241m&\u001b[39m (df_total[\u001b[38;5;124m'\u001b[39m\u001b[38;5;124myear\u001b[39m\u001b[38;5;124m'\u001b[39m] \u001b[38;5;241m==\u001b[39m \u001b[38;5;241m2000\u001b[39m)]\n\u001b[0;32m     11\u001b[0m list_ind_mal \u001b[38;5;241m=\u001b[39m (mal_pop_2000\n\u001b[0;32m     12\u001b[0m                         \u001b[38;5;241m.\u001b[39mgroupby(\u001b[38;5;124m\"\u001b[39m\u001b[38;5;124mfirstname\u001b[39m\u001b[38;5;124m\"\u001b[39m, as_index\u001b[38;5;241m=\u001b[39m\u001b[38;5;28;01mFalse\u001b[39;00m)[\u001b[38;5;124m\"\u001b[39m\u001b[38;5;124mcount\u001b[39m\u001b[38;5;124m\"\u001b[39m]\u001b[38;5;241m.\u001b[39msum()\n\u001b[0;32m     13\u001b[0m                         \u001b[38;5;241m.\u001b[39msort_values(\u001b[38;5;124m'\u001b[39m\u001b[38;5;124mcount\u001b[39m\u001b[38;5;124m'\u001b[39m, ascending \u001b[38;5;241m=\u001b[39m \u001b[38;5;28;01mFalse\u001b[39;00m)\n\u001b[0;32m     14\u001b[0m                         \u001b[38;5;241m.\u001b[39mhead(n\u001b[38;5;241m=\u001b[39m\u001b[38;5;241m10\u001b[39m)\n\u001b[0;32m     15\u001b[0m                )\n\u001b[1;32m---> 17\u001b[0m \u001b[43mdf_rare_names\u001b[49m\u001b[38;5;241m.\u001b[39mgroupby([\u001b[38;5;124m'\u001b[39m\u001b[38;5;124myear\u001b[39m\u001b[38;5;124m'\u001b[39m, \u001b[38;5;124m'\u001b[39m\u001b[38;5;124mgender\u001b[39m\u001b[38;5;124m'\u001b[39m])\u001b[38;5;241m.\u001b[39msum(numeric_only \u001b[38;5;241m=\u001b[39m \u001b[38;5;28;01mTrue\u001b[39;00m)\n\u001b[0;32m     19\u001b[0m list_mal \u001b[38;5;241m=\u001b[39m \u001b[38;5;28mlist\u001b[39m(list_ind_mal[\u001b[38;5;124m'\u001b[39m\u001b[38;5;124mfirstname\u001b[39m\u001b[38;5;124m'\u001b[39m])\n\u001b[0;32m     20\u001b[0m \u001b[38;5;28mprint\u001b[39m(\u001b[38;5;124m'\u001b[39m\u001b[38;5;124mThe most popular male firstnames in year 2000  \u001b[39m\u001b[38;5;130;01m\\n\u001b[39;00m\u001b[38;5;124m'\u001b[39m, list_mal)\n",
      "\u001b[1;31mNameError\u001b[0m: name 'df_rare_names' is not defined"
     ]
    }
   ],
   "source": [
    "# lists of 10 most popular names\n",
    "fem_pop_2000 = df_total[(df_total['firstname'] != '_PRENOMS_RARES') & (df_total['gender'] == 'Female') & (df_total['year'] == 2000)]\n",
    "list_ind_fem = (fem_pop_2000\n",
    "                        .groupby(\"firstname\", as_index=False)[\"count\"].sum()\n",
    "                        .sort_values('count', ascending = False)\n",
    "                        .head(n=10)\n",
    "               )\n",
    "list_fem =  list(list_ind_fem['firstname'])\n",
    "\n",
    "mal_pop_2000 = df_total[(df_total['firstname'] != '_PRENOMS_RARES') & (df_total['gender'] == 'Male') & (df_total['year'] == 2000)]\n",
    "list_ind_mal = (mal_pop_2000\n",
    "                        .groupby(\"firstname\", as_index=False)[\"count\"].sum()\n",
    "                        .sort_values('count', ascending = False)\n",
    "                        .head(n=10)\n",
    "               )\n",
    "\n",
    "df_rare_names.groupby(['year', 'gender']).sum(numeric_only = True)\n",
    "\n",
    "list_mal = list(list_ind_mal['firstname'])\n",
    "print('The most popular male firstnames in year 2000  \\n', list_mal)\n",
    "print('The most popular female firstnames in year 2000\\n', list_fem)\n",
    "\n",
    "pop_fem = df_total.loc[df_total['firstname'].isin(list_fem) & (df_total['gender']=='Female')]\n",
    "pop_mal = df_total.loc[df_total['firstname'].isin(list_mal) & (df_total['gender']=='Male')]\n",
    "\n",
    "pop_fem = pop_fem.groupby(['year', 'firstname'])['count'].sum()\n",
    "\n",
    "#fig, ax = plt.subplots()\n",
    "#\n",
    "#map(lambda x: ax.plot(pop_fem[:, x], label=x), list_fem)\n",
    "#\n",
    "##ax.plot(pop_fem[:, 'Samantha'], label='Samantha')\n",
    "##ax.plot(pop_fem[:, 'Sarah'], label='Sarah')\n",
    "#    \n",
    "#ax.legend()\n",
    "#ax.set_xlabel('Year')\n",
    "#ax.set_ylabel('Proportion of births given to rare names')\n",
    "#plt.show()\n",
    "\n",
    "\n",
    "pop_fem.iloc[100:150]\n"
   ]
  },
  {
   "cell_type": "markdown",
   "metadata": {},
   "source": [
    "# Picturing concentration of babynames distributions"
   ]
  },
  {
   "cell_type": "markdown",
   "metadata": {},
   "source": [
    "\n",
    "Every year, the name counts define a discrete probability distribution over the set of names (the universe).\n",
    "\n",
    "This distribution, just as an income or wealth distribution, is (usually) far from being uniform. We want to assess how uneven it is.\n",
    "\n",
    "We use the tools developed in econometrics.\n",
    "\n",
    "Without loss of generality, we assume that we handle a distribution over positive integers $1, \\ldots, n$ where $n$ is the number of distinct names given during a year.\n",
    "\n",
    "We assume that frequencies $p_1, p_2, \\ldots, p_n$ are given in ascending order, ties are broken arbitrarily.\n",
    "\n",
    "The `Lorenz function` ([Lorenz](https://en.wikipedia.org/wiki/Lorenz_curve) not `Lorentz`) maps $[0, 1] \\to [0, 1]$.\n",
    "\n",
    "$$L(x) = \\sum_{i=1}^{\\lfloor nx \\rfloor} p_i .$$\n",
    "\n",
    "Note that this is a piecewise constant function. \n",
    "\n",
    "\n",
    "**Question:** Compute and plot the Lorenz fucntion for a given `sex`, `year` and `country`"
   ]
  },
  {
   "cell_type": "code",
   "execution_count": null,
   "metadata": {},
   "outputs": [],
   "source": []
  },
  {
   "cell_type": "markdown",
   "metadata": {},
   "source": [
    "**Question:** Design an animated plot that shows the evolution of the Lorenz curve of babynames distribution through the years for a given sex and country.\n"
   ]
  },
  {
   "cell_type": "code",
   "execution_count": null,
   "metadata": {},
   "outputs": [],
   "source": []
  },
  {
   "cell_type": "markdown",
   "metadata": {},
   "source": [
    "The Lorenz curve summarizes how far a discrete probability distribution is from the uniform distribution. This is a very rich summary and it is difficult to communicate this message to a wide audience. People tend to favor numerical indices (they don't really understand, but they get used to it): Gini, Atkinson, Theil, ...\n",
    "\n",
    "The [Gini index](https://en.wikipedia.org/wiki/Gini_coefficient) is twice the surface of the area comprised between curves $y=x$ and $y=L(x)$.\n",
    "\n",
    "$$G = 2 \\times \\int_0^1 (x -L(x)) \\mathrm{d}x$$\n",
    "\n",
    "The next formula  allows us to compute it efficiently.\n",
    "\n",
    "$$G={\\frac {2\\sum _{i=1}^{n}i p_{i}}{n\\sum _{i=1}^{n}p_{i}}}-{\\frac {n+1}{n}}.$$\n",
    "\n",
    "\n",
    "**Question:** Compute and plot Gini index of names distribution over time for sex and countries \n"
   ]
  },
  {
   "cell_type": "markdown",
   "metadata": {},
   "source": []
  },
  {
   "cell_type": "markdown",
   "metadata": {},
   "source": []
  },
  {
   "cell_type": "markdown",
   "metadata": {},
   "source": [
    "# Picturing surges of popularity\n",
    "\n",
    "In the sequel, the *popularity* of a gendered name in a population during a given year is the proportion of babies of that gender born during that year in that country,  that are given this name. \n",
    "\n",
    "**Question:** Prepare a data frame that contains for each hype name the 20 years before and 30 years after the maximum popularity is achieved, and, for each such year, the rank and popularity of the hype name. Do this for US and French data. \n"
   ]
  },
  {
   "cell_type": "code",
   "execution_count": null,
   "metadata": {},
   "outputs": [],
   "source": []
  },
  {
   "cell_type": "markdown",
   "metadata": {},
   "source": [
    "**Question:** Plot offseted popularity (share of given names within year, country, gender) curves of hype names. Facet by sex and country. "
   ]
  },
  {
   "cell_type": "markdown",
   "metadata": {},
   "source": []
  },
  {
   "cell_type": "markdown",
   "metadata": {},
   "source": [
    "**Question:** Rescale popularity curves so that all of them have maximum $1$. "
   ]
  },
  {
   "cell_type": "code",
   "execution_count": null,
   "metadata": {},
   "outputs": [],
   "source": []
  },
  {
   "cell_type": "markdown",
   "metadata": {
    "nteract": {
     "transient": {
      "deleting": false
     }
    }
   },
   "source": [
    "# Getting help\n",
    "\n",
    "- [pandas](https://pandas.pydata.org/pandas-docs/stable/reference/)\n",
    "\n",
    "- [plotly](https://plotly.com/python/) for animated plots\n",
    "\n",
    "- [stackoverflow](https://stackoverflow.com)\n",
    "\n",
    "- [stackoverflow: pandas](https://stackoverflow.com/questions/tagged/pandas)\n",
    "\n",
    "- [stackoverflow: plotly+python](https://stackoverflow.com/questions/tagged/plotly+python)\n",
    "\n",
    "- The US `babynames` analogue of the INSEE file has been a playground for data scientists,\n",
    " see [https://github.com/hadley/babynames](https://github.com/hadley/babynames)\n",
    "\n",
    "- Don't Repeat Yourself (DRY) principle  at [Wikipedia](https://en.wikipedia.org/wiki/Don%27t_repeat_yourself)"
   ]
  }
 ],
 "metadata": {
  "kernelspec": {
   "display_name": "Python 3 (ipykernel)",
   "language": "python",
   "name": "python3"
  },
  "language_info": {
   "codemirror_mode": {
    "name": "ipython",
    "version": 3
   },
   "file_extension": ".py",
   "mimetype": "text/x-python",
   "name": "python",
   "nbconvert_exporter": "python",
   "pygments_lexer": "ipython3",
   "version": "3.8.10"
  },
  "toc": {
   "base_numbering": 1,
   "nav_menu": {},
   "number_sections": true,
   "sideBar": true,
   "skip_h1_title": false,
   "title_cell": "Table of Contents",
   "title_sidebar": "Contents",
   "toc_cell": false,
   "toc_position": {},
   "toc_section_display": true,
   "toc_window_display": true
  },
  "vscode": {
   "interpreter": {
    "hash": "6795c53a464863a7af04e484d197ab81636f962540f300a02661ac97b978f019"
   }
  }
 },
 "nbformat": 4,
 "nbformat_minor": 4
}
