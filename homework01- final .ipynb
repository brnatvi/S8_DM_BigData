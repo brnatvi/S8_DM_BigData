{
 "cells": [
  {
   "cell_type": "raw",
   "metadata": {},
   "source": [
    "---\n",
    "title: \"Homework 1 (2023): Data Wrangling and Visualization\"\n",
    "subtitle: \"Due date : 2023-02-24 23:55 (this is a hard deadline)\"\n",
    "author: \"Lagarde et Michard\"\n",
    "date: \"2023-02-24\"\n",
    "format:\n",
    "    html:\n",
    "        code-fold: true\n",
    "---"
   ]
  },
  {
   "cell_type": "markdown",
   "metadata": {
    "nteract": {
     "transient": {
      "deleting": false
     }
    },
    "tags": []
   },
   "source": [
    "# Homework 1 \n",
    "\n",
    "Due date : **2023-02-24 @23h55** (this is a **hard deadline**)"
   ]
  },
  {
   "cell_type": "markdown",
   "metadata": {
    "nteract": {
     "transient": {
      "deleting": false
     }
    }
   },
   "source": [
    "## Fill this cell with your names\n",
    "\n",
    "- Name, First Name, Informatique/Mathématique-Informatique\n",
    "- Name, First Name, Informatique/Mathématique-Informatique"
   ]
  },
  {
   "cell_type": "markdown",
   "metadata": {
    "nteract": {
     "transient": {
      "deleting": false
     }
    }
   },
   "source": [
    "## Carefully follow instructions\n",
    "\n",
    "**If you don't: no evaluation!**\n",
    "\n",
    "Write in English or French\n",
    "\n",
    "The deliverable is a file\n",
    "\n",
    "- `xxx_yyy.ipynb` file (jupyter notebook) or \n",
    "- `xxx_yyy.py` file (if you are using `jupytext`) or\n",
    "- `xxx_yyy.qmd` file (if you are using `quarto`)\n",
    "\n",
    "where `xxx` and `yyy` are your names, for example `lagarde_michard.ipynb`. \n",
    "\n",
    "The deliverable is not meant to contain cell outputs.  \n",
    "\n",
    "The data files used to execute cells are meant to sit in the same directory as the deliverable. Use relative filepaths or urls to denote the data files.   \n",
    "\n",
    "We **will** execute the code in your notebook: make sure that running all the cells works well. \n",
    "\n"
   ]
  },
  {
   "cell_type": "markdown",
   "metadata": {
    "nteract": {
     "transient": {
      "deleting": false
     }
    }
   },
   "source": [
    "## Grading <i class=\"fa graduation-cap\"></i>\n",
    "\n",
    "Here is the way we'll assess your work\n",
    "\n",
    "| Criterion | Points | Details |\n",
    "|:----------|:-------:|:----|\n",
    "|Spelling and syntax | 3 | English/French  |\n",
    "|Plots correction | 3 |  Clarity / answers the question  |\n",
    "|Plot style and cleanliness | 3 | Titles, legends, labels, breaks ... |\n",
    "|Table wrangling | 4 | ETL, SQL like manipulations |\n",
    "|Computing Statistics | 5 | SQL `goup by`  and aggregation  |\n",
    "|DRY compliance | 2 | DRY principle at [Wikipedia](https://en.wikipedia.org/wiki/Don%27t_repeat_yourself)|\n",
    "\n",
    "If we see a single (or more) `for` loop in your code: **-5 points**.  Everything can be done using high-level `pandas` methods"
   ]
  },
  {
   "cell_type": "markdown",
   "metadata": {
    "nteract": {
     "transient": {
      "deleting": false
     }
    }
   },
   "source": [
    "# Preliminaries\n",
    "\n",
    "## Notebooks: Modus operandi\n",
    "\n",
    "- This is a [Jupyter Notebook](https://jupyter.org).\n",
    "- When you execute code within the notebook, the results appear beneath the code.\n",
    "- [Jupytext](https://github.com/mwouts/jupytext)\n",
    "- [Quarto](https://quarto.org) \n",
    "\n",
    "## Packages\n",
    "\n",
    "- Base `Python` can do a lot. But the full power of `Python` comes from a fast growing collection of `packages`/`modules`.\n",
    "\n",
    "- Packages are first installed (that is using `pip install` or `conda install`), and if\n",
    "needed, imported during a session.\n",
    "\n",
    "- The `docker` image you are supposed to use already offers a lot of packages. You should not need to install new packages.\n",
    "\n",
    "- Once a package has been installed on your drive, if you want all objects exported by the package to be available in your session, you should import the package, using `from pkg import *`.\n",
    "\n",
    "- If you just want to pick some subjects from the package,\n",
    "you can use qualified names like `pkg.object_name` to access the object (function, dataset, class...)\n"
   ]
  },
  {
   "cell_type": "code",
   "execution_count": 1,
   "metadata": {
    "ExecuteTime": {
     "end_time": "2021-02-03T09:49:19.662376Z",
     "start_time": "2021-02-03T09:49:19.659057Z"
    },
    "collapsed": false,
    "jupyter": {
     "outputs_hidden": false,
     "source_hidden": false
    },
    "nteract": {
     "transient": {
      "deleting": false
     }
    }
   },
   "outputs": [],
   "source": [
    "# importing basic tools\n",
    "import numpy as np\n",
    "import pandas as pd\n",
    "\n",
    "from pandas.api.types import CategoricalDtype\n",
    "\n",
    "import os            # file operations\n",
    "import requests      # networking\n",
    "import zipfile\n",
    "import io\n",
    "from pathlib import Path\n",
    "\n",
    "from datetime import date  # if needed\n",
    "\n",
    "\n"
   ]
  },
  {
   "cell_type": "code",
   "execution_count": 2,
   "metadata": {
    "ExecuteTime": {
     "end_time": "2021-02-03T09:49:21.139505Z",
     "start_time": "2021-02-03T09:49:21.136745Z"
    },
    "collapsed": false,
    "jupyter": {
     "outputs_hidden": false,
     "source_hidden": false
    },
    "nteract": {
     "transient": {
      "deleting": false
     }
    }
   },
   "outputs": [],
   "source": [
    "# importing plotting packages\n",
    "import plotly.graph_objects as go\n",
    "import plotly.express as px\n",
    "import plotly.io as pio"
   ]
  },
  {
   "cell_type": "code",
   "execution_count": 3,
   "metadata": {
    "ExecuteTime": {
     "end_time": "2021-02-03T09:56:45.103619Z",
     "start_time": "2021-02-03T09:56:45.099259Z"
    },
    "collapsed": false,
    "jupyter": {
     "outputs_hidden": false,
     "source_hidden": false
    },
    "nteract": {
     "transient": {
      "deleting": false
     }
    }
   },
   "outputs": [],
   "source": [
    "# make pandas plotly-friendly\n",
    "np.set_printoptions(precision=2, suppress=True)\n",
    "%matplotlib inline\n",
    "pd.options.plotting.backend = \"plotly\""
   ]
  },
  {
   "cell_type": "markdown",
   "metadata": {
    "nteract": {
     "transient": {
      "deleting": false
     }
    }
   },
   "source": [
    "# Getting the data\n",
    "\n",
    "## French data\n",
    "\n",
    "The French data are built and made available by [INSEE](https://www.insee.fr/fr/accueil)  (French Governement Statistics Institute)\n",
    "\n",
    "Prénoms:\n",
    "- [https://www.insee.fr/fr/statistiques/fichier/2540004/nat2021_csv.zip](https://www.insee.fr/fr/statistiques/fichier/2540004/nat2021_csv.zip)\n",
    "\n",
    "This dataset has been growing for a while. It has been considered by\n",
    "social scientists for decades.  Given names are meant to give insights into a variety\n",
    "of phenomena, including religious observance.\n",
    "\n",
    "- A glimpse at the body of work can be found in [_L'archipel français_ by Jérome Fourquet, Le Seuil, 2019 ](https://www.seuil.com/ouvrage/l-archipel-francais-jerome-fourquet/9782021406023)\n",
    "\n",
    "- Read the [File documentation](https://www.insee.fr/fr/statistiques/2540004?sommaire=4767262#documentation)\n",
    "\n",
    "## US data \n",
    "\n",
    "US data may be gathered from \n",
    "\n",
    "[Baby Names USA from 1910 to 2021 (SSA)](https://www.kaggle.com/datasets/donkea/ssa-names-1910-2021?resource=download)\n",
    "\n",
    "See [https://www.ssa.gov/oact/babynames/background.html](https://www.ssa.gov/oact/babynames/background.html)\n",
    "\n",
    "\n",
    "## British data \n",
    "\n",
    "English and Welsh data can be gathered from \n",
    "\n",
    "[https://www.ons.gov.uk/](https://www.ons.gov.uk/peoplepopulationandcommunity/birthsdeathsandmarriages/livebirths/datasets/babynamesinenglandandwalesfrom1996?utm_source=pocket_saves)\n",
    "\n",
    "\n",
    "\n",
    "\n",
    "## Download the French data\n",
    "\n",
    "**QUESTION:** Download the data into a file which relative path is `'./nat2021_csv.zip'`\n",
    "\n",
    "__Hints:__\n",
    "\n",
    "- Have a look at  package [`requests`](https://requests.readthedocs.io/en/master/).\n",
    "- Use magic commands to navigate across the file hierarchy and create subdirectories when needed"
   ]
  },
  {
   "cell_type": "code",
   "execution_count": 4,
   "metadata": {
    "ExecuteTime": {
     "end_time": "2021-02-03T09:56:54.136172Z",
     "start_time": "2021-02-03T09:56:54.132800Z"
    },
    "collapsed": false,
    "jupyter": {
     "outputs_hidden": false,
     "source_hidden": false
    },
    "nteract": {
     "transient": {
      "deleting": false
     }
    }
   },
   "outputs": [],
   "source": [
    "\n",
    "# for French data \n",
    "\n",
    "#dataPath = os.path.realpath(os.getcwd()) + os.sep + 'data' + os.sep   # current working directory of a process + 'data'\n",
    "dataPath = \".\" + os.sep + 'data' + os.sep\n",
    "\n",
    "params = dict(\n",
    "    furl = 'https://www.insee.fr/fr/statistiques/fichier/2540004/nat2021_csv.zip',\n",
    "    burl = 'https://www.ons.gov.uk/file?uri=/peoplepopulationandcommunity/birthsdeathsandmarriages/livebirths/datasets/babynamesinenglandandwalesfrom1996/1996tocurrent/babynames1996to2021.xlsx',\n",
    "    usaurl = 'https://www.ssa.gov/oact/babynames/names.zip',\n",
    "    dirpath = dataPath,\n",
    "    timecourse = '',    \n",
    "    fpath = dataPath + 'nat2021.csv',                   # csv  file in 'data' folder\n",
    "    bpath = dataPath + 'babynames1996to2021.xlsx',      # xlsx file in 'data' folder\n",
    "    upath = dataPath + 'usa_names' + os.sep             # a list of txt files in 'data/usa_names' folder\n",
    ")"
   ]
  },
  {
   "cell_type": "code",
   "execution_count": 5,
   "metadata": {
    "ExecuteTime": {
     "end_time": "2021-02-03T09:56:54.282784Z",
     "start_time": "2021-02-03T09:56:54.280062Z"
    },
    "collapsed": false,
    "jupyter": {
     "outputs_hidden": false,
     "source_hidden": false
    },
    "nteract": {
     "transient": {
      "deleting": false
     }
    }
   },
   "outputs": [
    {
     "name": "stdout",
     "output_type": "stream",
     "text": [
      "C:\\Users\\Paula\\Downloads\\data\n"
     ]
    }
   ],
   "source": [
    "# Modify location\n",
    "%cd {params['dirpath']}\n",
    "\n",
    "# Check current directory\n",
    "%pwd\n",
    "\n",
    "# Create a directory if it does not exist\n",
    "if not Path(params['dirpath']).exists():\n",
    "    %mkdir {params['dirpath']}"
   ]
  },
  {
   "cell_type": "code",
   "execution_count": 6,
   "metadata": {
    "ExecuteTime": {
     "end_time": "2021-02-03T09:56:54.409700Z",
     "start_time": "2021-02-03T09:56:54.406560Z"
    },
    "collapsed": false,
    "jupyter": {
     "outputs_hidden": false,
     "source_hidden": false
    },
    "nteract": {
     "transient": {
      "deleting": false
     }
    }
   },
   "outputs": [],
   "source": [
    "url = params['furl']      # 'https://www.insee.fr/fr/statistiques/fichier/2540004/nat2021_csv.zip'\n",
    "fpath = params['fpath']  # './nat2021_csv.zip'"
   ]
  },
  {
   "cell_type": "code",
   "execution_count": 7,
   "metadata": {},
   "outputs": [
    {
     "name": "stdout",
     "output_type": "stream",
     "text": [
      "Response type: <class 'requests.models.Response'>\n",
      "Zipfile type: <class 'zipfile.ZipFile'>\n",
      "File .\\data\\nat2021.csv downloaded and extracted successfully.\n"
     ]
    }
   ],
   "source": [
    "# Download and extract the zip file\n",
    "if not Path(params['fpath']).exists():\n",
    "    r = requests.get(params['furl'])  # Send an HTTP GET request to the URL\n",
    "    print(f\"Response type: {type(r)}\")\n",
    "    z = zipfile.ZipFile(io.BytesIO(r.content))  # Create a zipfile object from the response content\n",
    "    print(f\"Zipfile type: {type(z)}\")\n",
    "    z.extractall(path='./')  # Extract the contents of the zipfile to the specified path\n",
    "    print(f\"File {params['fpath']} downloaded and extracted successfully.\")\n",
    "else:\n",
    "    print(f\"File {params['fpath']} from French data already exists.\")"
   ]
  },
  {
   "cell_type": "markdown",
   "metadata": {},
   "source": [
    "## Download US and British data \n",
    "\n"
   ]
  },
  {
   "cell_type": "code",
   "execution_count": 8,
   "metadata": {},
   "outputs": [
    {
     "name": "stdout",
     "output_type": "stream",
     "text": [
      "British data file already exist\n",
      "USA data file already exist\n"
     ]
    }
   ],
   "source": [
    "# British data \n",
    "\n",
    "if not Path(params['bpath']).exists():\n",
    "    r = requests.get(params['burl'])\n",
    "    if (r.status_code == 200):\n",
    "        f = open(params['bpath'],'wb')\n",
    "        f.write(r.content)\n",
    "        f.close()\n",
    "        print(\"British data file has been loaded\")\n",
    "    else:\n",
    "        print(\"WARNING: download of British data file is failed\") \n",
    "else:\n",
    "    print(\"British data file already exist\")\n",
    "\n",
    "# US data \n",
    "\n",
    "if not Path(params['upath']).exists():\n",
    "    r = requests.get(params['usaurl'])\n",
    "    if (r.status_code == 200):\n",
    "        z = zipfile.ZipFile(io.BytesIO(r.content))\n",
    "        z.extractall(path=params['upath'])\n",
    "        print(\"USA data file has been loaded\")\n",
    "    else:\n",
    "        print(\"WARNING: download of USA data file is failed\")\n",
    "else:\n",
    "    print(\"USA data file already exist\")"
   ]
  },
  {
   "cell_type": "markdown",
   "metadata": {
    "nteract": {
     "transient": {
      "deleting": false
     }
    }
   },
   "source": [
    "## Load the French data in memory\n",
    "\n",
    "**QUESTION:** Load the data in a `pandas` `DataFrame` called `data`\n",
    "\n",
    "__Hints:__\n",
    "\n",
    "- You should obtain a `Pandas dataframe` with 4 columns.\n",
    "- Mind the conventions used to build the `csv` file.\n",
    "- Package `pandas` provides the convenient tools.\n",
    "- The dataset, though not too large, is already demanding.\n",
    "- Don't hesitate to test your methods on a sample of rows method `sample()` from class `DataFrame` can be helpful."
   ]
  },
  {
   "cell_type": "code",
   "execution_count": 13,
   "metadata": {
    "ExecuteTime": {
     "end_time": "2021-02-03T09:57:18.980873Z",
     "start_time": "2021-02-03T09:57:18.978008Z"
    },
    "collapsed": false,
    "jupyter": {
     "outputs_hidden": false,
     "source_hidden": false
    },
    "nteract": {
     "transient": {
      "deleting": false
     }
    }
   },
   "outputs": [
    {
     "data": {
      "text/html": [
       "<div>\n",
       "<style scoped>\n",
       "    .dataframe tbody tr th:only-of-type {\n",
       "        vertical-align: middle;\n",
       "    }\n",
       "\n",
       "    .dataframe tbody tr th {\n",
       "        vertical-align: top;\n",
       "    }\n",
       "\n",
       "    .dataframe thead th {\n",
       "        text-align: right;\n",
       "    }\n",
       "</style>\n",
       "<table border=\"1\" class=\"dataframe\">\n",
       "  <thead>\n",
       "    <tr style=\"text-align: right;\">\n",
       "      <th></th>\n",
       "      <th>sexe</th>\n",
       "      <th>preusuel</th>\n",
       "      <th>annais</th>\n",
       "      <th>nombre</th>\n",
       "    </tr>\n",
       "  </thead>\n",
       "  <tbody>\n",
       "    <tr>\n",
       "      <th>0</th>\n",
       "      <td>1</td>\n",
       "      <td>_PRENOMS_RARES</td>\n",
       "      <td>1900</td>\n",
       "      <td>1249</td>\n",
       "    </tr>\n",
       "    <tr>\n",
       "      <th>1</th>\n",
       "      <td>1</td>\n",
       "      <td>_PRENOMS_RARES</td>\n",
       "      <td>1901</td>\n",
       "      <td>1342</td>\n",
       "    </tr>\n",
       "    <tr>\n",
       "      <th>2</th>\n",
       "      <td>1</td>\n",
       "      <td>_PRENOMS_RARES</td>\n",
       "      <td>1902</td>\n",
       "      <td>1330</td>\n",
       "    </tr>\n",
       "    <tr>\n",
       "      <th>3</th>\n",
       "      <td>1</td>\n",
       "      <td>_PRENOMS_RARES</td>\n",
       "      <td>1903</td>\n",
       "      <td>1286</td>\n",
       "    </tr>\n",
       "    <tr>\n",
       "      <th>4</th>\n",
       "      <td>1</td>\n",
       "      <td>_PRENOMS_RARES</td>\n",
       "      <td>1904</td>\n",
       "      <td>1430</td>\n",
       "    </tr>\n",
       "    <tr>\n",
       "      <th>...</th>\n",
       "      <td>...</td>\n",
       "      <td>...</td>\n",
       "      <td>...</td>\n",
       "      <td>...</td>\n",
       "    </tr>\n",
       "    <tr>\n",
       "      <th>686533</th>\n",
       "      <td>2</td>\n",
       "      <td>ZYNEB</td>\n",
       "      <td>2018</td>\n",
       "      <td>5</td>\n",
       "    </tr>\n",
       "    <tr>\n",
       "      <th>686534</th>\n",
       "      <td>2</td>\n",
       "      <td>ZYNEB</td>\n",
       "      <td>2019</td>\n",
       "      <td>7</td>\n",
       "    </tr>\n",
       "    <tr>\n",
       "      <th>686535</th>\n",
       "      <td>2</td>\n",
       "      <td>ZYNEB</td>\n",
       "      <td>2020</td>\n",
       "      <td>8</td>\n",
       "    </tr>\n",
       "    <tr>\n",
       "      <th>686536</th>\n",
       "      <td>2</td>\n",
       "      <td>ZYNEB</td>\n",
       "      <td>2021</td>\n",
       "      <td>6</td>\n",
       "    </tr>\n",
       "    <tr>\n",
       "      <th>686537</th>\n",
       "      <td>2</td>\n",
       "      <td>ZYNEB</td>\n",
       "      <td>XXXX</td>\n",
       "      <td>19</td>\n",
       "    </tr>\n",
       "  </tbody>\n",
       "</table>\n",
       "<p>686538 rows × 4 columns</p>\n",
       "</div>"
      ],
      "text/plain": [
       "        sexe        preusuel annais  nombre\n",
       "0          1  _PRENOMS_RARES   1900    1249\n",
       "1          1  _PRENOMS_RARES   1901    1342\n",
       "2          1  _PRENOMS_RARES   1902    1330\n",
       "3          1  _PRENOMS_RARES   1903    1286\n",
       "4          1  _PRENOMS_RARES   1904    1430\n",
       "...      ...             ...    ...     ...\n",
       "686533     2           ZYNEB   2018       5\n",
       "686534     2           ZYNEB   2019       7\n",
       "686535     2           ZYNEB   2020       8\n",
       "686536     2           ZYNEB   2021       6\n",
       "686537     2           ZYNEB   XXXX      19\n",
       "\n",
       "[686538 rows x 4 columns]"
      ]
     },
     "execution_count": 13,
     "metadata": {},
     "output_type": "execute_result"
    }
   ],
   "source": [
    "# Name of the file to be read from the zip file\n",
    "filename = 'nat2021.csv'\n",
    "# load French data in memory (1900 - 2021)\n",
    "df_fr = pd.read_csv(filename, sep=';')\n",
    "# Print the first few rows of the DataFrame\n",
    "df_fr"
   ]
  },
  {
   "cell_type": "markdown",
   "metadata": {},
   "source": [
    "## Load US and British data in memory"
   ]
  },
  {
   "cell_type": "code",
   "execution_count": 12,
   "metadata": {},
   "outputs": [
    {
     "data": {
      "text/html": [
       "<div>\n",
       "<style scoped>\n",
       "    .dataframe tbody tr th:only-of-type {\n",
       "        vertical-align: middle;\n",
       "    }\n",
       "\n",
       "    .dataframe tbody tr th {\n",
       "        vertical-align: top;\n",
       "    }\n",
       "\n",
       "    .dataframe thead th {\n",
       "        text-align: right;\n",
       "    }\n",
       "</style>\n",
       "<table border=\"1\" class=\"dataframe\">\n",
       "  <thead>\n",
       "    <tr style=\"text-align: right;\">\n",
       "      <th></th>\n",
       "      <th>Gender</th>\n",
       "      <th>Name</th>\n",
       "      <th>Year</th>\n",
       "      <th>Nb</th>\n",
       "    </tr>\n",
       "  </thead>\n",
       "  <tbody>\n",
       "    <tr>\n",
       "      <th>0</th>\n",
       "      <td>1</td>\n",
       "      <td>A</td>\n",
       "      <td>2021</td>\n",
       "      <td>5</td>\n",
       "    </tr>\n",
       "    <tr>\n",
       "      <th>16777</th>\n",
       "      <td>1</td>\n",
       "      <td>A</td>\n",
       "      <td>2020</td>\n",
       "      <td>4</td>\n",
       "    </tr>\n",
       "    <tr>\n",
       "      <th>33554</th>\n",
       "      <td>1</td>\n",
       "      <td>A</td>\n",
       "      <td>2019</td>\n",
       "      <td>10</td>\n",
       "    </tr>\n",
       "    <tr>\n",
       "      <th>50331</th>\n",
       "      <td>1</td>\n",
       "      <td>A</td>\n",
       "      <td>2018</td>\n",
       "      <td>4</td>\n",
       "    </tr>\n",
       "    <tr>\n",
       "      <th>67108</th>\n",
       "      <td>1</td>\n",
       "      <td>A</td>\n",
       "      <td>2017</td>\n",
       "      <td>4</td>\n",
       "    </tr>\n",
       "    <tr>\n",
       "      <th>...</th>\n",
       "      <td>...</td>\n",
       "      <td>...</td>\n",
       "      <td>...</td>\n",
       "      <td>...</td>\n",
       "    </tr>\n",
       "    <tr>\n",
       "      <th>87831</th>\n",
       "      <td>2</td>\n",
       "      <td>Zyva</td>\n",
       "      <td>2018</td>\n",
       "      <td>5</td>\n",
       "    </tr>\n",
       "    <tr>\n",
       "      <th>109789</th>\n",
       "      <td>2</td>\n",
       "      <td>Zyva</td>\n",
       "      <td>2017</td>\n",
       "      <td>5</td>\n",
       "    </tr>\n",
       "    <tr>\n",
       "      <th>153705</th>\n",
       "      <td>2</td>\n",
       "      <td>Zyva</td>\n",
       "      <td>2015</td>\n",
       "      <td>3</td>\n",
       "    </tr>\n",
       "    <tr>\n",
       "      <th>285453</th>\n",
       "      <td>2</td>\n",
       "      <td>Zyva</td>\n",
       "      <td>2009</td>\n",
       "      <td>5</td>\n",
       "    </tr>\n",
       "    <tr>\n",
       "      <th>307411</th>\n",
       "      <td>2</td>\n",
       "      <td>Zyva</td>\n",
       "      <td>2008</td>\n",
       "      <td>3</td>\n",
       "    </tr>\n",
       "  </tbody>\n",
       "</table>\n",
       "<p>308330 rows × 4 columns</p>\n",
       "</div>"
      ],
      "text/plain": [
       "        Gender  Name  Year  Nb\n",
       "0            1     A  2021   5\n",
       "16777        1     A  2020   4\n",
       "33554        1     A  2019  10\n",
       "50331        1     A  2018   4\n",
       "67108        1     A  2017   4\n",
       "...        ...   ...   ...  ..\n",
       "87831        2  Zyva  2018   5\n",
       "109789       2  Zyva  2017   5\n",
       "153705       2  Zyva  2015   3\n",
       "285453       2  Zyva  2009   5\n",
       "307411       2  Zyva  2008   3\n",
       "\n",
       "[308330 rows x 4 columns]"
      ]
     },
     "execution_count": 12,
     "metadata": {},
     "output_type": "execute_result"
    }
   ],
   "source": [
    "# load British data in memory (1996 - 2021)\n",
    "\n",
    "# will be used later for calculate NaN's count\n",
    "statistics = dict(\n",
    "    countNullFr = 0,\n",
    "    linesNullFr = 0,\n",
    "    countNullBr = 0,\n",
    "    linesNullBr = 0,\n",
    "    countNullUSA = 0,\n",
    "    linesNullUSA = 0\n",
    ")\n",
    "\n",
    "# create dataframe for boys\n",
    "df_boys = pd.read_excel(io = params['bpath'], engine='openpyxl', sheet_name='1', header = 7)\n",
    "\n",
    "# take only \"Name\" and \"Count <year>\" columns and cut the word \"Count\"\n",
    "columns =  df_boys.columns.str.contains('Count|Name')\n",
    "indices = [i for i, col in enumerate(columns) if col]\n",
    "df_boys = df_boys.iloc[:, indices]\n",
    "df_boys.columns = [x.replace(' Count', '') for x in df_boys.columns]\n",
    "\n",
    "# collect all years in one column \"Year\"\n",
    "df_boys = df_boys.melt(id_vars='Name', var_name='Year', value_name='Nb')\n",
    "\n",
    "statistics['countNullBr'] += df_boys['Nb'].value_counts()['[x]']          #For Q:How many missing values (NA) have been introduced?   \n",
    "\n",
    "# Replace Nb [x] -> NaN, drop lines with NaN and define type\n",
    "df_boys = (df_boys.replace('[x]', np.nan)\n",
    "                .dropna()\n",
    "                .sort_values(['Name','Year'], ascending=[True,False])\n",
    "                .astype({'Nb': np.int64})\n",
    "                  # .sort_values(by=['Year', 'Name'])\n",
    "          )\n",
    "\n",
    "# add \"Gender\" column with value = 1 for all rows\n",
    "df_boys.insert(0, 'Gender', 1)\n",
    "\n",
    "\n",
    "# create dataframe for girls\n",
    "df_girls = pd.read_excel(io = params['bpath'], engine='openpyxl', sheet_name='2', header = 7)\n",
    "\n",
    "# take only \"Name\" and \"Count <year>\" columns and cut the word \"Count\"\n",
    "columns =  df_girls.columns.str.contains('Count|Name')\n",
    "indices = [i for i, col in enumerate(columns) if col]\n",
    "df_girls = df_girls.iloc[:, indices]\n",
    "df_girls.columns = [x.replace(' Count', '') for x in df_girls.columns]\n",
    "\n",
    "# collect all years in one column \"Year\"\n",
    "df_girls = df_girls.melt(id_vars='Name', var_name='Year', value_name='Nb')\n",
    "\n",
    "statistics['countNullBr'] += df_girls['Nb'].value_counts()['[x]']          #For Q:How many missing values (NA) have been introduced?                                                                          \n",
    "\n",
    "# Replace Nb [x] -> NaN, drop lines with NaN and define type\n",
    "df_girls = (df_girls.replace('[x]', np.nan)\n",
    "                .dropna()\n",
    "                .sort_values(['Name','Year'], ascending=[True,False])\n",
    "                .astype({'Nb': np.int64})\n",
    "                  # .sort_values(by=['Year', 'Name'])\n",
    "           )\n",
    "# add \"Gender\" column with value = 2 for all rows\n",
    "df_girls.insert(0, 'Gender', 2)\n",
    "\n",
    "\n",
    "# concatenate them to one DataFrame\n",
    "df_br = pd.concat([df_boys, df_girls])\n",
    "\n",
    "df_br"
   ]
  },
  {
   "cell_type": "code",
   "execution_count": 17,
   "metadata": {},
   "outputs": [
    {
     "data": {
      "text/html": [
       "<div>\n",
       "<style scoped>\n",
       "    .dataframe tbody tr th:only-of-type {\n",
       "        vertical-align: middle;\n",
       "    }\n",
       "\n",
       "    .dataframe tbody tr th {\n",
       "        vertical-align: top;\n",
       "    }\n",
       "\n",
       "    .dataframe thead th {\n",
       "        text-align: right;\n",
       "    }\n",
       "</style>\n",
       "<table border=\"1\" class=\"dataframe\">\n",
       "  <thead>\n",
       "    <tr style=\"text-align: right;\">\n",
       "      <th></th>\n",
       "      <th>Name</th>\n",
       "      <th>Gender</th>\n",
       "      <th>Year</th>\n",
       "      <th>Nb</th>\n",
       "    </tr>\n",
       "  </thead>\n",
       "  <tbody>\n",
       "    <tr>\n",
       "      <th>0</th>\n",
       "      <td>Mary</td>\n",
       "      <td>2</td>\n",
       "      <td>1880</td>\n",
       "      <td>7065</td>\n",
       "    </tr>\n",
       "    <tr>\n",
       "      <th>1</th>\n",
       "      <td>Anna</td>\n",
       "      <td>2</td>\n",
       "      <td>1880</td>\n",
       "      <td>2604</td>\n",
       "    </tr>\n",
       "    <tr>\n",
       "      <th>2</th>\n",
       "      <td>Emma</td>\n",
       "      <td>2</td>\n",
       "      <td>1880</td>\n",
       "      <td>2003</td>\n",
       "    </tr>\n",
       "    <tr>\n",
       "      <th>3</th>\n",
       "      <td>Elizabeth</td>\n",
       "      <td>2</td>\n",
       "      <td>1880</td>\n",
       "      <td>1939</td>\n",
       "    </tr>\n",
       "    <tr>\n",
       "      <th>4</th>\n",
       "      <td>Minnie</td>\n",
       "      <td>2</td>\n",
       "      <td>1880</td>\n",
       "      <td>1746</td>\n",
       "    </tr>\n",
       "    <tr>\n",
       "      <th>...</th>\n",
       "      <td>...</td>\n",
       "      <td>...</td>\n",
       "      <td>...</td>\n",
       "      <td>...</td>\n",
       "    </tr>\n",
       "    <tr>\n",
       "      <th>2052776</th>\n",
       "      <td>Zyeire</td>\n",
       "      <td>1</td>\n",
       "      <td>2021</td>\n",
       "      <td>5</td>\n",
       "    </tr>\n",
       "    <tr>\n",
       "      <th>2052777</th>\n",
       "      <td>Zyel</td>\n",
       "      <td>1</td>\n",
       "      <td>2021</td>\n",
       "      <td>5</td>\n",
       "    </tr>\n",
       "    <tr>\n",
       "      <th>2052778</th>\n",
       "      <td>Zyian</td>\n",
       "      <td>1</td>\n",
       "      <td>2021</td>\n",
       "      <td>5</td>\n",
       "    </tr>\n",
       "    <tr>\n",
       "      <th>2052779</th>\n",
       "      <td>Zylar</td>\n",
       "      <td>1</td>\n",
       "      <td>2021</td>\n",
       "      <td>5</td>\n",
       "    </tr>\n",
       "    <tr>\n",
       "      <th>2052780</th>\n",
       "      <td>Zyn</td>\n",
       "      <td>1</td>\n",
       "      <td>2021</td>\n",
       "      <td>5</td>\n",
       "    </tr>\n",
       "  </tbody>\n",
       "</table>\n",
       "<p>2052781 rows × 4 columns</p>\n",
       "</div>"
      ],
      "text/plain": [
       "              Name  Gender  Year    Nb\n",
       "0             Mary       2  1880  7065\n",
       "1             Anna       2  1880  2604\n",
       "2             Emma       2  1880  2003\n",
       "3        Elizabeth       2  1880  1939\n",
       "4           Minnie       2  1880  1746\n",
       "...            ...     ...   ...   ...\n",
       "2052776     Zyeire       1  2021     5\n",
       "2052777       Zyel       1  2021     5\n",
       "2052778      Zyian       1  2021     5\n",
       "2052779      Zylar       1  2021     5\n",
       "2052780        Zyn       1  2021     5\n",
       "\n",
       "[2052781 rows x 4 columns]"
      ]
     },
     "execution_count": 17,
     "metadata": {},
     "output_type": "execute_result"
    }
   ],
   "source": [
    "# Load USA data in memory  (1880 - 2021)\n",
    "\n",
    "# path for directory & list of years took from filenames\n",
    "pathGenerator = Path(params['upath']).rglob('*.txt')\n",
    "pathsList = [x for x in pathGenerator]\n",
    "\n",
    "# create DataFrame from .txt file\n",
    "def fromTxtToDataFrame(filename, year):\n",
    "    df = pd.read_csv(filename, sep=',', names = [ 'Name', 'Gender', 'Nb'])\n",
    "    df.insert(2, 'Year', year)\n",
    "    return df\n",
    "\n",
    "# compose list of DataFrames\n",
    "def doForAll():\n",
    "    yearsList = [ int( (str(x))[-8:-4] ) for x in pathsList ]\n",
    "    length = len(yearsList)   \n",
    "    return [fromTxtToDataFrame(pathsList[i], yearsList[i]) for i in range(length)]\n",
    "\n",
    "# concatenate all DataFrames in one\n",
    "df_usa = pd.concat(doForAll(), ignore_index=True)\n",
    "\n",
    "df_usa = (df_usa.replace({'Gender': {'F': 2, 'M': 1}})\n",
    "                 # .sort_values(by=['Gender', 'Year', 'Name'])\n",
    "         )      \n",
    "df_usa"
   ]
  },
  {
   "cell_type": "markdown",
   "metadata": {
    "nteract": {
     "transient": {
      "deleting": false
     }
    }
   },
   "source": [
    "## Explore the data"
   ]
  },
  {
   "cell_type": "markdown",
   "metadata": {
    "nteract": {
     "transient": {
      "deleting": false
     }
    }
   },
   "source": [
    "**QUESTION:** Look at the data, Use the attributes `columns`, `dtypes` and the methods `head`, `describe`, to get a feeling of the data.\n",
    "\n",
    "- This dataset is supposed to report all given names used\n",
    "for either sex during a year in France since 1900\n",
    "\n",
    "- The file is made of `652 056` lines and  4 columns.\n",
    "\n",
    "```\n",
    "|-- preusuel : object\n",
    "|-- nombre: int64\n",
    "|-- sexe: int64\n",
    "|-- annais: object\n",
    "```\n",
    "\n",
    "Each row indicates for a given `preusuel` (prénom usuel, given name), `sexe` (sex), and `annais` (année naissance, birthyear) the `nombre` (number) of babies of the given sex who were given that name during the given year.\n",
    "\n",
    "|sexe    |preusuel     | annais|   nombre|\n",
    "|:------|:--------|----:|---:|\n",
    "|2     |SYLVETTE | 1953| 577|\n",
    "|1   |BOUBOU   | 1979|   4|\n",
    "|1   |NILS     | 1959|   3|\n",
    "|2   |NICOLE   | 2003|  36|\n",
    "|1   |JOSÉLITO | 2013|   4|\n",
    "\n",
    "\n",
    "**QUESTION:** Compare memory usage and disk space used by data\n",
    "\n",
    "**Hints:**\n",
    "\n",
    "- The method `info`  prints a concise summary of a `DataFrame`.\n",
    "- With optional parameter `memory_usage`, you can get an estimate\n",
    "of the amount of memory used by the `DataFrame`.\n",
    "- Beware that the resulting estimate depends on the argument fed."
   ]
  },
  {
   "cell_type": "code",
   "execution_count": 14,
   "metadata": {
    "ExecuteTime": {
     "end_time": "2021-02-03T09:42:59.360455Z",
     "start_time": "2021-02-03T09:42:59.357825Z"
    },
    "collapsed": false,
    "jupyter": {
     "outputs_hidden": false
    },
    "nteract": {
     "transient": {
      "deleting": false
     }
    }
   },
   "outputs": [
    {
     "name": "stdout",
     "output_type": "stream",
     "text": [
      "<class 'pandas.core.frame.DataFrame'>\n",
      "RangeIndex: 686538 entries, 0 to 686537\n",
      "Data columns (total 4 columns):\n",
      " #   Column    Non-Null Count   Dtype \n",
      "---  ------    --------------   ----- \n",
      " 0   sexe      686538 non-null  int64 \n",
      " 1   preusuel  686536 non-null  object\n",
      " 2   annais    686538 non-null  object\n",
      " 3   nombre    686538 non-null  int64 \n",
      "dtypes: int64(2), object(2)\n",
      "memory usage: 21.0+ MB\n",
      "None\n",
      "Index            128\n",
      "sexe         5492304\n",
      "preusuel    44960397\n",
      "annais      41878818\n",
      "nombre       5492304\n",
      "dtype: int64\n",
      "12486486\n"
     ]
    }
   ],
   "source": [
    "# French data \n",
    "# Display information about the DataFrame\n",
    "print(df_fr.info())\n",
    "\n",
    "# Get an estimate of the memory usage of the DataFrame\n",
    "print(df_fr.memory_usage(deep=True))\n",
    "\n",
    "# Get the disk space used by the data file\n",
    "import os\n",
    "print(os.path.getsize(filename))\n"
   ]
  },
  {
   "cell_type": "code",
   "execution_count": 15,
   "metadata": {},
   "outputs": [
    {
     "name": "stdout",
     "output_type": "stream",
     "text": [
      "<class 'pandas.core.frame.DataFrame'>\n",
      "Int64Index: 308330 entries, 0 to 307411\n",
      "Data columns (total 4 columns):\n",
      " #   Column  Non-Null Count   Dtype \n",
      "---  ------  --------------   ----- \n",
      " 0   Gender  308330 non-null  int64 \n",
      " 1   Name    308330 non-null  object\n",
      " 2   Year    308330 non-null  object\n",
      " 3   Nb      308330 non-null  int64 \n",
      "dtypes: int64(2), object(2)\n",
      "memory usage: 11.8+ MB\n",
      "None\n",
      "Index      2466640\n",
      "Gender     2466640\n",
      "Name      19485339\n",
      "Year      18808130\n",
      "Nb         2466640\n",
      "dtype: int64\n",
      "12486486\n"
     ]
    }
   ],
   "source": [
    "# British data \n",
    "# Display information about the DataFrame\n",
    "print(df_br.info())\n",
    "\n",
    "# Get an estimate of the memory usage of the DataFrame\n",
    "print(df_br.memory_usage(deep=True))\n",
    "\n",
    "# Get the disk space used by the data file\n",
    "import os\n",
    "print(os.path.getsize(filename))\n"
   ]
  },
  {
   "cell_type": "code",
   "execution_count": 18,
   "metadata": {},
   "outputs": [
    {
     "name": "stdout",
     "output_type": "stream",
     "text": [
      "<class 'pandas.core.frame.DataFrame'>\n",
      "RangeIndex: 2052781 entries, 0 to 2052780\n",
      "Data columns (total 4 columns):\n",
      " #   Column  Dtype \n",
      "---  ------  ----- \n",
      " 0   Name    object\n",
      " 1   Gender  int64 \n",
      " 2   Year    int64 \n",
      " 3   Nb      int64 \n",
      "dtypes: int64(3), object(1)\n",
      "memory usage: 62.6+ MB\n",
      "None\n",
      "Index           128\n",
      "Name      129669945\n",
      "Gender     16422248\n",
      "Year       16422248\n",
      "Nb         16422248\n",
      "dtype: int64\n",
      "12486486\n"
     ]
    }
   ],
   "source": [
    "# USA data \n",
    "# Display information about the DataFrame\n",
    "print(df_usa.info())\n",
    "\n",
    "# Get an estimate of the memory usage of the DataFrame\n",
    "print(df_usa.memory_usage(deep=True))\n",
    "\n",
    "# Get the disk space used by the data file\n",
    "import os\n",
    "print(os.path.getsize(filename))\n"
   ]
  },
  {
   "cell_type": "markdown",
   "metadata": {
    "nteract": {
     "transient": {
      "deleting": false
     }
    }
   },
   "source": [
    "**QUESTION:** Display the output of `.describe()` with style."
   ]
  },
  {
   "cell_type": "code",
   "execution_count": 19,
   "metadata": {
    "ExecuteTime": {
     "end_time": "2021-02-03T09:43:01.043175Z",
     "start_time": "2021-02-03T09:43:01.040595Z"
    },
    "collapsed": false,
    "jupyter": {
     "outputs_hidden": false
    },
    "nteract": {
     "transient": {
      "deleting": false
     }
    }
   },
   "outputs": [
    {
     "data": {
      "text/html": [
       "<style type=\"text/css\">\n",
       "#T_edcf5 th {\n",
       "  background: #7ca6db;\n",
       "  color: white;\n",
       "}\n",
       "</style>\n",
       "<table id=\"T_edcf5\">\n",
       "  <caption>Summary Statistics</caption>\n",
       "  <thead>\n",
       "    <tr>\n",
       "      <th class=\"blank level0\" >&nbsp;</th>\n",
       "      <th id=\"T_edcf5_level0_col0\" class=\"col_heading level0 col0\" >sexe</th>\n",
       "      <th id=\"T_edcf5_level0_col1\" class=\"col_heading level0 col1\" >nombre</th>\n",
       "    </tr>\n",
       "  </thead>\n",
       "  <tbody>\n",
       "    <tr>\n",
       "      <th id=\"T_edcf5_level0_row0\" class=\"row_heading level0 row0\" >count</th>\n",
       "      <td id=\"T_edcf5_row0_col0\" class=\"data row0 col0\" >686538.000000</td>\n",
       "      <td id=\"T_edcf5_row0_col1\" class=\"data row0 col1\" >686538.000000</td>\n",
       "    </tr>\n",
       "    <tr>\n",
       "      <th id=\"T_edcf5_level0_row1\" class=\"row_heading level0 row1\" >mean</th>\n",
       "      <td id=\"T_edcf5_row1_col0\" class=\"data row1 col0\" >1.543406</td>\n",
       "      <td id=\"T_edcf5_row1_col1\" class=\"data row1 col1\" >127.340179</td>\n",
       "    </tr>\n",
       "    <tr>\n",
       "      <th id=\"T_edcf5_level0_row2\" class=\"row_heading level0 row2\" >std</th>\n",
       "      <td id=\"T_edcf5_row2_col0\" class=\"data row2 col0\" >0.498113</td>\n",
       "      <td id=\"T_edcf5_row2_col1\" class=\"data row2 col1\" >874.907958</td>\n",
       "    </tr>\n",
       "    <tr>\n",
       "      <th id=\"T_edcf5_level0_row3\" class=\"row_heading level0 row3\" >min</th>\n",
       "      <td id=\"T_edcf5_row3_col0\" class=\"data row3 col0\" >1.000000</td>\n",
       "      <td id=\"T_edcf5_row3_col1\" class=\"data row3 col1\" >1.000000</td>\n",
       "    </tr>\n",
       "    <tr>\n",
       "      <th id=\"T_edcf5_level0_row4\" class=\"row_heading level0 row4\" >25%</th>\n",
       "      <td id=\"T_edcf5_row4_col0\" class=\"data row4 col0\" >1.000000</td>\n",
       "      <td id=\"T_edcf5_row4_col1\" class=\"data row4 col1\" >4.000000</td>\n",
       "    </tr>\n",
       "    <tr>\n",
       "      <th id=\"T_edcf5_level0_row5\" class=\"row_heading level0 row5\" >50%</th>\n",
       "      <td id=\"T_edcf5_row5_col0\" class=\"data row5 col0\" >2.000000</td>\n",
       "      <td id=\"T_edcf5_row5_col1\" class=\"data row5 col1\" >8.000000</td>\n",
       "    </tr>\n",
       "    <tr>\n",
       "      <th id=\"T_edcf5_level0_row6\" class=\"row_heading level0 row6\" >75%</th>\n",
       "      <td id=\"T_edcf5_row6_col0\" class=\"data row6 col0\" >2.000000</td>\n",
       "      <td id=\"T_edcf5_row6_col1\" class=\"data row6 col1\" >25.000000</td>\n",
       "    </tr>\n",
       "    <tr>\n",
       "      <th id=\"T_edcf5_level0_row7\" class=\"row_heading level0 row7\" >max</th>\n",
       "      <td id=\"T_edcf5_row7_col0\" class=\"data row7 col0\" >2.000000</td>\n",
       "      <td id=\"T_edcf5_row7_col1\" class=\"data row7 col1\" >53547.000000</td>\n",
       "    </tr>\n",
       "  </tbody>\n",
       "</table>\n"
      ],
      "text/plain": [
       "<pandas.io.formats.style.Styler at 0x20c532822b0>"
      ]
     },
     "metadata": {},
     "output_type": "display_data"
    }
   ],
   "source": [
    "# French data\n",
    "# Compute some summary statistics about the DataFrame\n",
    "summary_stats = df_fr.describe()\n",
    "\n",
    "# Apply some styling to the summary statistics\n",
    "styled_summary_stats = summary_stats.style.set_table_styles(\n",
    "    [{'selector': 'th', 'props': [('background', '#7ca6db'), ('color', 'white')]}]\n",
    ").set_caption(\"Summary Statistics\")\n",
    "\n",
    "# Display the styled summary statistics\n",
    "display(styled_summary_stats)\n",
    "\n"
   ]
  },
  {
   "cell_type": "code",
   "execution_count": 20,
   "metadata": {},
   "outputs": [
    {
     "data": {
      "text/html": [
       "<style type=\"text/css\">\n",
       "#T_96b4a th {\n",
       "  background: #7ca6db;\n",
       "  color: white;\n",
       "}\n",
       "</style>\n",
       "<table id=\"T_96b4a\">\n",
       "  <caption>Summary Statistics</caption>\n",
       "  <thead>\n",
       "    <tr>\n",
       "      <th class=\"blank level0\" >&nbsp;</th>\n",
       "      <th id=\"T_96b4a_level0_col0\" class=\"col_heading level0 col0\" >Gender</th>\n",
       "      <th id=\"T_96b4a_level0_col1\" class=\"col_heading level0 col1\" >Nb</th>\n",
       "    </tr>\n",
       "  </thead>\n",
       "  <tbody>\n",
       "    <tr>\n",
       "      <th id=\"T_96b4a_level0_row0\" class=\"row_heading level0 row0\" >count</th>\n",
       "      <td id=\"T_96b4a_row0_col0\" class=\"data row0 col0\" >308330.000000</td>\n",
       "      <td id=\"T_96b4a_row0_col1\" class=\"data row0 col1\" >308330.000000</td>\n",
       "    </tr>\n",
       "    <tr>\n",
       "      <th id=\"T_96b4a_level0_row1\" class=\"row_heading level0 row1\" >mean</th>\n",
       "      <td id=\"T_96b4a_row1_col0\" class=\"data row1 col0\" >1.554400</td>\n",
       "      <td id=\"T_96b4a_row1_col1\" class=\"data row1 col1\" >51.628356</td>\n",
       "    </tr>\n",
       "    <tr>\n",
       "      <th id=\"T_96b4a_level0_row2\" class=\"row_heading level0 row2\" >std</th>\n",
       "      <td id=\"T_96b4a_row2_col0\" class=\"data row2 col0\" >0.497033</td>\n",
       "      <td id=\"T_96b4a_row2_col1\" class=\"data row2 col1\" >297.264209</td>\n",
       "    </tr>\n",
       "    <tr>\n",
       "      <th id=\"T_96b4a_level0_row3\" class=\"row_heading level0 row3\" >min</th>\n",
       "      <td id=\"T_96b4a_row3_col0\" class=\"data row3 col0\" >1.000000</td>\n",
       "      <td id=\"T_96b4a_row3_col1\" class=\"data row3 col1\" >3.000000</td>\n",
       "    </tr>\n",
       "    <tr>\n",
       "      <th id=\"T_96b4a_level0_row4\" class=\"row_heading level0 row4\" >25%</th>\n",
       "      <td id=\"T_96b4a_row4_col0\" class=\"data row4 col0\" >1.000000</td>\n",
       "      <td id=\"T_96b4a_row4_col1\" class=\"data row4 col1\" >4.000000</td>\n",
       "    </tr>\n",
       "    <tr>\n",
       "      <th id=\"T_96b4a_level0_row5\" class=\"row_heading level0 row5\" >50%</th>\n",
       "      <td id=\"T_96b4a_row5_col0\" class=\"data row5 col0\" >2.000000</td>\n",
       "      <td id=\"T_96b4a_row5_col1\" class=\"data row5 col1\" >6.000000</td>\n",
       "    </tr>\n",
       "    <tr>\n",
       "      <th id=\"T_96b4a_level0_row6\" class=\"row_heading level0 row6\" >75%</th>\n",
       "      <td id=\"T_96b4a_row6_col0\" class=\"data row6 col0\" >2.000000</td>\n",
       "      <td id=\"T_96b4a_row6_col1\" class=\"data row6 col1\" >16.000000</td>\n",
       "    </tr>\n",
       "    <tr>\n",
       "      <th id=\"T_96b4a_level0_row7\" class=\"row_heading level0 row7\" >max</th>\n",
       "      <td id=\"T_96b4a_row7_col0\" class=\"data row7 col0\" >2.000000</td>\n",
       "      <td id=\"T_96b4a_row7_col1\" class=\"data row7 col1\" >10779.000000</td>\n",
       "    </tr>\n",
       "  </tbody>\n",
       "</table>\n"
      ],
      "text/plain": [
       "<pandas.io.formats.style.Styler at 0x20c502f4280>"
      ]
     },
     "metadata": {},
     "output_type": "display_data"
    }
   ],
   "source": [
    "# British data\n",
    "# Compute some summary statistics about the DataFrame\n",
    "summary_stats = df_br.describe()\n",
    "\n",
    "# Apply some styling to the summary statistics\n",
    "styled_summary_stats = summary_stats.style.set_table_styles(\n",
    "    [{'selector': 'th', 'props': [('background', '#7ca6db'), ('color', 'white')]}]\n",
    ").set_caption(\"Summary Statistics\")\n",
    "\n",
    "# Display the styled summary statistics\n",
    "display(styled_summary_stats)\n"
   ]
  },
  {
   "cell_type": "code",
   "execution_count": 21,
   "metadata": {},
   "outputs": [
    {
     "data": {
      "text/html": [
       "<style type=\"text/css\">\n",
       "#T_df941 th {\n",
       "  background: #7ca6db;\n",
       "  color: white;\n",
       "}\n",
       "</style>\n",
       "<table id=\"T_df941\">\n",
       "  <caption>Summary Statistics</caption>\n",
       "  <thead>\n",
       "    <tr>\n",
       "      <th class=\"blank level0\" >&nbsp;</th>\n",
       "      <th id=\"T_df941_level0_col0\" class=\"col_heading level0 col0\" >Gender</th>\n",
       "      <th id=\"T_df941_level0_col1\" class=\"col_heading level0 col1\" >Year</th>\n",
       "      <th id=\"T_df941_level0_col2\" class=\"col_heading level0 col2\" >Nb</th>\n",
       "    </tr>\n",
       "  </thead>\n",
       "  <tbody>\n",
       "    <tr>\n",
       "      <th id=\"T_df941_level0_row0\" class=\"row_heading level0 row0\" >count</th>\n",
       "      <td id=\"T_df941_row0_col0\" class=\"data row0 col0\" >2052781.000000</td>\n",
       "      <td id=\"T_df941_row0_col1\" class=\"data row0 col1\" >2052781.000000</td>\n",
       "      <td id=\"T_df941_row0_col2\" class=\"data row0 col2\" >2052781.000000</td>\n",
       "    </tr>\n",
       "    <tr>\n",
       "      <th id=\"T_df941_level0_row1\" class=\"row_heading level0 row1\" >mean</th>\n",
       "      <td id=\"T_df941_row1_col0\" class=\"data row1 col0\" >1.589379</td>\n",
       "      <td id=\"T_df941_row1_col1\" class=\"data row1 col1\" >1977.629168</td>\n",
       "      <td id=\"T_df941_row1_col2\" class=\"data row1 col2\" >176.291691</td>\n",
       "    </tr>\n",
       "    <tr>\n",
       "      <th id=\"T_df941_level0_row2\" class=\"row_heading level0 row2\" >std</th>\n",
       "      <td id=\"T_df941_row2_col0\" class=\"data row2 col0\" >0.491947</td>\n",
       "      <td id=\"T_df941_row2_col1\" class=\"data row2 col1\" >34.670858</td>\n",
       "      <td id=\"T_df941_row2_col2\" class=\"data row2 col2\" >1492.565159</td>\n",
       "    </tr>\n",
       "    <tr>\n",
       "      <th id=\"T_df941_level0_row3\" class=\"row_heading level0 row3\" >min</th>\n",
       "      <td id=\"T_df941_row3_col0\" class=\"data row3 col0\" >1.000000</td>\n",
       "      <td id=\"T_df941_row3_col1\" class=\"data row3 col1\" >1880.000000</td>\n",
       "      <td id=\"T_df941_row3_col2\" class=\"data row3 col2\" >5.000000</td>\n",
       "    </tr>\n",
       "    <tr>\n",
       "      <th id=\"T_df941_level0_row4\" class=\"row_heading level0 row4\" >25%</th>\n",
       "      <td id=\"T_df941_row4_col0\" class=\"data row4 col0\" >1.000000</td>\n",
       "      <td id=\"T_df941_row4_col1\" class=\"data row4 col1\" >1954.000000</td>\n",
       "      <td id=\"T_df941_row4_col2\" class=\"data row4 col2\" >7.000000</td>\n",
       "    </tr>\n",
       "    <tr>\n",
       "      <th id=\"T_df941_level0_row5\" class=\"row_heading level0 row5\" >50%</th>\n",
       "      <td id=\"T_df941_row5_col0\" class=\"data row5 col0\" >2.000000</td>\n",
       "      <td id=\"T_df941_row5_col1\" class=\"data row5 col1\" >1988.000000</td>\n",
       "      <td id=\"T_df941_row5_col2\" class=\"data row5 col2\" >12.000000</td>\n",
       "    </tr>\n",
       "    <tr>\n",
       "      <th id=\"T_df941_level0_row6\" class=\"row_heading level0 row6\" >75%</th>\n",
       "      <td id=\"T_df941_row6_col0\" class=\"data row6 col0\" >2.000000</td>\n",
       "      <td id=\"T_df941_row6_col1\" class=\"data row6 col1\" >2006.000000</td>\n",
       "      <td id=\"T_df941_row6_col2\" class=\"data row6 col2\" >32.000000</td>\n",
       "    </tr>\n",
       "    <tr>\n",
       "      <th id=\"T_df941_level0_row7\" class=\"row_heading level0 row7\" >max</th>\n",
       "      <td id=\"T_df941_row7_col0\" class=\"data row7 col0\" >2.000000</td>\n",
       "      <td id=\"T_df941_row7_col1\" class=\"data row7 col1\" >2021.000000</td>\n",
       "      <td id=\"T_df941_row7_col2\" class=\"data row7 col2\" >99693.000000</td>\n",
       "    </tr>\n",
       "  </tbody>\n",
       "</table>\n"
      ],
      "text/plain": [
       "<pandas.io.formats.style.Styler at 0x20c4f2476a0>"
      ]
     },
     "metadata": {},
     "output_type": "display_data"
    }
   ],
   "source": [
    "# USA data\n",
    "# Compute some summary statistics about the DataFrame\n",
    "summary_stats = df_usa.describe()\n",
    "\n",
    "# Apply some styling to the summary statistics\n",
    "styled_summary_stats = summary_stats.style.set_table_styles(\n",
    "    [{'selector': 'th', 'props': [('background', '#7ca6db'), ('color', 'white')]}]\n",
    ").set_caption(\"Summary Statistics\")\n",
    "\n",
    "# Display the styled summary statistics\n",
    "display(styled_summary_stats)\n"
   ]
  },
  {
   "cell_type": "markdown",
   "metadata": {
    "nteract": {
     "transient": {
      "deleting": false
     }
    }
   },
   "source": [
    "**QUESTION:** For each column compute the number of distinct values"
   ]
  },
  {
   "cell_type": "code",
   "execution_count": 25,
   "metadata": {
    "ExecuteTime": {
     "end_time": "2021-02-03T09:43:01.392240Z",
     "start_time": "2021-02-03T09:43:01.389193Z"
    },
    "collapsed": false,
    "jupyter": {
     "outputs_hidden": false
    },
    "nteract": {
     "transient": {
      "deleting": false
     }
    }
   },
   "outputs": [
    {
     "name": "stdout",
     "output_type": "stream",
     "text": [
      "distinct values:\n",
      " sexe            2\n",
      "preusuel    36170\n",
      "annais        123\n",
      "nombre       7281\n",
      "dtype: int64\n"
     ]
    }
   ],
   "source": [
    "# French data \n",
    "print ( 'distinct values for French data:\\n', df_fr.nunique())"
   ]
  },
  {
   "cell_type": "code",
   "execution_count": 26,
   "metadata": {},
   "outputs": [
    {
     "name": "stdout",
     "output_type": "stream",
     "text": [
      "distinct values for British:\n",
      " Gender        2\n",
      "Name      36411\n",
      "Year         26\n",
      "Nb         2943\n",
      "dtype: int64\n"
     ]
    }
   ],
   "source": [
    "# British data \n",
    "print ( 'distinct values for British:\\n', df_br.nunique())"
   ]
  },
  {
   "cell_type": "code",
   "execution_count": 27,
   "metadata": {},
   "outputs": [
    {
     "name": "stdout",
     "output_type": "stream",
     "text": [
      "distinct values for USA:\n",
      " Name      101338\n",
      "Gender         2\n",
      "Year         142\n",
      "Nb         13854\n",
      "dtype: int64\n"
     ]
    }
   ],
   "source": [
    "# USA data \n",
    "print ( 'distinct values for USA:\\n', df_usa.nunique())"
   ]
  },
  {
   "cell_type": "markdown",
   "metadata": {
    "nteract": {
     "transient": {
      "deleting": false
     }
    }
   },
   "source": [
    "# Transformations\n",
    "\n",
    "## Improving the data types\n",
    "\n",
    "**QUESTION:** Make `sexe` a category with two levels `Female` and `Male`. Call the new column `gender`. Do you see any reason why this factor should be ordered?\n",
    "\n",
    "__Hint:__ Read [Pandas and categorical variables](https://pandas.pydata.org/pandas-docs/stable/user_guide/categorical.html?highlight=category)"
   ]
  },
  {
   "cell_type": "code",
   "execution_count": 28,
   "metadata": {
    "ExecuteTime": {
     "end_time": "2021-02-03T09:43:02.947929Z",
     "start_time": "2021-02-03T09:43:02.945259Z"
    },
    "collapsed": false,
    "jupyter": {
     "outputs_hidden": false
    },
    "nteract": {
     "transient": {
      "deleting": false
     }
    }
   },
   "outputs": [],
   "source": [
    "# French data\n",
    "df_fr['gender'] = df_fr['sexe'].map({1: 'M', 2: 'F'}).astype('category')"
   ]
  },
  {
   "cell_type": "code",
   "execution_count": 30,
   "metadata": {
    "collapsed": false,
    "jupyter": {
     "outputs_hidden": false
    },
    "nteract": {
     "transient": {
      "deleting": false
     }
    }
   },
   "outputs": [
    {
     "name": "stdout",
     "output_type": "stream",
     "text": [
      "Data types for French data:\n",
      " sexe           int64\n",
      "preusuel      object\n",
      "annais        object\n",
      "nombre         int64\n",
      "gender      category\n",
      "dtype: object\n"
     ]
    }
   ],
   "source": [
    "print('Data types for French data:\\n' , df_fr.dtypes)\n"
   ]
  },
  {
   "cell_type": "code",
   "execution_count": 194,
   "metadata": {},
   "outputs": [
    {
     "name": "stdout",
     "output_type": "stream",
     "text": [
      "Data types for British data:\n",
      " gender       category\n",
      "firstname      object\n",
      "year           object\n",
      "count           int64\n",
      "country        object\n",
      "dtype: object\n"
     ]
    }
   ],
   "source": [
    "# British data\n",
    "df_br['gender'] = df_br['gender'].replace({'Male': 'M', 'Female': 'F'})\n",
    "\n",
    "print('Data types for British data:\\n' , df_br.dtypes)"
   ]
  },
  {
   "cell_type": "code",
   "execution_count": 195,
   "metadata": {},
   "outputs": [
    {
     "name": "stdout",
     "output_type": "stream",
     "text": [
      "Data types for British data:\n",
      " gender       category\n",
      "firstname      object\n",
      "year            int64\n",
      "count           int64\n",
      "country        object\n",
      "dtype: object\n"
     ]
    }
   ],
   "source": [
    "# USA data\n",
    "df_usa['gender'] = df_usa['gender'].replace({'Male': 'M', 'Female': 'F'})\n",
    "\n",
    "print('Data types for British data:\\n' , df_usa.dtypes)"
   ]
  },
  {
   "cell_type": "code",
   "execution_count": 35,
   "metadata": {},
   "outputs": [
    {
     "data": {
      "text/html": [
       "<div>\n",
       "<style scoped>\n",
       "    .dataframe tbody tr th:only-of-type {\n",
       "        vertical-align: middle;\n",
       "    }\n",
       "\n",
       "    .dataframe tbody tr th {\n",
       "        vertical-align: top;\n",
       "    }\n",
       "\n",
       "    .dataframe thead th {\n",
       "        text-align: right;\n",
       "    }\n",
       "</style>\n",
       "<table border=\"1\" class=\"dataframe\">\n",
       "  <thead>\n",
       "    <tr style=\"text-align: right;\">\n",
       "      <th></th>\n",
       "      <th></th>\n",
       "      <th>nombre</th>\n",
       "    </tr>\n",
       "    <tr>\n",
       "      <th>preusuel</th>\n",
       "      <th>gender</th>\n",
       "      <th></th>\n",
       "    </tr>\n",
       "  </thead>\n",
       "  <tbody>\n",
       "    <tr>\n",
       "      <th rowspan=\"2\" valign=\"top\">A</th>\n",
       "      <th>F</th>\n",
       "      <td>NaN</td>\n",
       "    </tr>\n",
       "    <tr>\n",
       "      <th>M</th>\n",
       "      <td>9.0</td>\n",
       "    </tr>\n",
       "    <tr>\n",
       "      <th rowspan=\"2\" valign=\"top\">AADAM</th>\n",
       "      <th>F</th>\n",
       "      <td>NaN</td>\n",
       "    </tr>\n",
       "    <tr>\n",
       "      <th>M</th>\n",
       "      <td>4.0</td>\n",
       "    </tr>\n",
       "    <tr>\n",
       "      <th>AADEL</th>\n",
       "      <th>F</th>\n",
       "      <td>NaN</td>\n",
       "    </tr>\n",
       "    <tr>\n",
       "      <th>...</th>\n",
       "      <th>...</th>\n",
       "      <td>...</td>\n",
       "    </tr>\n",
       "    <tr>\n",
       "      <th>ÖZKAN</th>\n",
       "      <th>M</th>\n",
       "      <td>7.0</td>\n",
       "    </tr>\n",
       "    <tr>\n",
       "      <th rowspan=\"2\" valign=\"top\">ÖZLEM</th>\n",
       "      <th>F</th>\n",
       "      <td>6.0</td>\n",
       "    </tr>\n",
       "    <tr>\n",
       "      <th>M</th>\n",
       "      <td>NaN</td>\n",
       "    </tr>\n",
       "    <tr>\n",
       "      <th rowspan=\"2\" valign=\"top\">ÜMMÜ</th>\n",
       "      <th>F</th>\n",
       "      <td>5.0</td>\n",
       "    </tr>\n",
       "    <tr>\n",
       "      <th>M</th>\n",
       "      <td>NaN</td>\n",
       "    </tr>\n",
       "  </tbody>\n",
       "</table>\n",
       "<p>72340 rows × 1 columns</p>\n",
       "</div>"
      ],
      "text/plain": [
       "                 nombre\n",
       "preusuel gender        \n",
       "A        F          NaN\n",
       "         M          9.0\n",
       "AADAM    F          NaN\n",
       "         M          4.0\n",
       "AADEL    F          NaN\n",
       "...                 ...\n",
       "ÖZKAN    M          7.0\n",
       "ÖZLEM    F          6.0\n",
       "         M          NaN\n",
       "ÜMMÜ     F          5.0\n",
       "         M          NaN\n",
       "\n",
       "[72340 rows x 1 columns]"
      ]
     },
     "execution_count": 35,
     "metadata": {},
     "output_type": "execute_result"
    }
   ],
   "source": [
    "# Q: Do you see any reason why this factor should be ordered?\n",
    "# A: It might be interesting to see the names given to both girls and boys \n",
    "\n",
    "df_fr[['gender', 'preusuel','nombre']].groupby(['preusuel', 'gender']).mean(numeric_only = True).round(0)\n"
   ]
  },
  {
   "cell_type": "markdown",
   "metadata": {
    "nteract": {
     "transient": {
      "deleting": false
     }
    }
   },
   "source": [
    "**QUESTION:** Compare memory usage of columns `sexe` and `gender`"
   ]
  },
  {
   "cell_type": "code",
   "execution_count": 43,
   "metadata": {
    "collapsed": false,
    "jupyter": {
     "outputs_hidden": false
    },
    "nteract": {
     "transient": {
      "deleting": false
     }
    }
   },
   "outputs": [
    {
     "name": "stdout",
     "output_type": "stream",
     "text": [
      "Memory usage of column 'gender' =  686.89 kB\n",
      "Memory usage of column 'sexe'   = 5492.432 kB\n"
     ]
    }
   ],
   "source": [
    "print(\"Memory usage of column 'gender' = \", df_fr['gender'].memory_usage(deep=True)/1000, \"kB\")\n",
    "print(\"Memory usage of column 'sexe'   =\", df_fr['sexe'].memory_usage(deep=True)/1000, \"kB\")"
   ]
  },
  {
   "cell_type": "markdown",
   "metadata": {
    "nteract": {
     "transient": {
      "deleting": false
     }
    }
   },
   "source": [
    "**QUESTION:** Would it be more memory-efficient to recode `sexe` using modalities `F` and `M` instead of `Male` and `Female` ?"
   ]
  },
  {
   "cell_type": "markdown",
   "metadata": {
    "nteract": {
     "transient": {
      "deleting": false
     }
    }
   },
   "source": [
    "_Insert your answer here_\n",
    "\n",
    "> ..."
   ]
  },
  {
   "cell_type": "markdown",
   "metadata": {
    "nteract": {
     "transient": {
      "deleting": false
     }
    }
   },
   "source": [
    "## Dealing with missing values\n",
    "\n",
    "**QUESTION:** Variable `annais` class is `object`. Make `annais` of type `float`. Note that missing years are encoded as \"XXXX\", find a way to deal with that.\n",
    "\n",
    "__Hint:__  As of releasing this Homework (2023-01-18), `Pandas` is not very good at managing missing values,\n",
    "see [roadmap](https://pandas.pydata.org/docs/development/roadmap.html). Don't try to convert `annais` into an integer column."
   ]
  },
  {
   "cell_type": "code",
   "execution_count": 50,
   "metadata": {
    "collapsed": false,
    "jupyter": {
     "outputs_hidden": false
    },
    "nteract": {
     "transient": {
      "deleting": false
     }
    }
   },
   "outputs": [],
   "source": [
    "# replace \"XXXX\" with NaN\n",
    "df_fr['annais'] = df_fr['annais'].replace(\"XXXX\", np.nan)\n",
    "\n",
    "# convert annais to float\n",
    "df_fr['annais'] = df_fr['annais'].astype(float)\n"
   ]
  },
  {
   "cell_type": "markdown",
   "metadata": {
    "nteract": {
     "transient": {
      "deleting": false
     }
    }
   },
   "source": [
    "## Rename and remove columns"
   ]
  },
  {
   "cell_type": "markdown",
   "metadata": {
    "nteract": {
     "transient": {
      "deleting": false
     }
    }
   },
   "source": [
    "**QUESTION:** Remove useless columns (now that you've created new ones, and rename them). You should end up with a dataframe with columns called `\"gender\"`, `\"year\"`, `\"count\"`, `\"firstname`\" with the following dtypes:\n",
    "\n",
    "```python\n",
    "gender        category\n",
    "firstname     object\n",
    "count         int64\n",
    "year          float64\n",
    "```"
   ]
  },
  {
   "cell_type": "code",
   "execution_count": 51,
   "metadata": {
    "collapsed": false,
    "jupyter": {
     "outputs_hidden": false
    },
    "nteract": {
     "transient": {
      "deleting": false
     }
    }
   },
   "outputs": [
    {
     "name": "stdout",
     "output_type": "stream",
     "text": [
      "firstname      object\n",
      "year          float64\n",
      "count           int64\n",
      "gender       category\n",
      "dtype: object\n"
     ]
    }
   ],
   "source": [
    "df_fr = (df_fr.drop(columns = 'sexe', errors = 'ignore')\n",
    "                .rename(columns = {'preusuel': 'firstname', 'annais': 'year', 'nombre': 'count'})\n",
    "        )\n",
    "# Display the dtypes of the resulting dataframe\n",
    "print(df_fr.dtypes)"
   ]
  },
  {
   "cell_type": "code",
   "execution_count": 150,
   "metadata": {},
   "outputs": [],
   "source": [
    "def insertFemaleMale(sexe):\n",
    "    if sexe == 2:\n",
    "        return \"Female\"\n",
    "    return \"Male\""
   ]
  },
  {
   "cell_type": "markdown",
   "metadata": {},
   "source": [
    "**Question:** Do the same thing for British and US data. You should eventually obtain dataframes with the same schema.  "
   ]
  },
  {
   "cell_type": "markdown",
   "metadata": {
    "nteract": {
     "transient": {
      "deleting": false
     }
    }
   },
   "source": [
    "**QUESTION:** How many missing values (NA) have been introduced? How many births are concerned?"
   ]
  },
  {
   "cell_type": "code",
   "execution_count": 265,
   "metadata": {
    "ExecuteTime": {
     "end_time": "2021-02-03T09:58:42.294646Z",
     "start_time": "2021-02-03T09:58:42.289319Z"
    },
    "collapsed": false,
    "jupyter": {
     "outputs_hidden": false
    },
    "nteract": {
     "transient": {
      "deleting": false
     }
    }
   },
   "outputs": [
    {
     "name": "stdout",
     "output_type": "stream",
     "text": [
      "Missing values from french data:\n",
      " firstname        1\n",
      "year             0\n",
      "count            0\n",
      "gender           0\n",
      "country          0\n",
      "male_births      0\n",
      "female_births    0\n",
      "sex_ratio        0\n",
      "dtype: int64\n"
     ]
    }
   ],
   "source": [
    "# Check for missing values\n",
    "print(f'Missing values from french data:\\n',df_fr.isna().sum())\n",
    "\n"
   ]
  },
  {
   "cell_type": "code",
   "execution_count": 151,
   "metadata": {},
   "outputs": [
    {
     "data": {
      "text/html": [
       "<div>\n",
       "<style scoped>\n",
       "    .dataframe tbody tr th:only-of-type {\n",
       "        vertical-align: middle;\n",
       "    }\n",
       "\n",
       "    .dataframe tbody tr th {\n",
       "        vertical-align: top;\n",
       "    }\n",
       "\n",
       "    .dataframe thead th {\n",
       "        text-align: right;\n",
       "    }\n",
       "</style>\n",
       "<table border=\"1\" class=\"dataframe\">\n",
       "  <thead>\n",
       "    <tr style=\"text-align: right;\">\n",
       "      <th></th>\n",
       "      <th>gender</th>\n",
       "      <th>firstname</th>\n",
       "      <th>year</th>\n",
       "      <th>count</th>\n",
       "    </tr>\n",
       "  </thead>\n",
       "  <tbody>\n",
       "    <tr>\n",
       "      <th>0</th>\n",
       "      <td>Male</td>\n",
       "      <td>A</td>\n",
       "      <td>2021</td>\n",
       "      <td>5</td>\n",
       "    </tr>\n",
       "    <tr>\n",
       "      <th>16777</th>\n",
       "      <td>Male</td>\n",
       "      <td>A</td>\n",
       "      <td>2020</td>\n",
       "      <td>4</td>\n",
       "    </tr>\n",
       "    <tr>\n",
       "      <th>33554</th>\n",
       "      <td>Male</td>\n",
       "      <td>A</td>\n",
       "      <td>2019</td>\n",
       "      <td>10</td>\n",
       "    </tr>\n",
       "    <tr>\n",
       "      <th>50331</th>\n",
       "      <td>Male</td>\n",
       "      <td>A</td>\n",
       "      <td>2018</td>\n",
       "      <td>4</td>\n",
       "    </tr>\n",
       "    <tr>\n",
       "      <th>67108</th>\n",
       "      <td>Male</td>\n",
       "      <td>A</td>\n",
       "      <td>2017</td>\n",
       "      <td>4</td>\n",
       "    </tr>\n",
       "    <tr>\n",
       "      <th>...</th>\n",
       "      <td>...</td>\n",
       "      <td>...</td>\n",
       "      <td>...</td>\n",
       "      <td>...</td>\n",
       "    </tr>\n",
       "    <tr>\n",
       "      <th>87831</th>\n",
       "      <td>Female</td>\n",
       "      <td>Zyva</td>\n",
       "      <td>2018</td>\n",
       "      <td>5</td>\n",
       "    </tr>\n",
       "    <tr>\n",
       "      <th>109789</th>\n",
       "      <td>Female</td>\n",
       "      <td>Zyva</td>\n",
       "      <td>2017</td>\n",
       "      <td>5</td>\n",
       "    </tr>\n",
       "    <tr>\n",
       "      <th>153705</th>\n",
       "      <td>Female</td>\n",
       "      <td>Zyva</td>\n",
       "      <td>2015</td>\n",
       "      <td>3</td>\n",
       "    </tr>\n",
       "    <tr>\n",
       "      <th>285453</th>\n",
       "      <td>Female</td>\n",
       "      <td>Zyva</td>\n",
       "      <td>2009</td>\n",
       "      <td>5</td>\n",
       "    </tr>\n",
       "    <tr>\n",
       "      <th>307411</th>\n",
       "      <td>Female</td>\n",
       "      <td>Zyva</td>\n",
       "      <td>2008</td>\n",
       "      <td>3</td>\n",
       "    </tr>\n",
       "  </tbody>\n",
       "</table>\n",
       "<p>308330 rows × 4 columns</p>\n",
       "</div>"
      ],
      "text/plain": [
       "        gender firstname  year  count\n",
       "0         Male         A  2021      5\n",
       "16777     Male         A  2020      4\n",
       "33554     Male         A  2019     10\n",
       "50331     Male         A  2018      4\n",
       "67108     Male         A  2017      4\n",
       "...        ...       ...   ...    ...\n",
       "87831   Female      Zyva  2018      5\n",
       "109789  Female      Zyva  2017      5\n",
       "153705  Female      Zyva  2015      3\n",
       "285453  Female      Zyva  2009      5\n",
       "307411  Female      Zyva  2008      3\n",
       "\n",
       "[308330 rows x 4 columns]"
      ]
     },
     "execution_count": 151,
     "metadata": {},
     "output_type": "execute_result"
    }
   ],
   "source": [
    "# British data\n",
    "df_br['gender'] = df_br.apply(lambda x: insertFemaleMale(x.Gender), axis=1)\n",
    "df_br['gender'] = df_br['gender'].astype('category')\n",
    "df_br = (df_br.drop(columns = 'Gender', errors = 'ignore')\n",
    "                .rename(columns = {'Name': 'firstname', 'Year': 'year', 'Nb': 'count'})\n",
    "        )\n",
    "df_br = df_br[['gender', 'firstname', 'year', 'count']]\n",
    "df_br"
   ]
  },
  {
   "cell_type": "code",
   "execution_count": 152,
   "metadata": {},
   "outputs": [
    {
     "data": {
      "text/html": [
       "<div>\n",
       "<style scoped>\n",
       "    .dataframe tbody tr th:only-of-type {\n",
       "        vertical-align: middle;\n",
       "    }\n",
       "\n",
       "    .dataframe tbody tr th {\n",
       "        vertical-align: top;\n",
       "    }\n",
       "\n",
       "    .dataframe thead th {\n",
       "        text-align: right;\n",
       "    }\n",
       "</style>\n",
       "<table border=\"1\" class=\"dataframe\">\n",
       "  <thead>\n",
       "    <tr style=\"text-align: right;\">\n",
       "      <th></th>\n",
       "      <th>gender</th>\n",
       "      <th>firstname</th>\n",
       "      <th>year</th>\n",
       "      <th>count</th>\n",
       "    </tr>\n",
       "  </thead>\n",
       "  <tbody>\n",
       "    <tr>\n",
       "      <th>0</th>\n",
       "      <td>Female</td>\n",
       "      <td>Mary</td>\n",
       "      <td>1880</td>\n",
       "      <td>7065</td>\n",
       "    </tr>\n",
       "    <tr>\n",
       "      <th>1</th>\n",
       "      <td>Female</td>\n",
       "      <td>Anna</td>\n",
       "      <td>1880</td>\n",
       "      <td>2604</td>\n",
       "    </tr>\n",
       "    <tr>\n",
       "      <th>2</th>\n",
       "      <td>Female</td>\n",
       "      <td>Emma</td>\n",
       "      <td>1880</td>\n",
       "      <td>2003</td>\n",
       "    </tr>\n",
       "    <tr>\n",
       "      <th>3</th>\n",
       "      <td>Female</td>\n",
       "      <td>Elizabeth</td>\n",
       "      <td>1880</td>\n",
       "      <td>1939</td>\n",
       "    </tr>\n",
       "    <tr>\n",
       "      <th>4</th>\n",
       "      <td>Female</td>\n",
       "      <td>Minnie</td>\n",
       "      <td>1880</td>\n",
       "      <td>1746</td>\n",
       "    </tr>\n",
       "    <tr>\n",
       "      <th>...</th>\n",
       "      <td>...</td>\n",
       "      <td>...</td>\n",
       "      <td>...</td>\n",
       "      <td>...</td>\n",
       "    </tr>\n",
       "    <tr>\n",
       "      <th>2052776</th>\n",
       "      <td>Male</td>\n",
       "      <td>Zyeire</td>\n",
       "      <td>2021</td>\n",
       "      <td>5</td>\n",
       "    </tr>\n",
       "    <tr>\n",
       "      <th>2052777</th>\n",
       "      <td>Male</td>\n",
       "      <td>Zyel</td>\n",
       "      <td>2021</td>\n",
       "      <td>5</td>\n",
       "    </tr>\n",
       "    <tr>\n",
       "      <th>2052778</th>\n",
       "      <td>Male</td>\n",
       "      <td>Zyian</td>\n",
       "      <td>2021</td>\n",
       "      <td>5</td>\n",
       "    </tr>\n",
       "    <tr>\n",
       "      <th>2052779</th>\n",
       "      <td>Male</td>\n",
       "      <td>Zylar</td>\n",
       "      <td>2021</td>\n",
       "      <td>5</td>\n",
       "    </tr>\n",
       "    <tr>\n",
       "      <th>2052780</th>\n",
       "      <td>Male</td>\n",
       "      <td>Zyn</td>\n",
       "      <td>2021</td>\n",
       "      <td>5</td>\n",
       "    </tr>\n",
       "  </tbody>\n",
       "</table>\n",
       "<p>2052781 rows × 4 columns</p>\n",
       "</div>"
      ],
      "text/plain": [
       "         gender  firstname  year  count\n",
       "0        Female       Mary  1880   7065\n",
       "1        Female       Anna  1880   2604\n",
       "2        Female       Emma  1880   2003\n",
       "3        Female  Elizabeth  1880   1939\n",
       "4        Female     Minnie  1880   1746\n",
       "...         ...        ...   ...    ...\n",
       "2052776    Male     Zyeire  2021      5\n",
       "2052777    Male       Zyel  2021      5\n",
       "2052778    Male      Zyian  2021      5\n",
       "2052779    Male      Zylar  2021      5\n",
       "2052780    Male        Zyn  2021      5\n",
       "\n",
       "[2052781 rows x 4 columns]"
      ]
     },
     "execution_count": 152,
     "metadata": {},
     "output_type": "execute_result"
    }
   ],
   "source": [
    "# USA data\n",
    "df_usa['gender'] = df_usa.apply(lambda x: insertFemaleMale(x.Gender), axis=1)\n",
    "df_usa['gender'] = df_usa['gender'].astype('category')\n",
    "df_usa = (df_usa.drop(columns = 'Gender', errors = 'ignore')\n",
    "                .rename(columns = {'Name': 'firstname', 'Year': 'year', 'Nb': 'count'})\n",
    "        )\n",
    "df_usa = df_usa[['gender', 'firstname', 'year', 'count']]\n",
    "df_usa"
   ]
  },
  {
   "cell_type": "code",
   "execution_count": 66,
   "metadata": {},
   "outputs": [
    {
     "name": "stdout",
     "output_type": "stream",
     "text": [
      "It was inserted:\n",
      "    37924 NaN's for French data \n",
      "    698780 NaN's for UK data\n",
      "    0 NaN's for USA data\n"
     ]
    }
   ],
   "source": [
    "statistics['countNullFr']=df_fr.isna().sum()['annais']\n",
    "print(f\"It was inserted:\\n    {statistics['countNullFr']} NaN's for French data \\n    {statistics['countNullBr']} NaN's for UK data\\n    {statistics['countNullUSA']} NaN's for USA data\" )\n"
   ]
  },
  {
   "cell_type": "markdown",
   "metadata": {
    "nteract": {
     "transient": {
      "deleting": false
     }
    }
   },
   "source": [
    "**QUESTION:** Read the documentation and describe the origin of rows containing the missing values."
   ]
  },
  {
   "cell_type": "code",
   "execution_count": 72,
   "metadata": {
    "ExecuteTime": {
     "end_time": "2021-02-03T09:58:42.780105Z",
     "start_time": "2021-02-03T09:58:42.777162Z"
    },
    "collapsed": false,
    "jupyter": {
     "outputs_hidden": false
    },
    "nteract": {
     "transient": {
      "deleting": false
     }
    }
   },
   "outputs": [
    {
     "name": "stdout",
     "output_type": "stream",
     "text": [
      "In USA data there is no need to insert NaN because their files only contain records for a particular year.\n",
      "It means that the starting point is the year. And name is written only if someone was given this name in that year.\n",
      "\n",
      "In the UK data, it’s the names who are the starting point: all the names of children ever given from 1996 to 2021 are listed. If in any year this name was not given to anyone, NaN (in forme of '[x]') is indicated. \n",
      "\n",
      "The French data contains NaN on format 'XXXX' for privacy reasons: if some name is given less than 3 times a year, it is not published in that year, because this will make it easier to reveal the identity of the people. The number of such events for a given name is summarized and published in a column 'Year' with label 'XXXX'.\n"
     ]
    }
   ],
   "source": [
    "print(\"In USA data there is no need to insert NaN because their files only contain records for a particular year.\\nIt means that the starting point is the year. And name is written only if someone was given this name in that year.\\n\\nIn the UK data, it’s the names who are the starting point: all the names of children ever given from 1996 to 2021 are listed. If in any year this name was not given to anyone, NaN (in forme of '[x]') is indicated. \\n\\nThe French data contains NaN on format 'XXXX' for privacy reasons: if some name is given less than 3 times a year, it is not published in that year, because this will make it easier to reveal the identity of the people. The number of such events for a given name is summarized and published in a column 'Year' with label 'XXXX'.\")\n",
    "\n"
   ]
  },
  {
   "cell_type": "code",
   "execution_count": 259,
   "metadata": {},
   "outputs": [
    {
     "data": {
      "text/html": [
       "<div>\n",
       "<style scoped>\n",
       "    .dataframe tbody tr th:only-of-type {\n",
       "        vertical-align: middle;\n",
       "    }\n",
       "\n",
       "    .dataframe tbody tr th {\n",
       "        vertical-align: top;\n",
       "    }\n",
       "\n",
       "    .dataframe thead th {\n",
       "        text-align: right;\n",
       "    }\n",
       "</style>\n",
       "<table border=\"1\" class=\"dataframe\">\n",
       "  <thead>\n",
       "    <tr style=\"text-align: right;\">\n",
       "      <th></th>\n",
       "      <th>firstname</th>\n",
       "      <th>year</th>\n",
       "      <th>count</th>\n",
       "      <th>gender</th>\n",
       "      <th>country</th>\n",
       "      <th>male_births</th>\n",
       "      <th>female_births</th>\n",
       "      <th>sex_ratio</th>\n",
       "    </tr>\n",
       "  </thead>\n",
       "  <tbody>\n",
       "    <tr>\n",
       "      <th>0</th>\n",
       "      <td>_PRENOMS_RARES</td>\n",
       "      <td>1945</td>\n",
       "      <td>1790</td>\n",
       "      <td>M</td>\n",
       "      <td>France</td>\n",
       "      <td>930.80</td>\n",
       "      <td>859.20</td>\n",
       "      <td>0.923077</td>\n",
       "    </tr>\n",
       "    <tr>\n",
       "      <th>1</th>\n",
       "      <td>_PRENOMS_RARES</td>\n",
       "      <td>1946</td>\n",
       "      <td>1741</td>\n",
       "      <td>M</td>\n",
       "      <td>France</td>\n",
       "      <td>905.32</td>\n",
       "      <td>835.68</td>\n",
       "      <td>0.923077</td>\n",
       "    </tr>\n",
       "    <tr>\n",
       "      <th>2</th>\n",
       "      <td>_PRENOMS_RARES</td>\n",
       "      <td>1947</td>\n",
       "      <td>1758</td>\n",
       "      <td>M</td>\n",
       "      <td>France</td>\n",
       "      <td>914.16</td>\n",
       "      <td>843.84</td>\n",
       "      <td>0.923077</td>\n",
       "    </tr>\n",
       "    <tr>\n",
       "      <th>3</th>\n",
       "      <td>_PRENOMS_RARES</td>\n",
       "      <td>1948</td>\n",
       "      <td>1716</td>\n",
       "      <td>M</td>\n",
       "      <td>France</td>\n",
       "      <td>892.32</td>\n",
       "      <td>823.68</td>\n",
       "      <td>0.923077</td>\n",
       "    </tr>\n",
       "    <tr>\n",
       "      <th>4</th>\n",
       "      <td>_PRENOMS_RARES</td>\n",
       "      <td>1949</td>\n",
       "      <td>1910</td>\n",
       "      <td>M</td>\n",
       "      <td>France</td>\n",
       "      <td>993.20</td>\n",
       "      <td>916.80</td>\n",
       "      <td>0.923077</td>\n",
       "    </tr>\n",
       "    <tr>\n",
       "      <th>...</th>\n",
       "      <td>...</td>\n",
       "      <td>...</td>\n",
       "      <td>...</td>\n",
       "      <td>...</td>\n",
       "      <td>...</td>\n",
       "      <td>...</td>\n",
       "      <td>...</td>\n",
       "      <td>...</td>\n",
       "    </tr>\n",
       "    <tr>\n",
       "      <th>2505199</th>\n",
       "      <td>Zyeire</td>\n",
       "      <td>2021</td>\n",
       "      <td>5</td>\n",
       "      <td>M</td>\n",
       "      <td>USA</td>\n",
       "      <td>2.60</td>\n",
       "      <td>2.40</td>\n",
       "      <td>0.923077</td>\n",
       "    </tr>\n",
       "    <tr>\n",
       "      <th>2505200</th>\n",
       "      <td>Zyel</td>\n",
       "      <td>2021</td>\n",
       "      <td>5</td>\n",
       "      <td>M</td>\n",
       "      <td>USA</td>\n",
       "      <td>2.60</td>\n",
       "      <td>2.40</td>\n",
       "      <td>0.923077</td>\n",
       "    </tr>\n",
       "    <tr>\n",
       "      <th>2505201</th>\n",
       "      <td>Zyian</td>\n",
       "      <td>2021</td>\n",
       "      <td>5</td>\n",
       "      <td>M</td>\n",
       "      <td>USA</td>\n",
       "      <td>2.60</td>\n",
       "      <td>2.40</td>\n",
       "      <td>0.923077</td>\n",
       "    </tr>\n",
       "    <tr>\n",
       "      <th>2505202</th>\n",
       "      <td>Zylar</td>\n",
       "      <td>2021</td>\n",
       "      <td>5</td>\n",
       "      <td>M</td>\n",
       "      <td>USA</td>\n",
       "      <td>2.60</td>\n",
       "      <td>2.40</td>\n",
       "      <td>0.923077</td>\n",
       "    </tr>\n",
       "    <tr>\n",
       "      <th>2505203</th>\n",
       "      <td>Zyn</td>\n",
       "      <td>2021</td>\n",
       "      <td>5</td>\n",
       "      <td>M</td>\n",
       "      <td>USA</td>\n",
       "      <td>2.60</td>\n",
       "      <td>2.40</td>\n",
       "      <td>0.923077</td>\n",
       "    </tr>\n",
       "  </tbody>\n",
       "</table>\n",
       "<p>2505204 rows × 8 columns</p>\n",
       "</div>"
      ],
      "text/plain": [
       "              firstname  year  count gender country  male_births  \\\n",
       "0        _PRENOMS_RARES  1945   1790      M  France       930.80   \n",
       "1        _PRENOMS_RARES  1946   1741      M  France       905.32   \n",
       "2        _PRENOMS_RARES  1947   1758      M  France       914.16   \n",
       "3        _PRENOMS_RARES  1948   1716      M  France       892.32   \n",
       "4        _PRENOMS_RARES  1949   1910      M  France       993.20   \n",
       "...                 ...   ...    ...    ...     ...          ...   \n",
       "2505199          Zyeire  2021      5      M     USA         2.60   \n",
       "2505200            Zyel  2021      5      M     USA         2.60   \n",
       "2505201           Zyian  2021      5      M     USA         2.60   \n",
       "2505202           Zylar  2021      5      M     USA         2.60   \n",
       "2505203             Zyn  2021      5      M     USA         2.60   \n",
       "\n",
       "         female_births  sex_ratio  \n",
       "0               859.20   0.923077  \n",
       "1               835.68   0.923077  \n",
       "2               843.84   0.923077  \n",
       "3               823.68   0.923077  \n",
       "4               916.80   0.923077  \n",
       "...                ...        ...  \n",
       "2505199           2.40   0.923077  \n",
       "2505200           2.40   0.923077  \n",
       "2505201           2.40   0.923077  \n",
       "2505202           2.40   0.923077  \n",
       "2505203           2.40   0.923077  \n",
       "\n",
       "[2505204 rows x 8 columns]"
      ]
     },
     "execution_count": 259,
     "metadata": {},
     "output_type": "execute_result"
    }
   ],
   "source": [
    "# WARNING concatenation of 3 dataFrames\n",
    "col = 'country'\n",
    "df_fr[col] = \"France\"\n",
    "df_br[col] = \"UK\"\n",
    "df_usa[col] = \"USA\"\n",
    "\n",
    "df_total = pd.concat([df_fr, df_br, df_usa], ignore_index=True)\n",
    "\n",
    "df_total['year'] = pd.to_numeric(df_total['year'], errors='coerce')\n",
    "df_total = df_total.dropna(subset=['year'])\n",
    "df_total['year'] = df_total['year'].astype(int)\n",
    "\n",
    "df_total\n"
   ]
  },
  {
   "cell_type": "markdown",
   "metadata": {
    "nteract": {
     "transient": {
      "deleting": false
     }
    }
   },
   "source": [
    "## Checkpointing: save your transformed dataframes"
   ]
  },
  {
   "cell_type": "markdown",
   "metadata": {
    "nteract": {
     "transient": {
      "deleting": false
     }
    }
   },
   "source": [
    "**QUESTION:** Save the transformed dataframe (retyped and renamed) to `./nat2021_csv.zip`. Try several compression methods."
   ]
  },
  {
   "cell_type": "code",
   "execution_count": 84,
   "metadata": {
    "ExecuteTime": {
     "end_time": "2021-02-03T09:58:44.434007Z",
     "start_time": "2021-02-03T09:58:44.431292Z"
    },
    "collapsed": false,
    "jupyter": {
     "outputs_hidden": false
    },
    "nteract": {
     "transient": {
      "deleting": false
     }
    }
   },
   "outputs": [],
   "source": [
    "# using zip compression\n",
    "df_fr.to_csv('./nat2021_csv.zip', index=False, compression='zip')\n",
    "\n",
    "# using gzip compression\n",
    "df_fr.to_csv('./nat2021_csv.gzip', index=False, compression='gzip')\n",
    "\n",
    "# using bz2 compression\n",
    "df_fr.to_csv('./nat2021_csv.bz2', index=False, compression='bz2')\n",
    "\n",
    "# using xz compression\n",
    "df_fr.to_csv('./nat2021_csv.xz', index=False, compression='xz')\n"
   ]
  },
  {
   "cell_type": "markdown",
   "metadata": {
    "nteract": {
     "transient": {
      "deleting": false
     }
    }
   },
   "source": [
    "**QUESTION:** Save the transformed dataframes (retyped and renamed) to `./nat2021.hdf` using `.hdf` format"
   ]
  },
  {
   "cell_type": "code",
   "execution_count": 77,
   "metadata": {
    "ExecuteTime": {
     "end_time": "2021-02-03T09:58:45.572214Z",
     "start_time": "2021-02-03T09:58:45.569040Z"
    },
    "collapsed": false,
    "jupyter": {
     "outputs_hidden": false
    },
    "nteract": {
     "transient": {
      "deleting": false
     }
    }
   },
   "outputs": [],
   "source": [
    "# Save the transformed dataframe to an HDF file\n",
    "df_fr.to_hdf('babies-fr.hdf', key='nat', mode='w', format=\"table\")\n",
    "\n",
    "df_br.to_hdf('babies-ew.hdf', key='nat', mode='w', format=\"table\")\n",
    "\n",
    "df_usa.to_hdf( 'babies-us.hdf', key='nat', mode='w', format=\"table\")\n"
   ]
  },
  {
   "cell_type": "markdown",
   "metadata": {
    "nteract": {
     "transient": {
      "deleting": false
     }
    }
   },
   "source": [
    "At that point your working directory should look like:\n",
    "\n",
    "```\n",
    "├── homework01.py      # if you use `jupytext`\n",
    "|── homework01.qmd     # if you use `quarto`\n",
    "├── homework01.ipynb   # if you use `jupyter` `notebook`\n",
    "├── babies-fr.hdf\n",
    "├── babies-fr.zip\n",
    "├── babies-us.hdf\n",
    "├── babies-us.zip\n",
    "├── babies-ew.hdf\n",
    "├── babies-ew.zip\n",
    "├── births-fr.csv\n",
    "├── births-fr.hdf\n",
    "```\n",
    "\n",
    "**QUESTION:** Reload the data using `read_hdf(...)` so that the resulting dataframes  are properly typed with meaningful and homogeneous column names.\n",
    "\n",
    "__Hint:__ use `try: ... except` to handle exceptions such as `FileNotFoundError`"
   ]
  },
  {
   "cell_type": "code",
   "execution_count": 78,
   "metadata": {
    "ExecuteTime": {
     "end_time": "2021-02-03T09:58:49.413972Z",
     "start_time": "2021-02-03T09:58:49.410965Z"
    },
    "collapsed": false,
    "jupyter": {
     "outputs_hidden": false
    },
    "nteract": {
     "transient": {
      "deleting": false
     }
    }
   },
   "outputs": [
    {
     "name": "stdout",
     "output_type": "stream",
     "text": [
      "babies-fr.hdf was loaded successfully\n",
      "babies-us.hdf was loaded successfully\n",
      "babies-ew.hdf was loaded successfully\n",
      "\n",
      "Data types for babies-fr.hdf:\n",
      "firstname      object\n",
      "year          float64\n",
      "count           int64\n",
      "gender       category\n",
      "country        object\n",
      "dtype: object\n",
      "\n",
      "Column names for babies-fr.hdf:\n",
      "Index(['firstname', 'year', 'count', 'gender', 'country'], dtype='object')\n",
      "\n",
      "Data types for babies-us.hdf:\n",
      "Name      object\n",
      "Gender     int64\n",
      "Year       int64\n",
      "Nb         int64\n",
      "dtype: object\n",
      "\n",
      "Column names for babies-us.hdf:\n",
      "Index(['Name', 'Gender', 'Year', 'Nb'], dtype='object')\n",
      "\n",
      "Data types for babies-ew.hdf:\n",
      "Gender     int64\n",
      "Name      object\n",
      "Year      object\n",
      "Nb         int64\n",
      "dtype: object\n",
      "\n",
      "Column names for babies-ew.hdf:\n",
      "Index(['Gender', 'Name', 'Year', 'Nb'], dtype='object')\n"
     ]
    }
   ],
   "source": [
    "import pandas as pd\n",
    "\n",
    "# Reload the dataframes\n",
    "try:\n",
    "    df_fr = pd.read_hdf('babies-fr.hdf')\n",
    "    print('babies-fr.hdf was loaded successfully')\n",
    "except FileNotFoundError:\n",
    "    print('babies-fr.hdf was not found')\n",
    "\n",
    "try:\n",
    "    df_us = pd.read_hdf('babies-us.hdf')\n",
    "    print('babies-us.hdf was loaded successfully')\n",
    "except FileNotFoundError:\n",
    "    print('babies-us.hdf was not found')\n",
    "\n",
    "try:\n",
    "    df_ew = pd.read_hdf('babies-ew.hdf')\n",
    "    print('babies-ew.hdf was loaded successfully')\n",
    "except FileNotFoundError:\n",
    "    print('babies-ew.hdf was not found')\n",
    "\n",
    "# Check the types and column names\n",
    "print('\\nData types for babies-fr.hdf:')\n",
    "print(df_fr.dtypes)\n",
    "print('\\nColumn names for babies-fr.hdf:')\n",
    "print(df_fr.columns)\n",
    "\n",
    "print('\\nData types for babies-us.hdf:')\n",
    "print(df_us.dtypes)\n",
    "print('\\nColumn names for babies-us.hdf:')\n",
    "print(df_us.columns)\n",
    "\n",
    "print('\\nData types for babies-ew.hdf:')\n",
    "print(df_ew.dtypes)\n",
    "print('\\nColumn names for babies-ew.hdf:')\n",
    "print(df_ew.columns)\n"
   ]
  },
  {
   "cell_type": "markdown",
   "metadata": {
    "nteract": {
     "transient": {
      "deleting": false
     }
    }
   },
   "source": [
    "## Some data \"analytics\" and visualization\n",
    "\n",
    "**QUESTION**: For each year, compute the total number of Female and Male births and the proportion of Female  births among total births\n",
    "\n",
    "__Hints:__\n",
    "\n",
    "- Groupby operations using several columns for the groups return a dataframe with a `MultiIndex` index see [Pandas advanced](https://pandas.pydata.org/pandas-docs/stable/user_guide/advanced.html)\n",
    "\n",
    "- Have a look at `MultiIndex`, `reset_index`, `pivot`, `columns.droplevel`"
   ]
  },
  {
   "cell_type": "code",
   "execution_count": 197,
   "metadata": {
    "ExecuteTime": {
     "end_time": "2021-02-03T09:58:52.268127Z",
     "start_time": "2021-02-03T09:58:52.265556Z"
    },
    "collapsed": false,
    "jupyter": {
     "outputs_hidden": false
    },
    "nteract": {
     "transient": {
      "deleting": false
     }
    }
   },
   "outputs": [
    {
     "name": "stdout",
     "output_type": "stream",
     "text": [
      "gender       F       M   total  proportion_female\n",
      "year                                             \n",
      "1880     90994  110490  201484           0.451619\n",
      "1881     91953  100737  192690           0.477207\n",
      "1882    107847  113686  221533           0.486821\n",
      "1883    112319  104625  216944           0.517733\n",
      "1884    129019  114442  243461           0.529937\n",
      "...        ...     ...     ...                ...\n",
      "2017    299089  322902  621991           0.480857\n",
      "2018    288270  312643  600913           0.479720\n",
      "2019    280054  303915  583969           0.479570\n",
      "2020    268413  289045  557458           0.481495\n",
      "2021    274046  295057  569103           0.481540\n",
      "\n",
      "[168 rows x 4 columns]\n"
     ]
    }
   ],
   "source": [
    "# group the data by year and gender, and sum the counts\n",
    "year_gender_counts = df_total.groupby(['year', 'gender'])['count'].sum()\n",
    "\n",
    "# unstack the gender level of the index to get separate columns for male and female counts\n",
    "year_counts = year_gender_counts.unstack('gender')\n",
    "\n",
    "# compute the total number of births for each year by adding up the male and female counts\n",
    "year_counts['total'] = year_counts['F'] + year_counts['M']\n",
    "\n",
    "# compute the proportion of female births among total births for each year\n",
    "year_counts['proportion_female'] = year_counts['F'] / year_counts['total']\n",
    "\n",
    "# print the resulting dataframe\n",
    "print(year_counts)\n",
    "\n"
   ]
  },
  {
   "cell_type": "markdown",
   "metadata": {
    "nteract": {
     "transient": {
      "deleting": false
     }
    }
   },
   "source": [
    "**QUESTION:** Plot the proportion of female births as a function of year and French, US, en British babynames data. Compare with what you get from `births-fr.hdf`.\n",
    "\n",
    "Don't forget: title, axes labels, ticks, scales, etc.\n",
    "\n",
    "Because of what we did before, the `plot` method of a `DataFrame` with be rendered using `plotly`, so you can use this. But you can use also `seaborn` or any other available plotting library that you want.\n",
    "\n",
    "__Hint:__ Mind the missing values in the `year` column"
   ]
  },
  {
   "cell_type": "code",
   "execution_count": 126,
   "metadata": {
    "collapsed": false,
    "jupyter": {
     "outputs_hidden": false
    },
    "nteract": {
     "transient": {
      "deleting": false
     }
    }
   },
   "outputs": [
    {
     "data": {
      "application/vnd.plotly.v1+json": {
       "config": {
        "plotlyServerURL": "https://plot.ly"
       },
       "data": [
        {
         "hovertemplate": "year=%{x}<br>y=%{y}<extra></extra>",
         "legendgroup": "",
         "line": {
          "color": "#636efa",
          "dash": "solid"
         },
         "marker": {
          "symbol": "circle"
         },
         "mode": "lines",
         "name": "",
         "orientation": "v",
         "showlegend": false,
         "type": "scatter",
         "x": [
          1900,
          1901,
          1902,
          1903,
          1904,
          1905,
          1906,
          1907,
          1908,
          1909,
          1910,
          1911,
          1912,
          1913,
          1914,
          1915,
          1916,
          1917,
          1918,
          1919,
          1920,
          1921,
          1922,
          1923,
          1924,
          1925,
          1926,
          1927,
          1928,
          1929,
          1930,
          1931,
          1932,
          1933,
          1934,
          1935,
          1936,
          1937,
          1938,
          1939,
          1940,
          1941,
          1942,
          1943,
          1944,
          1945,
          1946,
          1947,
          1948,
          1949,
          1950,
          1951,
          1952,
          1953,
          1954,
          1955,
          1956,
          1957,
          1958,
          1959,
          1960,
          1961,
          1962,
          1963,
          1964,
          1965,
          1966,
          1967,
          1968,
          1969,
          1970,
          1971,
          1972,
          1973,
          1974,
          1975,
          1976,
          1977,
          1978,
          1979,
          1980,
          1981,
          1982,
          1983,
          1984,
          1985,
          1986,
          1987,
          1988,
          1989,
          1990,
          1991,
          1992,
          1993,
          1994,
          1995,
          1996,
          1997,
          1998,
          1999,
          2000,
          2001,
          2002,
          2003,
          2004,
          2005,
          2006,
          2007,
          2008,
          2009,
          2010,
          2011,
          2012,
          2013,
          2014,
          2015,
          2016,
          2017,
          2018,
          2019,
          2020,
          2021
         ],
         "xaxis": "x",
         "y": [
          0.5726026407093292,
          0.5678434070780848,
          0.5612753359339274,
          0.5576886158571703,
          0.5529081639044433,
          0.546535919150005,
          0.5441828020209469,
          0.539887231176089,
          0.5362613941273858,
          0.5325416688045029,
          0.5291924653760308,
          0.5277264451038345,
          0.5238235682044668,
          0.5229512386585611,
          0.5239278397957366,
          0.5188434667539379,
          0.5172867868558827,
          0.5158523170528694,
          0.5122933768696865,
          0.5108115399181352,
          0.5094536356933745,
          0.5122321756808135,
          0.5114057068686627,
          0.5098739771903096,
          0.510114056416702,
          0.5081860820928279,
          0.5075492577344725,
          0.5048831949866707,
          0.5029365826606113,
          0.5019371652867608,
          0.5026265971110475,
          0.5022554123743062,
          0.5020698152334045,
          0.5018186949038808,
          0.5016263849556944,
          0.5022869883793953,
          0.5017046740728837,
          0.5003452711868566,
          0.4997542111238033,
          0.5008845901222535,
          0.4991687294491447,
          0.49735690249541314,
          0.4945181582505921,
          0.49419782457379724,
          0.495969205690372,
          0.49560299172307976,
          0.4867766648656886,
          0.48663559786169563,
          0.486445440474149,
          0.48779822676130796,
          0.4882460436841909,
          0.4880976480114492,
          0.48820515604695985,
          0.488344090164724,
          0.4876980827312001,
          0.4897423495198534,
          0.48830791280006136,
          0.48886611374407585,
          0.48933189552565676,
          0.48847456520116445,
          0.4883189675474542,
          0.4890832562303618,
          0.48898239500257196,
          0.4894709638694833,
          0.48853182742502005,
          0.48856286744296484,
          0.48858662851778173,
          0.4883532004568634,
          0.48874080988535173,
          0.48814448754889495,
          0.4868676332295556,
          0.4874361015417103,
          0.4866615959141692,
          0.48703380664374835,
          0.4867399466539814,
          0.48776778768085294,
          0.48760102305945685,
          0.48669629178021356,
          0.48705650381246735,
          0.4872291076739189,
          0.4873980058840756,
          0.48706265712416025,
          0.48710557300567303,
          0.4876711039538215,
          0.48827466374927603,
          0.4877430896626137,
          0.4877097917717959,
          0.4880519774961184,
          0.4875782964267581,
          0.48848976556810136,
          0.48675821606441505,
          0.4872994592375442,
          0.4865071639956978,
          0.4873789201112496,
          0.4872097345654712,
          0.4878373438071223,
          0.4858363970465937,
          0.4858727568455464,
          0.48727253978074975,
          0.4862070228304769,
          0.48650410450889153,
          0.48803867002379014,
          0.48704245711892286,
          0.48803040936870845,
          0.48687423920142514,
          0.48756405024259736,
          0.4877949846633097,
          0.4875420708155839,
          0.4872583609328472,
          0.48778871616168845,
          0.4878360638553321,
          0.48839277321816393,
          0.48730433541410567,
          0.4874494148869296,
          0.48829255426357554,
          0.4875934935503,
          0.48745084371943986,
          0.48742874923039237,
          0.4869932747678258,
          0.4881599935115845,
          0.4880052438515702,
          0.4882114446024365
         ],
         "yaxis": "y"
        }
       ],
       "layout": {
        "autosize": true,
        "legend": {
         "tracegroupgap": 0
        },
        "template": {
         "data": {
          "bar": [
           {
            "error_x": {
             "color": "#2a3f5f"
            },
            "error_y": {
             "color": "#2a3f5f"
            },
            "marker": {
             "line": {
              "color": "#E5ECF6",
              "width": 0.5
             },
             "pattern": {
              "fillmode": "overlay",
              "size": 10,
              "solidity": 0.2
             }
            },
            "type": "bar"
           }
          ],
          "barpolar": [
           {
            "marker": {
             "line": {
              "color": "#E5ECF6",
              "width": 0.5
             },
             "pattern": {
              "fillmode": "overlay",
              "size": 10,
              "solidity": 0.2
             }
            },
            "type": "barpolar"
           }
          ],
          "carpet": [
           {
            "aaxis": {
             "endlinecolor": "#2a3f5f",
             "gridcolor": "white",
             "linecolor": "white",
             "minorgridcolor": "white",
             "startlinecolor": "#2a3f5f"
            },
            "baxis": {
             "endlinecolor": "#2a3f5f",
             "gridcolor": "white",
             "linecolor": "white",
             "minorgridcolor": "white",
             "startlinecolor": "#2a3f5f"
            },
            "type": "carpet"
           }
          ],
          "choropleth": [
           {
            "colorbar": {
             "outlinewidth": 0,
             "ticks": ""
            },
            "type": "choropleth"
           }
          ],
          "contour": [
           {
            "colorbar": {
             "outlinewidth": 0,
             "ticks": ""
            },
            "colorscale": [
             [
              0,
              "#0d0887"
             ],
             [
              0.1111111111111111,
              "#46039f"
             ],
             [
              0.2222222222222222,
              "#7201a8"
             ],
             [
              0.3333333333333333,
              "#9c179e"
             ],
             [
              0.4444444444444444,
              "#bd3786"
             ],
             [
              0.5555555555555556,
              "#d8576b"
             ],
             [
              0.6666666666666666,
              "#ed7953"
             ],
             [
              0.7777777777777778,
              "#fb9f3a"
             ],
             [
              0.8888888888888888,
              "#fdca26"
             ],
             [
              1,
              "#f0f921"
             ]
            ],
            "type": "contour"
           }
          ],
          "contourcarpet": [
           {
            "colorbar": {
             "outlinewidth": 0,
             "ticks": ""
            },
            "type": "contourcarpet"
           }
          ],
          "heatmap": [
           {
            "colorbar": {
             "outlinewidth": 0,
             "ticks": ""
            },
            "colorscale": [
             [
              0,
              "#0d0887"
             ],
             [
              0.1111111111111111,
              "#46039f"
             ],
             [
              0.2222222222222222,
              "#7201a8"
             ],
             [
              0.3333333333333333,
              "#9c179e"
             ],
             [
              0.4444444444444444,
              "#bd3786"
             ],
             [
              0.5555555555555556,
              "#d8576b"
             ],
             [
              0.6666666666666666,
              "#ed7953"
             ],
             [
              0.7777777777777778,
              "#fb9f3a"
             ],
             [
              0.8888888888888888,
              "#fdca26"
             ],
             [
              1,
              "#f0f921"
             ]
            ],
            "type": "heatmap"
           }
          ],
          "heatmapgl": [
           {
            "colorbar": {
             "outlinewidth": 0,
             "ticks": ""
            },
            "colorscale": [
             [
              0,
              "#0d0887"
             ],
             [
              0.1111111111111111,
              "#46039f"
             ],
             [
              0.2222222222222222,
              "#7201a8"
             ],
             [
              0.3333333333333333,
              "#9c179e"
             ],
             [
              0.4444444444444444,
              "#bd3786"
             ],
             [
              0.5555555555555556,
              "#d8576b"
             ],
             [
              0.6666666666666666,
              "#ed7953"
             ],
             [
              0.7777777777777778,
              "#fb9f3a"
             ],
             [
              0.8888888888888888,
              "#fdca26"
             ],
             [
              1,
              "#f0f921"
             ]
            ],
            "type": "heatmapgl"
           }
          ],
          "histogram": [
           {
            "marker": {
             "pattern": {
              "fillmode": "overlay",
              "size": 10,
              "solidity": 0.2
             }
            },
            "type": "histogram"
           }
          ],
          "histogram2d": [
           {
            "colorbar": {
             "outlinewidth": 0,
             "ticks": ""
            },
            "colorscale": [
             [
              0,
              "#0d0887"
             ],
             [
              0.1111111111111111,
              "#46039f"
             ],
             [
              0.2222222222222222,
              "#7201a8"
             ],
             [
              0.3333333333333333,
              "#9c179e"
             ],
             [
              0.4444444444444444,
              "#bd3786"
             ],
             [
              0.5555555555555556,
              "#d8576b"
             ],
             [
              0.6666666666666666,
              "#ed7953"
             ],
             [
              0.7777777777777778,
              "#fb9f3a"
             ],
             [
              0.8888888888888888,
              "#fdca26"
             ],
             [
              1,
              "#f0f921"
             ]
            ],
            "type": "histogram2d"
           }
          ],
          "histogram2dcontour": [
           {
            "colorbar": {
             "outlinewidth": 0,
             "ticks": ""
            },
            "colorscale": [
             [
              0,
              "#0d0887"
             ],
             [
              0.1111111111111111,
              "#46039f"
             ],
             [
              0.2222222222222222,
              "#7201a8"
             ],
             [
              0.3333333333333333,
              "#9c179e"
             ],
             [
              0.4444444444444444,
              "#bd3786"
             ],
             [
              0.5555555555555556,
              "#d8576b"
             ],
             [
              0.6666666666666666,
              "#ed7953"
             ],
             [
              0.7777777777777778,
              "#fb9f3a"
             ],
             [
              0.8888888888888888,
              "#fdca26"
             ],
             [
              1,
              "#f0f921"
             ]
            ],
            "type": "histogram2dcontour"
           }
          ],
          "mesh3d": [
           {
            "colorbar": {
             "outlinewidth": 0,
             "ticks": ""
            },
            "type": "mesh3d"
           }
          ],
          "parcoords": [
           {
            "line": {
             "colorbar": {
              "outlinewidth": 0,
              "ticks": ""
             }
            },
            "type": "parcoords"
           }
          ],
          "pie": [
           {
            "automargin": true,
            "type": "pie"
           }
          ],
          "scatter": [
           {
            "marker": {
             "colorbar": {
              "outlinewidth": 0,
              "ticks": ""
             }
            },
            "type": "scatter"
           }
          ],
          "scatter3d": [
           {
            "line": {
             "colorbar": {
              "outlinewidth": 0,
              "ticks": ""
             }
            },
            "marker": {
             "colorbar": {
              "outlinewidth": 0,
              "ticks": ""
             }
            },
            "type": "scatter3d"
           }
          ],
          "scattercarpet": [
           {
            "marker": {
             "colorbar": {
              "outlinewidth": 0,
              "ticks": ""
             }
            },
            "type": "scattercarpet"
           }
          ],
          "scattergeo": [
           {
            "marker": {
             "colorbar": {
              "outlinewidth": 0,
              "ticks": ""
             }
            },
            "type": "scattergeo"
           }
          ],
          "scattergl": [
           {
            "marker": {
             "colorbar": {
              "outlinewidth": 0,
              "ticks": ""
             }
            },
            "type": "scattergl"
           }
          ],
          "scattermapbox": [
           {
            "marker": {
             "colorbar": {
              "outlinewidth": 0,
              "ticks": ""
             }
            },
            "type": "scattermapbox"
           }
          ],
          "scatterpolar": [
           {
            "marker": {
             "colorbar": {
              "outlinewidth": 0,
              "ticks": ""
             }
            },
            "type": "scatterpolar"
           }
          ],
          "scatterpolargl": [
           {
            "marker": {
             "colorbar": {
              "outlinewidth": 0,
              "ticks": ""
             }
            },
            "type": "scatterpolargl"
           }
          ],
          "scatterternary": [
           {
            "marker": {
             "colorbar": {
              "outlinewidth": 0,
              "ticks": ""
             }
            },
            "type": "scatterternary"
           }
          ],
          "surface": [
           {
            "colorbar": {
             "outlinewidth": 0,
             "ticks": ""
            },
            "colorscale": [
             [
              0,
              "#0d0887"
             ],
             [
              0.1111111111111111,
              "#46039f"
             ],
             [
              0.2222222222222222,
              "#7201a8"
             ],
             [
              0.3333333333333333,
              "#9c179e"
             ],
             [
              0.4444444444444444,
              "#bd3786"
             ],
             [
              0.5555555555555556,
              "#d8576b"
             ],
             [
              0.6666666666666666,
              "#ed7953"
             ],
             [
              0.7777777777777778,
              "#fb9f3a"
             ],
             [
              0.8888888888888888,
              "#fdca26"
             ],
             [
              1,
              "#f0f921"
             ]
            ],
            "type": "surface"
           }
          ],
          "table": [
           {
            "cells": {
             "fill": {
              "color": "#EBF0F8"
             },
             "line": {
              "color": "white"
             }
            },
            "header": {
             "fill": {
              "color": "#C8D4E3"
             },
             "line": {
              "color": "white"
             }
            },
            "type": "table"
           }
          ]
         },
         "layout": {
          "annotationdefaults": {
           "arrowcolor": "#2a3f5f",
           "arrowhead": 0,
           "arrowwidth": 1
          },
          "autotypenumbers": "strict",
          "coloraxis": {
           "colorbar": {
            "outlinewidth": 0,
            "ticks": ""
           }
          },
          "colorscale": {
           "diverging": [
            [
             0,
             "#8e0152"
            ],
            [
             0.1,
             "#c51b7d"
            ],
            [
             0.2,
             "#de77ae"
            ],
            [
             0.3,
             "#f1b6da"
            ],
            [
             0.4,
             "#fde0ef"
            ],
            [
             0.5,
             "#f7f7f7"
            ],
            [
             0.6,
             "#e6f5d0"
            ],
            [
             0.7,
             "#b8e186"
            ],
            [
             0.8,
             "#7fbc41"
            ],
            [
             0.9,
             "#4d9221"
            ],
            [
             1,
             "#276419"
            ]
           ],
           "sequential": [
            [
             0,
             "#0d0887"
            ],
            [
             0.1111111111111111,
             "#46039f"
            ],
            [
             0.2222222222222222,
             "#7201a8"
            ],
            [
             0.3333333333333333,
             "#9c179e"
            ],
            [
             0.4444444444444444,
             "#bd3786"
            ],
            [
             0.5555555555555556,
             "#d8576b"
            ],
            [
             0.6666666666666666,
             "#ed7953"
            ],
            [
             0.7777777777777778,
             "#fb9f3a"
            ],
            [
             0.8888888888888888,
             "#fdca26"
            ],
            [
             1,
             "#f0f921"
            ]
           ],
           "sequentialminus": [
            [
             0,
             "#0d0887"
            ],
            [
             0.1111111111111111,
             "#46039f"
            ],
            [
             0.2222222222222222,
             "#7201a8"
            ],
            [
             0.3333333333333333,
             "#9c179e"
            ],
            [
             0.4444444444444444,
             "#bd3786"
            ],
            [
             0.5555555555555556,
             "#d8576b"
            ],
            [
             0.6666666666666666,
             "#ed7953"
            ],
            [
             0.7777777777777778,
             "#fb9f3a"
            ],
            [
             0.8888888888888888,
             "#fdca26"
            ],
            [
             1,
             "#f0f921"
            ]
           ]
          },
          "colorway": [
           "#636efa",
           "#EF553B",
           "#00cc96",
           "#ab63fa",
           "#FFA15A",
           "#19d3f3",
           "#FF6692",
           "#B6E880",
           "#FF97FF",
           "#FECB52"
          ],
          "font": {
           "color": "#2a3f5f"
          },
          "geo": {
           "bgcolor": "white",
           "lakecolor": "white",
           "landcolor": "#E5ECF6",
           "showlakes": true,
           "showland": true,
           "subunitcolor": "white"
          },
          "hoverlabel": {
           "align": "left"
          },
          "hovermode": "closest",
          "mapbox": {
           "style": "light"
          },
          "paper_bgcolor": "white",
          "plot_bgcolor": "#E5ECF6",
          "polar": {
           "angularaxis": {
            "gridcolor": "white",
            "linecolor": "white",
            "ticks": ""
           },
           "bgcolor": "#E5ECF6",
           "radialaxis": {
            "gridcolor": "white",
            "linecolor": "white",
            "ticks": ""
           }
          },
          "scene": {
           "xaxis": {
            "backgroundcolor": "#E5ECF6",
            "gridcolor": "white",
            "gridwidth": 2,
            "linecolor": "white",
            "showbackground": true,
            "ticks": "",
            "zerolinecolor": "white"
           },
           "yaxis": {
            "backgroundcolor": "#E5ECF6",
            "gridcolor": "white",
            "gridwidth": 2,
            "linecolor": "white",
            "showbackground": true,
            "ticks": "",
            "zerolinecolor": "white"
           },
           "zaxis": {
            "backgroundcolor": "#E5ECF6",
            "gridcolor": "white",
            "gridwidth": 2,
            "linecolor": "white",
            "showbackground": true,
            "ticks": "",
            "zerolinecolor": "white"
           }
          },
          "shapedefaults": {
           "line": {
            "color": "#2a3f5f"
           }
          },
          "ternary": {
           "aaxis": {
            "gridcolor": "white",
            "linecolor": "white",
            "ticks": ""
           },
           "baxis": {
            "gridcolor": "white",
            "linecolor": "white",
            "ticks": ""
           },
           "bgcolor": "#E5ECF6",
           "caxis": {
            "gridcolor": "white",
            "linecolor": "white",
            "ticks": ""
           }
          },
          "title": {
           "x": 0.05
          },
          "xaxis": {
           "automargin": true,
           "gridcolor": "white",
           "linecolor": "white",
           "ticks": "",
           "title": {
            "standoff": 15
           },
           "zerolinecolor": "white",
           "zerolinewidth": 2
          },
          "yaxis": {
           "automargin": true,
           "gridcolor": "white",
           "linecolor": "white",
           "ticks": "",
           "title": {
            "standoff": 15
           },
           "zerolinecolor": "white",
           "zerolinewidth": 2
          }
         }
        },
        "title": {
         "text": "Proportion of Female Births by Year For French data"
        },
        "xaxis": {
         "anchor": "y",
         "autorange": true,
         "domain": [
          0,
          1
         ],
         "range": [
          1900,
          2021
         ],
         "tickmode": "linear",
         "title": {
          "text": "Year"
         },
         "type": "linear"
        },
        "yaxis": {
         "anchor": "x",
         "autorange": true,
         "domain": [
          0,
          1
         ],
         "range": [
          0.4810160501764417,
          0.5774229875794812
         ],
         "title": {
          "text": "Proportion Female Births"
         },
         "type": "linear"
        }
       }
      },
      "image/png": "[encoded data removed]",
      "text/html": [
       "<div>                            <div id=\"a0139575-ed91-485e-9209-24ce98aa4afc\" class=\"plotly-graph-div\" style=\"height:525px; width:100%;\"></div>            <script type=\"text/javascript\">                require([\"plotly\"], function(Plotly) {                    window.PLOTLYENV=window.PLOTLYENV || {};                                    if (document.getElementById(\"a0139575-ed91-485e-9209-24ce98aa4afc\")) {                    Plotly.newPlot(                        \"a0139575-ed91-485e-9209-24ce98aa4afc\",                        [{\"hovertemplate\":\"year=%{x}<br>y=%{y}<extra></extra>\",\"legendgroup\":\"\",\"line\":{\"color\":\"#636efa\",\"dash\":\"solid\"},\"marker\":{\"symbol\":\"circle\"},\"mode\":\"lines\",\"name\":\"\",\"orientation\":\"v\",\"showlegend\":false,\"x\":[1900.0,1901.0,1902.0,1903.0,1904.0,1905.0,1906.0,1907.0,1908.0,1909.0,1910.0,1911.0,1912.0,1913.0,1914.0,1915.0,1916.0,1917.0,1918.0,1919.0,1920.0,1921.0,1922.0,1923.0,1924.0,1925.0,1926.0,1927.0,1928.0,1929.0,1930.0,1931.0,1932.0,1933.0,1934.0,1935.0,1936.0,1937.0,1938.0,1939.0,1940.0,1941.0,1942.0,1943.0,1944.0,1945.0,1946.0,1947.0,1948.0,1949.0,1950.0,1951.0,1952.0,1953.0,1954.0,1955.0,1956.0,1957.0,1958.0,1959.0,1960.0,1961.0,1962.0,1963.0,1964.0,1965.0,1966.0,1967.0,1968.0,1969.0,1970.0,1971.0,1972.0,1973.0,1974.0,1975.0,1976.0,1977.0,1978.0,1979.0,1980.0,1981.0,1982.0,1983.0,1984.0,1985.0,1986.0,1987.0,1988.0,1989.0,1990.0,1991.0,1992.0,1993.0,1994.0,1995.0,1996.0,1997.0,1998.0,1999.0,2000.0,2001.0,2002.0,2003.0,2004.0,2005.0,2006.0,2007.0,2008.0,2009.0,2010.0,2011.0,2012.0,2013.0,2014.0,2015.0,2016.0,2017.0,2018.0,2019.0,2020.0,2021.0],\"xaxis\":\"x\",\"y\":[0.5726026407093292,0.5678434070780848,0.5612753359339274,0.5576886158571703,0.5529081639044433,0.546535919150005,0.5441828020209469,0.539887231176089,0.5362613941273858,0.5325416688045029,0.5291924653760308,0.5277264451038345,0.5238235682044668,0.5229512386585611,0.5239278397957366,0.5188434667539379,0.5172867868558827,0.5158523170528694,0.5122933768696865,0.5108115399181352,0.5094536356933745,0.5122321756808135,0.5114057068686627,0.5098739771903096,0.510114056416702,0.5081860820928279,0.5075492577344725,0.5048831949866707,0.5029365826606113,0.5019371652867608,0.5026265971110475,0.5022554123743062,0.5020698152334045,0.5018186949038808,0.5016263849556944,0.5022869883793953,0.5017046740728837,0.5003452711868566,0.4997542111238033,0.5008845901222535,0.4991687294491447,0.49735690249541314,0.4945181582505921,0.49419782457379724,0.495969205690372,0.49560299172307976,0.4867766648656886,0.48663559786169563,0.486445440474149,0.48779822676130796,0.4882460436841909,0.4880976480114492,0.48820515604695985,0.488344090164724,0.4876980827312001,0.4897423495198534,0.48830791280006136,0.48886611374407585,0.48933189552565676,0.48847456520116445,0.4883189675474542,0.4890832562303618,0.48898239500257196,0.4894709638694833,0.48853182742502005,0.48856286744296484,0.48858662851778173,0.4883532004568634,0.48874080988535173,0.48814448754889495,0.4868676332295556,0.4874361015417103,0.4866615959141692,0.48703380664374835,0.4867399466539814,0.48776778768085294,0.48760102305945685,0.48669629178021356,0.48705650381246735,0.4872291076739189,0.4873980058840756,0.48706265712416025,0.48710557300567303,0.4876711039538215,0.48827466374927603,0.4877430896626137,0.4877097917717959,0.4880519774961184,0.4875782964267581,0.48848976556810136,0.48675821606441505,0.4872994592375442,0.4865071639956978,0.4873789201112496,0.4872097345654712,0.4878373438071223,0.4858363970465937,0.4858727568455464,0.48727253978074975,0.4862070228304769,0.48650410450889153,0.48803867002379014,0.48704245711892286,0.48803040936870845,0.48687423920142514,0.48756405024259736,0.4877949846633097,0.4875420708155839,0.4872583609328472,0.48778871616168845,0.4878360638553321,0.48839277321816393,0.48730433541410567,0.4874494148869296,0.48829255426357554,0.4875934935503,0.48745084371943986,0.48742874923039237,0.4869932747678258,0.4881599935115845,0.4880052438515702,0.4882114446024365],\"yaxis\":\"y\",\"type\":\"scatter\"}],                        {\"template\":{\"data\":{\"bar\":[{\"error_x\":{\"color\":\"#2a3f5f\"},\"error_y\":{\"color\":\"#2a3f5f\"},\"marker\":{\"line\":{\"color\":\"#E5ECF6\",\"width\":0.5},\"pattern\":{\"fillmode\":\"overlay\",\"size\":10,\"solidity\":0.2}},\"type\":\"bar\"}],\"barpolar\":[{\"marker\":{\"line\":{\"color\":\"#E5ECF6\",\"width\":0.5},\"pattern\":{\"fillmode\":\"overlay\",\"size\":10,\"solidity\":0.2}},\"type\":\"barpolar\"}],\"carpet\":[{\"aaxis\":{\"endlinecolor\":\"#2a3f5f\",\"gridcolor\":\"white\",\"linecolor\":\"white\",\"minorgridcolor\":\"white\",\"startlinecolor\":\"#2a3f5f\"},\"baxis\":{\"endlinecolor\":\"#2a3f5f\",\"gridcolor\":\"white\",\"linecolor\":\"white\",\"minorgridcolor\":\"white\",\"startlinecolor\":\"#2a3f5f\"},\"type\":\"carpet\"}],\"choropleth\":[{\"colorbar\":{\"outlinewidth\":0,\"ticks\":\"\"},\"type\":\"choropleth\"}],\"contour\":[{\"colorbar\":{\"outlinewidth\":0,\"ticks\":\"\"},\"colorscale\":[[0.0,\"#0d0887\"],[0.1111111111111111,\"#46039f\"],[0.2222222222222222,\"#7201a8\"],[0.3333333333333333,\"#9c179e\"],[0.4444444444444444,\"#bd3786\"],[0.5555555555555556,\"#d8576b\"],[0.6666666666666666,\"#ed7953\"],[0.7777777777777778,\"#fb9f3a\"],[0.8888888888888888,\"#fdca26\"],[1.0,\"#f0f921\"]],\"type\":\"contour\"}],\"contourcarpet\":[{\"colorbar\":{\"outlinewidth\":0,\"ticks\":\"\"},\"type\":\"contourcarpet\"}],\"heatmap\":[{\"colorbar\":{\"outlinewidth\":0,\"ticks\":\"\"},\"colorscale\":[[0.0,\"#0d0887\"],[0.1111111111111111,\"#46039f\"],[0.2222222222222222,\"#7201a8\"],[0.3333333333333333,\"#9c179e\"],[0.4444444444444444,\"#bd3786\"],[0.5555555555555556,\"#d8576b\"],[0.6666666666666666,\"#ed7953\"],[0.7777777777777778,\"#fb9f3a\"],[0.8888888888888888,\"#fdca26\"],[1.0,\"#f0f921\"]],\"type\":\"heatmap\"}],\"heatmapgl\":[{\"colorbar\":{\"outlinewidth\":0,\"ticks\":\"\"},\"colorscale\":[[0.0,\"#0d0887\"],[0.1111111111111111,\"#46039f\"],[0.2222222222222222,\"#7201a8\"],[0.3333333333333333,\"#9c179e\"],[0.4444444444444444,\"#bd3786\"],[0.5555555555555556,\"#d8576b\"],[0.6666666666666666,\"#ed7953\"],[0.7777777777777778,\"#fb9f3a\"],[0.8888888888888888,\"#fdca26\"],[1.0,\"#f0f921\"]],\"type\":\"heatmapgl\"}],\"histogram\":[{\"marker\":{\"pattern\":{\"fillmode\":\"overlay\",\"size\":10,\"solidity\":0.2}},\"type\":\"histogram\"}],\"histogram2d\":[{\"colorbar\":{\"outlinewidth\":0,\"ticks\":\"\"},\"colorscale\":[[0.0,\"#0d0887\"],[0.1111111111111111,\"#46039f\"],[0.2222222222222222,\"#7201a8\"],[0.3333333333333333,\"#9c179e\"],[0.4444444444444444,\"#bd3786\"],[0.5555555555555556,\"#d8576b\"],[0.6666666666666666,\"#ed7953\"],[0.7777777777777778,\"#fb9f3a\"],[0.8888888888888888,\"#fdca26\"],[1.0,\"#f0f921\"]],\"type\":\"histogram2d\"}],\"histogram2dcontour\":[{\"colorbar\":{\"outlinewidth\":0,\"ticks\":\"\"},\"colorscale\":[[0.0,\"#0d0887\"],[0.1111111111111111,\"#46039f\"],[0.2222222222222222,\"#7201a8\"],[0.3333333333333333,\"#9c179e\"],[0.4444444444444444,\"#bd3786\"],[0.5555555555555556,\"#d8576b\"],[0.6666666666666666,\"#ed7953\"],[0.7777777777777778,\"#fb9f3a\"],[0.8888888888888888,\"#fdca26\"],[1.0,\"#f0f921\"]],\"type\":\"histogram2dcontour\"}],\"mesh3d\":[{\"colorbar\":{\"outlinewidth\":0,\"ticks\":\"\"},\"type\":\"mesh3d\"}],\"parcoords\":[{\"line\":{\"colorbar\":{\"outlinewidth\":0,\"ticks\":\"\"}},\"type\":\"parcoords\"}],\"pie\":[{\"automargin\":true,\"type\":\"pie\"}],\"scatter\":[{\"marker\":{\"colorbar\":{\"outlinewidth\":0,\"ticks\":\"\"}},\"type\":\"scatter\"}],\"scatter3d\":[{\"line\":{\"colorbar\":{\"outlinewidth\":0,\"ticks\":\"\"}},\"marker\":{\"colorbar\":{\"outlinewidth\":0,\"ticks\":\"\"}},\"type\":\"scatter3d\"}],\"scattercarpet\":[{\"marker\":{\"colorbar\":{\"outlinewidth\":0,\"ticks\":\"\"}},\"type\":\"scattercarpet\"}],\"scattergeo\":[{\"marker\":{\"colorbar\":{\"outlinewidth\":0,\"ticks\":\"\"}},\"type\":\"scattergeo\"}],\"scattergl\":[{\"marker\":{\"colorbar\":{\"outlinewidth\":0,\"ticks\":\"\"}},\"type\":\"scattergl\"}],\"scattermapbox\":[{\"marker\":{\"colorbar\":{\"outlinewidth\":0,\"ticks\":\"\"}},\"type\":\"scattermapbox\"}],\"scatterpolar\":[{\"marker\":{\"colorbar\":{\"outlinewidth\":0,\"ticks\":\"\"}},\"type\":\"scatterpolar\"}],\"scatterpolargl\":[{\"marker\":{\"colorbar\":{\"outlinewidth\":0,\"ticks\":\"\"}},\"type\":\"scatterpolargl\"}],\"scatterternary\":[{\"marker\":{\"colorbar\":{\"outlinewidth\":0,\"ticks\":\"\"}},\"type\":\"scatterternary\"}],\"surface\":[{\"colorbar\":{\"outlinewidth\":0,\"ticks\":\"\"},\"colorscale\":[[0.0,\"#0d0887\"],[0.1111111111111111,\"#46039f\"],[0.2222222222222222,\"#7201a8\"],[0.3333333333333333,\"#9c179e\"],[0.4444444444444444,\"#bd3786\"],[0.5555555555555556,\"#d8576b\"],[0.6666666666666666,\"#ed7953\"],[0.7777777777777778,\"#fb9f3a\"],[0.8888888888888888,\"#fdca26\"],[1.0,\"#f0f921\"]],\"type\":\"surface\"}],\"table\":[{\"cells\":{\"fill\":{\"color\":\"#EBF0F8\"},\"line\":{\"color\":\"white\"}},\"header\":{\"fill\":{\"color\":\"#C8D4E3\"},\"line\":{\"color\":\"white\"}},\"type\":\"table\"}]},\"layout\":{\"annotationdefaults\":{\"arrowcolor\":\"#2a3f5f\",\"arrowhead\":0,\"arrowwidth\":1},\"autotypenumbers\":\"strict\",\"coloraxis\":{\"colorbar\":{\"outlinewidth\":0,\"ticks\":\"\"}},\"colorscale\":{\"diverging\":[[0,\"#8e0152\"],[0.1,\"#c51b7d\"],[0.2,\"#de77ae\"],[0.3,\"#f1b6da\"],[0.4,\"#fde0ef\"],[0.5,\"#f7f7f7\"],[0.6,\"#e6f5d0\"],[0.7,\"#b8e186\"],[0.8,\"#7fbc41\"],[0.9,\"#4d9221\"],[1,\"#276419\"]],\"sequential\":[[0.0,\"#0d0887\"],[0.1111111111111111,\"#46039f\"],[0.2222222222222222,\"#7201a8\"],[0.3333333333333333,\"#9c179e\"],[0.4444444444444444,\"#bd3786\"],[0.5555555555555556,\"#d8576b\"],[0.6666666666666666,\"#ed7953\"],[0.7777777777777778,\"#fb9f3a\"],[0.8888888888888888,\"#fdca26\"],[1.0,\"#f0f921\"]],\"sequentialminus\":[[0.0,\"#0d0887\"],[0.1111111111111111,\"#46039f\"],[0.2222222222222222,\"#7201a8\"],[0.3333333333333333,\"#9c179e\"],[0.4444444444444444,\"#bd3786\"],[0.5555555555555556,\"#d8576b\"],[0.6666666666666666,\"#ed7953\"],[0.7777777777777778,\"#fb9f3a\"],[0.8888888888888888,\"#fdca26\"],[1.0,\"#f0f921\"]]},\"colorway\":[\"#636efa\",\"#EF553B\",\"#00cc96\",\"#ab63fa\",\"#FFA15A\",\"#19d3f3\",\"#FF6692\",\"#B6E880\",\"#FF97FF\",\"#FECB52\"],\"font\":{\"color\":\"#2a3f5f\"},\"geo\":{\"bgcolor\":\"white\",\"lakecolor\":\"white\",\"landcolor\":\"#E5ECF6\",\"showlakes\":true,\"showland\":true,\"subunitcolor\":\"white\"},\"hoverlabel\":{\"align\":\"left\"},\"hovermode\":\"closest\",\"mapbox\":{\"style\":\"light\"},\"paper_bgcolor\":\"white\",\"plot_bgcolor\":\"#E5ECF6\",\"polar\":{\"angularaxis\":{\"gridcolor\":\"white\",\"linecolor\":\"white\",\"ticks\":\"\"},\"bgcolor\":\"#E5ECF6\",\"radialaxis\":{\"gridcolor\":\"white\",\"linecolor\":\"white\",\"ticks\":\"\"}},\"scene\":{\"xaxis\":{\"backgroundcolor\":\"#E5ECF6\",\"gridcolor\":\"white\",\"gridwidth\":2,\"linecolor\":\"white\",\"showbackground\":true,\"ticks\":\"\",\"zerolinecolor\":\"white\"},\"yaxis\":{\"backgroundcolor\":\"#E5ECF6\",\"gridcolor\":\"white\",\"gridwidth\":2,\"linecolor\":\"white\",\"showbackground\":true,\"ticks\":\"\",\"zerolinecolor\":\"white\"},\"zaxis\":{\"backgroundcolor\":\"#E5ECF6\",\"gridcolor\":\"white\",\"gridwidth\":2,\"linecolor\":\"white\",\"showbackground\":true,\"ticks\":\"\",\"zerolinecolor\":\"white\"}},\"shapedefaults\":{\"line\":{\"color\":\"#2a3f5f\"}},\"ternary\":{\"aaxis\":{\"gridcolor\":\"white\",\"linecolor\":\"white\",\"ticks\":\"\"},\"baxis\":{\"gridcolor\":\"white\",\"linecolor\":\"white\",\"ticks\":\"\"},\"bgcolor\":\"#E5ECF6\",\"caxis\":{\"gridcolor\":\"white\",\"linecolor\":\"white\",\"ticks\":\"\"}},\"title\":{\"x\":0.05},\"xaxis\":{\"automargin\":true,\"gridcolor\":\"white\",\"linecolor\":\"white\",\"ticks\":\"\",\"title\":{\"standoff\":15},\"zerolinecolor\":\"white\",\"zerolinewidth\":2},\"yaxis\":{\"automargin\":true,\"gridcolor\":\"white\",\"linecolor\":\"white\",\"ticks\":\"\",\"title\":{\"standoff\":15},\"zerolinecolor\":\"white\",\"zerolinewidth\":2}}},\"xaxis\":{\"anchor\":\"y\",\"domain\":[0.0,1.0],\"title\":{\"text\":\"Year\"},\"tickmode\":\"linear\"},\"yaxis\":{\"anchor\":\"x\",\"domain\":[0.0,1.0],\"title\":{\"text\":\"Proportion Female Births\"}},\"legend\":{\"tracegroupgap\":0},\"title\":{\"text\":\"Proportion of Female Births by Year For French data\"}},                        {\"responsive\": true}                    ).then(function(){\n",
       "                            \n",
       "var gd = document.getElementById('a0139575-ed91-485e-9209-24ce98aa4afc');\n",
       "var x = new MutationObserver(function (mutations, observer) {{\n",
       "        var display = window.getComputedStyle(gd).display;\n",
       "        if (!display || display === 'none') {{\n",
       "            console.log([gd, 'removed!']);\n",
       "            Plotly.purge(gd);\n",
       "            observer.disconnect();\n",
       "        }}\n",
       "}});\n",
       "\n",
       "// Listen for the removal of the full notebook cells\n",
       "var notebookContainer = gd.closest('#notebook-container');\n",
       "if (notebookContainer) {{\n",
       "    x.observe(notebookContainer, {childList: true});\n",
       "}}\n",
       "\n",
       "// Listen for the clearing of the current output cell\n",
       "var outputEl = gd.closest('.output');\n",
       "if (outputEl) {{\n",
       "    x.observe(outputEl, {childList: true});\n",
       "}}\n",
       "\n",
       "                        })                };                });            </script>        </div>"
      ]
     },
     "metadata": {},
     "output_type": "display_data"
    }
   ],
   "source": [
    "# For the French data \n",
    "\n",
    "# Group the data by year and compute the proportion of female births\n",
    "prop_female = df_fr.groupby(['year', 'gender']).sum()\n",
    "prop_female = prop_female.unstack('gender')\n",
    "prop_female = prop_female['count']['F'] / (prop_female['count']['F'] + prop_female['count']['M'])\n",
    "\n",
    "# Plot the data\n",
    "fig = px.line(prop_female, x=prop_female.index, y=prop_female.values, title='Proportion of Female Births by Year For French data')\n",
    "fig.update_layout(xaxis_title='Year', yaxis_title='Proportion Female Births', xaxis_tickmode='linear')\n",
    "fig.show()\n"
   ]
  },
  {
   "cell_type": "code",
   "execution_count": 125,
   "metadata": {},
   "outputs": [
    {
     "data": {
      "application/vnd.plotly.v1+json": {
       "config": {
        "plotlyServerURL": "https://plot.ly"
       },
       "data": [
        {
         "hovertemplate": "year=%{x}<br>y=%{y}<extra></extra>",
         "legendgroup": "",
         "line": {
          "color": "#636efa",
          "dash": "solid"
         },
         "marker": {
          "symbol": "circle"
         },
         "mode": "lines",
         "name": "",
         "orientation": "v",
         "showlegend": false,
         "type": "scatter",
         "x": [
          1900,
          1901,
          1902,
          1903,
          1904,
          1905,
          1906,
          1907,
          1908,
          1909,
          1910,
          1911,
          1912,
          1913,
          1914,
          1915,
          1916,
          1917,
          1918,
          1919,
          1920,
          1921,
          1922,
          1923,
          1924,
          1925,
          1926,
          1927,
          1928,
          1929,
          1930,
          1931,
          1932,
          1933,
          1934,
          1935,
          1936,
          1937,
          1938,
          1939,
          1940,
          1941,
          1942,
          1943,
          1944,
          1945,
          1946,
          1947,
          1948,
          1949,
          1950,
          1951,
          1952,
          1953,
          1954,
          1955,
          1956,
          1957,
          1958,
          1959,
          1960,
          1961,
          1962,
          1963,
          1964,
          1965,
          1966,
          1967,
          1968,
          1969,
          1970,
          1971,
          1972,
          1973,
          1974,
          1975,
          1976,
          1977,
          1978,
          1979,
          1980,
          1981,
          1982,
          1983,
          1984,
          1985,
          1986,
          1987,
          1988,
          1989,
          1990,
          1991,
          1992,
          1993,
          1994,
          1995,
          1996,
          1997,
          1998,
          1999,
          2000,
          2001,
          2002,
          2003,
          2004,
          2005,
          2006,
          2007,
          2008,
          2009,
          2010,
          2011,
          2012,
          2013,
          2014,
          2015,
          2016,
          2017,
          2018,
          2019,
          2020,
          2021
         ],
         "xaxis": "x",
         "y": [
          0.5726026407093292,
          0.5678434070780848,
          0.5612753359339274,
          0.5576886158571703,
          0.5529081639044433,
          0.546535919150005,
          0.5441828020209469,
          0.539887231176089,
          0.5362613941273858,
          0.5325416688045029,
          0.5291924653760308,
          0.5277264451038345,
          0.5238235682044668,
          0.5229512386585611,
          0.5239278397957366,
          0.5188434667539379,
          0.5172867868558827,
          0.5158523170528694,
          0.5122933768696865,
          0.5108115399181352,
          0.5094536356933745,
          0.5122321756808135,
          0.5114057068686627,
          0.5098739771903096,
          0.510114056416702,
          0.5081860820928279,
          0.5075492577344725,
          0.5048831949866707,
          0.5029365826606113,
          0.5019371652867608,
          0.5026265971110475,
          0.5022554123743062,
          0.5020698152334045,
          0.5018186949038808,
          0.5016263849556944,
          0.5022869883793953,
          0.5017046740728837,
          0.5003452711868566,
          0.4997542111238033,
          0.5008845901222535,
          0.4991687294491447,
          0.49735690249541314,
          0.4945181582505921,
          0.49419782457379724,
          0.495969205690372,
          0.49560299172307976,
          0.4867766648656886,
          0.48663559786169563,
          0.486445440474149,
          0.48779822676130796,
          0.4882460436841909,
          0.4880976480114492,
          0.48820515604695985,
          0.488344090164724,
          0.4876980827312001,
          0.4897423495198534,
          0.48830791280006136,
          0.48886611374407585,
          0.48933189552565676,
          0.48847456520116445,
          0.4883189675474542,
          0.4890832562303618,
          0.48898239500257196,
          0.4894709638694833,
          0.48853182742502005,
          0.48856286744296484,
          0.48858662851778173,
          0.4883532004568634,
          0.48874080988535173,
          0.48814448754889495,
          0.4868676332295556,
          0.4874361015417103,
          0.4866615959141692,
          0.48703380664374835,
          0.4867399466539814,
          0.48776778768085294,
          0.48760102305945685,
          0.48669629178021356,
          0.48705650381246735,
          0.4872291076739189,
          0.4873980058840756,
          0.48706265712416025,
          0.48710557300567303,
          0.4876711039538215,
          0.48827466374927603,
          0.4877430896626137,
          0.4877097917717959,
          0.4880519774961184,
          0.4875782964267581,
          0.48848976556810136,
          0.48675821606441505,
          0.4872994592375442,
          0.4865071639956978,
          0.4873789201112496,
          0.4872097345654712,
          0.4878373438071223,
          0.4858363970465937,
          0.4858727568455464,
          0.48727253978074975,
          0.4862070228304769,
          0.48650410450889153,
          0.48803867002379014,
          0.48704245711892286,
          0.48803040936870845,
          0.48687423920142514,
          0.48756405024259736,
          0.4877949846633097,
          0.4875420708155839,
          0.4872583609328472,
          0.48778871616168845,
          0.4878360638553321,
          0.48839277321816393,
          0.48730433541410567,
          0.4874494148869296,
          0.48829255426357554,
          0.4875934935503,
          0.48745084371943986,
          0.48742874923039237,
          0.4869932747678258,
          0.4881599935115845,
          0.4880052438515702,
          0.4882114446024365
         ],
         "yaxis": "y"
        }
       ],
       "layout": {
        "autosize": true,
        "legend": {
         "tracegroupgap": 0
        },
        "template": {
         "data": {
          "bar": [
           {
            "error_x": {
             "color": "#2a3f5f"
            },
            "error_y": {
             "color": "#2a3f5f"
            },
            "marker": {
             "line": {
              "color": "#E5ECF6",
              "width": 0.5
             },
             "pattern": {
              "fillmode": "overlay",
              "size": 10,
              "solidity": 0.2
             }
            },
            "type": "bar"
           }
          ],
          "barpolar": [
           {
            "marker": {
             "line": {
              "color": "#E5ECF6",
              "width": 0.5
             },
             "pattern": {
              "fillmode": "overlay",
              "size": 10,
              "solidity": 0.2
             }
            },
            "type": "barpolar"
           }
          ],
          "carpet": [
           {
            "aaxis": {
             "endlinecolor": "#2a3f5f",
             "gridcolor": "white",
             "linecolor": "white",
             "minorgridcolor": "white",
             "startlinecolor": "#2a3f5f"
            },
            "baxis": {
             "endlinecolor": "#2a3f5f",
             "gridcolor": "white",
             "linecolor": "white",
             "minorgridcolor": "white",
             "startlinecolor": "#2a3f5f"
            },
            "type": "carpet"
           }
          ],
          "choropleth": [
           {
            "colorbar": {
             "outlinewidth": 0,
             "ticks": ""
            },
            "type": "choropleth"
           }
          ],
          "contour": [
           {
            "colorbar": {
             "outlinewidth": 0,
             "ticks": ""
            },
            "colorscale": [
             [
              0,
              "#0d0887"
             ],
             [
              0.1111111111111111,
              "#46039f"
             ],
             [
              0.2222222222222222,
              "#7201a8"
             ],
             [
              0.3333333333333333,
              "#9c179e"
             ],
             [
              0.4444444444444444,
              "#bd3786"
             ],
             [
              0.5555555555555556,
              "#d8576b"
             ],
             [
              0.6666666666666666,
              "#ed7953"
             ],
             [
              0.7777777777777778,
              "#fb9f3a"
             ],
             [
              0.8888888888888888,
              "#fdca26"
             ],
             [
              1,
              "#f0f921"
             ]
            ],
            "type": "contour"
           }
          ],
          "contourcarpet": [
           {
            "colorbar": {
             "outlinewidth": 0,
             "ticks": ""
            },
            "type": "contourcarpet"
           }
          ],
          "heatmap": [
           {
            "colorbar": {
             "outlinewidth": 0,
             "ticks": ""
            },
            "colorscale": [
             [
              0,
              "#0d0887"
             ],
             [
              0.1111111111111111,
              "#46039f"
             ],
             [
              0.2222222222222222,
              "#7201a8"
             ],
             [
              0.3333333333333333,
              "#9c179e"
             ],
             [
              0.4444444444444444,
              "#bd3786"
             ],
             [
              0.5555555555555556,
              "#d8576b"
             ],
             [
              0.6666666666666666,
              "#ed7953"
             ],
             [
              0.7777777777777778,
              "#fb9f3a"
             ],
             [
              0.8888888888888888,
              "#fdca26"
             ],
             [
              1,
              "#f0f921"
             ]
            ],
            "type": "heatmap"
           }
          ],
          "heatmapgl": [
           {
            "colorbar": {
             "outlinewidth": 0,
             "ticks": ""
            },
            "colorscale": [
             [
              0,
              "#0d0887"
             ],
             [
              0.1111111111111111,
              "#46039f"
             ],
             [
              0.2222222222222222,
              "#7201a8"
             ],
             [
              0.3333333333333333,
              "#9c179e"
             ],
             [
              0.4444444444444444,
              "#bd3786"
             ],
             [
              0.5555555555555556,
              "#d8576b"
             ],
             [
              0.6666666666666666,
              "#ed7953"
             ],
             [
              0.7777777777777778,
              "#fb9f3a"
             ],
             [
              0.8888888888888888,
              "#fdca26"
             ],
             [
              1,
              "#f0f921"
             ]
            ],
            "type": "heatmapgl"
           }
          ],
          "histogram": [
           {
            "marker": {
             "pattern": {
              "fillmode": "overlay",
              "size": 10,
              "solidity": 0.2
             }
            },
            "type": "histogram"
           }
          ],
          "histogram2d": [
           {
            "colorbar": {
             "outlinewidth": 0,
             "ticks": ""
            },
            "colorscale": [
             [
              0,
              "#0d0887"
             ],
             [
              0.1111111111111111,
              "#46039f"
             ],
             [
              0.2222222222222222,
              "#7201a8"
             ],
             [
              0.3333333333333333,
              "#9c179e"
             ],
             [
              0.4444444444444444,
              "#bd3786"
             ],
             [
              0.5555555555555556,
              "#d8576b"
             ],
             [
              0.6666666666666666,
              "#ed7953"
             ],
             [
              0.7777777777777778,
              "#fb9f3a"
             ],
             [
              0.8888888888888888,
              "#fdca26"
             ],
             [
              1,
              "#f0f921"
             ]
            ],
            "type": "histogram2d"
           }
          ],
          "histogram2dcontour": [
           {
            "colorbar": {
             "outlinewidth": 0,
             "ticks": ""
            },
            "colorscale": [
             [
              0,
              "#0d0887"
             ],
             [
              0.1111111111111111,
              "#46039f"
             ],
             [
              0.2222222222222222,
              "#7201a8"
             ],
             [
              0.3333333333333333,
              "#9c179e"
             ],
             [
              0.4444444444444444,
              "#bd3786"
             ],
             [
              0.5555555555555556,
              "#d8576b"
             ],
             [
              0.6666666666666666,
              "#ed7953"
             ],
             [
              0.7777777777777778,
              "#fb9f3a"
             ],
             [
              0.8888888888888888,
              "#fdca26"
             ],
             [
              1,
              "#f0f921"
             ]
            ],
            "type": "histogram2dcontour"
           }
          ],
          "mesh3d": [
           {
            "colorbar": {
             "outlinewidth": 0,
             "ticks": ""
            },
            "type": "mesh3d"
           }
          ],
          "parcoords": [
           {
            "line": {
             "colorbar": {
              "outlinewidth": 0,
              "ticks": ""
             }
            },
            "type": "parcoords"
           }
          ],
          "pie": [
           {
            "automargin": true,
            "type": "pie"
           }
          ],
          "scatter": [
           {
            "marker": {
             "colorbar": {
              "outlinewidth": 0,
              "ticks": ""
             }
            },
            "type": "scatter"
           }
          ],
          "scatter3d": [
           {
            "line": {
             "colorbar": {
              "outlinewidth": 0,
              "ticks": ""
             }
            },
            "marker": {
             "colorbar": {
              "outlinewidth": 0,
              "ticks": ""
             }
            },
            "type": "scatter3d"
           }
          ],
          "scattercarpet": [
           {
            "marker": {
             "colorbar": {
              "outlinewidth": 0,
              "ticks": ""
             }
            },
            "type": "scattercarpet"
           }
          ],
          "scattergeo": [
           {
            "marker": {
             "colorbar": {
              "outlinewidth": 0,
              "ticks": ""
             }
            },
            "type": "scattergeo"
           }
          ],
          "scattergl": [
           {
            "marker": {
             "colorbar": {
              "outlinewidth": 0,
              "ticks": ""
             }
            },
            "type": "scattergl"
           }
          ],
          "scattermapbox": [
           {
            "marker": {
             "colorbar": {
              "outlinewidth": 0,
              "ticks": ""
             }
            },
            "type": "scattermapbox"
           }
          ],
          "scatterpolar": [
           {
            "marker": {
             "colorbar": {
              "outlinewidth": 0,
              "ticks": ""
             }
            },
            "type": "scatterpolar"
           }
          ],
          "scatterpolargl": [
           {
            "marker": {
             "colorbar": {
              "outlinewidth": 0,
              "ticks": ""
             }
            },
            "type": "scatterpolargl"
           }
          ],
          "scatterternary": [
           {
            "marker": {
             "colorbar": {
              "outlinewidth": 0,
              "ticks": ""
             }
            },
            "type": "scatterternary"
           }
          ],
          "surface": [
           {
            "colorbar": {
             "outlinewidth": 0,
             "ticks": ""
            },
            "colorscale": [
             [
              0,
              "#0d0887"
             ],
             [
              0.1111111111111111,
              "#46039f"
             ],
             [
              0.2222222222222222,
              "#7201a8"
             ],
             [
              0.3333333333333333,
              "#9c179e"
             ],
             [
              0.4444444444444444,
              "#bd3786"
             ],
             [
              0.5555555555555556,
              "#d8576b"
             ],
             [
              0.6666666666666666,
              "#ed7953"
             ],
             [
              0.7777777777777778,
              "#fb9f3a"
             ],
             [
              0.8888888888888888,
              "#fdca26"
             ],
             [
              1,
              "#f0f921"
             ]
            ],
            "type": "surface"
           }
          ],
          "table": [
           {
            "cells": {
             "fill": {
              "color": "#EBF0F8"
             },
             "line": {
              "color": "white"
             }
            },
            "header": {
             "fill": {
              "color": "#C8D4E3"
             },
             "line": {
              "color": "white"
             }
            },
            "type": "table"
           }
          ]
         },
         "layout": {
          "annotationdefaults": {
           "arrowcolor": "#2a3f5f",
           "arrowhead": 0,
           "arrowwidth": 1
          },
          "autotypenumbers": "strict",
          "coloraxis": {
           "colorbar": {
            "outlinewidth": 0,
            "ticks": ""
           }
          },
          "colorscale": {
           "diverging": [
            [
             0,
             "#8e0152"
            ],
            [
             0.1,
             "#c51b7d"
            ],
            [
             0.2,
             "#de77ae"
            ],
            [
             0.3,
             "#f1b6da"
            ],
            [
             0.4,
             "#fde0ef"
            ],
            [
             0.5,
             "#f7f7f7"
            ],
            [
             0.6,
             "#e6f5d0"
            ],
            [
             0.7,
             "#b8e186"
            ],
            [
             0.8,
             "#7fbc41"
            ],
            [
             0.9,
             "#4d9221"
            ],
            [
             1,
             "#276419"
            ]
           ],
           "sequential": [
            [
             0,
             "#0d0887"
            ],
            [
             0.1111111111111111,
             "#46039f"
            ],
            [
             0.2222222222222222,
             "#7201a8"
            ],
            [
             0.3333333333333333,
             "#9c179e"
            ],
            [
             0.4444444444444444,
             "#bd3786"
            ],
            [
             0.5555555555555556,
             "#d8576b"
            ],
            [
             0.6666666666666666,
             "#ed7953"
            ],
            [
             0.7777777777777778,
             "#fb9f3a"
            ],
            [
             0.8888888888888888,
             "#fdca26"
            ],
            [
             1,
             "#f0f921"
            ]
           ],
           "sequentialminus": [
            [
             0,
             "#0d0887"
            ],
            [
             0.1111111111111111,
             "#46039f"
            ],
            [
             0.2222222222222222,
             "#7201a8"
            ],
            [
             0.3333333333333333,
             "#9c179e"
            ],
            [
             0.4444444444444444,
             "#bd3786"
            ],
            [
             0.5555555555555556,
             "#d8576b"
            ],
            [
             0.6666666666666666,
             "#ed7953"
            ],
            [
             0.7777777777777778,
             "#fb9f3a"
            ],
            [
             0.8888888888888888,
             "#fdca26"
            ],
            [
             1,
             "#f0f921"
            ]
           ]
          },
          "colorway": [
           "#636efa",
           "#EF553B",
           "#00cc96",
           "#ab63fa",
           "#FFA15A",
           "#19d3f3",
           "#FF6692",
           "#B6E880",
           "#FF97FF",
           "#FECB52"
          ],
          "font": {
           "color": "#2a3f5f"
          },
          "geo": {
           "bgcolor": "white",
           "lakecolor": "white",
           "landcolor": "#E5ECF6",
           "showlakes": true,
           "showland": true,
           "subunitcolor": "white"
          },
          "hoverlabel": {
           "align": "left"
          },
          "hovermode": "closest",
          "mapbox": {
           "style": "light"
          },
          "paper_bgcolor": "white",
          "plot_bgcolor": "#E5ECF6",
          "polar": {
           "angularaxis": {
            "gridcolor": "white",
            "linecolor": "white",
            "ticks": ""
           },
           "bgcolor": "#E5ECF6",
           "radialaxis": {
            "gridcolor": "white",
            "linecolor": "white",
            "ticks": ""
           }
          },
          "scene": {
           "xaxis": {
            "backgroundcolor": "#E5ECF6",
            "gridcolor": "white",
            "gridwidth": 2,
            "linecolor": "white",
            "showbackground": true,
            "ticks": "",
            "zerolinecolor": "white"
           },
           "yaxis": {
            "backgroundcolor": "#E5ECF6",
            "gridcolor": "white",
            "gridwidth": 2,
            "linecolor": "white",
            "showbackground": true,
            "ticks": "",
            "zerolinecolor": "white"
           },
           "zaxis": {
            "backgroundcolor": "#E5ECF6",
            "gridcolor": "white",
            "gridwidth": 2,
            "linecolor": "white",
            "showbackground": true,
            "ticks": "",
            "zerolinecolor": "white"
           }
          },
          "shapedefaults": {
           "line": {
            "color": "#2a3f5f"
           }
          },
          "ternary": {
           "aaxis": {
            "gridcolor": "white",
            "linecolor": "white",
            "ticks": ""
           },
           "baxis": {
            "gridcolor": "white",
            "linecolor": "white",
            "ticks": ""
           },
           "bgcolor": "#E5ECF6",
           "caxis": {
            "gridcolor": "white",
            "linecolor": "white",
            "ticks": ""
           }
          },
          "title": {
           "x": 0.05
          },
          "xaxis": {
           "automargin": true,
           "gridcolor": "white",
           "linecolor": "white",
           "ticks": "",
           "title": {
            "standoff": 15
           },
           "zerolinecolor": "white",
           "zerolinewidth": 2
          },
          "yaxis": {
           "automargin": true,
           "gridcolor": "white",
           "linecolor": "white",
           "ticks": "",
           "title": {
            "standoff": 15
           },
           "zerolinecolor": "white",
           "zerolinewidth": 2
          }
         }
        },
        "title": {
         "text": "Proportion of Female Births by Year For French, USA and British data"
        },
        "xaxis": {
         "anchor": "y",
         "autorange": true,
         "domain": [
          0,
          1
         ],
         "range": [
          1900,
          2021
         ],
         "tickmode": "linear",
         "title": {
          "text": "Year"
         },
         "type": "linear"
        },
        "yaxis": {
         "anchor": "x",
         "autorange": true,
         "domain": [
          0,
          1
         ],
         "range": [
          0.4810160501764417,
          0.5774229875794812
         ],
         "title": {
          "text": "Proportion Female Births"
         },
         "type": "linear"
        }
       }
      },
      "image/png": "[encoded data removed]",
      "text/html": [
       "<div>                            <div id=\"fa222921-5f35-466b-a42d-fa9eca9fa464\" class=\"plotly-graph-div\" style=\"height:525px; width:100%;\"></div>            <script type=\"text/javascript\">                require([\"plotly\"], function(Plotly) {                    window.PLOTLYENV=window.PLOTLYENV || {};                                    if (document.getElementById(\"fa222921-5f35-466b-a42d-fa9eca9fa464\")) {                    Plotly.newPlot(                        \"fa222921-5f35-466b-a42d-fa9eca9fa464\",                        [{\"hovertemplate\":\"year=%{x}<br>y=%{y}<extra></extra>\",\"legendgroup\":\"\",\"line\":{\"color\":\"#636efa\",\"dash\":\"solid\"},\"marker\":{\"symbol\":\"circle\"},\"mode\":\"lines\",\"name\":\"\",\"orientation\":\"v\",\"showlegend\":false,\"x\":[1900.0,1901.0,1902.0,1903.0,1904.0,1905.0,1906.0,1907.0,1908.0,1909.0,1910.0,1911.0,1912.0,1913.0,1914.0,1915.0,1916.0,1917.0,1918.0,1919.0,1920.0,1921.0,1922.0,1923.0,1924.0,1925.0,1926.0,1927.0,1928.0,1929.0,1930.0,1931.0,1932.0,1933.0,1934.0,1935.0,1936.0,1937.0,1938.0,1939.0,1940.0,1941.0,1942.0,1943.0,1944.0,1945.0,1946.0,1947.0,1948.0,1949.0,1950.0,1951.0,1952.0,1953.0,1954.0,1955.0,1956.0,1957.0,1958.0,1959.0,1960.0,1961.0,1962.0,1963.0,1964.0,1965.0,1966.0,1967.0,1968.0,1969.0,1970.0,1971.0,1972.0,1973.0,1974.0,1975.0,1976.0,1977.0,1978.0,1979.0,1980.0,1981.0,1982.0,1983.0,1984.0,1985.0,1986.0,1987.0,1988.0,1989.0,1990.0,1991.0,1992.0,1993.0,1994.0,1995.0,1996.0,1997.0,1998.0,1999.0,2000.0,2001.0,2002.0,2003.0,2004.0,2005.0,2006.0,2007.0,2008.0,2009.0,2010.0,2011.0,2012.0,2013.0,2014.0,2015.0,2016.0,2017.0,2018.0,2019.0,2020.0,2021.0],\"xaxis\":\"x\",\"y\":[0.5726026407093292,0.5678434070780848,0.5612753359339274,0.5576886158571703,0.5529081639044433,0.546535919150005,0.5441828020209469,0.539887231176089,0.5362613941273858,0.5325416688045029,0.5291924653760308,0.5277264451038345,0.5238235682044668,0.5229512386585611,0.5239278397957366,0.5188434667539379,0.5172867868558827,0.5158523170528694,0.5122933768696865,0.5108115399181352,0.5094536356933745,0.5122321756808135,0.5114057068686627,0.5098739771903096,0.510114056416702,0.5081860820928279,0.5075492577344725,0.5048831949866707,0.5029365826606113,0.5019371652867608,0.5026265971110475,0.5022554123743062,0.5020698152334045,0.5018186949038808,0.5016263849556944,0.5022869883793953,0.5017046740728837,0.5003452711868566,0.4997542111238033,0.5008845901222535,0.4991687294491447,0.49735690249541314,0.4945181582505921,0.49419782457379724,0.495969205690372,0.49560299172307976,0.4867766648656886,0.48663559786169563,0.486445440474149,0.48779822676130796,0.4882460436841909,0.4880976480114492,0.48820515604695985,0.488344090164724,0.4876980827312001,0.4897423495198534,0.48830791280006136,0.48886611374407585,0.48933189552565676,0.48847456520116445,0.4883189675474542,0.4890832562303618,0.48898239500257196,0.4894709638694833,0.48853182742502005,0.48856286744296484,0.48858662851778173,0.4883532004568634,0.48874080988535173,0.48814448754889495,0.4868676332295556,0.4874361015417103,0.4866615959141692,0.48703380664374835,0.4867399466539814,0.48776778768085294,0.48760102305945685,0.48669629178021356,0.48705650381246735,0.4872291076739189,0.4873980058840756,0.48706265712416025,0.48710557300567303,0.4876711039538215,0.48827466374927603,0.4877430896626137,0.4877097917717959,0.4880519774961184,0.4875782964267581,0.48848976556810136,0.48675821606441505,0.4872994592375442,0.4865071639956978,0.4873789201112496,0.4872097345654712,0.4878373438071223,0.4858363970465937,0.4858727568455464,0.48727253978074975,0.4862070228304769,0.48650410450889153,0.48803867002379014,0.48704245711892286,0.48803040936870845,0.48687423920142514,0.48756405024259736,0.4877949846633097,0.4875420708155839,0.4872583609328472,0.48778871616168845,0.4878360638553321,0.48839277321816393,0.48730433541410567,0.4874494148869296,0.48829255426357554,0.4875934935503,0.48745084371943986,0.48742874923039237,0.4869932747678258,0.4881599935115845,0.4880052438515702,0.4882114446024365],\"yaxis\":\"y\",\"type\":\"scatter\"}],                        {\"template\":{\"data\":{\"bar\":[{\"error_x\":{\"color\":\"#2a3f5f\"},\"error_y\":{\"color\":\"#2a3f5f\"},\"marker\":{\"line\":{\"color\":\"#E5ECF6\",\"width\":0.5},\"pattern\":{\"fillmode\":\"overlay\",\"size\":10,\"solidity\":0.2}},\"type\":\"bar\"}],\"barpolar\":[{\"marker\":{\"line\":{\"color\":\"#E5ECF6\",\"width\":0.5},\"pattern\":{\"fillmode\":\"overlay\",\"size\":10,\"solidity\":0.2}},\"type\":\"barpolar\"}],\"carpet\":[{\"aaxis\":{\"endlinecolor\":\"#2a3f5f\",\"gridcolor\":\"white\",\"linecolor\":\"white\",\"minorgridcolor\":\"white\",\"startlinecolor\":\"#2a3f5f\"},\"baxis\":{\"endlinecolor\":\"#2a3f5f\",\"gridcolor\":\"white\",\"linecolor\":\"white\",\"minorgridcolor\":\"white\",\"startlinecolor\":\"#2a3f5f\"},\"type\":\"carpet\"}],\"choropleth\":[{\"colorbar\":{\"outlinewidth\":0,\"ticks\":\"\"},\"type\":\"choropleth\"}],\"contour\":[{\"colorbar\":{\"outlinewidth\":0,\"ticks\":\"\"},\"colorscale\":[[0.0,\"#0d0887\"],[0.1111111111111111,\"#46039f\"],[0.2222222222222222,\"#7201a8\"],[0.3333333333333333,\"#9c179e\"],[0.4444444444444444,\"#bd3786\"],[0.5555555555555556,\"#d8576b\"],[0.6666666666666666,\"#ed7953\"],[0.7777777777777778,\"#fb9f3a\"],[0.8888888888888888,\"#fdca26\"],[1.0,\"#f0f921\"]],\"type\":\"contour\"}],\"contourcarpet\":[{\"colorbar\":{\"outlinewidth\":0,\"ticks\":\"\"},\"type\":\"contourcarpet\"}],\"heatmap\":[{\"colorbar\":{\"outlinewidth\":0,\"ticks\":\"\"},\"colorscale\":[[0.0,\"#0d0887\"],[0.1111111111111111,\"#46039f\"],[0.2222222222222222,\"#7201a8\"],[0.3333333333333333,\"#9c179e\"],[0.4444444444444444,\"#bd3786\"],[0.5555555555555556,\"#d8576b\"],[0.6666666666666666,\"#ed7953\"],[0.7777777777777778,\"#fb9f3a\"],[0.8888888888888888,\"#fdca26\"],[1.0,\"#f0f921\"]],\"type\":\"heatmap\"}],\"heatmapgl\":[{\"colorbar\":{\"outlinewidth\":0,\"ticks\":\"\"},\"colorscale\":[[0.0,\"#0d0887\"],[0.1111111111111111,\"#46039f\"],[0.2222222222222222,\"#7201a8\"],[0.3333333333333333,\"#9c179e\"],[0.4444444444444444,\"#bd3786\"],[0.5555555555555556,\"#d8576b\"],[0.6666666666666666,\"#ed7953\"],[0.7777777777777778,\"#fb9f3a\"],[0.8888888888888888,\"#fdca26\"],[1.0,\"#f0f921\"]],\"type\":\"heatmapgl\"}],\"histogram\":[{\"marker\":{\"pattern\":{\"fillmode\":\"overlay\",\"size\":10,\"solidity\":0.2}},\"type\":\"histogram\"}],\"histogram2d\":[{\"colorbar\":{\"outlinewidth\":0,\"ticks\":\"\"},\"colorscale\":[[0.0,\"#0d0887\"],[0.1111111111111111,\"#46039f\"],[0.2222222222222222,\"#7201a8\"],[0.3333333333333333,\"#9c179e\"],[0.4444444444444444,\"#bd3786\"],[0.5555555555555556,\"#d8576b\"],[0.6666666666666666,\"#ed7953\"],[0.7777777777777778,\"#fb9f3a\"],[0.8888888888888888,\"#fdca26\"],[1.0,\"#f0f921\"]],\"type\":\"histogram2d\"}],\"histogram2dcontour\":[{\"colorbar\":{\"outlinewidth\":0,\"ticks\":\"\"},\"colorscale\":[[0.0,\"#0d0887\"],[0.1111111111111111,\"#46039f\"],[0.2222222222222222,\"#7201a8\"],[0.3333333333333333,\"#9c179e\"],[0.4444444444444444,\"#bd3786\"],[0.5555555555555556,\"#d8576b\"],[0.6666666666666666,\"#ed7953\"],[0.7777777777777778,\"#fb9f3a\"],[0.8888888888888888,\"#fdca26\"],[1.0,\"#f0f921\"]],\"type\":\"histogram2dcontour\"}],\"mesh3d\":[{\"colorbar\":{\"outlinewidth\":0,\"ticks\":\"\"},\"type\":\"mesh3d\"}],\"parcoords\":[{\"line\":{\"colorbar\":{\"outlinewidth\":0,\"ticks\":\"\"}},\"type\":\"parcoords\"}],\"pie\":[{\"automargin\":true,\"type\":\"pie\"}],\"scatter\":[{\"marker\":{\"colorbar\":{\"outlinewidth\":0,\"ticks\":\"\"}},\"type\":\"scatter\"}],\"scatter3d\":[{\"line\":{\"colorbar\":{\"outlinewidth\":0,\"ticks\":\"\"}},\"marker\":{\"colorbar\":{\"outlinewidth\":0,\"ticks\":\"\"}},\"type\":\"scatter3d\"}],\"scattercarpet\":[{\"marker\":{\"colorbar\":{\"outlinewidth\":0,\"ticks\":\"\"}},\"type\":\"scattercarpet\"}],\"scattergeo\":[{\"marker\":{\"colorbar\":{\"outlinewidth\":0,\"ticks\":\"\"}},\"type\":\"scattergeo\"}],\"scattergl\":[{\"marker\":{\"colorbar\":{\"outlinewidth\":0,\"ticks\":\"\"}},\"type\":\"scattergl\"}],\"scattermapbox\":[{\"marker\":{\"colorbar\":{\"outlinewidth\":0,\"ticks\":\"\"}},\"type\":\"scattermapbox\"}],\"scatterpolar\":[{\"marker\":{\"colorbar\":{\"outlinewidth\":0,\"ticks\":\"\"}},\"type\":\"scatterpolar\"}],\"scatterpolargl\":[{\"marker\":{\"colorbar\":{\"outlinewidth\":0,\"ticks\":\"\"}},\"type\":\"scatterpolargl\"}],\"scatterternary\":[{\"marker\":{\"colorbar\":{\"outlinewidth\":0,\"ticks\":\"\"}},\"type\":\"scatterternary\"}],\"surface\":[{\"colorbar\":{\"outlinewidth\":0,\"ticks\":\"\"},\"colorscale\":[[0.0,\"#0d0887\"],[0.1111111111111111,\"#46039f\"],[0.2222222222222222,\"#7201a8\"],[0.3333333333333333,\"#9c179e\"],[0.4444444444444444,\"#bd3786\"],[0.5555555555555556,\"#d8576b\"],[0.6666666666666666,\"#ed7953\"],[0.7777777777777778,\"#fb9f3a\"],[0.8888888888888888,\"#fdca26\"],[1.0,\"#f0f921\"]],\"type\":\"surface\"}],\"table\":[{\"cells\":{\"fill\":{\"color\":\"#EBF0F8\"},\"line\":{\"color\":\"white\"}},\"header\":{\"fill\":{\"color\":\"#C8D4E3\"},\"line\":{\"color\":\"white\"}},\"type\":\"table\"}]},\"layout\":{\"annotationdefaults\":{\"arrowcolor\":\"#2a3f5f\",\"arrowhead\":0,\"arrowwidth\":1},\"autotypenumbers\":\"strict\",\"coloraxis\":{\"colorbar\":{\"outlinewidth\":0,\"ticks\":\"\"}},\"colorscale\":{\"diverging\":[[0,\"#8e0152\"],[0.1,\"#c51b7d\"],[0.2,\"#de77ae\"],[0.3,\"#f1b6da\"],[0.4,\"#fde0ef\"],[0.5,\"#f7f7f7\"],[0.6,\"#e6f5d0\"],[0.7,\"#b8e186\"],[0.8,\"#7fbc41\"],[0.9,\"#4d9221\"],[1,\"#276419\"]],\"sequential\":[[0.0,\"#0d0887\"],[0.1111111111111111,\"#46039f\"],[0.2222222222222222,\"#7201a8\"],[0.3333333333333333,\"#9c179e\"],[0.4444444444444444,\"#bd3786\"],[0.5555555555555556,\"#d8576b\"],[0.6666666666666666,\"#ed7953\"],[0.7777777777777778,\"#fb9f3a\"],[0.8888888888888888,\"#fdca26\"],[1.0,\"#f0f921\"]],\"sequentialminus\":[[0.0,\"#0d0887\"],[0.1111111111111111,\"#46039f\"],[0.2222222222222222,\"#7201a8\"],[0.3333333333333333,\"#9c179e\"],[0.4444444444444444,\"#bd3786\"],[0.5555555555555556,\"#d8576b\"],[0.6666666666666666,\"#ed7953\"],[0.7777777777777778,\"#fb9f3a\"],[0.8888888888888888,\"#fdca26\"],[1.0,\"#f0f921\"]]},\"colorway\":[\"#636efa\",\"#EF553B\",\"#00cc96\",\"#ab63fa\",\"#FFA15A\",\"#19d3f3\",\"#FF6692\",\"#B6E880\",\"#FF97FF\",\"#FECB52\"],\"font\":{\"color\":\"#2a3f5f\"},\"geo\":{\"bgcolor\":\"white\",\"lakecolor\":\"white\",\"landcolor\":\"#E5ECF6\",\"showlakes\":true,\"showland\":true,\"subunitcolor\":\"white\"},\"hoverlabel\":{\"align\":\"left\"},\"hovermode\":\"closest\",\"mapbox\":{\"style\":\"light\"},\"paper_bgcolor\":\"white\",\"plot_bgcolor\":\"#E5ECF6\",\"polar\":{\"angularaxis\":{\"gridcolor\":\"white\",\"linecolor\":\"white\",\"ticks\":\"\"},\"bgcolor\":\"#E5ECF6\",\"radialaxis\":{\"gridcolor\":\"white\",\"linecolor\":\"white\",\"ticks\":\"\"}},\"scene\":{\"xaxis\":{\"backgroundcolor\":\"#E5ECF6\",\"gridcolor\":\"white\",\"gridwidth\":2,\"linecolor\":\"white\",\"showbackground\":true,\"ticks\":\"\",\"zerolinecolor\":\"white\"},\"yaxis\":{\"backgroundcolor\":\"#E5ECF6\",\"gridcolor\":\"white\",\"gridwidth\":2,\"linecolor\":\"white\",\"showbackground\":true,\"ticks\":\"\",\"zerolinecolor\":\"white\"},\"zaxis\":{\"backgroundcolor\":\"#E5ECF6\",\"gridcolor\":\"white\",\"gridwidth\":2,\"linecolor\":\"white\",\"showbackground\":true,\"ticks\":\"\",\"zerolinecolor\":\"white\"}},\"shapedefaults\":{\"line\":{\"color\":\"#2a3f5f\"}},\"ternary\":{\"aaxis\":{\"gridcolor\":\"white\",\"linecolor\":\"white\",\"ticks\":\"\"},\"baxis\":{\"gridcolor\":\"white\",\"linecolor\":\"white\",\"ticks\":\"\"},\"bgcolor\":\"#E5ECF6\",\"caxis\":{\"gridcolor\":\"white\",\"linecolor\":\"white\",\"ticks\":\"\"}},\"title\":{\"x\":0.05},\"xaxis\":{\"automargin\":true,\"gridcolor\":\"white\",\"linecolor\":\"white\",\"ticks\":\"\",\"title\":{\"standoff\":15},\"zerolinecolor\":\"white\",\"zerolinewidth\":2},\"yaxis\":{\"automargin\":true,\"gridcolor\":\"white\",\"linecolor\":\"white\",\"ticks\":\"\",\"title\":{\"standoff\":15},\"zerolinecolor\":\"white\",\"zerolinewidth\":2}}},\"xaxis\":{\"anchor\":\"y\",\"domain\":[0.0,1.0],\"title\":{\"text\":\"Year\"},\"tickmode\":\"linear\"},\"yaxis\":{\"anchor\":\"x\",\"domain\":[0.0,1.0],\"title\":{\"text\":\"Proportion Female Births\"}},\"legend\":{\"tracegroupgap\":0},\"title\":{\"text\":\"Proportion of Female Births by Year For French, USA and British data\"}},                        {\"responsive\": true}                    ).then(function(){\n",
       "                            \n",
       "var gd = document.getElementById('fa222921-5f35-466b-a42d-fa9eca9fa464');\n",
       "var x = new MutationObserver(function (mutations, observer) {{\n",
       "        var display = window.getComputedStyle(gd).display;\n",
       "        if (!display || display === 'none') {{\n",
       "            console.log([gd, 'removed!']);\n",
       "            Plotly.purge(gd);\n",
       "            observer.disconnect();\n",
       "        }}\n",
       "}});\n",
       "\n",
       "// Listen for the removal of the full notebook cells\n",
       "var notebookContainer = gd.closest('#notebook-container');\n",
       "if (notebookContainer) {{\n",
       "    x.observe(notebookContainer, {childList: true});\n",
       "}}\n",
       "\n",
       "// Listen for the clearing of the current output cell\n",
       "var outputEl = gd.closest('.output');\n",
       "if (outputEl) {{\n",
       "    x.observe(outputEl, {childList: true});\n",
       "}}\n",
       "\n",
       "                        })                };                });            </script>        </div>"
      ]
     },
     "metadata": {},
     "output_type": "display_data"
    }
   ],
   "source": [
    "# For French, USA and British data\n",
    "\n",
    "# Group the data by year and compute the proportion of female births\n",
    "prop_female = df_total.groupby(['year', 'gender']).sum()\n",
    "prop_female = prop_female.unstack('gender')\n",
    "prop_female = prop_female['count']['F'] / (prop_female['count']['F'] + prop_female['count']['M'])\n",
    "\n",
    "# Plot the data\n",
    "fig = px.line(prop_female, x=prop_female.index, y=prop_female.values, title='Proportion of Female Births by Year For French, USA and British data')\n",
    "fig.update_layout(xaxis_title='Year', yaxis_title='Proportion Female Births', xaxis_tickmode='linear')\n",
    "fig.show()\n",
    "\n"
   ]
  },
  {
   "cell_type": "markdown",
   "metadata": {
    "nteract": {
     "transient": {
      "deleting": false
     }
    }
   },
   "source": [
    "**QUESTION:** Make any sensible comment about these plots.\n",
    "\n",
    "_Insert your answer here_\n",
    "\n",
    "> ..."
   ]
  },
  {
   "cell_type": "markdown",
   "metadata": {},
   "source": []
  },
  {
   "cell_type": "markdown",
   "metadata": {
    "nteract": {
     "transient": {
      "deleting": false
     }
    }
   },
   "source": [
    "**QUESTION:** Explore the fluctuations of sex ratio around its mean value since 1945  in the US, in France and in the Great Britain.\n",
    "\n",
    "Plot deviations of sex ratio around its mean since 1945 as a function of time."
   ]
  },
  {
   "cell_type": "code",
   "execution_count": 238,
   "metadata": {
    "ExecuteTime": {
     "end_time": "2021-02-03T09:59:30.923060Z",
     "start_time": "2021-02-03T09:59:30.920458Z"
    },
    "collapsed": false,
    "jupyter": {
     "outputs_hidden": false
    },
    "nteract": {
     "transient": {
      "deleting": false
     }
    }
   },
   "outputs": [
    {
     "data": {
      "image/png": "[encoded data removed]",
      "text/plain": [
       "<Figure size 432x288 with 1 Axes>"
      ]
     },
     "metadata": {
      "needs_background": "light"
     },
     "output_type": "display_data"
    }
   ],
   "source": [
    "df_total = df_total[(df_total[\"year\"] >= 1945)]\n",
    "# Group the data by year and gender, and calculate the total number of births for each group\n",
    "df_total_gender_year = df_total.groupby(['year', 'gender'])['count'].sum()\n",
    "df_total_gender_year = df_total_gender_year.unstack('gender')\n",
    "\n",
    "# Calculate the sex ratio around its mean for each year\n",
    "df_total_gender_year['sex_ratio'] = df_total_gender_year['F'] / df_total_gender_year['M']\n",
    "df_total_gender_year['sex_ratio_mean'] = df_total_gender_year['sex_ratio'] .mean()\n",
    "\n",
    "# Calculate the deviations from the mean\n",
    "deviations = df_total_gender_year['sex_ratio']  - df_total_gender_year['sex_ratio_mean']\n",
    "\n",
    "# Plot the deviations from the mean since 1945\n",
    "import matplotlib.pyplot as plt\n",
    "\n",
    "fig, ax = plt.subplots()\n",
    "ax.plot(deviations.index, deviations.values)\n",
    "ax.set_xlabel('Year')\n",
    "ax.set_ylabel('Deviation from mean')\n",
    "ax.set_title('Fluctuations of sex ratio around mean value')\n",
    "plt.show()\n",
    "\n",
    "\n"
   ]
  },
  {
   "cell_type": "markdown",
   "metadata": {},
   "source": [
    "**QUESTION:**  Assume that baby gender is chosen at random according to a Bernoulli distribution with success probability $.48$, that baby genders are i.i.d. Perform simulations for sex ratios for French and US data since 1945. \n",
    "\n",
    "Plot the results, compare with your plots above.  "
   ]
  },
  {
   "cell_type": "code",
   "execution_count": 251,
   "metadata": {},
   "outputs": [],
   "source": [
    "# For French data \n",
    "\n",
    "# Filter the data to include only years since 1945\n",
    "df_fr = df_fr[df_fr['year'] >= 1945]\n",
    "\n"
   ]
  },
  {
   "cell_type": "markdown",
   "metadata": {
    "nteract": {
     "transient": {
      "deleting": false
     }
    }
   },
   "source": [
    "# The rise, decline and fall of firstnames"
   ]
  },
  {
   "cell_type": "markdown",
   "metadata": {},
   "source": [
    "**Question:** For each year, country, gender and firstname, compute the popularity rank of the firstname among the names given to babies with that gender, in that country, in that year. The most popular name should be given rank $1$.  "
   ]
  },
  {
   "cell_type": "code",
   "execution_count": 271,
   "metadata": {},
   "outputs": [
    {
     "name": "stdout",
     "output_type": "stream",
     "text": [
      "Popularity rank for French data\n",
      ":            year gender  firstname  count  popularity_rank\n",
      "19552    1945.0      F      MARIE  25272              1.0\n",
      "22019    1945.0      F    MONIQUE  11777              2.0\n",
      "23577    1945.0      F     NICOLE  11036              3.0\n",
      "9855     1945.0      F  FRANÇOISE   9759              4.0\n",
      "6321     1945.0      F   DANIELLE   8597              5.0\n",
      "...         ...    ...        ...    ...              ...\n",
      "5091235  2021.0      M       ÖZGE      0          19725.0\n",
      "5091236  2021.0      M      ÖZGÜR      0          19725.0\n",
      "5091237  2021.0      M      ÖZKAN      0          19725.0\n",
      "5091238  2021.0      M      ÖZLEM      0          19725.0\n",
      "5091239  2021.0      M       ÜMMÜ      0          19725.0\n",
      "\n",
      "[5091240 rows x 5 columns]\n",
      "Popularity rank for British data\n",
      ":          year gender firstname  count  popularity_rank\n",
      "31834    1996      F    Sophie   7087              1.0\n",
      "7103     1996      F     Chloe   6824              2.0\n",
      "15978    1996      F   Jessica   6711              3.0\n",
      "10338    1996      F     Emily   6415              4.0\n",
      "19448    1996      F    Lauren   6299              5.0\n",
      "...       ...    ...       ...    ...              ...\n",
      "1893367  2021      M     Zyrah      0          21307.0\n",
      "1893368  2021      M     Zyren      0          21307.0\n",
      "1893369  2021      M     Zyron      0          21307.0\n",
      "1893370  2021      M     Zysha      0          21307.0\n",
      "1893371  2021      M      Zyva      0          21307.0\n",
      "\n",
      "[1893372 rows x 5 columns]\n",
      "Popularity rank for USA data\n",
      ":           year gender firstname  count  popularity_rank\n",
      "60245     1945      F      Mary  59282              1.0\n",
      "55396     1945      F     Linda  41462              2.0\n",
      "10675     1945      F   Barbara  38273              3.0\n",
      "69328     1945      F  Patricia  35840              4.0\n",
      "14872     1945      F     Carol  30387              5.0\n",
      "...        ...    ...       ...    ...              ...\n",
      "14783841  2021      M    Zyvion      0          54996.5\n",
      "14783842  2021      M     Zyvon      0          54996.5\n",
      "14783843  2021      M   Zyyanna      0          54996.5\n",
      "14783844  2021      M     Zyyon      0          54996.5\n",
      "14783845  2021      M     Zzyzx      0          54996.5\n",
      "\n",
      "[14783846 rows x 5 columns]\n"
     ]
    }
   ],
   "source": [
    "\n",
    "# Group data by year, country, gender, and firstname, and sum the counts\n",
    "df_fr_popularity_rank = df_fr.groupby(['year', 'gender', 'firstname'])['count'].sum().reset_index()\n",
    "df_usa_popularity_rank = df_usa.groupby(['year', 'gender', 'firstname'])['count'].sum().reset_index()\n",
    "df_br_popularity_rank = df_br.groupby(['year', 'gender', 'firstname'])['count'].sum().reset_index()\n",
    "\n",
    "# Sort data by year, country, gender, firstname, and count, and then assign a rank to each firstname\n",
    "df_fr_popularity_rank['popularity_rank'] = df_fr_popularity_rank.groupby(['year', 'gender'])['count'].rank(ascending=False)\n",
    "df_usa_popularity_rank['popularity_rank'] = df_usa_popularity_rank.groupby(['year', 'gender'])['count'].rank(ascending=False)\n",
    "df_br_popularity_rank['popularity_rank'] = df_br_popularity_rank.groupby(['year', 'gender'])['count'].rank(ascending=False)\n",
    "\n",
    "# Sort the data from most popular to least each year \n",
    "df_fr_popularity_rank = df_fr_popularity_rank.sort_values(['year', 'gender','popularity_rank'])\n",
    "df_br_popularity_rank = df_br_popularity_rank.sort_values(['year', 'gender','popularity_rank'])\n",
    "df_usa_popularity_rank = df_usa_popularity_rank.sort_values(['year', 'gender','popularity_rank'])\n",
    "\n",
    "print(f'Popularity rank for French data\\n:' , df_fr_popularity_rank)\n",
    "print(f'Popularity rank for British data\\n:' , df_br_popularity_rank)\n",
    "print(f'Popularity rank for USA data\\n:' , df_usa_popularity_rank)"
   ]
  },
  {
   "cell_type": "markdown",
   "metadata": {},
   "source": [
    "\n",
    "**QUESTION:** For each firstname and sex (some names may be given to girls and boys), compute the total number of times this firstname has been given during `1900-2019`. Print the top 20 firstnames given and style your result dataframe using `background_gradient` for instance."
   ]
  },
  {
   "cell_type": "code",
   "execution_count": 280,
   "metadata": {
    "collapsed": false,
    "jupyter": {
     "outputs_hidden": false
    },
    "nteract": {
     "transient": {
      "deleting": false
     }
    }
   },
   "outputs": [
    {
     "data": {
      "text/html": [
       "<style type=\"text/css\">\n",
       "#T_28f3d_row0_col0 {\n",
       "  background-color: #023858;\n",
       "  color: #f1f1f1;\n",
       "}\n",
       "#T_28f3d_row1_col0 {\n",
       "  background-color: #0570b0;\n",
       "  color: #f1f1f1;\n",
       "}\n",
       "#T_28f3d_row2_col0 {\n",
       "  background-color: #2a88bc;\n",
       "  color: #f1f1f1;\n",
       "}\n",
       "#T_28f3d_row3_col0 {\n",
       "  background-color: #2c89bd;\n",
       "  color: #f1f1f1;\n",
       "}\n",
       "#T_28f3d_row4_col0 {\n",
       "  background-color: #4295c3;\n",
       "  color: #f1f1f1;\n",
       "}\n",
       "#T_28f3d_row5_col0 {\n",
       "  background-color: #8fb4d6;\n",
       "  color: #000000;\n",
       "}\n",
       "#T_28f3d_row6_col0 {\n",
       "  background-color: #c9cee4;\n",
       "  color: #000000;\n",
       "}\n",
       "#T_28f3d_row7_col0 {\n",
       "  background-color: #d6d6e9;\n",
       "  color: #000000;\n",
       "}\n",
       "#T_28f3d_row8_col0 {\n",
       "  background-color: #d9d8ea;\n",
       "  color: #000000;\n",
       "}\n",
       "#T_28f3d_row9_col0 {\n",
       "  background-color: #dedcec;\n",
       "  color: #000000;\n",
       "}\n",
       "#T_28f3d_row10_col0 {\n",
       "  background-color: #e6e2ef;\n",
       "  color: #000000;\n",
       "}\n",
       "#T_28f3d_row11_col0 {\n",
       "  background-color: #e7e3f0;\n",
       "  color: #000000;\n",
       "}\n",
       "#T_28f3d_row12_col0 {\n",
       "  background-color: #eae6f1;\n",
       "  color: #000000;\n",
       "}\n",
       "#T_28f3d_row13_col0 {\n",
       "  background-color: #f4eef6;\n",
       "  color: #000000;\n",
       "}\n",
       "#T_28f3d_row14_col0 {\n",
       "  background-color: #faf3f9;\n",
       "  color: #000000;\n",
       "}\n",
       "#T_28f3d_row15_col0 {\n",
       "  background-color: #fbf3f9;\n",
       "  color: #000000;\n",
       "}\n",
       "#T_28f3d_row16_col0 {\n",
       "  background-color: #fbf4f9;\n",
       "  color: #000000;\n",
       "}\n",
       "#T_28f3d_row17_col0 {\n",
       "  background-color: #fef6fa;\n",
       "  color: #000000;\n",
       "}\n",
       "#T_28f3d_row18_col0, #T_28f3d_row19_col0 {\n",
       "  background-color: #fff7fb;\n",
       "  color: #000000;\n",
       "}\n",
       "</style>\n",
       "<table id=\"T_28f3d\">\n",
       "  <thead>\n",
       "    <tr>\n",
       "      <th class=\"blank\" >&nbsp;</th>\n",
       "      <th class=\"blank level0\" >&nbsp;</th>\n",
       "      <th id=\"T_28f3d_level0_col0\" class=\"col_heading level0 col0\" >count</th>\n",
       "    </tr>\n",
       "    <tr>\n",
       "      <th class=\"index_name level0\" >firstname</th>\n",
       "      <th class=\"index_name level1\" >gender</th>\n",
       "      <th class=\"blank col0\" >&nbsp;</th>\n",
       "    </tr>\n",
       "  </thead>\n",
       "  <tbody>\n",
       "    <tr>\n",
       "      <th id=\"T_28f3d_level0_row0\" class=\"row_heading level0 row0\" >Michael</th>\n",
       "      <th id=\"T_28f3d_level1_row0\" class=\"row_heading level1 row0\" >M</th>\n",
       "      <td id=\"T_28f3d_row0_col0\" class=\"data row0 col0\" >4177769</td>\n",
       "    </tr>\n",
       "    <tr>\n",
       "      <th id=\"T_28f3d_level0_row1\" class=\"row_heading level0 row1\" >James</th>\n",
       "      <th id=\"T_28f3d_level1_row1\" class=\"row_heading level1 row1\" >M</th>\n",
       "      <td id=\"T_28f3d_row1_col0\" class=\"data row1 col0\" >3443509</td>\n",
       "    </tr>\n",
       "    <tr>\n",
       "      <th id=\"T_28f3d_level0_row2\" class=\"row_heading level0 row2\" >David</th>\n",
       "      <th id=\"T_28f3d_level1_row2\" class=\"row_heading level1 row2\" >M</th>\n",
       "      <td id=\"T_28f3d_row2_col0\" class=\"data row2 col0\" >3174542</td>\n",
       "    </tr>\n",
       "    <tr>\n",
       "      <th id=\"T_28f3d_level0_row3\" class=\"row_heading level0 row3\" >John</th>\n",
       "      <th id=\"T_28f3d_level1_row3\" class=\"row_heading level1 row3\" >M</th>\n",
       "      <td id=\"T_28f3d_row3_col0\" class=\"data row3 col0\" >3157286</td>\n",
       "    </tr>\n",
       "    <tr>\n",
       "      <th id=\"T_28f3d_level0_row4\" class=\"row_heading level0 row4\" >Robert</th>\n",
       "      <th id=\"T_28f3d_level1_row4\" class=\"row_heading level1 row4\" >M</th>\n",
       "      <td id=\"T_28f3d_row4_col0\" class=\"data row4 col0\" >3015466</td>\n",
       "    </tr>\n",
       "    <tr>\n",
       "      <th id=\"T_28f3d_level0_row5\" class=\"row_heading level0 row5\" >William</th>\n",
       "      <th id=\"T_28f3d_level1_row5\" class=\"row_heading level1 row5\" >M</th>\n",
       "      <td id=\"T_28f3d_row5_col0\" class=\"data row5 col0\" >2525937</td>\n",
       "    </tr>\n",
       "    <tr>\n",
       "      <th id=\"T_28f3d_level0_row6\" class=\"row_heading level0 row6\" >Christopher</th>\n",
       "      <th id=\"T_28f3d_level1_row6\" class=\"row_heading level1 row6\" >M</th>\n",
       "      <td id=\"T_28f3d_row6_col0\" class=\"data row6 col0\" >2049100</td>\n",
       "    </tr>\n",
       "    <tr>\n",
       "      <th id=\"T_28f3d_level0_row7\" class=\"row_heading level0 row7\" >Joseph</th>\n",
       "      <th id=\"T_28f3d_level1_row7\" class=\"row_heading level1 row7\" >M</th>\n",
       "      <td id=\"T_28f3d_row7_col0\" class=\"data row7 col0\" >1920732</td>\n",
       "    </tr>\n",
       "    <tr>\n",
       "      <th id=\"T_28f3d_level0_row8\" class=\"row_heading level0 row8\" >Daniel</th>\n",
       "      <th id=\"T_28f3d_level1_row8\" class=\"row_heading level1 row8\" >M</th>\n",
       "      <td id=\"T_28f3d_row8_col0\" class=\"data row8 col0\" >1873941</td>\n",
       "    </tr>\n",
       "    <tr>\n",
       "      <th id=\"T_28f3d_level0_row9\" class=\"row_heading level0 row9\" >Thomas</th>\n",
       "      <th id=\"T_28f3d_level1_row9\" class=\"row_heading level1 row9\" >M</th>\n",
       "      <td id=\"T_28f3d_row9_col0\" class=\"data row9 col0\" >1819720</td>\n",
       "    </tr>\n",
       "    <tr>\n",
       "      <th id=\"T_28f3d_level0_row10\" class=\"row_heading level0 row10\" >Richard</th>\n",
       "      <th id=\"T_28f3d_level1_row10\" class=\"row_heading level1 row10\" >M</th>\n",
       "      <td id=\"T_28f3d_row10_col0\" class=\"data row10 col0\" >1710441</td>\n",
       "    </tr>\n",
       "    <tr>\n",
       "      <th id=\"T_28f3d_level0_row11\" class=\"row_heading level0 row11\" >Mary</th>\n",
       "      <th id=\"T_28f3d_level1_row11\" class=\"row_heading level1 row11\" >F</th>\n",
       "      <td id=\"T_28f3d_row11_col0\" class=\"data row11 col0\" >1690851</td>\n",
       "    </tr>\n",
       "    <tr>\n",
       "      <th id=\"T_28f3d_level0_row12\" class=\"row_heading level0 row12\" >Matthew</th>\n",
       "      <th id=\"T_28f3d_level1_row12\" class=\"row_heading level1 row12\" >M</th>\n",
       "      <td id=\"T_28f3d_row12_col0\" class=\"data row12 col0\" >1660572</td>\n",
       "    </tr>\n",
       "    <tr>\n",
       "      <th id=\"T_28f3d_level0_row13\" class=\"row_heading level0 row13\" >Jennifer</th>\n",
       "      <th id=\"T_28f3d_level1_row13\" class=\"row_heading level1 row13\" >F</th>\n",
       "      <td id=\"T_28f3d_row13_col0\" class=\"data row13 col0\" >1477216</td>\n",
       "    </tr>\n",
       "    <tr>\n",
       "      <th id=\"T_28f3d_level0_row14\" class=\"row_heading level0 row14\" >Charles</th>\n",
       "      <th id=\"T_28f3d_level1_row14\" class=\"row_heading level1 row14\" >M</th>\n",
       "      <td id=\"T_28f3d_row14_col0\" class=\"data row14 col0\" >1363794</td>\n",
       "    </tr>\n",
       "    <tr>\n",
       "      <th id=\"T_28f3d_level0_row15\" class=\"row_heading level0 row15\" >Joshua</th>\n",
       "      <th id=\"T_28f3d_level1_row15\" class=\"row_heading level1 row15\" >M</th>\n",
       "      <td id=\"T_28f3d_row15_col0\" class=\"data row15 col0\" >1350057</td>\n",
       "    </tr>\n",
       "    <tr>\n",
       "      <th id=\"T_28f3d_level0_row16\" class=\"row_heading level0 row16\" >Mark</th>\n",
       "      <th id=\"T_28f3d_level1_row16\" class=\"row_heading level1 row16\" >M</th>\n",
       "      <td id=\"T_28f3d_row16_col0\" class=\"data row16 col0\" >1332954</td>\n",
       "    </tr>\n",
       "    <tr>\n",
       "      <th id=\"T_28f3d_level0_row17\" class=\"row_heading level0 row17\" >Anthony</th>\n",
       "      <th id=\"T_28f3d_level1_row17\" class=\"row_heading level1 row17\" >M</th>\n",
       "      <td id=\"T_28f3d_row17_col0\" class=\"data row17 col0\" >1295880</td>\n",
       "    </tr>\n",
       "    <tr>\n",
       "      <th id=\"T_28f3d_level0_row18\" class=\"row_heading level0 row18\" >Linda</th>\n",
       "      <th id=\"T_28f3d_level1_row18\" class=\"row_heading level1 row18\" >F</th>\n",
       "      <td id=\"T_28f3d_row18_col0\" class=\"data row18 col0\" >1264627</td>\n",
       "    </tr>\n",
       "    <tr>\n",
       "      <th id=\"T_28f3d_level0_row19\" class=\"row_heading level0 row19\" >Steven</th>\n",
       "      <th id=\"T_28f3d_level1_row19\" class=\"row_heading level1 row19\" >M</th>\n",
       "      <td id=\"T_28f3d_row19_col0\" class=\"data row19 col0\" >1262711</td>\n",
       "    </tr>\n",
       "  </tbody>\n",
       "</table>\n"
      ],
      "text/plain": [
       "<pandas.io.formats.style.Styler at 0x20c207bcfd0>"
      ]
     },
     "execution_count": 280,
     "metadata": {},
     "output_type": "execute_result"
    }
   ],
   "source": [
    "# Filter data for 1900-2019\n",
    "df_filtered = df_total[(df_total['year'] >= 1900) & (df_total['year'] <= 2019)]\n",
    "\n",
    "# Group the data by firstname and sex, and sum the counts\n",
    "name_counts = df_filtered.groupby(['firstname', 'gender'])['count'].sum()\n",
    "\n",
    "# Sort the names by count, and select the top 20\n",
    "top_names = name_counts.sort_values(ascending=False).head(20)\n",
    "\n",
    "# Style the result dataframe using background_gradient\n",
    "styled_top_names = top_names.to_frame().style.background_gradient()\n",
    "\n",
    "# Display the styled dataframe\n",
    "styled_top_names\n"
   ]
  },
  {
   "cell_type": "markdown",
   "metadata": {
    "nteract": {
     "transient": {
      "deleting": false
     }
    }
   },
   "source": [
    "## Rare firstnames\n",
    "\n",
    "**QUESTION:** In the French data, for each sex, plot the proportion of births given `_PRENOMS_RARES` as a function of the year."
   ]
  },
  {
   "cell_type": "code",
   "execution_count": 289,
   "metadata": {
    "collapsed": false,
    "jupyter": {
     "outputs_hidden": false
    },
    "nteract": {
     "transient": {
      "deleting": false
     }
    }
   },
   "outputs": [
    {
     "data": {
      "image/png": "[encoded data removed]",
      "text/plain": [
       "<Figure size 432x288 with 1 Axes>"
      ]
     },
     "metadata": {
      "needs_background": "light"
     },
     "output_type": "display_data"
    }
   ],
   "source": [
    "import matplotlib.pyplot as plt\n",
    "\n",
    "# Filter the dataframe to only include rows where the name is rare\n",
    "df_rare_names = df_fr[df_fr['firstname'] == '_PRENOMS_RARES']\n",
    "\n",
    "# Group the rare names dataframe by year and gender and sum the counts\n",
    "df_rare_names_by_year_sex = df_rare_names.groupby(['year', 'gender']).sum()\n",
    "\n",
    "# Group the original dataframe by year and gender and sum the counts\n",
    "df_total_births = df_fr.groupby(['year', 'gender']).sum()\n",
    "\n",
    "# Calculate the proportion of births given to rare names for each year and gender\n",
    "proportions = df_rare_names_by_year_sex['count'] / df_total_births['count']\n",
    "\n",
    "# Plot the proportions as a function of year for each gender\n",
    "fig, ax = plt.subplots()\n",
    "for gender in ['F', 'M']:\n",
    "    ax.plot(proportions[:, gender], label=gender)\n",
    "ax.legend()\n",
    "ax.set_xlabel('Year')\n",
    "ax.set_ylabel('Proportion of births given to rare names')\n",
    "plt.show()\n"
   ]
  },
  {
   "cell_type": "markdown",
   "metadata": {
    "nteract": {
     "transient": {
      "deleting": false
     }
    }
   },
   "source": [
    "# A study of the \"Marie\" firstname\n",
    "\n",
    "**QUESTION:** Plot the proportion of female births given name `'MARIE'` or `'MARIE-...'` (compounded names) as a function of the year.\n",
    "Proceed in such a way that the reader can see the share of compounded names. We are expecting an _area plot_.\n",
    "\n",
    "__Hints:__\n",
    "\n",
    "- Have a look at the `.str` accessor (to apply a string method over a whole column containing string)\n",
    "- Have a look at [r-graph-gallery: stacked area](https://www.r-graph-gallery.com/stacked-area-graph.html)  and\n",
    "at [ggplot documentation](https://ggplot2.tidyverse.org/reference/geom_ribbon.html). Pay attention on the way you stack the area corresponding to names matching pattern 'MARIE-.*' over or under the are corresponding to babies named 'MARIE'\n",
    "- See Graphique 3, page 48, de _L'archipel français_  de J. Fourquet. Le Seuil. Essais. Vol. 898.\n",
    "\n",
    "- Add annotation, 1st World War, Front Populaire, 2nd World War, 1968"
   ]
  },
  {
   "cell_type": "code",
   "execution_count": 325,
   "metadata": {
    "ExecuteTime": {
     "end_time": "2021-02-03T10:00:15.046715Z",
     "start_time": "2021-02-03T10:00:15.043807Z"
    },
    "collapsed": false,
    "jupyter": {
     "outputs_hidden": false
    },
    "nteract": {
     "transient": {
      "deleting": false
     }
    }
   },
   "outputs": [
    {
     "name": "stderr",
     "output_type": "stream",
     "text": [
      "C:\\Users\\Paula\\AppData\\Local\\Temp\\ipykernel_15108\\4093777290.py:5: SettingWithCopyWarning:\n",
      "\n",
      "\n",
      "A value is trying to be set on a copy of a slice from a DataFrame.\n",
      "Try using .loc[row_indexer,col_indexer] = value instead\n",
      "\n",
      "See the caveats in the documentation: https://pandas.pydata.org/pandas-docs/stable/user_guide/indexing.html#returning-a-view-versus-a-copy\n",
      "\n"
     ]
    },
    {
     "data": {
      "image/png": "[encoded data removed]",
      "text/plain": [
       "<Figure size 432x288 with 1 Axes>"
      ]
     },
     "metadata": {
      "needs_background": "light"
     },
     "output_type": "display_data"
    }
   ],
   "source": [
    "# Filter the dataframe to only include female names\n",
    "df_female = df_total[df_total['gender'] == 'F']\n",
    "\n",
    "# Replace NaN values with empty string in 'firstname' column\n",
    "df_female['firstname'] = df_female['firstname'].fillna('')\n",
    "\n",
    "# Create boolean masks for 'MARIE' and 'MARIE-' names\n",
    "mask_marie = df_female['firstname'].str.contains('MARIE')\n",
    "mask_marie_compounded = df_female['firstname'].str.contains('MARIE-') \n",
    "\n",
    "# Compute the total number of female births for each year\n",
    "total_female_births = df_female.groupby('year')['count'].sum()\n",
    "\n",
    "# Compute the number of female births given the name 'MARIE' for each year\n",
    "marie_births = df_female[mask_marie].groupby('year')['count'].sum()\n",
    "\n",
    "# Compute the number of female births given a compounded name starting with 'MARIE-' for each year\n",
    "marie_compounded_births = df_female[mask_marie_compounded].groupby('year')['count'].sum()\n",
    "\n",
    "# Compute the proportion of female births given 'MARIE' or 'MARIE-' for each year\n",
    "marie_proportion = (marie_births + marie_compounded_births )  / total_female_births\n",
    "\n",
    "# Plot the data as a stacked area plot\n",
    "plt.stackplot(df_female['year'].unique(),\n",
    "              marie_compounded_births, \n",
    "              marie_births,\n",
    "              labels=['Marie-', 'Marie'],\n",
    "              alpha=0.7)\n",
    "\n",
    "# Add a legend\n",
    "plt.legend(loc='upper left')\n",
    "\n",
    "# Add x-axis labels and title\n",
    "plt.xlabel('Year')\n",
    "plt.title('Proportion of Female Births Given Name Marie or Marie-...')\n",
    "\n",
    "# Add annotations for major historical events\n",
    "plt.axvline(x=1914, color='black', linestyle='--', alpha=0.5)\n",
    "plt.annotate('1st World War', xy=(1914, 0.08), xytext=(1915, 0.15),\n",
    "             arrowprops=dict(facecolor='black', arrowstyle='->'))\n",
    "plt.axvline(x=1936, color='black', linestyle='--', alpha=0.5)\n",
    "plt.annotate('Front Populaire', xy=(1936, 0.07), xytext=(1930, 0.13),\n",
    "             arrowprops=dict(facecolor='black', arrowstyle='->'))\n",
    "plt.axvline(x=1939, color='black', linestyle='--', alpha=0.5)\n",
    "plt.annotate('2nd World War', xy=(1939, 0.1), xytext=(1935, 0.17),\n",
    "             arrowprops=dict(facecolor='black', arrowstyle='->'))\n",
    "plt.axvline(x=1968, color='black', linestyle='--', alpha=0.5)\n",
    "plt.annotate('1968', xy=(1968, 0.13), xytext=(1970, 0.2),\n",
    "             arrowprops=dict(facecolor='black', arrowstyle='->'))\n",
    "\n",
    "# Show the plot\n",
    "plt.show()\n"
   ]
  },
  {
   "cell_type": "markdown",
   "metadata": {
    "nteract": {
     "transient": {
      "deleting": false
     }
    }
   },
   "source": [
    "# Top 10 firstnames of year 2000\n",
    "\n",
    "**QUESTION:** For each sex, select the ten most popular names in year 2000, and plot the proportion\n",
    "of newborns given that name over time. Take into account that some names might have\n",
    "zero occurrence during certain years.\n",
    "\n",
    "__Hint:__ Leave aside the rows with '_PRENOMS_RARES'."
   ]
  },
  {
   "cell_type": "code",
   "execution_count": 363,
   "metadata": {},
   "outputs": [
    {
     "data": {
      "image/png": "[encoded data removed]",
      "text/plain": [
       "<Figure size 432x288 with 1 Axes>"
      ]
     },
     "metadata": {
      "needs_background": "light"
     },
     "output_type": "display_data"
    },
    {
     "data": {
      "image/png": "[encoded data removed]",
      "text/plain": [
       "<Figure size 432x288 with 1 Axes>"
      ]
     },
     "metadata": {
      "needs_background": "light"
     },
     "output_type": "display_data"
    }
   ],
   "source": [
    "# Remove rows with '_PRENOMS_RARES'\n",
    "df_total = df_total[~df_total['firstname'].str.contains('_PRENOMS_RARES')]\n",
    "\n",
    "# Select only data from year 2000\n",
    "df_2000 = df_total[df_total['year'] == 2000]\n",
    "\n",
    "# Select the ten most popular names for each sex in year 2000\n",
    "df_male = df_2000[df_2000['gender'] == 'M'].nlargest(10, 'count')\n",
    "df_female = df_2000[df_2000['gender'] == 'F'].nlargest(10, 'count')\n",
    "\n",
    "# Create a list of the selected names for each sex\n",
    "male_names = df_male['firstname'].tolist()\n",
    "female_names = df_female['firstname'].tolist()\n",
    "\n",
    "# Create a new dataframe with the selected names for each sex\n",
    "df_selected_names = df_total[df_total['firstname'].isin(male_names + female_names)]\n",
    "\n",
    "# Group the data by name, year, and sex and compute the total number of births for each group\n",
    "df_grouped = df_selected_names.groupby(['firstname', 'year', 'gender']).agg({'count': 'sum'}).reset_index()\n",
    "\n",
    "# Compute the proportion of births for each name and year\n",
    "df_grouped['proportion'] = df_grouped.groupby(['gender', 'year'])['count'].apply(lambda x: x / float(x.sum()))\n",
    "\n",
    "import seaborn as sns\n",
    "# Create a dictionary of dataframes, one for each selected name\n",
    "df_dict_male = {}\n",
    "for name in male_names:\n",
    "    df_dict_male[name] = df_grouped[(df_grouped['gender'] == 'M') & (df_grouped['firstname'] == name)]\n",
    "\n",
    "# Create a line plot for each name\n",
    "for name, df in df_dict_male.items():\n",
    "    sns.lineplot(x='year', y='proportion', data=df)\n",
    "    \n",
    "# Set plot title and axis labels\n",
    "plt.legend(male_names)\n",
    "plt.title('Proportion of Births for Top 10 Male Names in 2000')\n",
    "plt.xlabel('Year')\n",
    "plt.ylabel('Proportion of Births')\n",
    "plt.show()\n",
    "\n",
    "# Create a dictionary of dataframes, one for each selected name\n",
    "df_dict_female = {}\n",
    "for name in female_names:\n",
    "    df_dict_female[name] = df_grouped[(df_grouped['gender'] == 'F') & (df_grouped['firstname'] == name)]\n",
    "\n",
    "# Create a line plot for each name\n",
    "for name, df in df_dict_female.items():\n",
    "    sns.lineplot(x='year', y='proportion', data=df)\n",
    "    \n",
    "# Set plot title and axis labels\n",
    "plt.legend(female_names)\n",
    "plt.title('Proportion of Births for Top 10 Female Names in 2000')\n",
    "plt.xlabel('Year')\n",
    "plt.ylabel('Proportion of Births')\n",
    "plt.show()"
   ]
  },
  {
   "cell_type": "markdown",
   "metadata": {},
   "source": [
    "# Picturing concentration of babynames distributions"
   ]
  },
  {
   "cell_type": "markdown",
   "metadata": {},
   "source": [
    "\n",
    "Every year, the name counts define a discrete probability distribution over the set of names (the universe).\n",
    "\n",
    "This distribution, just as an income or wealth distribution, is (usually) far from being uniform. We want to assess how uneven it is.\n",
    "\n",
    "We use the tools developed in econometrics.\n",
    "\n",
    "Without loss of generality, we assume that we handle a distribution over positive integers $1, \\ldots, n$ where $n$ is the number of distinct names given during a year.\n",
    "\n",
    "We assume that frequencies $p_1, p_2, \\ldots, p_n$ are given in ascending order, ties are broken arbitrarily.\n",
    "\n",
    "The `Lorenz function` ([Lorenz](https://en.wikipedia.org/wiki/Lorenz_curve) not `Lorentz`) maps $[0, 1] \\to [0, 1]$.\n",
    "\n",
    "$$L(x) = \\sum_{i=1}^{\\lfloor nx \\rfloor} p_i .$$\n",
    "\n",
    "Note that this is a piecewise constant function. \n",
    "\n",
    "\n",
    "**Question:** Compute and plot the Lorenz fucntion for a given `sex`, `year` and `country`"
   ]
  },
  {
   "cell_type": "code",
   "execution_count": null,
   "metadata": {},
   "outputs": [],
   "source": []
  },
  {
   "cell_type": "markdown",
   "metadata": {},
   "source": [
    "**Question:** Design an animated plot that shows the evolution of the Lorenz curve of babynames distribution through the years for a given sex and country.\n"
   ]
  },
  {
   "cell_type": "code",
   "execution_count": null,
   "metadata": {},
   "outputs": [],
   "source": []
  },
  {
   "cell_type": "markdown",
   "metadata": {},
   "source": [
    "The Lorenz curve summarizes how far a discrete probability distribution is from the uniform distribution. This is a very rich summary and it is difficult to communicate this message to a wide audience. People tend to favor numerical indices (they don't really understand, but they get used to it): Gini, Atkinson, Theil, ...\n",
    "\n",
    "The [Gini index](https://en.wikipedia.org/wiki/Gini_coefficient) is twice the surface of the area comprised between curves $y=x$ and $y=L(x)$.\n",
    "\n",
    "$$G = 2 \\times \\int_0^1 (x -L(x)) \\mathrm{d}x$$\n",
    "\n",
    "The next formula  allows us to compute it efficiently.\n",
    "\n",
    "$$G={\\frac {2\\sum _{i=1}^{n}i p_{i}}{n\\sum _{i=1}^{n}p_{i}}}-{\\frac {n+1}{n}}.$$\n",
    "\n",
    "\n",
    "**Question:** Compute and plot Gini index of names distribution over time for sex and countries \n"
   ]
  },
  {
   "cell_type": "markdown",
   "metadata": {},
   "source": []
  },
  {
   "cell_type": "markdown",
   "metadata": {},
   "source": []
  },
  {
   "cell_type": "markdown",
   "metadata": {},
   "source": [
    "# Picturing surges of popularity\n",
    "\n",
    "In the sequel, the *popularity* of a gendered name in a population during a given year is the proportion of babies of that gender born during that year in that country,  that are given this name. \n",
    "\n",
    "**Question:** Prepare a data frame that contains for each hype name the 20 years before and 30 years after the maximum popularity is achieved, and, for each such year, the rank and popularity of the hype name. Do this for US and French data. \n"
   ]
  },
  {
   "cell_type": "code",
   "execution_count": null,
   "metadata": {},
   "outputs": [],
   "source": []
  },
  {
   "cell_type": "markdown",
   "metadata": {},
   "source": [
    "**Question:** Plot offseted popularity (share of given names within year, country, gender) curves of hype names. Facet by sex and country. "
   ]
  },
  {
   "cell_type": "markdown",
   "metadata": {},
   "source": []
  },
  {
   "cell_type": "markdown",
   "metadata": {},
   "source": [
    "**Question:** Rescale popularity curves so that all of them have maximum $1$. "
   ]
  },
  {
   "cell_type": "code",
   "execution_count": null,
   "metadata": {},
   "outputs": [],
   "source": []
  },
  {
   "cell_type": "markdown",
   "metadata": {
    "nteract": {
     "transient": {
      "deleting": false
     }
    }
   },
   "source": [
    "# Getting help\n",
    "\n",
    "- [pandas](https://pandas.pydata.org/pandas-docs/stable/reference/)\n",
    "\n",
    "- [plotly](https://plotly.com/python/) for animated plots\n",
    "\n",
    "- [stackoverflow](https://stackoverflow.com)\n",
    "\n",
    "- [stackoverflow: pandas](https://stackoverflow.com/questions/tagged/pandas)\n",
    "\n",
    "- [stackoverflow: plotly+python](https://stackoverflow.com/questions/tagged/plotly+python)\n",
    "\n",
    "- The US `babynames` analogue of the INSEE file has been a playground for data scientists,\n",
    " see [https://github.com/hadley/babynames](https://github.com/hadley/babynames)\n",
    "\n",
    "- Don't Repeat Yourself (DRY) principle  at [Wikipedia](https://en.wikipedia.org/wiki/Don%27t_repeat_yourself)"
   ]
  }
 ],
 "metadata": {
  "kernelspec": {
   "display_name": "Python 3 (ipykernel)",
   "language": "python",
   "name": "python3"
  },
  "language_info": {
   "codemirror_mode": {
    "name": "ipython",
    "version": 3
   },
   "file_extension": ".py",
   "mimetype": "text/x-python",
   "name": "python",
   "nbconvert_exporter": "python",
   "pygments_lexer": "ipython3",
   "version": "3.9.12"
  },
  "toc": {
   "base_numbering": 1,
   "nav_menu": {},
   "number_sections": true,
   "sideBar": true,
   "skip_h1_title": false,
   "title_cell": "Table of Contents",
   "title_sidebar": "Contents",
   "toc_cell": false,
   "toc_position": {},
   "toc_section_display": true,
   "toc_window_display": true
  },
  "vscode": {
   "interpreter": {
    "hash": "6795c53a464863a7af04e484d197ab81636f962540f300a02661ac97b978f019"
   }
  }
 },
 "nbformat": 4,
 "nbformat_minor": 4
}
